{
  "cells": [
    {
      "cell_type": "markdown",
      "metadata": {
        "id": "mCyZCqt5SWAb"
      },
      "source": [
        "# test"
      ]
    },
    {
      "cell_type": "code",
      "execution_count": null,
      "metadata": {
        "id": "qkc4NJRjolqh"
      },
      "outputs": [],
      "source": [
        "import pandas as pd\n",
        "import matplotlib.pyplot as plt\n",
        "from datetime import datetime\n",
        "import numpy as np"
      ]
    },
    {
      "cell_type": "code",
      "execution_count": null,
      "metadata": {
        "colab": {
          "base_uri": "https://localhost:8080/",
          "height": 0
        },
        "id": "-y6W15e8oqOv",
        "outputId": "5d2c1daa-1a26-4709-fc89-58f6a05f6e7f"
      },
      "outputs": [],
      "source": [
        "df = pd.read_csv(\"doge_coin_dataset_2021_final_set.csv\", parse_dates= {\"date\" : [\"year\",\"month\",\"day\"]},keep_date_col=True, index_col=\"date\")\n",
        "df\n"
      ]
    },
    {
      "cell_type": "code",
      "execution_count": null,
      "metadata": {
        "colab": {
          "base_uri": "https://localhost:8080/"
        },
        "id": "euh_Z6pZrOr7",
        "outputId": "59b49321-de7b-47c2-ae6e-a91c5141a8c9"
      },
      "outputs": [],
      "source": [
        "df.index"
      ]
    },
    {
      "cell_type": "code",
      "execution_count": null,
      "metadata": {
        "id": "gRzR8POkEHC6"
      },
      "outputs": [],
      "source": [
        "df['hugging_labels'] = df['hugging_labels'].replace([0,1,-1],['neutral','positive','negative'])\n"
      ]
    },
    {
      "cell_type": "code",
      "execution_count": null,
      "metadata": {
        "colab": {
          "base_uri": "https://localhost:8080/",
          "height": 0
        },
        "id": "wP6VMx0BrvTD",
        "outputId": "38472774-cbab-415f-a834-389a9ca32533"
      },
      "outputs": [],
      "source": [
        "yearly = df[df.index.year == 2021]\n",
        "yearly"
      ]
    },
    {
      "cell_type": "code",
      "execution_count": null,
      "metadata": {
        "colab": {
          "base_uri": "https://localhost:8080/",
          "height": 0
        },
        "id": "V2c247ZA7YSt",
        "outputId": "a2916c99-2f1c-457e-e0c1-281b4b026c28"
      },
      "outputs": [],
      "source": [
        "monthly = df[df.index.month == 1]\n",
        "monthly"
      ]
    },
    {
      "cell_type": "code",
      "execution_count": null,
      "metadata": {
        "colab": {
          "base_uri": "https://localhost:8080/",
          "height": 0
        },
        "id": "KwEFuBTF04_Q",
        "outputId": "350ed337-1bc8-4069-a2ec-8b203a7f3a09"
      },
      "outputs": [],
      "source": [
        "aggregation = {'#_of_tweets': ('tweet_id', 'count')}\n",
        "df_sentiment_by_time = yearly.groupby(['date', 'hugging_labels']).agg(**aggregation).reset_index()\n",
        "#df_sentiment_by_time['date'] = pd.to_datetime(df_sentiment_by_time['date']).dt.date\n",
        "\n",
        "df_sentiment_by_time"
      ]
    },
    {
      "cell_type": "code",
      "execution_count": null,
      "metadata": {
        "colab": {
          "base_uri": "https://localhost:8080/",
          "height": 0
        },
        "id": "WrB3a5etI8Ul",
        "outputId": "16a97b3b-f2f6-4585-e1d4-e4e8113557e8"
      },
      "outputs": [],
      "source": [
        "df_sentiment_by_month = df_sentiment_by_time.groupby(df_sentiment_by_time.date.dt.month).apply(lambda df_sentiment_by_time: df_sentiment_by_time.groupby('hugging_labels')['#_of_tweets'].agg({'sum'})).unstack()\n",
        "\n",
        "df_sentiment_by_month"
      ]
    },
    {
      "cell_type": "code",
      "execution_count": null,
      "metadata": {
        "colab": {
          "base_uri": "https://localhost:8080/",
          "height": 296
        },
        "id": "vdoIVv6BRVel",
        "outputId": "77ea4093-abd0-4f08-acd3-5490e89787bf"
      },
      "outputs": [],
      "source": [
        "df_sentiment_by_month.plot(xlabel=\"month of 2021\", xticks=df_sentiment_by_month.index)"
      ]
    },
    {
      "cell_type": "code",
      "execution_count": null,
      "metadata": {
        "id": "l0w93QDjJ_W8"
      },
      "outputs": [],
      "source": [
        "months = {\n",
        "  1: \"January\",\n",
        "  2: \"February\",\n",
        "  3: \"March\",\n",
        "  4: \"April\",\n",
        "  5: \"May\",\n",
        "  7: \"July\",\n",
        "  8: \"August\",\n",
        "  9: \"September\",\n",
        "  10: \"October\",\n",
        "  11: \"November\",\n",
        "  12: \"December\",\n",
        "}\n",
        "def month_label(month_number):\n",
        "  month_str = months[month_number]\n",
        "  return month_str"
      ]
    },
    {
      "cell_type": "code",
      "execution_count": null,
      "metadata": {
        "colab": {
          "base_uri": "https://localhost:8080/",
          "height": 0
        },
        "id": "h17TgUgnAsOd",
        "outputId": "3d554bfd-4d66-4fb0-bfcf-1795de3dab26"
      },
      "outputs": [],
      "source": [
        "for i in df_sentiment_by_month.index:\n",
        "  monthly = df[df.index.month == i]\n",
        "\n",
        "  aggregation = {'#_of_tweets': ('tweet_id', 'count')}\n",
        "  df_sentiment_by_time = monthly.groupby(['date', 'hugging_labels']).agg(**aggregation).reset_index()\n",
        "  \n",
        "  df_sentiment_by_day = df_sentiment_by_time.groupby(df_sentiment_by_time.date.dt.day).apply(lambda df_sentiment_by_time: df_sentiment_by_time.groupby('hugging_labels')['#_of_tweets'].agg({'sum'})).unstack()\n",
        "\n",
        "  #print(df_sentiment_by_day)\n",
        "  df_sentiment_by_day.plot(xlabel=month_label(i), xticks=df_sentiment_by_day.index, figsize=(12,5))\n"
      ]
    },
    {
      "cell_type": "markdown",
      "metadata": {
        "id": "UuIs8BcqSHZl"
      },
      "source": [
        "# complete code"
      ]
    },
    {
      "cell_type": "code",
      "execution_count": null,
      "metadata": {
        "id": "v4P3okHxBDtO"
      },
      "outputs": [],
      "source": [
        "# import tools\n",
        "import pandas as pd\n",
        "import matplotlib.pyplot as plt\n",
        "from datetime import datetime\n",
        "import numpy as np\n",
        "\n",
        "# csv path\n",
        "path = \"doge_coin_dataset_2021_final_set.csv\"\n",
        "\n",
        "# import data and  relabel numerical sentiment with strings\n",
        "df = pd.read_csv(path, parse_dates= {\"date\" : [\"year\",\"month\",\"day\"]},keep_date_col=True, index_col=\"date\")\n",
        "df['hugging_labels'] = df['hugging_labels'].replace([0,1,-1],['neutral','positive','negative'])\n",
        "\n",
        "# set year (and month) if needed\n",
        "this_year = 2021\n",
        "yearly = df[df.index.year == this_year]\n",
        "#monthly = df[df.index.month == 1]"
      ]
    },
    {
      "cell_type": "code",
      "execution_count": null,
      "metadata": {
        "colab": {
          "base_uri": "https://localhost:8080/",
          "height": 424
        },
        "id": "nJ8VMokvSbIC",
        "outputId": "0490e244-c713-4a56-9648-1e26ef3cbad4"
      },
      "outputs": [],
      "source": [
        "# number of tweets per label and date\n",
        "aggregation = {'#_of_tweets': ('tweet_id', 'count')}\n",
        "df_sentiment_over_year = yearly.groupby(['date', 'hugging_labels']).agg(**aggregation).reset_index()\n",
        "df_sentiment_over_year"
      ]
    },
    {
      "cell_type": "code",
      "execution_count": null,
      "metadata": {
        "colab": {
          "base_uri": "https://localhost:8080/",
          "height": 296
        },
        "id": "AW9dB6KVTytK",
        "outputId": "5da94d75-19d4-4a4b-ce6a-2453c6a1ca05"
      },
      "outputs": [],
      "source": [
        "df_sentiment_by_month = df_sentiment_over_year.groupby(df_sentiment_over_year.date.dt.month).apply(lambda df_sentiment_over_year: df_sentiment_over_year.groupby('hugging_labels')['#_of_tweets'].agg({'sum'})).unstack()\n",
        "df_sentiment_by_month.plot(xlabel=\"months of {}\".format(this_year), xticks=df_sentiment_by_month.index, ylabel=\"number of tweet\")"
      ]
    },
    {
      "cell_type": "code",
      "execution_count": null,
      "metadata": {
        "colab": {
          "base_uri": "https://localhost:8080/",
          "height": 1000
        },
        "id": "Fbooqd9kUQWV",
        "outputId": "e2887528-b82a-4b79-f0bf-e7ff8319a1d3"
      },
      "outputs": [],
      "source": [
        "months = {\n",
        "  1: \"January\",\n",
        "  2: \"February\",\n",
        "  3: \"March\",\n",
        "  4: \"April\",\n",
        "  5: \"May\",\n",
        "  7: \"July\",\n",
        "  8: \"August\",\n",
        "  9: \"September\",\n",
        "  10: \"October\",\n",
        "  11: \"November\",\n",
        "  12: \"December\",\n",
        "}\n",
        "def month_label(month_number):\n",
        "  month_str = months[month_number]\n",
        "  return month_str + \" \" + str(this_year)\n",
        "\n",
        "\n",
        "for i in df_sentiment_by_month.index:\n",
        "  monthly = df[df.index.month == i]\n",
        "\n",
        "  aggregation = {'#_of_tweets': ('tweet_id', 'count')}\n",
        "  df_sentiment_by_time = monthly.groupby(['date', 'hugging_labels']).agg(**aggregation).reset_index()\n",
        "  \n",
        "  df_sentiment_by_day = df_sentiment_by_time.groupby(df_sentiment_by_time.date.dt.day).apply(lambda df_sentiment_by_time: df_sentiment_by_time.groupby('hugging_labels')['#_of_tweets'].agg({'sum'})).unstack()\n",
        "\n",
        "  #print(df_sentiment_by_day)\n",
        "  df_sentiment_by_day.plot(xlabel=month_label(i), xticks=df_sentiment_by_day.index, ylabel=\"number of tweet\", figsize=(13,5))\n",
        "  "
      ]
    },
    {
      "cell_type": "code",
      "execution_count": null,
      "metadata": {
        "id": "V4cFI8YUffsQ"
      },
      "outputs": [],
      "source": []
    }
  ],
  "metadata": {
    "colab": {
      "collapsed_sections": [
        "mCyZCqt5SWAb"
      ],
      "name": "Interaction Statistics.ipynb",
      "provenance": []
    },
    "kernelspec": {
      "display_name": "Python 3",
      "name": "python3"
    },
    "language_info": {
      "name": "python"
    }
  },
  "nbformat": 4,
  "nbformat_minor": 0
}
