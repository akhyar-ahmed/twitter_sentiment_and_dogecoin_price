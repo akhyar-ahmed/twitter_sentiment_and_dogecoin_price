# utilities
import re

def clean_tweets(tweet):
    # Replace multiple spaces with single spaces.
    tweet = re.sub(' +', ' ', tweet)
    # Convert two or more dot's into one.
    tweet = re.sub(r'\.+', ".", tweet)
    # replace "&amp" into &
    tweet = tweet.replace("&amp;", "&")

    return tweet

# loading the data set
df = pd.read_excel("/content/doge_coin_cleaned_dataset_2020.xlsx")

df['cleaned_tweet'] = df['cleaned_tweet'].apply(clean_tweets)
df.head(100)
