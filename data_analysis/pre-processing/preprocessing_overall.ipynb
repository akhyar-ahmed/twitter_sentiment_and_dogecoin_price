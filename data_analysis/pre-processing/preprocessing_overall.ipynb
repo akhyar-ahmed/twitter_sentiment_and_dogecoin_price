{
  "nbformat": 4,
  "nbformat_minor": 0,
  "metadata": {
    "colab": {
      "name": "preprocessing_overall.ipynb",
      "provenance": [],
      "collapsed_sections": [
        "AlyuGTkL_7OE"
      ]
    },
    "kernelspec": {
      "name": "python3",
      "display_name": "Python 3"
    },
    "language_info": {
      "name": "python"
    },
    "accelerator": "GPU",
    "gpuClass": "standard"
  },
  "cells": [
    {
      "cell_type": "markdown",
      "source": [
        "#### Import packages"
      ],
      "metadata": {
        "id": "djGqYhqRACpE"
      }
    },
    {
      "cell_type": "code",
      "source": [
        "!pip install emot"
      ],
      "metadata": {
        "colab": {
          "base_uri": "https://localhost:8080/"
        },
        "id": "fJzPDP3q9DXb",
        "outputId": "857cde72-1b81-4b00-d30e-cc07330598de"
      },
      "execution_count": null,
      "outputs": [
        {
          "output_type": "stream",
          "name": "stdout",
          "text": [
            "Looking in indexes: https://pypi.org/simple, https://us-python.pkg.dev/colab-wheels/public/simple/\n",
            "Collecting emot\n",
            "  Downloading emot-3.1-py3-none-any.whl (61 kB)\n",
            "\u001b[K     |████████████████████████████████| 61 kB 11 kB/s \n",
            "\u001b[?25hInstalling collected packages: emot\n",
            "Successfully installed emot-3.1\n"
          ]
        }
      ]
    },
    {
      "cell_type": "code",
      "execution_count": null,
      "metadata": {
        "id": "XOPngNBcbWBA"
      },
      "outputs": [],
      "source": [
        "import pandas as pd\n",
        "import os\n",
        "import matplotlib.pyplot as plt\n",
        "import re\n",
        "\n",
        "from emot.emo_unicode import UNICODE_EMOJI # For emojis\n",
        "#from emot.emo_unicode import EMOTICONS_EMO # For emoticons"
      ]
    },
    {
      "cell_type": "code",
      "source": [
        "# mounting gdrive\n",
        "from google.colab import drive\n",
        "drive.mount('/content/drive')"
      ],
      "metadata": {
        "id": "x7QwSNM7bb_D",
        "colab": {
          "base_uri": "https://localhost:8080/"
        },
        "outputId": "cfe6511c-37a9-4c29-d657-60cb7d2a98c4"
      },
      "execution_count": null,
      "outputs": [
        {
          "output_type": "stream",
          "name": "stdout",
          "text": [
            "Mounted at /content/drive\n"
          ]
        }
      ]
    },
    {
      "cell_type": "markdown",
      "source": [
        "#### Method to retrive all csv's"
      ],
      "metadata": {
        "id": "e7XDmpbsAXqg"
      }
    },
    {
      "cell_type": "code",
      "source": [
        "# merge all csv's from given path\n",
        "def read_all_files(path = \"/content/drive/MyDrive/SMBA_2022/Datasets/elonmusk_tweets/\"):\n",
        "  coun = 0\n",
        "  df = pd.DataFrame()\n",
        "  for i,d_names,f in os.walk(path):\n",
        "    for dir in d_names:\n",
        "      t_path  = os.path.join(i, dir)\n",
        "      for root, j, f_names in os.walk(t_path):\n",
        "        for f_name in f_names:\n",
        "          if \".csv\" in f_name:\n",
        "            infile = os.path.join(t_path, f_name)\n",
        "            t_df = pd.read_csv(infile, encoding = \"utf-8\")\n",
        "            # print(t_df.head())\n",
        "            df = pd.concat([df, t_df])\n",
        "        coun += 1\n",
        "    return df"
      ],
      "metadata": {
        "id": "MvusJ7Sve5Nw"
      },
      "execution_count": null,
      "outputs": []
    },
    {
      "cell_type": "markdown",
      "source": [
        "#### Methods to remove emoji and other special characters"
      ],
      "metadata": {
        "id": "WQh0Tc4K-Ie4"
      }
    },
    {
      "cell_type": "code",
      "source": [
        "def remove_emojis(text):\n",
        "    regex_pattern = re.compile(\"[\"\n",
        "                           u\"\\U0001F600-\\U0001F64F\" # emoticons\n",
        "                           u\"\\U0001F300-\\U0001F5FF\" # symbols & pictographs\n",
        "                           u\"\\U0001F680-\\U0001F6FF\" # transport & map symbols\n",
        "                           u\"\\U0001F1E0-\\U0001F1FF\" # flags (iOS)\n",
        "                           u\"\\U00002702-\\U000027B0\"\n",
        "                           u\"\\U000024C2-\\U0001F251\"\n",
        "                           \"]+\", flags=re.UNICODE)\n",
        "    return regex_pattern.sub(r'', text)"
      ],
      "metadata": {
        "id": "FpQNCNDU-PGH"
      },
      "execution_count": null,
      "outputs": []
    },
    {
      "cell_type": "markdown",
      "source": [
        "#### Method for converting emojis into words"
      ],
      "metadata": {
        "id": "wDnHkb99JwCu"
      }
    },
    {
      "cell_type": "code",
      "source": [
        "def convert_emojis_to_text(tweet):\n",
        "    for emot in UNICODE_EMOJI:\n",
        "        tweet = tweet.replace(emot, (UNICODE_EMOJI[emot].replace(\",\",\"\").replace(\":\",\" \").replace(\"_\",\" \")))\n",
        "    return tweet"
      ],
      "metadata": {
        "id": "ao412FY8JnR0"
      },
      "execution_count": null,
      "outputs": []
    },
    {
      "cell_type": "markdown",
      "source": [
        "#### Method for cleaning all tweets"
      ],
      "metadata": {
        "id": "l5aawuAABCii"
      }
    },
    {
      "cell_type": "code",
      "source": [
        "def clean_tweet(df):\n",
        "  # drop all rows with any NaN and NaT values\n",
        "  df = df.dropna()\n",
        "\n",
        "  # covert all values of year column into integer\n",
        "  df[\"year\"] = [int(year) for year in df.year]\n",
        "  cleaned_tweet = [] \n",
        "  coun = 0 \n",
        "  for i, tweet in df.iterrows():\n",
        "    original_tweet = tweet.original_tweet\n",
        "    \n",
        "    # convert tweet into strings\n",
        "    original_tweet = str(original_tweet)\n",
        "\n",
        "    # convert emojis to text description\n",
        "    original_tweet = convert_emojis_to_text(original_tweet)\n",
        "\n",
        "    # remove newlines\n",
        "    while \"\\n\" in original_tweet:\n",
        "      original_tweet = original_tweet.replace('\\n',' ')\n",
        "    \n",
        "    # remove http://\n",
        "    t_ls = [word for word in original_tweet.split() if \"http:\" not in word]\n",
        "    original_tweet = \" \".join(t_ls)\n",
        "\n",
        "    # remove @\n",
        "    t_ls = [word for word in original_tweet.split() if \"@\" not in word]\n",
        "    original_tweet = \" \".join(t_ls)\n",
        "    \n",
        "    # remove https://\n",
        "    t_ls = [word for word in original_tweet.split() if \"https:\" not in word]\n",
        "    original_tweet = \" \".join(t_ls)\n",
        "\n",
        "    # normalize all tweets\n",
        "    original_tweet = original_tweet.lower()\n",
        "\n",
        "    # reomve emoji and special characters\n",
        "    original_tweet = remove_emojis(original_tweet)\n",
        "    \n",
        "    # append cleaned tweet into a list\n",
        "    cleaned_tweet.append(original_tweet)\n",
        "    \n",
        "  df[\"cleaned_tweet\"] = cleaned_tweet\n",
        "  return df"
      ],
      "metadata": {
        "id": "jDRpjzfykiHI"
      },
      "execution_count": null,
      "outputs": []
    },
    {
      "cell_type": "markdown",
      "source": [
        "#### Method for removing all duplicates"
      ],
      "metadata": {
        "id": "GnC-FRsdBJ4Q"
      }
    },
    {
      "cell_type": "code",
      "source": [
        "def remove_duplicates(df):\n",
        "  unique_tweets = df.cleaned_tweet.unique()\n",
        "  unique_tweets_dict = {}\n",
        "  for tweet in unique_tweets:\n",
        "    unique_tweets_dict[tweet] = 0\n",
        "    \n",
        "  unique_indx = []\n",
        "  coun = 0\n",
        "  for i, row in df.iterrows():\n",
        "    if unique_tweets_dict[row.cleaned_tweet] == 1:\n",
        "      coun+=1\n",
        "      continue\n",
        "    else:\n",
        "      unique_tweets_dict[row.cleaned_tweet] = 1\n",
        "      unique_indx.append(coun)\n",
        "      coun+=1\n",
        "  new_df = df.iloc[unique_indx]\n",
        "  return new_df"
      ],
      "metadata": {
        "id": "xtcQ5uLy2kJd"
      },
      "execution_count": null,
      "outputs": []
    },
    {
      "cell_type": "markdown",
      "source": [
        "#### Method to remove null values or missing values"
      ],
      "metadata": {
        "id": "pwSWH4OPv5WU"
      }
    },
    {
      "cell_type": "code",
      "source": [
        "def remove_missing_columns(df, year = 2021):\n",
        "  for i in df.keys():\n",
        "    df.dropna(subset=[i], inplace=True)\n",
        "\n",
        "  return df "
      ],
      "metadata": {
        "id": "P_fzAdiDwAdy"
      },
      "execution_count": null,
      "outputs": []
    },
    {
      "cell_type": "markdown",
      "source": [
        "#### Method for showing yearly distribution of tweets"
      ],
      "metadata": {
        "id": "DuFE8I_gD9y6"
      }
    },
    {
      "cell_type": "code",
      "source": [
        "def draw_tweet_barPlot(x, y, title):\n",
        "  plt.clf()\n",
        "  plt.rcParams.update({'font.size': 12})\n",
        "  fig = plt.figure(figsize = (8, 6))\n",
        "\n",
        "  # creating the bar plot\n",
        "  plt.bar(x, y, color ='grey', width = 0.8)\n",
        "  \n",
        "  plt.xlabel(\"Year\")\n",
        "  plt.ylabel(\"No. of tweets\")\n",
        "  plt.title(f\"{title}\")\n",
        "  fig.savefig(f\"{title}.png\")\n",
        "  plt.show();\n",
        "  return"
      ],
      "metadata": {
        "id": "Nn69sTSJR4Rn"
      },
      "execution_count": null,
      "outputs": []
    },
    {
      "cell_type": "markdown",
      "source": [
        "#### Method for retrive tweet with specific coin name"
      ],
      "metadata": {
        "id": "WPN0oK9qCGDl"
      }
    },
    {
      "cell_type": "code",
      "source": [
        "def filter_with_coin(df, coin_name):\n",
        "  coin_indx = []\n",
        "  coun = 0\n",
        "  raw_tweet_ls = []\n",
        "  cleaned_tweet_ls = []\n",
        "  year_ls = []\n",
        "  month_ls = []\n",
        "  day_ls = []\n",
        "  time_ls = []\n",
        "  tweet_id = []\n",
        "\n",
        "  for i, row in df.iterrows():\n",
        "    if coin_name in row.cleaned_tweet:\n",
        "      tweet_id.append(row.tweet_id)\n",
        "      raw_tweet_ls.append(row.original_tweet)\n",
        "      cleaned_tweet_ls.append(row.cleaned_tweet)\n",
        "      year_ls.append(row.year)\n",
        "      month_ls.append(row.month)\n",
        "      day_ls.append(row.day)\n",
        "      time_ls.append(row.time)\n",
        "      \n",
        "  new_dict = {\n",
        "      \"tweet_id\": tweet_id,\n",
        "      \"original_tweet\": raw_tweet_ls,\n",
        "      \"cleaned_tweeet\": cleaned_tweet_ls,\n",
        "      \"year\": year_ls,\n",
        "      \"month\": month_ls,\n",
        "      \"day\": day_ls,\n",
        "      \"time\": time_ls\n",
        "  }\n",
        "  new_df = pd.DataFrame(new_dict)\n",
        "  return new_df"
      ],
      "metadata": {
        "id": "tMj5JXiKCSU4"
      },
      "execution_count": null,
      "outputs": []
    },
    {
      "cell_type": "markdown",
      "source": [
        "#### Doge coin analysis"
      ],
      "metadata": {
        "id": "_JhS2a7PAc24"
      }
    },
    {
      "cell_type": "code",
      "source": [
        "# infile = \"/content/doge_coin_raw_dataset.csv\"\n",
        "# df = pd.read_csv(infile, encoding = \"utf-8\")"
      ],
      "metadata": {
        "id": "S-ubH3BNk-rF"
      },
      "execution_count": null,
      "outputs": []
    },
    {
      "cell_type": "code",
      "source": [
        "# read all data files of elon musk tweets \n",
        "df = read_all_files(path = \"/content/drive/MyDrive/SMBA_2022/Datasets/doge_tweets/overall_doge_tweet_2021\")"
      ],
      "metadata": {
        "id": "WA22Bhw3eEsZ"
      },
      "execution_count": null,
      "outputs": []
    },
    {
      "cell_type": "code",
      "source": [
        "df.head()"
      ],
      "metadata": {
        "colab": {
          "base_uri": "https://localhost:8080/",
          "height": 165
        },
        "id": "2tbf3ebpxBvF",
        "outputId": "ccd7b303-84d5-4050-d114-2a83aded5d0e"
      },
      "execution_count": null,
      "outputs": [
        {
          "output_type": "error",
          "ename": "AttributeError",
          "evalue": "ignored",
          "traceback": [
            "\u001b[0;31m---------------------------------------------------------------------------\u001b[0m",
            "\u001b[0;31mAttributeError\u001b[0m                            Traceback (most recent call last)",
            "\u001b[0;32m<ipython-input-14-c42a15b2c7cf>\u001b[0m in \u001b[0;36m<module>\u001b[0;34m()\u001b[0m\n\u001b[0;32m----> 1\u001b[0;31m \u001b[0mdf\u001b[0m\u001b[0;34m.\u001b[0m\u001b[0mhead\u001b[0m\u001b[0;34m(\u001b[0m\u001b[0;34m)\u001b[0m\u001b[0;34m\u001b[0m\u001b[0;34m\u001b[0m\u001b[0m\n\u001b[0m",
            "\u001b[0;31mAttributeError\u001b[0m: 'NoneType' object has no attribute 'head'"
          ]
        }
      ]
    },
    {
      "cell_type": "code",
      "source": [
        "df = df.drop(columns=[\"Unnamed: 0\"])"
      ],
      "metadata": {
        "id": "nGk5Ws8txR7W"
      },
      "execution_count": null,
      "outputs": []
    },
    {
      "cell_type": "code",
      "source": [
        "df.year.unique()"
      ],
      "metadata": {
        "colab": {
          "base_uri": "https://localhost:8080/"
        },
        "id": "0crLc1QqkTGb",
        "outputId": "b74c33fa-c363-4c30-a1ad-4520093f6542"
      },
      "execution_count": null,
      "outputs": [
        {
          "output_type": "execute_result",
          "data": {
            "text/plain": [
              "array([2021, '2021', nan, 'Twitter for iPhone', 'Twitter for Android',\n",
              "       'Twitter'], dtype=object)"
            ]
          },
          "metadata": {},
          "execution_count": 16
        }
      ]
    },
    {
      "cell_type": "code",
      "source": [
        "df[df.year == \"Twitter\"]"
      ],
      "metadata": {
        "colab": {
          "base_uri": "https://localhost:8080/",
          "height": 423
        },
        "id": "rUKHf7EelghM",
        "outputId": "f70c0d0a-5abc-48d1-dd82-7fcf05cddbc4"
      },
      "execution_count": null,
      "outputs": [
        {
          "output_type": "execute_result",
          "data": {
            "text/plain": [
              "     tweet_id  user_id user_name original_tweet     year  month  day time  \\\n",
              "214    2021.0      2.0        28       20:00:10  Twitter    NaN  NaN  NaN   \n",
              "450    2021.0      2.0        28       19:04:36  Twitter    NaN  NaN  NaN   \n",
              "173    2021.0      3.0        01       21:00:07  Twitter    NaN  NaN  NaN   \n",
              "649    2021.0      3.0        01       20:00:03  Twitter    NaN  NaN  NaN   \n",
              "338    2021.0      3.0        01       19:00:11  Twitter    NaN  NaN  NaN   \n",
              "..        ...      ...       ...            ...      ...    ...  ...  ...   \n",
              "462    2021.0      3.0        07       07:30:00  Twitter    NaN  NaN  NaN   \n",
              "548    2021.0      3.0        07       07:00:10  Twitter    NaN  NaN  NaN   \n",
              "639    2021.0      3.0        07       06:30:07  Twitter    NaN  NaN  NaN   \n",
              "717    2021.0      3.0        07       06:00:09  Twitter    NaN  NaN  NaN   \n",
              "803    2021.0      3.0        07       05:30:04  Twitter    NaN  NaN  NaN   \n",
              "\n",
              "    source  \n",
              "214    NaN  \n",
              "450    NaN  \n",
              "173    NaN  \n",
              "649    NaN  \n",
              "338    NaN  \n",
              "..     ...  \n",
              "462    NaN  \n",
              "548    NaN  \n",
              "639    NaN  \n",
              "717    NaN  \n",
              "803    NaN  \n",
              "\n",
              "[102 rows x 9 columns]"
            ],
            "text/html": [
              "\n",
              "  <div id=\"df-1a2bccfc-f505-4c5c-b9ca-826dcf13e6d3\">\n",
              "    <div class=\"colab-df-container\">\n",
              "      <div>\n",
              "<style scoped>\n",
              "    .dataframe tbody tr th:only-of-type {\n",
              "        vertical-align: middle;\n",
              "    }\n",
              "\n",
              "    .dataframe tbody tr th {\n",
              "        vertical-align: top;\n",
              "    }\n",
              "\n",
              "    .dataframe thead th {\n",
              "        text-align: right;\n",
              "    }\n",
              "</style>\n",
              "<table border=\"1\" class=\"dataframe\">\n",
              "  <thead>\n",
              "    <tr style=\"text-align: right;\">\n",
              "      <th></th>\n",
              "      <th>tweet_id</th>\n",
              "      <th>user_id</th>\n",
              "      <th>user_name</th>\n",
              "      <th>original_tweet</th>\n",
              "      <th>year</th>\n",
              "      <th>month</th>\n",
              "      <th>day</th>\n",
              "      <th>time</th>\n",
              "      <th>source</th>\n",
              "    </tr>\n",
              "  </thead>\n",
              "  <tbody>\n",
              "    <tr>\n",
              "      <th>214</th>\n",
              "      <td>2021.0</td>\n",
              "      <td>2.0</td>\n",
              "      <td>28</td>\n",
              "      <td>20:00:10</td>\n",
              "      <td>Twitter</td>\n",
              "      <td>NaN</td>\n",
              "      <td>NaN</td>\n",
              "      <td>NaN</td>\n",
              "      <td>NaN</td>\n",
              "    </tr>\n",
              "    <tr>\n",
              "      <th>450</th>\n",
              "      <td>2021.0</td>\n",
              "      <td>2.0</td>\n",
              "      <td>28</td>\n",
              "      <td>19:04:36</td>\n",
              "      <td>Twitter</td>\n",
              "      <td>NaN</td>\n",
              "      <td>NaN</td>\n",
              "      <td>NaN</td>\n",
              "      <td>NaN</td>\n",
              "    </tr>\n",
              "    <tr>\n",
              "      <th>173</th>\n",
              "      <td>2021.0</td>\n",
              "      <td>3.0</td>\n",
              "      <td>01</td>\n",
              "      <td>21:00:07</td>\n",
              "      <td>Twitter</td>\n",
              "      <td>NaN</td>\n",
              "      <td>NaN</td>\n",
              "      <td>NaN</td>\n",
              "      <td>NaN</td>\n",
              "    </tr>\n",
              "    <tr>\n",
              "      <th>649</th>\n",
              "      <td>2021.0</td>\n",
              "      <td>3.0</td>\n",
              "      <td>01</td>\n",
              "      <td>20:00:03</td>\n",
              "      <td>Twitter</td>\n",
              "      <td>NaN</td>\n",
              "      <td>NaN</td>\n",
              "      <td>NaN</td>\n",
              "      <td>NaN</td>\n",
              "    </tr>\n",
              "    <tr>\n",
              "      <th>338</th>\n",
              "      <td>2021.0</td>\n",
              "      <td>3.0</td>\n",
              "      <td>01</td>\n",
              "      <td>19:00:11</td>\n",
              "      <td>Twitter</td>\n",
              "      <td>NaN</td>\n",
              "      <td>NaN</td>\n",
              "      <td>NaN</td>\n",
              "      <td>NaN</td>\n",
              "    </tr>\n",
              "    <tr>\n",
              "      <th>...</th>\n",
              "      <td>...</td>\n",
              "      <td>...</td>\n",
              "      <td>...</td>\n",
              "      <td>...</td>\n",
              "      <td>...</td>\n",
              "      <td>...</td>\n",
              "      <td>...</td>\n",
              "      <td>...</td>\n",
              "      <td>...</td>\n",
              "    </tr>\n",
              "    <tr>\n",
              "      <th>462</th>\n",
              "      <td>2021.0</td>\n",
              "      <td>3.0</td>\n",
              "      <td>07</td>\n",
              "      <td>07:30:00</td>\n",
              "      <td>Twitter</td>\n",
              "      <td>NaN</td>\n",
              "      <td>NaN</td>\n",
              "      <td>NaN</td>\n",
              "      <td>NaN</td>\n",
              "    </tr>\n",
              "    <tr>\n",
              "      <th>548</th>\n",
              "      <td>2021.0</td>\n",
              "      <td>3.0</td>\n",
              "      <td>07</td>\n",
              "      <td>07:00:10</td>\n",
              "      <td>Twitter</td>\n",
              "      <td>NaN</td>\n",
              "      <td>NaN</td>\n",
              "      <td>NaN</td>\n",
              "      <td>NaN</td>\n",
              "    </tr>\n",
              "    <tr>\n",
              "      <th>639</th>\n",
              "      <td>2021.0</td>\n",
              "      <td>3.0</td>\n",
              "      <td>07</td>\n",
              "      <td>06:30:07</td>\n",
              "      <td>Twitter</td>\n",
              "      <td>NaN</td>\n",
              "      <td>NaN</td>\n",
              "      <td>NaN</td>\n",
              "      <td>NaN</td>\n",
              "    </tr>\n",
              "    <tr>\n",
              "      <th>717</th>\n",
              "      <td>2021.0</td>\n",
              "      <td>3.0</td>\n",
              "      <td>07</td>\n",
              "      <td>06:00:09</td>\n",
              "      <td>Twitter</td>\n",
              "      <td>NaN</td>\n",
              "      <td>NaN</td>\n",
              "      <td>NaN</td>\n",
              "      <td>NaN</td>\n",
              "    </tr>\n",
              "    <tr>\n",
              "      <th>803</th>\n",
              "      <td>2021.0</td>\n",
              "      <td>3.0</td>\n",
              "      <td>07</td>\n",
              "      <td>05:30:04</td>\n",
              "      <td>Twitter</td>\n",
              "      <td>NaN</td>\n",
              "      <td>NaN</td>\n",
              "      <td>NaN</td>\n",
              "      <td>NaN</td>\n",
              "    </tr>\n",
              "  </tbody>\n",
              "</table>\n",
              "<p>102 rows × 9 columns</p>\n",
              "</div>\n",
              "      <button class=\"colab-df-convert\" onclick=\"convertToInteractive('df-1a2bccfc-f505-4c5c-b9ca-826dcf13e6d3')\"\n",
              "              title=\"Convert this dataframe to an interactive table.\"\n",
              "              style=\"display:none;\">\n",
              "        \n",
              "  <svg xmlns=\"http://www.w3.org/2000/svg\" height=\"24px\"viewBox=\"0 0 24 24\"\n",
              "       width=\"24px\">\n",
              "    <path d=\"M0 0h24v24H0V0z\" fill=\"none\"/>\n",
              "    <path d=\"M18.56 5.44l.94 2.06.94-2.06 2.06-.94-2.06-.94-.94-2.06-.94 2.06-2.06.94zm-11 1L8.5 8.5l.94-2.06 2.06-.94-2.06-.94L8.5 2.5l-.94 2.06-2.06.94zm10 10l.94 2.06.94-2.06 2.06-.94-2.06-.94-.94-2.06-.94 2.06-2.06.94z\"/><path d=\"M17.41 7.96l-1.37-1.37c-.4-.4-.92-.59-1.43-.59-.52 0-1.04.2-1.43.59L10.3 9.45l-7.72 7.72c-.78.78-.78 2.05 0 2.83L4 21.41c.39.39.9.59 1.41.59.51 0 1.02-.2 1.41-.59l7.78-7.78 2.81-2.81c.8-.78.8-2.07 0-2.86zM5.41 20L4 18.59l7.72-7.72 1.47 1.35L5.41 20z\"/>\n",
              "  </svg>\n",
              "      </button>\n",
              "      \n",
              "  <style>\n",
              "    .colab-df-container {\n",
              "      display:flex;\n",
              "      flex-wrap:wrap;\n",
              "      gap: 12px;\n",
              "    }\n",
              "\n",
              "    .colab-df-convert {\n",
              "      background-color: #E8F0FE;\n",
              "      border: none;\n",
              "      border-radius: 50%;\n",
              "      cursor: pointer;\n",
              "      display: none;\n",
              "      fill: #1967D2;\n",
              "      height: 32px;\n",
              "      padding: 0 0 0 0;\n",
              "      width: 32px;\n",
              "    }\n",
              "\n",
              "    .colab-df-convert:hover {\n",
              "      background-color: #E2EBFA;\n",
              "      box-shadow: 0px 1px 2px rgba(60, 64, 67, 0.3), 0px 1px 3px 1px rgba(60, 64, 67, 0.15);\n",
              "      fill: #174EA6;\n",
              "    }\n",
              "\n",
              "    [theme=dark] .colab-df-convert {\n",
              "      background-color: #3B4455;\n",
              "      fill: #D2E3FC;\n",
              "    }\n",
              "\n",
              "    [theme=dark] .colab-df-convert:hover {\n",
              "      background-color: #434B5C;\n",
              "      box-shadow: 0px 1px 3px 1px rgba(0, 0, 0, 0.15);\n",
              "      filter: drop-shadow(0px 1px 2px rgba(0, 0, 0, 0.3));\n",
              "      fill: #FFFFFF;\n",
              "    }\n",
              "  </style>\n",
              "\n",
              "      <script>\n",
              "        const buttonEl =\n",
              "          document.querySelector('#df-1a2bccfc-f505-4c5c-b9ca-826dcf13e6d3 button.colab-df-convert');\n",
              "        buttonEl.style.display =\n",
              "          google.colab.kernel.accessAllowed ? 'block' : 'none';\n",
              "\n",
              "        async function convertToInteractive(key) {\n",
              "          const element = document.querySelector('#df-1a2bccfc-f505-4c5c-b9ca-826dcf13e6d3');\n",
              "          const dataTable =\n",
              "            await google.colab.kernel.invokeFunction('convertToInteractive',\n",
              "                                                     [key], {});\n",
              "          if (!dataTable) return;\n",
              "\n",
              "          const docLinkHtml = 'Like what you see? Visit the ' +\n",
              "            '<a target=\"_blank\" href=https://colab.research.google.com/notebooks/data_table.ipynb>data table notebook</a>'\n",
              "            + ' to learn more about interactive tables.';\n",
              "          element.innerHTML = '';\n",
              "          dataTable['output_type'] = 'display_data';\n",
              "          await google.colab.output.renderOutput(dataTable, element);\n",
              "          const docLink = document.createElement('div');\n",
              "          docLink.innerHTML = docLinkHtml;\n",
              "          element.appendChild(docLink);\n",
              "        }\n",
              "      </script>\n",
              "    </div>\n",
              "  </div>\n",
              "  "
            ]
          },
          "metadata": {},
          "execution_count": 17
        }
      ]
    },
    {
      "cell_type": "code",
      "source": [
        "df[df.year == \"Twitter\"].count()"
      ],
      "metadata": {
        "colab": {
          "base_uri": "https://localhost:8080/"
        },
        "id": "hlTYQ7uilKuN",
        "outputId": "285e5fc8-b781-4f04-8b9a-abd20fde3d28"
      },
      "execution_count": null,
      "outputs": [
        {
          "output_type": "execute_result",
          "data": {
            "text/plain": [
              "tweet_id          102\n",
              "user_id           102\n",
              "user_name         102\n",
              "original_tweet    102\n",
              "year              102\n",
              "month               0\n",
              "day                 0\n",
              "time                0\n",
              "source              0\n",
              "dtype: int64"
            ]
          },
          "metadata": {},
          "execution_count": 18
        }
      ]
    },
    {
      "cell_type": "code",
      "source": [
        "df[df.year == \"2021\"].count()"
      ],
      "metadata": {
        "colab": {
          "base_uri": "https://localhost:8080/"
        },
        "id": "wIWEboZL4t29",
        "outputId": "d6d6daed-bbfe-4a3e-99d5-7083c82d62ed"
      },
      "execution_count": null,
      "outputs": [
        {
          "output_type": "execute_result",
          "data": {
            "text/plain": [
              "tweet_id          18597\n",
              "user_id           18597\n",
              "user_name         18597\n",
              "original_tweet    18597\n",
              "year              18597\n",
              "month             18597\n",
              "day               18597\n",
              "time              18597\n",
              "source            18597\n",
              "dtype: int64"
            ]
          },
          "metadata": {},
          "execution_count": 19
        }
      ]
    },
    {
      "cell_type": "code",
      "source": [
        "df[pd.isnull(df.year)]"
      ],
      "metadata": {
        "colab": {
          "base_uri": "https://localhost:8080/",
          "height": 423
        },
        "id": "0utzUNx9lbKJ",
        "outputId": "6ee0a214-4856-41c6-8b81-cf4dda874b56"
      },
      "execution_count": null,
      "outputs": [
        {
          "output_type": "execute_result",
          "data": {
            "text/plain": [
              "         tweet_id       user_id user_name  \\\n",
              "90   1.451661e+18  1.448694e+18    Nobody   \n",
              "91            NaN           NaN       NaN   \n",
              "92            NaN           NaN       NaN   \n",
              "94   1.451661e+18  1.448694e+18    Nobody   \n",
              "95            NaN           NaN       NaN   \n",
              "..            ...           ...       ...   \n",
              "798           NaN           NaN       NaN   \n",
              "799           NaN           NaN       NaN   \n",
              "800           NaN           NaN       NaN   \n",
              "801           NaN           NaN       NaN   \n",
              "802           NaN           NaN       NaN   \n",
              "\n",
              "                                        original_tweet year  month  day time  \\\n",
              "90   @Topo39506879 @elonmusk @itsALLrisky @UberFact...  NaN    NaN  NaN  NaN   \n",
              "91                                                 NaN  NaN    NaN  NaN  NaN   \n",
              "92                                                 NaN  NaN    NaN  NaN  NaN   \n",
              "94   @pika1903 @elonmusk @UberFacts Breaking news! ...  NaN    NaN  NaN  NaN   \n",
              "95                                                 NaN  NaN    NaN  NaN  NaN   \n",
              "..                                                 ...  ...    ...  ...  ...   \n",
              "798                                                NaN  NaN    NaN  NaN  NaN   \n",
              "799                                                NaN  NaN    NaN  NaN  NaN   \n",
              "800                                                NaN  NaN    NaN  NaN  NaN   \n",
              "801                                                NaN  NaN    NaN  NaN  NaN   \n",
              "802                                                NaN  NaN    NaN  NaN  NaN   \n",
              "\n",
              "    source  \n",
              "90     NaN  \n",
              "91     NaN  \n",
              "92     NaN  \n",
              "94     NaN  \n",
              "95     NaN  \n",
              "..     ...  \n",
              "798    NaN  \n",
              "799    NaN  \n",
              "800    NaN  \n",
              "801    NaN  \n",
              "802    NaN  \n",
              "\n",
              "[1315 rows x 9 columns]"
            ],
            "text/html": [
              "\n",
              "  <div id=\"df-f11d47ad-d30d-4346-bd7d-f03671428c23\">\n",
              "    <div class=\"colab-df-container\">\n",
              "      <div>\n",
              "<style scoped>\n",
              "    .dataframe tbody tr th:only-of-type {\n",
              "        vertical-align: middle;\n",
              "    }\n",
              "\n",
              "    .dataframe tbody tr th {\n",
              "        vertical-align: top;\n",
              "    }\n",
              "\n",
              "    .dataframe thead th {\n",
              "        text-align: right;\n",
              "    }\n",
              "</style>\n",
              "<table border=\"1\" class=\"dataframe\">\n",
              "  <thead>\n",
              "    <tr style=\"text-align: right;\">\n",
              "      <th></th>\n",
              "      <th>tweet_id</th>\n",
              "      <th>user_id</th>\n",
              "      <th>user_name</th>\n",
              "      <th>original_tweet</th>\n",
              "      <th>year</th>\n",
              "      <th>month</th>\n",
              "      <th>day</th>\n",
              "      <th>time</th>\n",
              "      <th>source</th>\n",
              "    </tr>\n",
              "  </thead>\n",
              "  <tbody>\n",
              "    <tr>\n",
              "      <th>90</th>\n",
              "      <td>1.451661e+18</td>\n",
              "      <td>1.448694e+18</td>\n",
              "      <td>Nobody</td>\n",
              "      <td>@Topo39506879 @elonmusk @itsALLrisky @UberFact...</td>\n",
              "      <td>NaN</td>\n",
              "      <td>NaN</td>\n",
              "      <td>NaN</td>\n",
              "      <td>NaN</td>\n",
              "      <td>NaN</td>\n",
              "    </tr>\n",
              "    <tr>\n",
              "      <th>91</th>\n",
              "      <td>NaN</td>\n",
              "      <td>NaN</td>\n",
              "      <td>NaN</td>\n",
              "      <td>NaN</td>\n",
              "      <td>NaN</td>\n",
              "      <td>NaN</td>\n",
              "      <td>NaN</td>\n",
              "      <td>NaN</td>\n",
              "      <td>NaN</td>\n",
              "    </tr>\n",
              "    <tr>\n",
              "      <th>92</th>\n",
              "      <td>NaN</td>\n",
              "      <td>NaN</td>\n",
              "      <td>NaN</td>\n",
              "      <td>NaN</td>\n",
              "      <td>NaN</td>\n",
              "      <td>NaN</td>\n",
              "      <td>NaN</td>\n",
              "      <td>NaN</td>\n",
              "      <td>NaN</td>\n",
              "    </tr>\n",
              "    <tr>\n",
              "      <th>94</th>\n",
              "      <td>1.451661e+18</td>\n",
              "      <td>1.448694e+18</td>\n",
              "      <td>Nobody</td>\n",
              "      <td>@pika1903 @elonmusk @UberFacts Breaking news! ...</td>\n",
              "      <td>NaN</td>\n",
              "      <td>NaN</td>\n",
              "      <td>NaN</td>\n",
              "      <td>NaN</td>\n",
              "      <td>NaN</td>\n",
              "    </tr>\n",
              "    <tr>\n",
              "      <th>95</th>\n",
              "      <td>NaN</td>\n",
              "      <td>NaN</td>\n",
              "      <td>NaN</td>\n",
              "      <td>NaN</td>\n",
              "      <td>NaN</td>\n",
              "      <td>NaN</td>\n",
              "      <td>NaN</td>\n",
              "      <td>NaN</td>\n",
              "      <td>NaN</td>\n",
              "    </tr>\n",
              "    <tr>\n",
              "      <th>...</th>\n",
              "      <td>...</td>\n",
              "      <td>...</td>\n",
              "      <td>...</td>\n",
              "      <td>...</td>\n",
              "      <td>...</td>\n",
              "      <td>...</td>\n",
              "      <td>...</td>\n",
              "      <td>...</td>\n",
              "      <td>...</td>\n",
              "    </tr>\n",
              "    <tr>\n",
              "      <th>798</th>\n",
              "      <td>NaN</td>\n",
              "      <td>NaN</td>\n",
              "      <td>NaN</td>\n",
              "      <td>NaN</td>\n",
              "      <td>NaN</td>\n",
              "      <td>NaN</td>\n",
              "      <td>NaN</td>\n",
              "      <td>NaN</td>\n",
              "      <td>NaN</td>\n",
              "    </tr>\n",
              "    <tr>\n",
              "      <th>799</th>\n",
              "      <td>NaN</td>\n",
              "      <td>NaN</td>\n",
              "      <td>NaN</td>\n",
              "      <td>NaN</td>\n",
              "      <td>NaN</td>\n",
              "      <td>NaN</td>\n",
              "      <td>NaN</td>\n",
              "      <td>NaN</td>\n",
              "      <td>NaN</td>\n",
              "    </tr>\n",
              "    <tr>\n",
              "      <th>800</th>\n",
              "      <td>NaN</td>\n",
              "      <td>NaN</td>\n",
              "      <td>NaN</td>\n",
              "      <td>NaN</td>\n",
              "      <td>NaN</td>\n",
              "      <td>NaN</td>\n",
              "      <td>NaN</td>\n",
              "      <td>NaN</td>\n",
              "      <td>NaN</td>\n",
              "    </tr>\n",
              "    <tr>\n",
              "      <th>801</th>\n",
              "      <td>NaN</td>\n",
              "      <td>NaN</td>\n",
              "      <td>NaN</td>\n",
              "      <td>NaN</td>\n",
              "      <td>NaN</td>\n",
              "      <td>NaN</td>\n",
              "      <td>NaN</td>\n",
              "      <td>NaN</td>\n",
              "      <td>NaN</td>\n",
              "    </tr>\n",
              "    <tr>\n",
              "      <th>802</th>\n",
              "      <td>NaN</td>\n",
              "      <td>NaN</td>\n",
              "      <td>NaN</td>\n",
              "      <td>NaN</td>\n",
              "      <td>NaN</td>\n",
              "      <td>NaN</td>\n",
              "      <td>NaN</td>\n",
              "      <td>NaN</td>\n",
              "      <td>NaN</td>\n",
              "    </tr>\n",
              "  </tbody>\n",
              "</table>\n",
              "<p>1315 rows × 9 columns</p>\n",
              "</div>\n",
              "      <button class=\"colab-df-convert\" onclick=\"convertToInteractive('df-f11d47ad-d30d-4346-bd7d-f03671428c23')\"\n",
              "              title=\"Convert this dataframe to an interactive table.\"\n",
              "              style=\"display:none;\">\n",
              "        \n",
              "  <svg xmlns=\"http://www.w3.org/2000/svg\" height=\"24px\"viewBox=\"0 0 24 24\"\n",
              "       width=\"24px\">\n",
              "    <path d=\"M0 0h24v24H0V0z\" fill=\"none\"/>\n",
              "    <path d=\"M18.56 5.44l.94 2.06.94-2.06 2.06-.94-2.06-.94-.94-2.06-.94 2.06-2.06.94zm-11 1L8.5 8.5l.94-2.06 2.06-.94-2.06-.94L8.5 2.5l-.94 2.06-2.06.94zm10 10l.94 2.06.94-2.06 2.06-.94-2.06-.94-.94-2.06-.94 2.06-2.06.94z\"/><path d=\"M17.41 7.96l-1.37-1.37c-.4-.4-.92-.59-1.43-.59-.52 0-1.04.2-1.43.59L10.3 9.45l-7.72 7.72c-.78.78-.78 2.05 0 2.83L4 21.41c.39.39.9.59 1.41.59.51 0 1.02-.2 1.41-.59l7.78-7.78 2.81-2.81c.8-.78.8-2.07 0-2.86zM5.41 20L4 18.59l7.72-7.72 1.47 1.35L5.41 20z\"/>\n",
              "  </svg>\n",
              "      </button>\n",
              "      \n",
              "  <style>\n",
              "    .colab-df-container {\n",
              "      display:flex;\n",
              "      flex-wrap:wrap;\n",
              "      gap: 12px;\n",
              "    }\n",
              "\n",
              "    .colab-df-convert {\n",
              "      background-color: #E8F0FE;\n",
              "      border: none;\n",
              "      border-radius: 50%;\n",
              "      cursor: pointer;\n",
              "      display: none;\n",
              "      fill: #1967D2;\n",
              "      height: 32px;\n",
              "      padding: 0 0 0 0;\n",
              "      width: 32px;\n",
              "    }\n",
              "\n",
              "    .colab-df-convert:hover {\n",
              "      background-color: #E2EBFA;\n",
              "      box-shadow: 0px 1px 2px rgba(60, 64, 67, 0.3), 0px 1px 3px 1px rgba(60, 64, 67, 0.15);\n",
              "      fill: #174EA6;\n",
              "    }\n",
              "\n",
              "    [theme=dark] .colab-df-convert {\n",
              "      background-color: #3B4455;\n",
              "      fill: #D2E3FC;\n",
              "    }\n",
              "\n",
              "    [theme=dark] .colab-df-convert:hover {\n",
              "      background-color: #434B5C;\n",
              "      box-shadow: 0px 1px 3px 1px rgba(0, 0, 0, 0.15);\n",
              "      filter: drop-shadow(0px 1px 2px rgba(0, 0, 0, 0.3));\n",
              "      fill: #FFFFFF;\n",
              "    }\n",
              "  </style>\n",
              "\n",
              "      <script>\n",
              "        const buttonEl =\n",
              "          document.querySelector('#df-f11d47ad-d30d-4346-bd7d-f03671428c23 button.colab-df-convert');\n",
              "        buttonEl.style.display =\n",
              "          google.colab.kernel.accessAllowed ? 'block' : 'none';\n",
              "\n",
              "        async function convertToInteractive(key) {\n",
              "          const element = document.querySelector('#df-f11d47ad-d30d-4346-bd7d-f03671428c23');\n",
              "          const dataTable =\n",
              "            await google.colab.kernel.invokeFunction('convertToInteractive',\n",
              "                                                     [key], {});\n",
              "          if (!dataTable) return;\n",
              "\n",
              "          const docLinkHtml = 'Like what you see? Visit the ' +\n",
              "            '<a target=\"_blank\" href=https://colab.research.google.com/notebooks/data_table.ipynb>data table notebook</a>'\n",
              "            + ' to learn more about interactive tables.';\n",
              "          element.innerHTML = '';\n",
              "          dataTable['output_type'] = 'display_data';\n",
              "          await google.colab.output.renderOutput(dataTable, element);\n",
              "          const docLink = document.createElement('div');\n",
              "          docLink.innerHTML = docLinkHtml;\n",
              "          element.appendChild(docLink);\n",
              "        }\n",
              "      </script>\n",
              "    </div>\n",
              "  </div>\n",
              "  "
            ]
          },
          "metadata": {},
          "execution_count": 20
        }
      ]
    },
    {
      "cell_type": "code",
      "source": [
        "df[pd.isnull(df.year)].count()"
      ],
      "metadata": {
        "colab": {
          "base_uri": "https://localhost:8080/"
        },
        "id": "qgwXRCw3mcO6",
        "outputId": "85811dd4-af58-46ce-9969-32c04fb29924"
      },
      "execution_count": null,
      "outputs": [
        {
          "output_type": "execute_result",
          "data": {
            "text/plain": [
              "tweet_id          108\n",
              "user_id           108\n",
              "user_name         108\n",
              "original_tweet    108\n",
              "year                0\n",
              "month               0\n",
              "day                 0\n",
              "time                0\n",
              "source              0\n",
              "dtype: int64"
            ]
          },
          "metadata": {},
          "execution_count": 21
        }
      ]
    },
    {
      "cell_type": "code",
      "source": [
        "df.count()"
      ],
      "metadata": {
        "colab": {
          "base_uri": "https://localhost:8080/"
        },
        "id": "2mAn7palzUhg",
        "outputId": "96b24d16-0a3c-4be1-b720-6f60e834f475"
      },
      "execution_count": null,
      "outputs": [
        {
          "output_type": "execute_result",
          "data": {
            "text/plain": [
              "tweet_id          118569\n",
              "user_id           118569\n",
              "user_name         118569\n",
              "original_tweet    118569\n",
              "year              118461\n",
              "month             118353\n",
              "day               118353\n",
              "time              118353\n",
              "source            118353\n",
              "dtype: int64"
            ]
          },
          "metadata": {},
          "execution_count": 22
        }
      ]
    },
    {
      "cell_type": "code",
      "source": [
        "new_df = remove_missing_columns(df)"
      ],
      "metadata": {
        "id": "vZbsIN4Dv1H3"
      },
      "execution_count": null,
      "outputs": []
    },
    {
      "cell_type": "code",
      "source": [
        "new_df.count()"
      ],
      "metadata": {
        "colab": {
          "base_uri": "https://localhost:8080/"
        },
        "id": "xY4_XM0ozZrM",
        "outputId": "681bab91-a402-4e78-f392-470accab0f47"
      },
      "execution_count": null,
      "outputs": [
        {
          "output_type": "execute_result",
          "data": {
            "text/plain": [
              "tweet_id          118353\n",
              "user_id           118353\n",
              "user_name         118353\n",
              "original_tweet    118353\n",
              "year              118353\n",
              "month             118353\n",
              "day               118353\n",
              "time              118353\n",
              "source            118353\n",
              "dtype: int64"
            ]
          },
          "metadata": {},
          "execution_count": 24
        }
      ]
    },
    {
      "cell_type": "code",
      "source": [
        "# new_df = new_df.sort_values(by=['year'])"
      ],
      "metadata": {
        "id": "oCchOL_e77Vt"
      },
      "execution_count": null,
      "outputs": []
    },
    {
      "cell_type": "code",
      "source": [
        "new_df = new_df.sort_values(by=['month'])"
      ],
      "metadata": {
        "id": "gAltSJ_78ObG"
      },
      "execution_count": null,
      "outputs": []
    },
    {
      "cell_type": "code",
      "source": [
        "new_df.to_csv(\"overall_doge_coin_raw_dataset_2021.csv\", index=False, encoding='utf-8-sig')\n",
        "# df.to_csv(\"doge_coin_raw_dataset.csv\", index=False)"
      ],
      "metadata": {
        "id": "H6-_02DZeRIv"
      },
      "execution_count": null,
      "outputs": []
    },
    {
      "cell_type": "code",
      "source": [
        "new_df.head()"
      ],
      "metadata": {
        "colab": {
          "base_uri": "https://localhost:8080/",
          "height": 206
        },
        "id": "Ulgyr3odfO3n",
        "outputId": "eb830a9b-fe8e-49c5-bed0-7ed0598e79c0"
      },
      "execution_count": null,
      "outputs": [
        {
          "output_type": "execute_result",
          "data": {
            "text/plain": [
              "         tweet_id       user_id user_name  \\\n",
              "238  1.356012e+18  3.134341e+09    Nobody   \n",
              "0    1.356022e+18  1.321829e+18    Nobody   \n",
              "1    1.356022e+18  1.849860e+09    Nobody   \n",
              "2    1.356022e+18  1.355761e+18    Nobody   \n",
              "3    1.356022e+18  1.294729e+18    Nobody   \n",
              "\n",
              "                                        original_tweet  year  month   day  \\\n",
              "238  You can’t stop us, you fucks #dogecoin https:/...  2021    1.0  31.0   \n",
              "0    https://t.co/EGyJXssO6l\\n\\nLet's share it to t...  2021    1.0  31.0   \n",
              "1    If you really hated socialism, you’d let every...  2021    1.0  31.0   \n",
              "2    Like and retweet,  if you believe #Dogecoin #i...  2021    1.0  31.0   \n",
              "3    #dogecoin is sounding more and more like essen...  2021    1.0  31.0   \n",
              "\n",
              "         time               source  \n",
              "238  22:50:54   Twitter for iPhone  \n",
              "0    23:28:43  Twitter for Android  \n",
              "1    23:28:42   Twitter for iPhone  \n",
              "2    23:28:35   Twitter for iPhone  \n",
              "3    23:28:34  Twitter for Android  "
            ],
            "text/html": [
              "\n",
              "  <div id=\"df-ab7b089b-b5a2-43ae-b83f-656dadd9c351\">\n",
              "    <div class=\"colab-df-container\">\n",
              "      <div>\n",
              "<style scoped>\n",
              "    .dataframe tbody tr th:only-of-type {\n",
              "        vertical-align: middle;\n",
              "    }\n",
              "\n",
              "    .dataframe tbody tr th {\n",
              "        vertical-align: top;\n",
              "    }\n",
              "\n",
              "    .dataframe thead th {\n",
              "        text-align: right;\n",
              "    }\n",
              "</style>\n",
              "<table border=\"1\" class=\"dataframe\">\n",
              "  <thead>\n",
              "    <tr style=\"text-align: right;\">\n",
              "      <th></th>\n",
              "      <th>tweet_id</th>\n",
              "      <th>user_id</th>\n",
              "      <th>user_name</th>\n",
              "      <th>original_tweet</th>\n",
              "      <th>year</th>\n",
              "      <th>month</th>\n",
              "      <th>day</th>\n",
              "      <th>time</th>\n",
              "      <th>source</th>\n",
              "    </tr>\n",
              "  </thead>\n",
              "  <tbody>\n",
              "    <tr>\n",
              "      <th>238</th>\n",
              "      <td>1.356012e+18</td>\n",
              "      <td>3.134341e+09</td>\n",
              "      <td>Nobody</td>\n",
              "      <td>You can’t stop us, you fucks #dogecoin https:/...</td>\n",
              "      <td>2021</td>\n",
              "      <td>1.0</td>\n",
              "      <td>31.0</td>\n",
              "      <td>22:50:54</td>\n",
              "      <td>Twitter for iPhone</td>\n",
              "    </tr>\n",
              "    <tr>\n",
              "      <th>0</th>\n",
              "      <td>1.356022e+18</td>\n",
              "      <td>1.321829e+18</td>\n",
              "      <td>Nobody</td>\n",
              "      <td>https://t.co/EGyJXssO6l\\n\\nLet's share it to t...</td>\n",
              "      <td>2021</td>\n",
              "      <td>1.0</td>\n",
              "      <td>31.0</td>\n",
              "      <td>23:28:43</td>\n",
              "      <td>Twitter for Android</td>\n",
              "    </tr>\n",
              "    <tr>\n",
              "      <th>1</th>\n",
              "      <td>1.356022e+18</td>\n",
              "      <td>1.849860e+09</td>\n",
              "      <td>Nobody</td>\n",
              "      <td>If you really hated socialism, you’d let every...</td>\n",
              "      <td>2021</td>\n",
              "      <td>1.0</td>\n",
              "      <td>31.0</td>\n",
              "      <td>23:28:42</td>\n",
              "      <td>Twitter for iPhone</td>\n",
              "    </tr>\n",
              "    <tr>\n",
              "      <th>2</th>\n",
              "      <td>1.356022e+18</td>\n",
              "      <td>1.355761e+18</td>\n",
              "      <td>Nobody</td>\n",
              "      <td>Like and retweet,  if you believe #Dogecoin #i...</td>\n",
              "      <td>2021</td>\n",
              "      <td>1.0</td>\n",
              "      <td>31.0</td>\n",
              "      <td>23:28:35</td>\n",
              "      <td>Twitter for iPhone</td>\n",
              "    </tr>\n",
              "    <tr>\n",
              "      <th>3</th>\n",
              "      <td>1.356022e+18</td>\n",
              "      <td>1.294729e+18</td>\n",
              "      <td>Nobody</td>\n",
              "      <td>#dogecoin is sounding more and more like essen...</td>\n",
              "      <td>2021</td>\n",
              "      <td>1.0</td>\n",
              "      <td>31.0</td>\n",
              "      <td>23:28:34</td>\n",
              "      <td>Twitter for Android</td>\n",
              "    </tr>\n",
              "  </tbody>\n",
              "</table>\n",
              "</div>\n",
              "      <button class=\"colab-df-convert\" onclick=\"convertToInteractive('df-ab7b089b-b5a2-43ae-b83f-656dadd9c351')\"\n",
              "              title=\"Convert this dataframe to an interactive table.\"\n",
              "              style=\"display:none;\">\n",
              "        \n",
              "  <svg xmlns=\"http://www.w3.org/2000/svg\" height=\"24px\"viewBox=\"0 0 24 24\"\n",
              "       width=\"24px\">\n",
              "    <path d=\"M0 0h24v24H0V0z\" fill=\"none\"/>\n",
              "    <path d=\"M18.56 5.44l.94 2.06.94-2.06 2.06-.94-2.06-.94-.94-2.06-.94 2.06-2.06.94zm-11 1L8.5 8.5l.94-2.06 2.06-.94-2.06-.94L8.5 2.5l-.94 2.06-2.06.94zm10 10l.94 2.06.94-2.06 2.06-.94-2.06-.94-.94-2.06-.94 2.06-2.06.94z\"/><path d=\"M17.41 7.96l-1.37-1.37c-.4-.4-.92-.59-1.43-.59-.52 0-1.04.2-1.43.59L10.3 9.45l-7.72 7.72c-.78.78-.78 2.05 0 2.83L4 21.41c.39.39.9.59 1.41.59.51 0 1.02-.2 1.41-.59l7.78-7.78 2.81-2.81c.8-.78.8-2.07 0-2.86zM5.41 20L4 18.59l7.72-7.72 1.47 1.35L5.41 20z\"/>\n",
              "  </svg>\n",
              "      </button>\n",
              "      \n",
              "  <style>\n",
              "    .colab-df-container {\n",
              "      display:flex;\n",
              "      flex-wrap:wrap;\n",
              "      gap: 12px;\n",
              "    }\n",
              "\n",
              "    .colab-df-convert {\n",
              "      background-color: #E8F0FE;\n",
              "      border: none;\n",
              "      border-radius: 50%;\n",
              "      cursor: pointer;\n",
              "      display: none;\n",
              "      fill: #1967D2;\n",
              "      height: 32px;\n",
              "      padding: 0 0 0 0;\n",
              "      width: 32px;\n",
              "    }\n",
              "\n",
              "    .colab-df-convert:hover {\n",
              "      background-color: #E2EBFA;\n",
              "      box-shadow: 0px 1px 2px rgba(60, 64, 67, 0.3), 0px 1px 3px 1px rgba(60, 64, 67, 0.15);\n",
              "      fill: #174EA6;\n",
              "    }\n",
              "\n",
              "    [theme=dark] .colab-df-convert {\n",
              "      background-color: #3B4455;\n",
              "      fill: #D2E3FC;\n",
              "    }\n",
              "\n",
              "    [theme=dark] .colab-df-convert:hover {\n",
              "      background-color: #434B5C;\n",
              "      box-shadow: 0px 1px 3px 1px rgba(0, 0, 0, 0.15);\n",
              "      filter: drop-shadow(0px 1px 2px rgba(0, 0, 0, 0.3));\n",
              "      fill: #FFFFFF;\n",
              "    }\n",
              "  </style>\n",
              "\n",
              "      <script>\n",
              "        const buttonEl =\n",
              "          document.querySelector('#df-ab7b089b-b5a2-43ae-b83f-656dadd9c351 button.colab-df-convert');\n",
              "        buttonEl.style.display =\n",
              "          google.colab.kernel.accessAllowed ? 'block' : 'none';\n",
              "\n",
              "        async function convertToInteractive(key) {\n",
              "          const element = document.querySelector('#df-ab7b089b-b5a2-43ae-b83f-656dadd9c351');\n",
              "          const dataTable =\n",
              "            await google.colab.kernel.invokeFunction('convertToInteractive',\n",
              "                                                     [key], {});\n",
              "          if (!dataTable) return;\n",
              "\n",
              "          const docLinkHtml = 'Like what you see? Visit the ' +\n",
              "            '<a target=\"_blank\" href=https://colab.research.google.com/notebooks/data_table.ipynb>data table notebook</a>'\n",
              "            + ' to learn more about interactive tables.';\n",
              "          element.innerHTML = '';\n",
              "          dataTable['output_type'] = 'display_data';\n",
              "          await google.colab.output.renderOutput(dataTable, element);\n",
              "          const docLink = document.createElement('div');\n",
              "          docLink.innerHTML = docLinkHtml;\n",
              "          element.appendChild(docLink);\n",
              "        }\n",
              "      </script>\n",
              "    </div>\n",
              "  </div>\n",
              "  "
            ]
          },
          "metadata": {},
          "execution_count": 28
        }
      ]
    },
    {
      "cell_type": "code",
      "source": [
        "df = clean_tweet(new_df)"
      ],
      "metadata": {
        "id": "LySgbQ0p_AcG"
      },
      "execution_count": null,
      "outputs": []
    },
    {
      "cell_type": "code",
      "source": [
        "df.count() # with duplicates"
      ],
      "metadata": {
        "colab": {
          "base_uri": "https://localhost:8080/"
        },
        "id": "odrenzXw_VCJ",
        "outputId": "b1a2fc20-45d2-46cd-d1ef-cb894c69b373"
      },
      "execution_count": null,
      "outputs": [
        {
          "output_type": "execute_result",
          "data": {
            "text/plain": [
              "tweet_id          118353\n",
              "user_id           118353\n",
              "user_name         118353\n",
              "original_tweet    118353\n",
              "year              118353\n",
              "month             118353\n",
              "day               118353\n",
              "time              118353\n",
              "source            118353\n",
              "cleaned_tweet     118353\n",
              "dtype: int64"
            ]
          },
          "metadata": {},
          "execution_count": 30
        }
      ]
    },
    {
      "cell_type": "code",
      "source": [
        "cleaned_df = remove_duplicates(df)"
      ],
      "metadata": {
        "id": "GREw5oLy_GZA"
      },
      "execution_count": null,
      "outputs": []
    },
    {
      "cell_type": "code",
      "source": [
        "cleaned_df.count() # without duplicates"
      ],
      "metadata": {
        "colab": {
          "base_uri": "https://localhost:8080/"
        },
        "id": "F5B6IdrK_efh",
        "outputId": "a33b621e-6700-4afc-b620-fb70df0190a4"
      },
      "execution_count": null,
      "outputs": [
        {
          "output_type": "execute_result",
          "data": {
            "text/plain": [
              "tweet_id          89320\n",
              "user_id           89320\n",
              "user_name         89320\n",
              "original_tweet    89320\n",
              "year              89320\n",
              "month             89320\n",
              "day               89320\n",
              "time              89320\n",
              "source            89320\n",
              "cleaned_tweet     89320\n",
              "dtype: int64"
            ]
          },
          "metadata": {},
          "execution_count": 32
        }
      ]
    },
    {
      "cell_type": "code",
      "source": [
        "cleaned_df.head()"
      ],
      "metadata": {
        "colab": {
          "base_uri": "https://localhost:8080/",
          "height": 206
        },
        "id": "dBj_s2Cd4p4K",
        "outputId": "9182a875-4fc1-4470-9aee-c53fdb7593db"
      },
      "execution_count": null,
      "outputs": [
        {
          "output_type": "execute_result",
          "data": {
            "text/plain": [
              "         tweet_id       user_id user_name  \\\n",
              "238  1.356012e+18  3.134341e+09    Nobody   \n",
              "0    1.356022e+18  1.321829e+18    Nobody   \n",
              "1    1.356022e+18  1.849860e+09    Nobody   \n",
              "2    1.356022e+18  1.355761e+18    Nobody   \n",
              "3    1.356022e+18  1.294729e+18    Nobody   \n",
              "\n",
              "                                        original_tweet  year  month   day  \\\n",
              "238  You can’t stop us, you fucks #dogecoin https:/...  2021    1.0  31.0   \n",
              "0    https://t.co/EGyJXssO6l\\n\\nLet's share it to t...  2021    1.0  31.0   \n",
              "1    If you really hated socialism, you’d let every...  2021    1.0  31.0   \n",
              "2    Like and retweet,  if you believe #Dogecoin #i...  2021    1.0  31.0   \n",
              "3    #dogecoin is sounding more and more like essen...  2021    1.0  31.0   \n",
              "\n",
              "         time               source  \\\n",
              "238  22:50:54   Twitter for iPhone   \n",
              "0    23:28:43  Twitter for Android   \n",
              "1    23:28:42   Twitter for iPhone   \n",
              "2    23:28:35   Twitter for iPhone   \n",
              "3    23:28:34  Twitter for Android   \n",
              "\n",
              "                                         cleaned_tweet  \n",
              "238             you can’t stop us, you fucks #dogecoin  \n",
              "0    let's share it to the entire social network to...  \n",
              "1    if you really hated socialism, you’d let every...  \n",
              "2    like and retweet, if you believe #dogecoin #in...  \n",
              "3    #dogecoin is sounding more and more like essen...  "
            ],
            "text/html": [
              "\n",
              "  <div id=\"df-898acf5e-0ad2-449a-92fb-c9ab3de55fc3\">\n",
              "    <div class=\"colab-df-container\">\n",
              "      <div>\n",
              "<style scoped>\n",
              "    .dataframe tbody tr th:only-of-type {\n",
              "        vertical-align: middle;\n",
              "    }\n",
              "\n",
              "    .dataframe tbody tr th {\n",
              "        vertical-align: top;\n",
              "    }\n",
              "\n",
              "    .dataframe thead th {\n",
              "        text-align: right;\n",
              "    }\n",
              "</style>\n",
              "<table border=\"1\" class=\"dataframe\">\n",
              "  <thead>\n",
              "    <tr style=\"text-align: right;\">\n",
              "      <th></th>\n",
              "      <th>tweet_id</th>\n",
              "      <th>user_id</th>\n",
              "      <th>user_name</th>\n",
              "      <th>original_tweet</th>\n",
              "      <th>year</th>\n",
              "      <th>month</th>\n",
              "      <th>day</th>\n",
              "      <th>time</th>\n",
              "      <th>source</th>\n",
              "      <th>cleaned_tweet</th>\n",
              "    </tr>\n",
              "  </thead>\n",
              "  <tbody>\n",
              "    <tr>\n",
              "      <th>238</th>\n",
              "      <td>1.356012e+18</td>\n",
              "      <td>3.134341e+09</td>\n",
              "      <td>Nobody</td>\n",
              "      <td>You can’t stop us, you fucks #dogecoin https:/...</td>\n",
              "      <td>2021</td>\n",
              "      <td>1.0</td>\n",
              "      <td>31.0</td>\n",
              "      <td>22:50:54</td>\n",
              "      <td>Twitter for iPhone</td>\n",
              "      <td>you can’t stop us, you fucks #dogecoin</td>\n",
              "    </tr>\n",
              "    <tr>\n",
              "      <th>0</th>\n",
              "      <td>1.356022e+18</td>\n",
              "      <td>1.321829e+18</td>\n",
              "      <td>Nobody</td>\n",
              "      <td>https://t.co/EGyJXssO6l\\n\\nLet's share it to t...</td>\n",
              "      <td>2021</td>\n",
              "      <td>1.0</td>\n",
              "      <td>31.0</td>\n",
              "      <td>23:28:43</td>\n",
              "      <td>Twitter for Android</td>\n",
              "      <td>let's share it to the entire social network to...</td>\n",
              "    </tr>\n",
              "    <tr>\n",
              "      <th>1</th>\n",
              "      <td>1.356022e+18</td>\n",
              "      <td>1.849860e+09</td>\n",
              "      <td>Nobody</td>\n",
              "      <td>If you really hated socialism, you’d let every...</td>\n",
              "      <td>2021</td>\n",
              "      <td>1.0</td>\n",
              "      <td>31.0</td>\n",
              "      <td>23:28:42</td>\n",
              "      <td>Twitter for iPhone</td>\n",
              "      <td>if you really hated socialism, you’d let every...</td>\n",
              "    </tr>\n",
              "    <tr>\n",
              "      <th>2</th>\n",
              "      <td>1.356022e+18</td>\n",
              "      <td>1.355761e+18</td>\n",
              "      <td>Nobody</td>\n",
              "      <td>Like and retweet,  if you believe #Dogecoin #i...</td>\n",
              "      <td>2021</td>\n",
              "      <td>1.0</td>\n",
              "      <td>31.0</td>\n",
              "      <td>23:28:35</td>\n",
              "      <td>Twitter for iPhone</td>\n",
              "      <td>like and retweet, if you believe #dogecoin #in...</td>\n",
              "    </tr>\n",
              "    <tr>\n",
              "      <th>3</th>\n",
              "      <td>1.356022e+18</td>\n",
              "      <td>1.294729e+18</td>\n",
              "      <td>Nobody</td>\n",
              "      <td>#dogecoin is sounding more and more like essen...</td>\n",
              "      <td>2021</td>\n",
              "      <td>1.0</td>\n",
              "      <td>31.0</td>\n",
              "      <td>23:28:34</td>\n",
              "      <td>Twitter for Android</td>\n",
              "      <td>#dogecoin is sounding more and more like essen...</td>\n",
              "    </tr>\n",
              "  </tbody>\n",
              "</table>\n",
              "</div>\n",
              "      <button class=\"colab-df-convert\" onclick=\"convertToInteractive('df-898acf5e-0ad2-449a-92fb-c9ab3de55fc3')\"\n",
              "              title=\"Convert this dataframe to an interactive table.\"\n",
              "              style=\"display:none;\">\n",
              "        \n",
              "  <svg xmlns=\"http://www.w3.org/2000/svg\" height=\"24px\"viewBox=\"0 0 24 24\"\n",
              "       width=\"24px\">\n",
              "    <path d=\"M0 0h24v24H0V0z\" fill=\"none\"/>\n",
              "    <path d=\"M18.56 5.44l.94 2.06.94-2.06 2.06-.94-2.06-.94-.94-2.06-.94 2.06-2.06.94zm-11 1L8.5 8.5l.94-2.06 2.06-.94-2.06-.94L8.5 2.5l-.94 2.06-2.06.94zm10 10l.94 2.06.94-2.06 2.06-.94-2.06-.94-.94-2.06-.94 2.06-2.06.94z\"/><path d=\"M17.41 7.96l-1.37-1.37c-.4-.4-.92-.59-1.43-.59-.52 0-1.04.2-1.43.59L10.3 9.45l-7.72 7.72c-.78.78-.78 2.05 0 2.83L4 21.41c.39.39.9.59 1.41.59.51 0 1.02-.2 1.41-.59l7.78-7.78 2.81-2.81c.8-.78.8-2.07 0-2.86zM5.41 20L4 18.59l7.72-7.72 1.47 1.35L5.41 20z\"/>\n",
              "  </svg>\n",
              "      </button>\n",
              "      \n",
              "  <style>\n",
              "    .colab-df-container {\n",
              "      display:flex;\n",
              "      flex-wrap:wrap;\n",
              "      gap: 12px;\n",
              "    }\n",
              "\n",
              "    .colab-df-convert {\n",
              "      background-color: #E8F0FE;\n",
              "      border: none;\n",
              "      border-radius: 50%;\n",
              "      cursor: pointer;\n",
              "      display: none;\n",
              "      fill: #1967D2;\n",
              "      height: 32px;\n",
              "      padding: 0 0 0 0;\n",
              "      width: 32px;\n",
              "    }\n",
              "\n",
              "    .colab-df-convert:hover {\n",
              "      background-color: #E2EBFA;\n",
              "      box-shadow: 0px 1px 2px rgba(60, 64, 67, 0.3), 0px 1px 3px 1px rgba(60, 64, 67, 0.15);\n",
              "      fill: #174EA6;\n",
              "    }\n",
              "\n",
              "    [theme=dark] .colab-df-convert {\n",
              "      background-color: #3B4455;\n",
              "      fill: #D2E3FC;\n",
              "    }\n",
              "\n",
              "    [theme=dark] .colab-df-convert:hover {\n",
              "      background-color: #434B5C;\n",
              "      box-shadow: 0px 1px 3px 1px rgba(0, 0, 0, 0.15);\n",
              "      filter: drop-shadow(0px 1px 2px rgba(0, 0, 0, 0.3));\n",
              "      fill: #FFFFFF;\n",
              "    }\n",
              "  </style>\n",
              "\n",
              "      <script>\n",
              "        const buttonEl =\n",
              "          document.querySelector('#df-898acf5e-0ad2-449a-92fb-c9ab3de55fc3 button.colab-df-convert');\n",
              "        buttonEl.style.display =\n",
              "          google.colab.kernel.accessAllowed ? 'block' : 'none';\n",
              "\n",
              "        async function convertToInteractive(key) {\n",
              "          const element = document.querySelector('#df-898acf5e-0ad2-449a-92fb-c9ab3de55fc3');\n",
              "          const dataTable =\n",
              "            await google.colab.kernel.invokeFunction('convertToInteractive',\n",
              "                                                     [key], {});\n",
              "          if (!dataTable) return;\n",
              "\n",
              "          const docLinkHtml = 'Like what you see? Visit the ' +\n",
              "            '<a target=\"_blank\" href=https://colab.research.google.com/notebooks/data_table.ipynb>data table notebook</a>'\n",
              "            + ' to learn more about interactive tables.';\n",
              "          element.innerHTML = '';\n",
              "          dataTable['output_type'] = 'display_data';\n",
              "          await google.colab.output.renderOutput(dataTable, element);\n",
              "          const docLink = document.createElement('div');\n",
              "          docLink.innerHTML = docLinkHtml;\n",
              "          element.appendChild(docLink);\n",
              "        }\n",
              "      </script>\n",
              "    </div>\n",
              "  </div>\n",
              "  "
            ]
          },
          "metadata": {},
          "execution_count": 33
        }
      ]
    },
    {
      "cell_type": "code",
      "source": [
        "cleaned_df.to_csv(\"doge_coin_cleaned_dataset_2021.csv\", index=False, encoding='utf-8-sig')\n",
        "# cleaned_df.to_csv(\"doge_coin_cleaned_dataset.csv\", index=False)"
      ],
      "metadata": {
        "id": "mtyg2zAW-VmQ"
      },
      "execution_count": null,
      "outputs": []
    },
    {
      "cell_type": "code",
      "source": [
        "x = df.year.unique()\n",
        "y = [df[df.year==year].count().tweet_id for year in x]\n",
        "y"
      ],
      "metadata": {
        "colab": {
          "base_uri": "https://localhost:8080/"
        },
        "id": "OKPGZv-AFBOC",
        "outputId": "ee2a5a3a-88bb-42f4-bcfc-b6972ee38521"
      },
      "execution_count": null,
      "outputs": [
        {
          "output_type": "execute_result",
          "data": {
            "text/plain": [
              "[546]"
            ]
          },
          "metadata": {},
          "execution_count": 32
        }
      ]
    },
    {
      "cell_type": "code",
      "source": [
        "draw_tweet_barPlot(x, y, \"All raw tweets: Doge_coin\")"
      ],
      "metadata": {
        "colab": {
          "base_uri": "https://localhost:8080/",
          "height": 429
        },
        "id": "zmaYxdGLFMZE",
        "outputId": "05e12e88-4a07-40ac-e88e-cf075a24a11b"
      },
      "execution_count": null,
      "outputs": [
        {
          "output_type": "display_data",
          "data": {
            "text/plain": [
              "<Figure size 432x288 with 0 Axes>"
            ]
          },
          "metadata": {}
        },
        {
          "output_type": "display_data",
          "data": {
            "text/plain": [
              "<Figure size 576x432 with 1 Axes>"
            ],
            "image/png": "[encoded data removed]"
          },
          "metadata": {
            "needs_background": "light"
          }
        }
      ]
    },
    {
      "cell_type": "code",
      "source": [
        "cleaned_df = pd.read_csv(\"/content/doge_coin_cleaned_dataset.csv\", encoding=\"utf-8\")"
      ],
      "metadata": {
        "id": "OthPbHwqjbkr"
      },
      "execution_count": null,
      "outputs": []
    },
    {
      "cell_type": "code",
      "source": [
        "x1 = cleaned_df.year.unique()\n",
        "y1 = [cleaned_df[cleaned_df.year==year].count().tweet_id for year in x1]\n",
        "y1"
      ],
      "metadata": {
        "colab": {
          "base_uri": "https://localhost:8080/"
        },
        "id": "hPo8oOfSC1hF",
        "outputId": "5cdf70d7-760b-4052-dcf6-0d5a64034e4e"
      },
      "execution_count": null,
      "outputs": [
        {
          "output_type": "execute_result",
          "data": {
            "text/plain": [
              "[14304, 21813, 16082, 15707]"
            ]
          },
          "metadata": {},
          "execution_count": 103
        }
      ]
    },
    {
      "cell_type": "code",
      "source": [
        "x1"
      ],
      "metadata": {
        "colab": {
          "base_uri": "https://localhost:8080/"
        },
        "id": "oj0hbpJJkXrW",
        "outputId": "18702e92-94b2-4727-faec-8a7bd252d7f4"
      },
      "execution_count": null,
      "outputs": [
        {
          "output_type": "execute_result",
          "data": {
            "text/plain": [
              "array([2018, 2019, 2020, 2021])"
            ]
          },
          "metadata": {},
          "execution_count": 104
        }
      ]
    },
    {
      "cell_type": "code",
      "source": [
        "draw_tweet_barPlot(x1, y1, \"All cleaned tweets: Doge_coin\")"
      ],
      "metadata": {
        "colab": {
          "base_uri": "https://localhost:8080/",
          "height": 428
        },
        "id": "hqWtMmHmDhld",
        "outputId": "e4fb7be3-ed7e-48a7-975a-064e72f04b7f"
      },
      "execution_count": null,
      "outputs": [
        {
          "output_type": "display_data",
          "data": {
            "text/plain": [
              "<Figure size 432x288 with 0 Axes>"
            ]
          },
          "metadata": {}
        },
        {
          "output_type": "display_data",
          "data": {
            "text/plain": [
              "<Figure size 576x432 with 1 Axes>"
            ],
            "image/png": "[encoded data removed]"
          },
          "metadata": {
            "needs_background": "light"
          }
        }
      ]
    },
    {
      "cell_type": "code",
      "source": [
        "tweet_2021_df = cleaned_df[cleaned_df.year == 2021]"
      ],
      "metadata": {
        "id": "jhB0Vx47ka43"
      },
      "execution_count": null,
      "outputs": []
    },
    {
      "cell_type": "code",
      "source": [
        "tweet_2021_df.to_csv(\"doge_tweet_2021.csv\",  index=False, encoding='utf-8-sig')"
      ],
      "metadata": {
        "id": "1zp6Wv5DkmE4"
      },
      "execution_count": null,
      "outputs": []
    },
    {
      "cell_type": "code",
      "source": [
        "cleaned_df_2020 = cleaned_df[cleaned_df.year == 2021]\n",
        "cleaned_df_2020_month = list(cleaned_df_2020.month)\n",
        "set(cleaned_df_2020_month)"
      ],
      "metadata": {
        "colab": {
          "base_uri": "https://localhost:8080/"
        },
        "id": "UXkqqsmNmlVA",
        "outputId": "5f0ed32f-ef0d-4632-9ece-cf1ccac5e149"
      },
      "execution_count": null,
      "outputs": [
        {
          "output_type": "execute_result",
          "data": {
            "text/plain": [
              "{12.0}"
            ]
          },
          "metadata": {},
          "execution_count": 120
        }
      ]
    },
    {
      "cell_type": "markdown",
      "source": [
        "#### Elon Musk tweet Analysis"
      ],
      "metadata": {
        "id": "AlyuGTkL_7OE"
      }
    },
    {
      "cell_type": "code",
      "source": [
        "# # read all data files of elon musk tweets \n",
        "elon_musk_df = read_all_files()"
      ],
      "metadata": {
        "id": "macrjcxmG15L"
      },
      "execution_count": null,
      "outputs": []
    },
    {
      "cell_type": "code",
      "source": [
        "elon_musk_df.to_csv(\"elonmusk_raw_dataset.csv\", index=False, encoding='utf-8-sig')"
      ],
      "metadata": {
        "id": "5FZ2YdtWOLgH"
      },
      "execution_count": null,
      "outputs": []
    },
    {
      "cell_type": "code",
      "source": [
        "# infile = \"/content/elonmusk_raw_dataset.csv\"\n",
        "# elon_musk_df = pd.read_csv(infile, encoding = \"utf-8\")\n",
        "# elon_musk_df.head(10)"
      ],
      "metadata": {
        "id": "jv1P4UxhRE2g"
      },
      "execution_count": null,
      "outputs": []
    },
    {
      "cell_type": "code",
      "source": [
        "elon_musk_df.count()"
      ],
      "metadata": {
        "colab": {
          "base_uri": "https://localhost:8080/"
        },
        "id": "KdaOZu2268_i",
        "outputId": "7e42330c-2cfe-42e2-e1f1-6211b8b2b2c6"
      },
      "execution_count": null,
      "outputs": [
        {
          "output_type": "execute_result",
          "data": {
            "text/plain": [
              "Unnamed: 0        12436\n",
              "tweet_id          12436\n",
              "user_id           12436\n",
              "user_name         12436\n",
              "original_tweet    12436\n",
              "year              12436\n",
              "month             12436\n",
              "day               12436\n",
              "time              12436\n",
              "source            12436\n",
              "dtype: int64"
            ]
          },
          "metadata": {},
          "execution_count": 19
        }
      ]
    },
    {
      "cell_type": "code",
      "source": [
        "elon_musk_clean_df = clean_tweet(elon_musk_df)"
      ],
      "metadata": {
        "id": "7P8FDZAKw8Js"
      },
      "execution_count": null,
      "outputs": []
    },
    {
      "cell_type": "code",
      "source": [
        "elon_musk_clean_df.head()"
      ],
      "metadata": {
        "colab": {
          "base_uri": "https://localhost:8080/",
          "height": 206
        },
        "id": "Ks207gt5xu65",
        "outputId": "0bb5cfe0-f1c5-47b0-b296-1fdbb6fc9180"
      },
      "execution_count": null,
      "outputs": [
        {
          "output_type": "execute_result",
          "data": {
            "text/plain": [
              "   Unnamed: 0             tweet_id   user_id user_name  \\\n",
              "0           0  1257401142813868032  44196397    Nobody   \n",
              "1           1  1257400536179097601  44196397    Nobody   \n",
              "2           2  1257398285716856834  44196397    Nobody   \n",
              "3           3  1257207162222215169  44196397    Nobody   \n",
              "4           4  1257204578669363200  44196397    Nobody   \n",
              "\n",
              "                                      original_tweet  year  month  day  \\\n",
              "0                  @Gaelic_Neilson A few hours away!  2020      5    4   \n",
              "1  @cleantechnica Anyway, we’re just talking abou...  2020      5    4   \n",
              "2  @cleantechnica Weird that EPA would deny this....  2020      5    4   \n",
              "3  @Erdayastronaut @SciGuySpace I hope anything l...  2020      5    4   \n",
              "4  @NASASpaceflight @TesLatino @Erdayastronaut It...  2020      5    4   \n",
              "\n",
              "       time              source  \\\n",
              "0  20:06:08  Twitter for iPhone   \n",
              "1  20:03:43  Twitter for iPhone   \n",
              "2  19:54:47  Twitter for iPhone   \n",
              "3  07:15:19  Twitter for iPhone   \n",
              "4  07:05:03  Twitter for iPhone   \n",
              "\n",
              "                                       cleaned_tweet  \n",
              "0                                  a few hours away!  \n",
              "1  anyway, we’re just talking about 2% here, so n...  \n",
              "2  weird that epa would deny this. we have precis...  \n",
              "3                              i hope anything lands  \n",
              "4                        it seems unlikely right now  "
            ],
            "text/html": [
              "\n",
              "  <div id=\"df-bf1af057-48a4-4d93-a268-344070b35775\">\n",
              "    <div class=\"colab-df-container\">\n",
              "      <div>\n",
              "<style scoped>\n",
              "    .dataframe tbody tr th:only-of-type {\n",
              "        vertical-align: middle;\n",
              "    }\n",
              "\n",
              "    .dataframe tbody tr th {\n",
              "        vertical-align: top;\n",
              "    }\n",
              "\n",
              "    .dataframe thead th {\n",
              "        text-align: right;\n",
              "    }\n",
              "</style>\n",
              "<table border=\"1\" class=\"dataframe\">\n",
              "  <thead>\n",
              "    <tr style=\"text-align: right;\">\n",
              "      <th></th>\n",
              "      <th>Unnamed: 0</th>\n",
              "      <th>tweet_id</th>\n",
              "      <th>user_id</th>\n",
              "      <th>user_name</th>\n",
              "      <th>original_tweet</th>\n",
              "      <th>year</th>\n",
              "      <th>month</th>\n",
              "      <th>day</th>\n",
              "      <th>time</th>\n",
              "      <th>source</th>\n",
              "      <th>cleaned_tweet</th>\n",
              "    </tr>\n",
              "  </thead>\n",
              "  <tbody>\n",
              "    <tr>\n",
              "      <th>0</th>\n",
              "      <td>0</td>\n",
              "      <td>1257401142813868032</td>\n",
              "      <td>44196397</td>\n",
              "      <td>Nobody</td>\n",
              "      <td>@Gaelic_Neilson A few hours away!</td>\n",
              "      <td>2020</td>\n",
              "      <td>5</td>\n",
              "      <td>4</td>\n",
              "      <td>20:06:08</td>\n",
              "      <td>Twitter for iPhone</td>\n",
              "      <td>a few hours away!</td>\n",
              "    </tr>\n",
              "    <tr>\n",
              "      <th>1</th>\n",
              "      <td>1</td>\n",
              "      <td>1257400536179097601</td>\n",
              "      <td>44196397</td>\n",
              "      <td>Nobody</td>\n",
              "      <td>@cleantechnica Anyway, we’re just talking abou...</td>\n",
              "      <td>2020</td>\n",
              "      <td>5</td>\n",
              "      <td>4</td>\n",
              "      <td>20:03:43</td>\n",
              "      <td>Twitter for iPhone</td>\n",
              "      <td>anyway, we’re just talking about 2% here, so n...</td>\n",
              "    </tr>\n",
              "    <tr>\n",
              "      <th>2</th>\n",
              "      <td>2</td>\n",
              "      <td>1257398285716856834</td>\n",
              "      <td>44196397</td>\n",
              "      <td>Nobody</td>\n",
              "      <td>@cleantechnica Weird that EPA would deny this....</td>\n",
              "      <td>2020</td>\n",
              "      <td>5</td>\n",
              "      <td>4</td>\n",
              "      <td>19:54:47</td>\n",
              "      <td>Twitter for iPhone</td>\n",
              "      <td>weird that epa would deny this. we have precis...</td>\n",
              "    </tr>\n",
              "    <tr>\n",
              "      <th>3</th>\n",
              "      <td>3</td>\n",
              "      <td>1257207162222215169</td>\n",
              "      <td>44196397</td>\n",
              "      <td>Nobody</td>\n",
              "      <td>@Erdayastronaut @SciGuySpace I hope anything l...</td>\n",
              "      <td>2020</td>\n",
              "      <td>5</td>\n",
              "      <td>4</td>\n",
              "      <td>07:15:19</td>\n",
              "      <td>Twitter for iPhone</td>\n",
              "      <td>i hope anything lands</td>\n",
              "    </tr>\n",
              "    <tr>\n",
              "      <th>4</th>\n",
              "      <td>4</td>\n",
              "      <td>1257204578669363200</td>\n",
              "      <td>44196397</td>\n",
              "      <td>Nobody</td>\n",
              "      <td>@NASASpaceflight @TesLatino @Erdayastronaut It...</td>\n",
              "      <td>2020</td>\n",
              "      <td>5</td>\n",
              "      <td>4</td>\n",
              "      <td>07:05:03</td>\n",
              "      <td>Twitter for iPhone</td>\n",
              "      <td>it seems unlikely right now</td>\n",
              "    </tr>\n",
              "  </tbody>\n",
              "</table>\n",
              "</div>\n",
              "      <button class=\"colab-df-convert\" onclick=\"convertToInteractive('df-bf1af057-48a4-4d93-a268-344070b35775')\"\n",
              "              title=\"Convert this dataframe to an interactive table.\"\n",
              "              style=\"display:none;\">\n",
              "        \n",
              "  <svg xmlns=\"http://www.w3.org/2000/svg\" height=\"24px\"viewBox=\"0 0 24 24\"\n",
              "       width=\"24px\">\n",
              "    <path d=\"M0 0h24v24H0V0z\" fill=\"none\"/>\n",
              "    <path d=\"M18.56 5.44l.94 2.06.94-2.06 2.06-.94-2.06-.94-.94-2.06-.94 2.06-2.06.94zm-11 1L8.5 8.5l.94-2.06 2.06-.94-2.06-.94L8.5 2.5l-.94 2.06-2.06.94zm10 10l.94 2.06.94-2.06 2.06-.94-2.06-.94-.94-2.06-.94 2.06-2.06.94z\"/><path d=\"M17.41 7.96l-1.37-1.37c-.4-.4-.92-.59-1.43-.59-.52 0-1.04.2-1.43.59L10.3 9.45l-7.72 7.72c-.78.78-.78 2.05 0 2.83L4 21.41c.39.39.9.59 1.41.59.51 0 1.02-.2 1.41-.59l7.78-7.78 2.81-2.81c.8-.78.8-2.07 0-2.86zM5.41 20L4 18.59l7.72-7.72 1.47 1.35L5.41 20z\"/>\n",
              "  </svg>\n",
              "      </button>\n",
              "      \n",
              "  <style>\n",
              "    .colab-df-container {\n",
              "      display:flex;\n",
              "      flex-wrap:wrap;\n",
              "      gap: 12px;\n",
              "    }\n",
              "\n",
              "    .colab-df-convert {\n",
              "      background-color: #E8F0FE;\n",
              "      border: none;\n",
              "      border-radius: 50%;\n",
              "      cursor: pointer;\n",
              "      display: none;\n",
              "      fill: #1967D2;\n",
              "      height: 32px;\n",
              "      padding: 0 0 0 0;\n",
              "      width: 32px;\n",
              "    }\n",
              "\n",
              "    .colab-df-convert:hover {\n",
              "      background-color: #E2EBFA;\n",
              "      box-shadow: 0px 1px 2px rgba(60, 64, 67, 0.3), 0px 1px 3px 1px rgba(60, 64, 67, 0.15);\n",
              "      fill: #174EA6;\n",
              "    }\n",
              "\n",
              "    [theme=dark] .colab-df-convert {\n",
              "      background-color: #3B4455;\n",
              "      fill: #D2E3FC;\n",
              "    }\n",
              "\n",
              "    [theme=dark] .colab-df-convert:hover {\n",
              "      background-color: #434B5C;\n",
              "      box-shadow: 0px 1px 3px 1px rgba(0, 0, 0, 0.15);\n",
              "      filter: drop-shadow(0px 1px 2px rgba(0, 0, 0, 0.3));\n",
              "      fill: #FFFFFF;\n",
              "    }\n",
              "  </style>\n",
              "\n",
              "      <script>\n",
              "        const buttonEl =\n",
              "          document.querySelector('#df-bf1af057-48a4-4d93-a268-344070b35775 button.colab-df-convert');\n",
              "        buttonEl.style.display =\n",
              "          google.colab.kernel.accessAllowed ? 'block' : 'none';\n",
              "\n",
              "        async function convertToInteractive(key) {\n",
              "          const element = document.querySelector('#df-bf1af057-48a4-4d93-a268-344070b35775');\n",
              "          const dataTable =\n",
              "            await google.colab.kernel.invokeFunction('convertToInteractive',\n",
              "                                                     [key], {});\n",
              "          if (!dataTable) return;\n",
              "\n",
              "          const docLinkHtml = 'Like what you see? Visit the ' +\n",
              "            '<a target=\"_blank\" href=https://colab.research.google.com/notebooks/data_table.ipynb>data table notebook</a>'\n",
              "            + ' to learn more about interactive tables.';\n",
              "          element.innerHTML = '';\n",
              "          dataTable['output_type'] = 'display_data';\n",
              "          await google.colab.output.renderOutput(dataTable, element);\n",
              "          const docLink = document.createElement('div');\n",
              "          docLink.innerHTML = docLinkHtml;\n",
              "          element.appendChild(docLink);\n",
              "        }\n",
              "      </script>\n",
              "    </div>\n",
              "  </div>\n",
              "  "
            ]
          },
          "metadata": {},
          "execution_count": 21
        }
      ]
    },
    {
      "cell_type": "code",
      "source": [
        "elon_musk_clean_df.count() # with duplicates"
      ],
      "metadata": {
        "colab": {
          "base_uri": "https://localhost:8080/"
        },
        "id": "xLY7nShK25O9",
        "outputId": "2b5830d8-4fff-42c7-dad8-d0adee9290a3"
      },
      "execution_count": null,
      "outputs": [
        {
          "output_type": "execute_result",
          "data": {
            "text/plain": [
              "Unnamed: 0        12436\n",
              "tweet_id          12436\n",
              "user_id           12436\n",
              "user_name         12436\n",
              "original_tweet    12436\n",
              "year              12436\n",
              "month             12436\n",
              "day               12436\n",
              "time              12436\n",
              "source            12436\n",
              "cleaned_tweet     12436\n",
              "dtype: int64"
            ]
          },
          "metadata": {},
          "execution_count": 22
        }
      ]
    },
    {
      "cell_type": "code",
      "source": [
        "elon_musk_clean_df_1 = remove_duplicates(elon_musk_clean_df)"
      ],
      "metadata": {
        "id": "iUmn8qVO0nj_"
      },
      "execution_count": null,
      "outputs": []
    },
    {
      "cell_type": "code",
      "source": [
        "elon_musk_clean_df_1.count() # without duplicates"
      ],
      "metadata": {
        "colab": {
          "base_uri": "https://localhost:8080/"
        },
        "id": "Fc3tEa9q3Hfe",
        "outputId": "55e5b241-ba0e-43a9-885a-171b68496225"
      },
      "execution_count": null,
      "outputs": [
        {
          "output_type": "execute_result",
          "data": {
            "text/plain": [
              "Unnamed: 0        11346\n",
              "tweet_id          11346\n",
              "user_id           11346\n",
              "user_name         11346\n",
              "original_tweet    11346\n",
              "year              11346\n",
              "month             11346\n",
              "day               11346\n",
              "time              11346\n",
              "source            11346\n",
              "cleaned_tweet     11346\n",
              "dtype: int64"
            ]
          },
          "metadata": {},
          "execution_count": 24
        }
      ]
    },
    {
      "cell_type": "code",
      "source": [
        "elon_musk_clean_df_1.to_csv(\"elonmusk_cleaned_dataset.csv\", index=False, encoding='utf-8-sig')"
      ],
      "metadata": {
        "id": "R3ICXzLI-g3X"
      },
      "execution_count": null,
      "outputs": []
    },
    {
      "cell_type": "code",
      "source": [
        "x2 = elon_musk_clean_df.year.unique()\n",
        "y2 = [elon_musk_clean_df[elon_musk_clean_df.year==year].count().tweet_id for year in x2]\n",
        "y2"
      ],
      "metadata": {
        "colab": {
          "base_uri": "https://localhost:8080/"
        },
        "id": "T9ZiQsfhRjPZ",
        "outputId": "140325b3-6309-4e25-f852-7425cce75b5e"
      },
      "execution_count": null,
      "outputs": [
        {
          "output_type": "execute_result",
          "data": {
            "text/plain": [
              "[2923, 2590, 2566, 1223, 2046, 1088]"
            ]
          },
          "metadata": {},
          "execution_count": 26
        }
      ]
    },
    {
      "cell_type": "code",
      "source": [
        "draw_tweet_barPlot(x2, y2, \"All raw tweets: Elon Musk\")"
      ],
      "metadata": {
        "colab": {
          "base_uri": "https://localhost:8080/",
          "height": 428
        },
        "id": "xbYxDX2v9Ovg",
        "outputId": "d42be15c-0e3f-42ee-e7be-ce441c751950"
      },
      "execution_count": null,
      "outputs": [
        {
          "output_type": "display_data",
          "data": {
            "text/plain": [
              "<Figure size 432x288 with 0 Axes>"
            ]
          },
          "metadata": {}
        },
        {
          "output_type": "display_data",
          "data": {
            "text/plain": [
              "<Figure size 576x432 with 1 Axes>"
            ],
            "image/png": "[encoded data removed]"
          },
          "metadata": {
            "needs_background": "light"
          }
        }
      ]
    },
    {
      "cell_type": "code",
      "source": [
        "x3 = elon_musk_clean_df_1.year.unique()\n",
        "y3 = [elon_musk_clean_df_1[elon_musk_clean_df_1.year==year].count().tweet_id for year in x3]\n",
        "y3"
      ],
      "metadata": {
        "colab": {
          "base_uri": "https://localhost:8080/"
        },
        "id": "adchFAns58LL",
        "outputId": "10c239a8-2526-44ef-b8f9-c0b68fb28cf3"
      },
      "execution_count": null,
      "outputs": [
        {
          "output_type": "execute_result",
          "data": {
            "text/plain": [
              "[2669, 2340, 2319, 1086, 1909, 1023]"
            ]
          },
          "metadata": {},
          "execution_count": 28
        }
      ]
    },
    {
      "cell_type": "code",
      "source": [
        "draw_tweet_barPlot(x3, y3, \"All cleaned tweets: Elon Musk\")"
      ],
      "metadata": {
        "colab": {
          "base_uri": "https://localhost:8080/",
          "height": 428
        },
        "id": "iRnd_aa-90eO",
        "outputId": "c3464441-41d9-4b8f-a43a-96fe37f79ede"
      },
      "execution_count": null,
      "outputs": [
        {
          "output_type": "display_data",
          "data": {
            "text/plain": [
              "<Figure size 432x288 with 0 Axes>"
            ]
          },
          "metadata": {}
        },
        {
          "output_type": "display_data",
          "data": {
            "text/plain": [
              "<Figure size 576x432 with 1 Axes>"
            ],
            "image/png": "[encoded data removed]"
          },
          "metadata": {
            "needs_background": "light"
          }
        }
      ]
    },
    {
      "cell_type": "code",
      "source": [
        "elon_musk_clean_df_1 = pd.read_csv(\"/content/elonmusk_cleaned_dataset.csv\", encoding='utf-8-sig')"
      ],
      "metadata": {
        "id": "JO6ACHV1xwM5"
      },
      "execution_count": null,
      "outputs": []
    },
    {
      "cell_type": "code",
      "source": [
        "elon_musk_doge_tweet = filter_with_coin(elon_musk_clean_df_1, \"doge\")"
      ],
      "metadata": {
        "id": "luPD_MB_98nx"
      },
      "execution_count": null,
      "outputs": []
    },
    {
      "cell_type": "code",
      "source": [
        "elon_musk_doge_tweet.head(10)"
      ],
      "metadata": {
        "colab": {
          "base_uri": "https://localhost:8080/",
          "height": 363
        },
        "id": "a3F4RpD-zWeZ",
        "outputId": "926d7391-fc2c-4194-e7c2-895f1bbad073"
      },
      "execution_count": null,
      "outputs": [
        {
          "output_type": "execute_result",
          "data": {
            "text/plain": [
              "              tweet_id                                     original_tweet  \\\n",
              "0  1254039929333649409       @28delayslater @justpaulinelol Dogecoin Mode   \n",
              "1  1284290215561986048            @izzynobre Excuse me, I only sell Doge!   \n",
              "2  1340590280848908288                                     One word: Doge   \n",
              "3  1416441034469527556  @AshleyIllusion1 @lexfridman Lil X is hodling ...   \n",
              "4  1414774945335361548  @CGDaveMac Maybe if it sees a Shiba Inu, the c...   \n",
              "5  1413396249546563586  @MattWallace888 BTC &amp; ETH are pursuing a m...   \n",
              "6  1410797794630070278  @RenataKonkoly @thesheetztweetz @rookisaacman ...   \n",
              "7  1410529698497630212  Baby Doge, doo, doo, doo, doo, doo,\\nBaby Doge...   \n",
              "8  1410519466518233089          Release the Doge! https://t.co/9bXCWQLIhu   \n",
              "9  1454876031232380928  Tuition is in Dogecoin &amp; u get a discount ...   \n",
              "\n",
              "                                      cleaned_tweeet  year  month  day  \\\n",
              "0                                      dogecoin mode  2020      4   25   \n",
              "1                       excuse me, i only sell doge!  2020      7   18   \n",
              "2                                     one word: doge  2020     12   20   \n",
              "3  lil x is hodling his doge like a champ. litera...  2021      7   17   \n",
              "4  maybe if it sees a shiba inu, the car renders ...  2021      7   13   \n",
              "5  btc &amp; eth are pursuing a multilayer transa...  2021      7    9   \n",
              "6                             but can i pay in doge?  2021      7    2   \n",
              "7  baby doge, doo, doo, doo, doo, doo, baby doge,...  2021      7    1   \n",
              "8                                  release the doge!  2021      7    1   \n",
              "9  tuition is in dogecoin &amp; u get a discount ...  2021     10   31   \n",
              "\n",
              "       time  \n",
              "0  13:29:52  \n",
              "1  00:53:43  \n",
              "2  09:30:04  \n",
              "3  16:53:53  \n",
              "4  02:33:26  \n",
              "5  07:15:00  \n",
              "6  03:09:40  \n",
              "7  09:24:21  \n",
              "8  08:43:41  \n",
              "9  18:20:50  "
            ],
            "text/html": [
              "\n",
              "  <div id=\"df-4113b3b0-3182-4b29-b25d-75da3eb32723\">\n",
              "    <div class=\"colab-df-container\">\n",
              "      <div>\n",
              "<style scoped>\n",
              "    .dataframe tbody tr th:only-of-type {\n",
              "        vertical-align: middle;\n",
              "    }\n",
              "\n",
              "    .dataframe tbody tr th {\n",
              "        vertical-align: top;\n",
              "    }\n",
              "\n",
              "    .dataframe thead th {\n",
              "        text-align: right;\n",
              "    }\n",
              "</style>\n",
              "<table border=\"1\" class=\"dataframe\">\n",
              "  <thead>\n",
              "    <tr style=\"text-align: right;\">\n",
              "      <th></th>\n",
              "      <th>tweet_id</th>\n",
              "      <th>original_tweet</th>\n",
              "      <th>cleaned_tweeet</th>\n",
              "      <th>year</th>\n",
              "      <th>month</th>\n",
              "      <th>day</th>\n",
              "      <th>time</th>\n",
              "    </tr>\n",
              "  </thead>\n",
              "  <tbody>\n",
              "    <tr>\n",
              "      <th>0</th>\n",
              "      <td>1254039929333649409</td>\n",
              "      <td>@28delayslater @justpaulinelol Dogecoin Mode</td>\n",
              "      <td>dogecoin mode</td>\n",
              "      <td>2020</td>\n",
              "      <td>4</td>\n",
              "      <td>25</td>\n",
              "      <td>13:29:52</td>\n",
              "    </tr>\n",
              "    <tr>\n",
              "      <th>1</th>\n",
              "      <td>1284290215561986048</td>\n",
              "      <td>@izzynobre Excuse me, I only sell Doge!</td>\n",
              "      <td>excuse me, i only sell doge!</td>\n",
              "      <td>2020</td>\n",
              "      <td>7</td>\n",
              "      <td>18</td>\n",
              "      <td>00:53:43</td>\n",
              "    </tr>\n",
              "    <tr>\n",
              "      <th>2</th>\n",
              "      <td>1340590280848908288</td>\n",
              "      <td>One word: Doge</td>\n",
              "      <td>one word: doge</td>\n",
              "      <td>2020</td>\n",
              "      <td>12</td>\n",
              "      <td>20</td>\n",
              "      <td>09:30:04</td>\n",
              "    </tr>\n",
              "    <tr>\n",
              "      <th>3</th>\n",
              "      <td>1416441034469527556</td>\n",
              "      <td>@AshleyIllusion1 @lexfridman Lil X is hodling ...</td>\n",
              "      <td>lil x is hodling his doge like a champ. litera...</td>\n",
              "      <td>2021</td>\n",
              "      <td>7</td>\n",
              "      <td>17</td>\n",
              "      <td>16:53:53</td>\n",
              "    </tr>\n",
              "    <tr>\n",
              "      <th>4</th>\n",
              "      <td>1414774945335361548</td>\n",
              "      <td>@CGDaveMac Maybe if it sees a Shiba Inu, the c...</td>\n",
              "      <td>maybe if it sees a shiba inu, the car renders ...</td>\n",
              "      <td>2021</td>\n",
              "      <td>7</td>\n",
              "      <td>13</td>\n",
              "      <td>02:33:26</td>\n",
              "    </tr>\n",
              "    <tr>\n",
              "      <th>5</th>\n",
              "      <td>1413396249546563586</td>\n",
              "      <td>@MattWallace888 BTC &amp;amp; ETH are pursuing a m...</td>\n",
              "      <td>btc &amp;amp; eth are pursuing a multilayer transa...</td>\n",
              "      <td>2021</td>\n",
              "      <td>7</td>\n",
              "      <td>9</td>\n",
              "      <td>07:15:00</td>\n",
              "    </tr>\n",
              "    <tr>\n",
              "      <th>6</th>\n",
              "      <td>1410797794630070278</td>\n",
              "      <td>@RenataKonkoly @thesheetztweetz @rookisaacman ...</td>\n",
              "      <td>but can i pay in doge?</td>\n",
              "      <td>2021</td>\n",
              "      <td>7</td>\n",
              "      <td>2</td>\n",
              "      <td>03:09:40</td>\n",
              "    </tr>\n",
              "    <tr>\n",
              "      <th>7</th>\n",
              "      <td>1410529698497630212</td>\n",
              "      <td>Baby Doge, doo, doo, doo, doo, doo,\\nBaby Doge...</td>\n",
              "      <td>baby doge, doo, doo, doo, doo, doo, baby doge,...</td>\n",
              "      <td>2021</td>\n",
              "      <td>7</td>\n",
              "      <td>1</td>\n",
              "      <td>09:24:21</td>\n",
              "    </tr>\n",
              "    <tr>\n",
              "      <th>8</th>\n",
              "      <td>1410519466518233089</td>\n",
              "      <td>Release the Doge! https://t.co/9bXCWQLIhu</td>\n",
              "      <td>release the doge!</td>\n",
              "      <td>2021</td>\n",
              "      <td>7</td>\n",
              "      <td>1</td>\n",
              "      <td>08:43:41</td>\n",
              "    </tr>\n",
              "    <tr>\n",
              "      <th>9</th>\n",
              "      <td>1454876031232380928</td>\n",
              "      <td>Tuition is in Dogecoin &amp;amp; u get a discount ...</td>\n",
              "      <td>tuition is in dogecoin &amp;amp; u get a discount ...</td>\n",
              "      <td>2021</td>\n",
              "      <td>10</td>\n",
              "      <td>31</td>\n",
              "      <td>18:20:50</td>\n",
              "    </tr>\n",
              "  </tbody>\n",
              "</table>\n",
              "</div>\n",
              "      <button class=\"colab-df-convert\" onclick=\"convertToInteractive('df-4113b3b0-3182-4b29-b25d-75da3eb32723')\"\n",
              "              title=\"Convert this dataframe to an interactive table.\"\n",
              "              style=\"display:none;\">\n",
              "        \n",
              "  <svg xmlns=\"http://www.w3.org/2000/svg\" height=\"24px\"viewBox=\"0 0 24 24\"\n",
              "       width=\"24px\">\n",
              "    <path d=\"M0 0h24v24H0V0z\" fill=\"none\"/>\n",
              "    <path d=\"M18.56 5.44l.94 2.06.94-2.06 2.06-.94-2.06-.94-.94-2.06-.94 2.06-2.06.94zm-11 1L8.5 8.5l.94-2.06 2.06-.94-2.06-.94L8.5 2.5l-.94 2.06-2.06.94zm10 10l.94 2.06.94-2.06 2.06-.94-2.06-.94-.94-2.06-.94 2.06-2.06.94z\"/><path d=\"M17.41 7.96l-1.37-1.37c-.4-.4-.92-.59-1.43-.59-.52 0-1.04.2-1.43.59L10.3 9.45l-7.72 7.72c-.78.78-.78 2.05 0 2.83L4 21.41c.39.39.9.59 1.41.59.51 0 1.02-.2 1.41-.59l7.78-7.78 2.81-2.81c.8-.78.8-2.07 0-2.86zM5.41 20L4 18.59l7.72-7.72 1.47 1.35L5.41 20z\"/>\n",
              "  </svg>\n",
              "      </button>\n",
              "      \n",
              "  <style>\n",
              "    .colab-df-container {\n",
              "      display:flex;\n",
              "      flex-wrap:wrap;\n",
              "      gap: 12px;\n",
              "    }\n",
              "\n",
              "    .colab-df-convert {\n",
              "      background-color: #E8F0FE;\n",
              "      border: none;\n",
              "      border-radius: 50%;\n",
              "      cursor: pointer;\n",
              "      display: none;\n",
              "      fill: #1967D2;\n",
              "      height: 32px;\n",
              "      padding: 0 0 0 0;\n",
              "      width: 32px;\n",
              "    }\n",
              "\n",
              "    .colab-df-convert:hover {\n",
              "      background-color: #E2EBFA;\n",
              "      box-shadow: 0px 1px 2px rgba(60, 64, 67, 0.3), 0px 1px 3px 1px rgba(60, 64, 67, 0.15);\n",
              "      fill: #174EA6;\n",
              "    }\n",
              "\n",
              "    [theme=dark] .colab-df-convert {\n",
              "      background-color: #3B4455;\n",
              "      fill: #D2E3FC;\n",
              "    }\n",
              "\n",
              "    [theme=dark] .colab-df-convert:hover {\n",
              "      background-color: #434B5C;\n",
              "      box-shadow: 0px 1px 3px 1px rgba(0, 0, 0, 0.15);\n",
              "      filter: drop-shadow(0px 1px 2px rgba(0, 0, 0, 0.3));\n",
              "      fill: #FFFFFF;\n",
              "    }\n",
              "  </style>\n",
              "\n",
              "      <script>\n",
              "        const buttonEl =\n",
              "          document.querySelector('#df-4113b3b0-3182-4b29-b25d-75da3eb32723 button.colab-df-convert');\n",
              "        buttonEl.style.display =\n",
              "          google.colab.kernel.accessAllowed ? 'block' : 'none';\n",
              "\n",
              "        async function convertToInteractive(key) {\n",
              "          const element = document.querySelector('#df-4113b3b0-3182-4b29-b25d-75da3eb32723');\n",
              "          const dataTable =\n",
              "            await google.colab.kernel.invokeFunction('convertToInteractive',\n",
              "                                                     [key], {});\n",
              "          if (!dataTable) return;\n",
              "\n",
              "          const docLinkHtml = 'Like what you see? Visit the ' +\n",
              "            '<a target=\"_blank\" href=https://colab.research.google.com/notebooks/data_table.ipynb>data table notebook</a>'\n",
              "            + ' to learn more about interactive tables.';\n",
              "          element.innerHTML = '';\n",
              "          dataTable['output_type'] = 'display_data';\n",
              "          await google.colab.output.renderOutput(dataTable, element);\n",
              "          const docLink = document.createElement('div');\n",
              "          docLink.innerHTML = docLinkHtml;\n",
              "          element.appendChild(docLink);\n",
              "        }\n",
              "      </script>\n",
              "    </div>\n",
              "  </div>\n",
              "  "
            ]
          },
          "metadata": {},
          "execution_count": 32
        }
      ]
    },
    {
      "cell_type": "code",
      "source": [
        "elon_musk_doge_tweet.count()"
      ],
      "metadata": {
        "colab": {
          "base_uri": "https://localhost:8080/"
        },
        "id": "YoZyNCUsXRFw",
        "outputId": "23754407-378d-4fb4-a4df-323ec00e1fa4"
      },
      "execution_count": null,
      "outputs": [
        {
          "output_type": "execute_result",
          "data": {
            "text/plain": [
              "tweet_id          68\n",
              "original_tweet    68\n",
              "cleaned_tweeet    68\n",
              "year              68\n",
              "month             68\n",
              "day               68\n",
              "time              68\n",
              "dtype: int64"
            ]
          },
          "metadata": {},
          "execution_count": 33
        }
      ]
    },
    {
      "cell_type": "code",
      "source": [
        "elon_musk_doge_tweet.to_csv(\"elonmusk_doge_tweets.csv\", index=False, encoding='utf-8-sig')"
      ],
      "metadata": {
        "id": "D-TLGokvyHvf"
      },
      "execution_count": null,
      "outputs": []
    },
    {
      "cell_type": "code",
      "source": [
        "x4 = elon_musk_doge_tweet.year.unique()\n",
        "y4 = [elon_musk_doge_tweet[elon_musk_doge_tweet.year==year].count().tweet_id for year in x4]\n",
        "y4"
      ],
      "metadata": {
        "colab": {
          "base_uri": "https://localhost:8080/"
        },
        "id": "mG4y9cgAX6BJ",
        "outputId": "1169094d-18ef-4fc7-ddb8-2eb3c6b2f414"
      },
      "execution_count": null,
      "outputs": [
        {
          "output_type": "execute_result",
          "data": {
            "text/plain": [
              "[3, 57, 2, 6]"
            ]
          },
          "metadata": {},
          "execution_count": 35
        }
      ]
    },
    {
      "cell_type": "code",
      "source": [
        "x4"
      ],
      "metadata": {
        "colab": {
          "base_uri": "https://localhost:8080/"
        },
        "id": "2gt1_GtrZIqF",
        "outputId": "83659a20-2aa8-41de-d6c5-debf1964629c"
      },
      "execution_count": null,
      "outputs": [
        {
          "output_type": "execute_result",
          "data": {
            "text/plain": [
              "array([2020, 2021, 2019, 2022])"
            ]
          },
          "metadata": {},
          "execution_count": 36
        }
      ]
    },
    {
      "cell_type": "code",
      "source": [
        "draw_tweet_barPlot(x4, y4, \"All doge tweets: Elon Musk\");"
      ],
      "metadata": {
        "colab": {
          "base_uri": "https://localhost:8080/",
          "height": 428
        },
        "id": "I_c86GPZ1wBU",
        "outputId": "cf9b9eb2-5780-4fcc-b2aa-08b4e0e9a14d"
      },
      "execution_count": null,
      "outputs": [
        {
          "output_type": "display_data",
          "data": {
            "text/plain": [
              "<Figure size 432x288 with 0 Axes>"
            ]
          },
          "metadata": {}
        },
        {
          "output_type": "display_data",
          "data": {
            "text/plain": [
              "<Figure size 576x432 with 1 Axes>"
            ],
            "image/png": "[encoded data removed]"
          },
          "metadata": {
            "needs_background": "light"
          }
        }
      ]
    },
    {
      "cell_type": "code",
      "source": [
        "elon_musk_doge_tweet_2021 = elon_musk_doge_tweet[elon_musk_doge_tweet.year == 2021]\n",
        "elon_musk_doge_tweet_2021_month = list(elon_musk_doge_tweet_2021.month)\n",
        "set(elon_musk_doge_tweet_2021_month)\n"
      ],
      "metadata": {
        "colab": {
          "base_uri": "https://localhost:8080/"
        },
        "id": "GmzIJStAos2D",
        "outputId": "f701d4df-abc8-4315-b804-4a4f0eaf0aec"
      },
      "execution_count": null,
      "outputs": [
        {
          "output_type": "execute_result",
          "data": {
            "text/plain": [
              "{2, 3, 4, 5, 7, 8, 9, 10, 11, 12}"
            ]
          },
          "metadata": {},
          "execution_count": 122
        }
      ]
    },
    {
      "cell_type": "code",
      "source": [
        "elon_musk_crypto_tweet = filter_with_coin(elon_musk_clean_df_1, \"crypto\")"
      ],
      "metadata": {
        "id": "1o9hn7__XT9D"
      },
      "execution_count": null,
      "outputs": []
    },
    {
      "cell_type": "code",
      "source": [
        "elon_musk_crypto_tweet.count()"
      ],
      "metadata": {
        "colab": {
          "base_uri": "https://localhost:8080/"
        },
        "id": "otzfCQ7xXf9y",
        "outputId": "70e4825c-271c-4384-dd27-fcb064ee2fd7"
      },
      "execution_count": null,
      "outputs": [
        {
          "output_type": "execute_result",
          "data": {
            "text/plain": [
              "tweet_id          30\n",
              "original_tweet    30\n",
              "cleaned_tweeet    30\n",
              "year              30\n",
              "month             30\n",
              "day               30\n",
              "time              30\n",
              "dtype: int64"
            ]
          },
          "metadata": {},
          "execution_count": 61
        }
      ]
    },
    {
      "cell_type": "code",
      "source": [
        "elon_musk_crypto_tweet.year.unique()"
      ],
      "metadata": {
        "colab": {
          "base_uri": "https://localhost:8080/"
        },
        "id": "myc9n8J6aHO1",
        "outputId": "9478e9aa-895f-4742-eaba-d506a3fc36c3"
      },
      "execution_count": null,
      "outputs": [
        {
          "output_type": "execute_result",
          "data": {
            "text/plain": [
              "array([2020, 2021, 2019, 2022, 2018])"
            ]
          },
          "metadata": {},
          "execution_count": 62
        }
      ]
    },
    {
      "cell_type": "code",
      "source": [
        "elon_musk_coin_tweet = filter_with_coin(elon_musk_clean_df_1, \"coin\")"
      ],
      "metadata": {
        "id": "MAuU4XnzXiPW"
      },
      "execution_count": null,
      "outputs": []
    },
    {
      "cell_type": "code",
      "source": [
        "elon_musk_coin_tweet.count()"
      ],
      "metadata": {
        "colab": {
          "base_uri": "https://localhost:8080/"
        },
        "id": "fxY1QHgMXm_N",
        "outputId": "2284cd0d-c6bd-4456-f795-ab2c672dd4ae"
      },
      "execution_count": null,
      "outputs": [
        {
          "output_type": "execute_result",
          "data": {
            "text/plain": [
              "tweet_id          63\n",
              "original_tweet    63\n",
              "cleaned_tweeet    63\n",
              "year              63\n",
              "month             63\n",
              "day               63\n",
              "time              63\n",
              "dtype: int64"
            ]
          },
          "metadata": {},
          "execution_count": 64
        }
      ]
    },
    {
      "cell_type": "code",
      "source": [
        "elon_musk_coin_tweet.year.unique()"
      ],
      "metadata": {
        "colab": {
          "base_uri": "https://localhost:8080/"
        },
        "id": "60ZWqVCIXsPJ",
        "outputId": "adfdc8e7-8d05-4cb5-f75d-f5f8ab9b9f58"
      },
      "execution_count": null,
      "outputs": [
        {
          "output_type": "execute_result",
          "data": {
            "text/plain": [
              "array([2020, 2021, 2019, 2022, 2018, 2017])"
            ]
          },
          "metadata": {},
          "execution_count": 65
        }
      ]
    },
    {
      "cell_type": "code",
      "source": [
        ""
      ],
      "metadata": {
        "id": "1fHNDXWfaRpR"
      },
      "execution_count": null,
      "outputs": []
    },
    {
      "cell_type": "markdown",
      "source": [
        "### Remove Advert"
      ],
      "metadata": {
        "id": "tj2vDxprz3tV"
      }
    },
    {
      "cell_type": "code",
      "source": [
        "ads_users= [617853906, \n",
        " 1455167958108420096,\n",
        " 2232163009,766271113, \n",
        " 902975952438865024, \n",
        " 1009357757219260032, \n",
        " 1119277376108679936, \n",
        " 1178811384387290112,\n",
        " 1242477286135219968,\n",
        " 1260968439931419904,\n",
        " 1358572694535610112,\n",
        " 1361229852347660032,\n",
        " 1361663132901380096,\n",
        " 1367118134478589952,\n",
        " 1371307018020059904,\n",
        " 1397858781241929984,\n",
        " 1404473074234370048,\n",
        " 1429122350398640128,\n",
        " 1429123988773509888,\n",
        " 35854162,81330229,\n",
        " 36923373,2315221933,\n",
        " 83711683,960308581,\n",
        " 2232368590,3002152953,\n",
        " 1349987776939360000,\n",
        " 1382714991187520000,\n",
        " 1436726409020410112,\n",
        " 726437948527398016,   \n",
        " 828615194771352960,\n",
        " 1077105297620109952,\n",
        " 1379169012555330048,\n",
        " 1379824257014850048,\n",
        " 1385966258579899904,\n",
        " 1392566569092489984,           \n",
        " 473494621,707376110,\n",
        " 1194432385,1559109584,\n",
        " 2377034803,2830292157,           \n",
        " 956072726720121984,\n",
        " 1268747480105200128,\n",
        " 1362400674139539968,\n",
        " 3151017674,\n",
        " 825748599959126016,\n",
        " 1319373852472999936,\n",
        " 105178080,\n",
        " 1185191116934650112,\n",
        " 1364560147507539968,\n",
        " 1383085195994089984, \n",
        " 1397020527911259904, \n",
        " 1403414815473789952,\n",
        " 1392056896845139968, \n",
        " 1422562191509700096,\n",
        " 1243445995649679872, \n",
        " 1353444426597740032, \n",
        " 1359424699529359872,\n",
        " 1460040648137100032, \n",
        " 1583546286, \n",
        " 944030034984967936, \n",
        " 1282574131599480064, \n",
        " 1357763925979389952, \n",
        " 1388508398967130112,\n",
        " 1416792556470419968,\n",
        " 1405484039310609920, \n",
        " 1400567133751360000, \n",
        " 1315971815613829888,\n",
        " 3368158505, \n",
        " 3300633006,1532998982,\n",
        " 921290871177228000,\n",
        " 13463782,22495289,\n",
        " 3405393323,\n",
        " 1438159985326830080,\n",
        " 1440500074224570112, \n",
        " 1391880730368740096,\n",
        " 226600967,4835448563,\n",
        " 35550239, 319754792, \n",
        " 1154155133447610112,\n",
        " 308836794,21689830,\n",
        " 1318207726200229888,\n",
        " 1281904744169189888,\n",
        " 1368645172158860032\n",
        "]"
      ],
      "metadata": {
        "id": "vlvAR1ICz6oH"
      },
      "execution_count": null,
      "outputs": []
    },
    {
      "cell_type": "code",
      "source": [
        "ads_sources = ['ContentStudio.io',\n",
        "'Zoho Social',\n",
        "'ClankApp',\n",
        "'CoinTweety',\n",
        "'CryptoTweeter.com',\n",
        "'dogecoinvalue',\n",
        "'CoinStats',\n",
        "'dogecointicker',\n",
        "'ViralSweep App',\n",
        "'FS-Poster APP',\n",
        "'CoinData Registration',\n",
        "'Cheap Bots, Done Quick!',\n",
        "'Paper.li',\n",
        "'twittbot.net',\n",
        "'The Social Jukebox',\n",
        "'TiAppTweet',\n",
        "'Twitter for Advertisers']"
      ],
      "metadata": {
        "id": "Qb-hOMmnz-43"
      },
      "execution_count": null,
      "outputs": []
    },
    {
      "cell_type": "code",
      "source": [
        "ads_phrases = [\n",
        "'CHECK OUT OUR',\n",
        "'CHECK OUT MY',\n",
        "'CHECK US OUT',\n",
        "'CHECK IT OUT',\n",
        "'CHECK THIS OUT',\n",
        "'SIGN UP',\n",
        "'FOLLOW THE LINK',\n",
        "'JOIN THE LINK',\n",
        "'JOIN HERE',\n",
        "'THIS LINK',\n",
        "'MY LINK',\n",
        "'LINK BELOW',\n",
        "'DOWNLOUD THE APP',\n",
        "'INVITE A FRIEND',\n",
        "'CLAIM YOUR',\n",
        "'REFERRAL',\n",
        "'REFERAL',\n",
        "'INVITATION CODE',\n",
        "'GIFT TO YOU',\n",
        "'GIVEAWAY',\n",
        "'GIVE AWAY',\n",
        "'GIVING AWAY',\n",
        "'JOIN OUR',\n",
        "'REGISTER AT',\n",
        "'REGISTER ON',\n",
        "'REGISTER NOW',\n",
        "'REGISTER HERE',\n",
        "'DM ME',\n",
        "' DM ',\n",
        "' OUR WEBSITE',\n",
        "'CLICK ON',\n",
        "'CLICK HERE',\n",
        "'CLICK THE LINK',\n",
        "'HELLO GUYS! I HAVE RECEIVED 10 THOUSAND',\n",
        "'FREE CRYPTO',\n",
        "'SIGNING UP',\n",
        "'I AM PARTICIPATING IN',\n",
        "'BUY HERE',\n",
        "'TRY US',\n",
        "'DOGE FOR FREE',\n",
        "'INVITE FRIENDS',\n",
        "'JOIN GROUPS',\n",
        "'LEARN MORE',\n",
        "'TOP 10 COINS',\n",
        "'JOIN THE #DOGECOIN FAMILY',\n",
        "'FOLLOW ME ',\n",
        "'CHECK THEIR LAST ANNOUNCEMENT',\n",
        "'BREAKING NEWS! AMAZING!',\n",
        "'EMPTYWALLETAREALWAYSONTHEMOON',\n",
        "'ENTER HERE',\n",
        "'ON UNISWAP',\n",
        "'BUY IT NOW ON',\n",
        "'JOIN THE ÐOGECOIN FAMILY',\n",
        "'AXE IS THE NEXT',\n",
        "'#UNISWAPGEM',\n",
        "'FINALLY, I WAS ABLE TO MAKE GREAT PROFITS TOO, I AM VERY GRATEFUL FOR THESE GREAT OPPORTUNITIES',\n",
        "'JOIN TELEGRAM',\n",
        "'0X49152DD96BE5A710FACF9A8AB7DE4343A49186D5',\n",
        "'0X49152DD96BE5A710FACF9A8AB7DE4343A49186D5'\n",
        "'0XB1EC55536B2C0BA575C4BC8FF96046EEC3027D31',\n",
        "'0XFAC1F65C835F0E2AF6B77B671BBFBBF9EDBD8AAE',\n",
        "'DDCFIGVH6GSG3UPHSDWDS37JXUAIJRYRYD',\n",
        "'0X2CE97416CA28498E6F3DD7306D00EA5784DED071',\n",
        "'DM3DCGPUGXUDGV7VYTKYMZWBKJVV2DFKKCESJX3HAW6H',\n",
        "'DDCFIGVH6GSG3UPHSDWDS37JXUAIJRYRYD',\n",
        "'DFFXRKAPACHNBJOYNBSDKFG9WDGTTQ3BBH',\n",
        "'D5IMPKYEAE9ZEGPWVHAQZGQ1MES63SZPEG',\n",
        "'MOBILE APP SOON',\n",
        "'GOOD NEWS I LIKE THIS',\n",
        "'WATCH VIDEO AND DECIDE',\n",
        "'AWARD-WINNING HOLLYWOOD TEAM',\n",
        "'WITH INSTANT DEPOSIT',\n",
        "'WE ARE #SNOOPCOINARMY',\n",
        "'FIND THIS AND OTHERS LIKE IT HERE',\n",
        "'NO TEAM TOKENS',\n",
        "'JOIN LIKE RETWEET',\n",
        "'I JUST CASHED OUT ON MY',\n",
        "'BUY WHILE THE MARKET IS LOW',\n",
        "'/ELONETOP. COM',\n",
        "'KUMAINUOFFICIAL',\n",
        "'READ BACKWARDS',\n",
        "'EARN UP TO',\n",
        "'MULTI-SIG MARKETING WALLET',\n",
        "'DID YOU MISS BEING IN',\n",
        "'HAVE AIRDROP',\n",
        "'THIS IS THE BULL RUN TO ALTSEASON #NPXS',\n",
        "'TREZOR WALLET',\n",
        "'AIRDROP',\n",
        "'TRY ROLLERCOIN',\n",
        "'BREAKING NEWS!!!!JUST RECEIVED',\n",
        "'MINING SIMULATOR',\n",
        "'ONLINE TRADING PLATFORM',\n",
        "'JOIN AND MAKE MONEY!',\n",
        "'LITTLERABBITSWAP',\n",
        "'0X0607396970188B2E524C1CDE4AF1F9A191DEE150',\n",
        "'DAILY BONUS',\n",
        "'FREE SPORTS BETTING',\n",
        "'COINS WITH THE HIGHEST 24-HOUR SOCIAL DOMINANCE',\n",
        "'JOIN THIS',\n",
        "'CONTACT ME NOW',\n",
        "'CURRENT PRICE:',\n",
        "'DOGECOIN DAILY DISCUSSION',\n",
        "'DOGECOIN MARKET VALUE',\n",
        "'JOIN THIS DISCORD',\n",
        "'SOCIAL ACTIVITY',\n",
        "'MARKET CAP:', \n",
        "'GALAXY SCORE',\n",
        "'ALTRANK',\n",
        "'SOCIAL DOMINANCE',\n",
        "'DOGECOIN PRICE:', \n",
        "'HTTPS://T.CO/JJXIYW30RO',\n",
        "'INVEST WITH JASMINE CRYPTO',\n",
        "'FIND OUT MORE',\n",
        "'FUTUREDOGECOINBILLIONAIRESANDMILLIONAIRES',\n",
        "'PRICE:',\n",
        "'GIFTBAG_IO',\n",
        "'YOUR REWARD',\n",
        "'DOWNLOAD IT',\n",
        "'BUY:',\n",
        "'HERE:',\n",
        "'NEW YOUTUBE VIDEO',\n",
        "'GET YOUR FREE',\n",
        "'WILL HELP FUEL THE ROCKET',\n",
        "'FREE STOCK',\n",
        "'#AD ',\n",
        "'BURNDOGE',\n",
        "'ORAN:',\n",
        "'FOLLOW MY',\n",
        "'CRYPTO PUMP ALERT',\n",
        "'LINK:',\n",
        "'INVITE LINK',\n",
        "'VETHOR',\n",
        "'USE CODE',\n",
        "'AMAZING CASINO',\n",
        "'YOU RECIEVE',\n",
        "'SUPPORT ME',\n",
        "'PLEASE',\n",
        "'READ MORE',\n",
        "'JUST RECEIVED',\n",
        "'SUBSCRIBE TO',\n",
        "'CHECK OUT THIS',\n",
        "'ROUND 2',\n",
        "'TELEGRAM',\n",
        "'PRE-SALE',\n",
        "'FAUCET'\n",
        "]"
      ],
      "metadata": {
        "id": "PbWBPgUi0A-I"
      },
      "execution_count": null,
      "outputs": []
    },
    {
      "cell_type": "markdown",
      "source": [
        "#### Method to remove the users and keywords"
      ],
      "metadata": {
        "id": "ypnybUlZ0G-e"
      }
    },
    {
      "cell_type": "code",
      "source": [
        "def remove_some_ads(df):\n",
        "  df = df[~df.user_id.isin(ads_users)]\n",
        "  df = df[~df.source.isin(ads_sources)]\n",
        "\n",
        "  pattern = '|'.join(ads_phrases)\n",
        "  df = df[~df.original_tweet.str.upper().str.contains(pattern)]\n",
        "  return df"
      ],
      "metadata": {
        "id": "vVL-v6A60JHO"
      },
      "execution_count": null,
      "outputs": []
    },
    {
      "cell_type": "code",
      "source": [
        "cleaned_df.head()"
      ],
      "metadata": {
        "colab": {
          "base_uri": "https://localhost:8080/",
          "height": 206
        },
        "id": "DfKmZAUg4S1F",
        "outputId": "7831c20f-e7a9-47af-f0dd-b14f5827d2c0"
      },
      "execution_count": null,
      "outputs": [
        {
          "output_type": "execute_result",
          "data": {
            "text/plain": [
              "         tweet_id       user_id user_name  \\\n",
              "238  1.356012e+18  3.134341e+09    Nobody   \n",
              "0    1.356022e+18  1.321829e+18    Nobody   \n",
              "1    1.356022e+18  1.849860e+09    Nobody   \n",
              "2    1.356022e+18  1.355761e+18    Nobody   \n",
              "3    1.356022e+18  1.294729e+18    Nobody   \n",
              "\n",
              "                                        original_tweet  year  month   day  \\\n",
              "238  You can’t stop us, you fucks #dogecoin https:/...  2021    1.0  31.0   \n",
              "0    https://t.co/EGyJXssO6l\\n\\nLet's share it to t...  2021    1.0  31.0   \n",
              "1    If you really hated socialism, you’d let every...  2021    1.0  31.0   \n",
              "2    Like and retweet,  if you believe #Dogecoin #i...  2021    1.0  31.0   \n",
              "3    #dogecoin is sounding more and more like essen...  2021    1.0  31.0   \n",
              "\n",
              "         time               source  \\\n",
              "238  22:50:54   Twitter for iPhone   \n",
              "0    23:28:43  Twitter for Android   \n",
              "1    23:28:42   Twitter for iPhone   \n",
              "2    23:28:35   Twitter for iPhone   \n",
              "3    23:28:34  Twitter for Android   \n",
              "\n",
              "                                         cleaned_tweet  \n",
              "238             you can’t stop us, you fucks #dogecoin  \n",
              "0    let's share it to the entire social network to...  \n",
              "1    if you really hated socialism, you’d let every...  \n",
              "2    like and retweet, if you believe #dogecoin #in...  \n",
              "3    #dogecoin is sounding more and more like essen...  "
            ],
            "text/html": [
              "\n",
              "  <div id=\"df-d3f178e1-048f-4e66-9479-bf189026ddae\">\n",
              "    <div class=\"colab-df-container\">\n",
              "      <div>\n",
              "<style scoped>\n",
              "    .dataframe tbody tr th:only-of-type {\n",
              "        vertical-align: middle;\n",
              "    }\n",
              "\n",
              "    .dataframe tbody tr th {\n",
              "        vertical-align: top;\n",
              "    }\n",
              "\n",
              "    .dataframe thead th {\n",
              "        text-align: right;\n",
              "    }\n",
              "</style>\n",
              "<table border=\"1\" class=\"dataframe\">\n",
              "  <thead>\n",
              "    <tr style=\"text-align: right;\">\n",
              "      <th></th>\n",
              "      <th>tweet_id</th>\n",
              "      <th>user_id</th>\n",
              "      <th>user_name</th>\n",
              "      <th>original_tweet</th>\n",
              "      <th>year</th>\n",
              "      <th>month</th>\n",
              "      <th>day</th>\n",
              "      <th>time</th>\n",
              "      <th>source</th>\n",
              "      <th>cleaned_tweet</th>\n",
              "    </tr>\n",
              "  </thead>\n",
              "  <tbody>\n",
              "    <tr>\n",
              "      <th>238</th>\n",
              "      <td>1.356012e+18</td>\n",
              "      <td>3.134341e+09</td>\n",
              "      <td>Nobody</td>\n",
              "      <td>You can’t stop us, you fucks #dogecoin https:/...</td>\n",
              "      <td>2021</td>\n",
              "      <td>1.0</td>\n",
              "      <td>31.0</td>\n",
              "      <td>22:50:54</td>\n",
              "      <td>Twitter for iPhone</td>\n",
              "      <td>you can’t stop us, you fucks #dogecoin</td>\n",
              "    </tr>\n",
              "    <tr>\n",
              "      <th>0</th>\n",
              "      <td>1.356022e+18</td>\n",
              "      <td>1.321829e+18</td>\n",
              "      <td>Nobody</td>\n",
              "      <td>https://t.co/EGyJXssO6l\\n\\nLet's share it to t...</td>\n",
              "      <td>2021</td>\n",
              "      <td>1.0</td>\n",
              "      <td>31.0</td>\n",
              "      <td>23:28:43</td>\n",
              "      <td>Twitter for Android</td>\n",
              "      <td>let's share it to the entire social network to...</td>\n",
              "    </tr>\n",
              "    <tr>\n",
              "      <th>1</th>\n",
              "      <td>1.356022e+18</td>\n",
              "      <td>1.849860e+09</td>\n",
              "      <td>Nobody</td>\n",
              "      <td>If you really hated socialism, you’d let every...</td>\n",
              "      <td>2021</td>\n",
              "      <td>1.0</td>\n",
              "      <td>31.0</td>\n",
              "      <td>23:28:42</td>\n",
              "      <td>Twitter for iPhone</td>\n",
              "      <td>if you really hated socialism, you’d let every...</td>\n",
              "    </tr>\n",
              "    <tr>\n",
              "      <th>2</th>\n",
              "      <td>1.356022e+18</td>\n",
              "      <td>1.355761e+18</td>\n",
              "      <td>Nobody</td>\n",
              "      <td>Like and retweet,  if you believe #Dogecoin #i...</td>\n",
              "      <td>2021</td>\n",
              "      <td>1.0</td>\n",
              "      <td>31.0</td>\n",
              "      <td>23:28:35</td>\n",
              "      <td>Twitter for iPhone</td>\n",
              "      <td>like and retweet, if you believe #dogecoin #in...</td>\n",
              "    </tr>\n",
              "    <tr>\n",
              "      <th>3</th>\n",
              "      <td>1.356022e+18</td>\n",
              "      <td>1.294729e+18</td>\n",
              "      <td>Nobody</td>\n",
              "      <td>#dogecoin is sounding more and more like essen...</td>\n",
              "      <td>2021</td>\n",
              "      <td>1.0</td>\n",
              "      <td>31.0</td>\n",
              "      <td>23:28:34</td>\n",
              "      <td>Twitter for Android</td>\n",
              "      <td>#dogecoin is sounding more and more like essen...</td>\n",
              "    </tr>\n",
              "  </tbody>\n",
              "</table>\n",
              "</div>\n",
              "      <button class=\"colab-df-convert\" onclick=\"convertToInteractive('df-d3f178e1-048f-4e66-9479-bf189026ddae')\"\n",
              "              title=\"Convert this dataframe to an interactive table.\"\n",
              "              style=\"display:none;\">\n",
              "        \n",
              "  <svg xmlns=\"http://www.w3.org/2000/svg\" height=\"24px\"viewBox=\"0 0 24 24\"\n",
              "       width=\"24px\">\n",
              "    <path d=\"M0 0h24v24H0V0z\" fill=\"none\"/>\n",
              "    <path d=\"M18.56 5.44l.94 2.06.94-2.06 2.06-.94-2.06-.94-.94-2.06-.94 2.06-2.06.94zm-11 1L8.5 8.5l.94-2.06 2.06-.94-2.06-.94L8.5 2.5l-.94 2.06-2.06.94zm10 10l.94 2.06.94-2.06 2.06-.94-2.06-.94-.94-2.06-.94 2.06-2.06.94z\"/><path d=\"M17.41 7.96l-1.37-1.37c-.4-.4-.92-.59-1.43-.59-.52 0-1.04.2-1.43.59L10.3 9.45l-7.72 7.72c-.78.78-.78 2.05 0 2.83L4 21.41c.39.39.9.59 1.41.59.51 0 1.02-.2 1.41-.59l7.78-7.78 2.81-2.81c.8-.78.8-2.07 0-2.86zM5.41 20L4 18.59l7.72-7.72 1.47 1.35L5.41 20z\"/>\n",
              "  </svg>\n",
              "      </button>\n",
              "      \n",
              "  <style>\n",
              "    .colab-df-container {\n",
              "      display:flex;\n",
              "      flex-wrap:wrap;\n",
              "      gap: 12px;\n",
              "    }\n",
              "\n",
              "    .colab-df-convert {\n",
              "      background-color: #E8F0FE;\n",
              "      border: none;\n",
              "      border-radius: 50%;\n",
              "      cursor: pointer;\n",
              "      display: none;\n",
              "      fill: #1967D2;\n",
              "      height: 32px;\n",
              "      padding: 0 0 0 0;\n",
              "      width: 32px;\n",
              "    }\n",
              "\n",
              "    .colab-df-convert:hover {\n",
              "      background-color: #E2EBFA;\n",
              "      box-shadow: 0px 1px 2px rgba(60, 64, 67, 0.3), 0px 1px 3px 1px rgba(60, 64, 67, 0.15);\n",
              "      fill: #174EA6;\n",
              "    }\n",
              "\n",
              "    [theme=dark] .colab-df-convert {\n",
              "      background-color: #3B4455;\n",
              "      fill: #D2E3FC;\n",
              "    }\n",
              "\n",
              "    [theme=dark] .colab-df-convert:hover {\n",
              "      background-color: #434B5C;\n",
              "      box-shadow: 0px 1px 3px 1px rgba(0, 0, 0, 0.15);\n",
              "      filter: drop-shadow(0px 1px 2px rgba(0, 0, 0, 0.3));\n",
              "      fill: #FFFFFF;\n",
              "    }\n",
              "  </style>\n",
              "\n",
              "      <script>\n",
              "        const buttonEl =\n",
              "          document.querySelector('#df-d3f178e1-048f-4e66-9479-bf189026ddae button.colab-df-convert');\n",
              "        buttonEl.style.display =\n",
              "          google.colab.kernel.accessAllowed ? 'block' : 'none';\n",
              "\n",
              "        async function convertToInteractive(key) {\n",
              "          const element = document.querySelector('#df-d3f178e1-048f-4e66-9479-bf189026ddae');\n",
              "          const dataTable =\n",
              "            await google.colab.kernel.invokeFunction('convertToInteractive',\n",
              "                                                     [key], {});\n",
              "          if (!dataTable) return;\n",
              "\n",
              "          const docLinkHtml = 'Like what you see? Visit the ' +\n",
              "            '<a target=\"_blank\" href=https://colab.research.google.com/notebooks/data_table.ipynb>data table notebook</a>'\n",
              "            + ' to learn more about interactive tables.';\n",
              "          element.innerHTML = '';\n",
              "          dataTable['output_type'] = 'display_data';\n",
              "          await google.colab.output.renderOutput(dataTable, element);\n",
              "          const docLink = document.createElement('div');\n",
              "          docLink.innerHTML = docLinkHtml;\n",
              "          element.appendChild(docLink);\n",
              "        }\n",
              "      </script>\n",
              "    </div>\n",
              "  </div>\n",
              "  "
            ]
          },
          "metadata": {},
          "execution_count": 39
        }
      ]
    },
    {
      "cell_type": "code",
      "source": [
        "#Removing some ads based on user id and keywords\n",
        "after_rm_advert_2021_df = remove_some_ads(cleaned_df)"
      ],
      "metadata": {
        "id": "rE6XOTkF0LmI"
      },
      "execution_count": null,
      "outputs": []
    },
    {
      "cell_type": "code",
      "source": [
        "after_rm_advert_2021_df.count() # 89k"
      ],
      "metadata": {
        "colab": {
          "base_uri": "https://localhost:8080/"
        },
        "id": "MF0CzWAb0NiT",
        "outputId": "8be492c7-c063-44a6-d03b-46f948fcf5dd"
      },
      "execution_count": null,
      "outputs": [
        {
          "output_type": "execute_result",
          "data": {
            "text/plain": [
              "tweet_id          73320\n",
              "user_id           73320\n",
              "user_name         73320\n",
              "original_tweet    73320\n",
              "year              73320\n",
              "month             73320\n",
              "day               73320\n",
              "time              73320\n",
              "source            73320\n",
              "cleaned_tweet     73320\n",
              "dtype: int64"
            ]
          },
          "metadata": {},
          "execution_count": 41
        }
      ]
    },
    {
      "cell_type": "code",
      "source": [
        "after_rm_advert_2021_df.head()"
      ],
      "metadata": {
        "colab": {
          "base_uri": "https://localhost:8080/",
          "height": 206
        },
        "id": "4gjwIEMa1YoY",
        "outputId": "a14934c6-d639-4ad3-c662-a9b927a89079"
      },
      "execution_count": null,
      "outputs": [
        {
          "output_type": "execute_result",
          "data": {
            "text/plain": [
              "         tweet_id       user_id user_name  \\\n",
              "238  1.356012e+18  3.134341e+09    Nobody   \n",
              "0    1.356022e+18  1.321829e+18    Nobody   \n",
              "1    1.356022e+18  1.849860e+09    Nobody   \n",
              "2    1.356022e+18  1.355761e+18    Nobody   \n",
              "3    1.356022e+18  1.294729e+18    Nobody   \n",
              "\n",
              "                                        original_tweet  year  month   day  \\\n",
              "238  You can’t stop us, you fucks #dogecoin https:/...  2021    1.0  31.0   \n",
              "0    https://t.co/EGyJXssO6l\\n\\nLet's share it to t...  2021    1.0  31.0   \n",
              "1    If you really hated socialism, you’d let every...  2021    1.0  31.0   \n",
              "2    Like and retweet,  if you believe #Dogecoin #i...  2021    1.0  31.0   \n",
              "3    #dogecoin is sounding more and more like essen...  2021    1.0  31.0   \n",
              "\n",
              "         time               source  \\\n",
              "238  22:50:54   Twitter for iPhone   \n",
              "0    23:28:43  Twitter for Android   \n",
              "1    23:28:42   Twitter for iPhone   \n",
              "2    23:28:35   Twitter for iPhone   \n",
              "3    23:28:34  Twitter for Android   \n",
              "\n",
              "                                         cleaned_tweet  \n",
              "238             you can’t stop us, you fucks #dogecoin  \n",
              "0    let's share it to the entire social network to...  \n",
              "1    if you really hated socialism, you’d let every...  \n",
              "2    like and retweet, if you believe #dogecoin #in...  \n",
              "3    #dogecoin is sounding more and more like essen...  "
            ],
            "text/html": [
              "\n",
              "  <div id=\"df-23c0f262-d246-4e3a-bc5c-9cc47924496a\">\n",
              "    <div class=\"colab-df-container\">\n",
              "      <div>\n",
              "<style scoped>\n",
              "    .dataframe tbody tr th:only-of-type {\n",
              "        vertical-align: middle;\n",
              "    }\n",
              "\n",
              "    .dataframe tbody tr th {\n",
              "        vertical-align: top;\n",
              "    }\n",
              "\n",
              "    .dataframe thead th {\n",
              "        text-align: right;\n",
              "    }\n",
              "</style>\n",
              "<table border=\"1\" class=\"dataframe\">\n",
              "  <thead>\n",
              "    <tr style=\"text-align: right;\">\n",
              "      <th></th>\n",
              "      <th>tweet_id</th>\n",
              "      <th>user_id</th>\n",
              "      <th>user_name</th>\n",
              "      <th>original_tweet</th>\n",
              "      <th>year</th>\n",
              "      <th>month</th>\n",
              "      <th>day</th>\n",
              "      <th>time</th>\n",
              "      <th>source</th>\n",
              "      <th>cleaned_tweet</th>\n",
              "    </tr>\n",
              "  </thead>\n",
              "  <tbody>\n",
              "    <tr>\n",
              "      <th>238</th>\n",
              "      <td>1.356012e+18</td>\n",
              "      <td>3.134341e+09</td>\n",
              "      <td>Nobody</td>\n",
              "      <td>You can’t stop us, you fucks #dogecoin https:/...</td>\n",
              "      <td>2021</td>\n",
              "      <td>1.0</td>\n",
              "      <td>31.0</td>\n",
              "      <td>22:50:54</td>\n",
              "      <td>Twitter for iPhone</td>\n",
              "      <td>you can’t stop us, you fucks #dogecoin</td>\n",
              "    </tr>\n",
              "    <tr>\n",
              "      <th>0</th>\n",
              "      <td>1.356022e+18</td>\n",
              "      <td>1.321829e+18</td>\n",
              "      <td>Nobody</td>\n",
              "      <td>https://t.co/EGyJXssO6l\\n\\nLet's share it to t...</td>\n",
              "      <td>2021</td>\n",
              "      <td>1.0</td>\n",
              "      <td>31.0</td>\n",
              "      <td>23:28:43</td>\n",
              "      <td>Twitter for Android</td>\n",
              "      <td>let's share it to the entire social network to...</td>\n",
              "    </tr>\n",
              "    <tr>\n",
              "      <th>1</th>\n",
              "      <td>1.356022e+18</td>\n",
              "      <td>1.849860e+09</td>\n",
              "      <td>Nobody</td>\n",
              "      <td>If you really hated socialism, you’d let every...</td>\n",
              "      <td>2021</td>\n",
              "      <td>1.0</td>\n",
              "      <td>31.0</td>\n",
              "      <td>23:28:42</td>\n",
              "      <td>Twitter for iPhone</td>\n",
              "      <td>if you really hated socialism, you’d let every...</td>\n",
              "    </tr>\n",
              "    <tr>\n",
              "      <th>2</th>\n",
              "      <td>1.356022e+18</td>\n",
              "      <td>1.355761e+18</td>\n",
              "      <td>Nobody</td>\n",
              "      <td>Like and retweet,  if you believe #Dogecoin #i...</td>\n",
              "      <td>2021</td>\n",
              "      <td>1.0</td>\n",
              "      <td>31.0</td>\n",
              "      <td>23:28:35</td>\n",
              "      <td>Twitter for iPhone</td>\n",
              "      <td>like and retweet, if you believe #dogecoin #in...</td>\n",
              "    </tr>\n",
              "    <tr>\n",
              "      <th>3</th>\n",
              "      <td>1.356022e+18</td>\n",
              "      <td>1.294729e+18</td>\n",
              "      <td>Nobody</td>\n",
              "      <td>#dogecoin is sounding more and more like essen...</td>\n",
              "      <td>2021</td>\n",
              "      <td>1.0</td>\n",
              "      <td>31.0</td>\n",
              "      <td>23:28:34</td>\n",
              "      <td>Twitter for Android</td>\n",
              "      <td>#dogecoin is sounding more and more like essen...</td>\n",
              "    </tr>\n",
              "  </tbody>\n",
              "</table>\n",
              "</div>\n",
              "      <button class=\"colab-df-convert\" onclick=\"convertToInteractive('df-23c0f262-d246-4e3a-bc5c-9cc47924496a')\"\n",
              "              title=\"Convert this dataframe to an interactive table.\"\n",
              "              style=\"display:none;\">\n",
              "        \n",
              "  <svg xmlns=\"http://www.w3.org/2000/svg\" height=\"24px\"viewBox=\"0 0 24 24\"\n",
              "       width=\"24px\">\n",
              "    <path d=\"M0 0h24v24H0V0z\" fill=\"none\"/>\n",
              "    <path d=\"M18.56 5.44l.94 2.06.94-2.06 2.06-.94-2.06-.94-.94-2.06-.94 2.06-2.06.94zm-11 1L8.5 8.5l.94-2.06 2.06-.94-2.06-.94L8.5 2.5l-.94 2.06-2.06.94zm10 10l.94 2.06.94-2.06 2.06-.94-2.06-.94-.94-2.06-.94 2.06-2.06.94z\"/><path d=\"M17.41 7.96l-1.37-1.37c-.4-.4-.92-.59-1.43-.59-.52 0-1.04.2-1.43.59L10.3 9.45l-7.72 7.72c-.78.78-.78 2.05 0 2.83L4 21.41c.39.39.9.59 1.41.59.51 0 1.02-.2 1.41-.59l7.78-7.78 2.81-2.81c.8-.78.8-2.07 0-2.86zM5.41 20L4 18.59l7.72-7.72 1.47 1.35L5.41 20z\"/>\n",
              "  </svg>\n",
              "      </button>\n",
              "      \n",
              "  <style>\n",
              "    .colab-df-container {\n",
              "      display:flex;\n",
              "      flex-wrap:wrap;\n",
              "      gap: 12px;\n",
              "    }\n",
              "\n",
              "    .colab-df-convert {\n",
              "      background-color: #E8F0FE;\n",
              "      border: none;\n",
              "      border-radius: 50%;\n",
              "      cursor: pointer;\n",
              "      display: none;\n",
              "      fill: #1967D2;\n",
              "      height: 32px;\n",
              "      padding: 0 0 0 0;\n",
              "      width: 32px;\n",
              "    }\n",
              "\n",
              "    .colab-df-convert:hover {\n",
              "      background-color: #E2EBFA;\n",
              "      box-shadow: 0px 1px 2px rgba(60, 64, 67, 0.3), 0px 1px 3px 1px rgba(60, 64, 67, 0.15);\n",
              "      fill: #174EA6;\n",
              "    }\n",
              "\n",
              "    [theme=dark] .colab-df-convert {\n",
              "      background-color: #3B4455;\n",
              "      fill: #D2E3FC;\n",
              "    }\n",
              "\n",
              "    [theme=dark] .colab-df-convert:hover {\n",
              "      background-color: #434B5C;\n",
              "      box-shadow: 0px 1px 3px 1px rgba(0, 0, 0, 0.15);\n",
              "      filter: drop-shadow(0px 1px 2px rgba(0, 0, 0, 0.3));\n",
              "      fill: #FFFFFF;\n",
              "    }\n",
              "  </style>\n",
              "\n",
              "      <script>\n",
              "        const buttonEl =\n",
              "          document.querySelector('#df-23c0f262-d246-4e3a-bc5c-9cc47924496a button.colab-df-convert');\n",
              "        buttonEl.style.display =\n",
              "          google.colab.kernel.accessAllowed ? 'block' : 'none';\n",
              "\n",
              "        async function convertToInteractive(key) {\n",
              "          const element = document.querySelector('#df-23c0f262-d246-4e3a-bc5c-9cc47924496a');\n",
              "          const dataTable =\n",
              "            await google.colab.kernel.invokeFunction('convertToInteractive',\n",
              "                                                     [key], {});\n",
              "          if (!dataTable) return;\n",
              "\n",
              "          const docLinkHtml = 'Like what you see? Visit the ' +\n",
              "            '<a target=\"_blank\" href=https://colab.research.google.com/notebooks/data_table.ipynb>data table notebook</a>'\n",
              "            + ' to learn more about interactive tables.';\n",
              "          element.innerHTML = '';\n",
              "          dataTable['output_type'] = 'display_data';\n",
              "          await google.colab.output.renderOutput(dataTable, element);\n",
              "          const docLink = document.createElement('div');\n",
              "          docLink.innerHTML = docLinkHtml;\n",
              "          element.appendChild(docLink);\n",
              "        }\n",
              "      </script>\n",
              "    </div>\n",
              "  </div>\n",
              "  "
            ]
          },
          "metadata": {},
          "execution_count": 42
        }
      ]
    },
    {
      "cell_type": "markdown",
      "source": [
        "#### More cleaning"
      ],
      "metadata": {
        "id": "ivQjXDreJPvL"
      }
    },
    {
      "cell_type": "code",
      "source": [
        "def clean_tweets(tweet):\n",
        "    # Replace multiple spaces with single spaces.\n",
        "    tweet = re.sub(' +', ' ', tweet)\n",
        "    # Convert two or more dot's into one.\n",
        "    tweet = re.sub(r'\\.+', \".\", tweet)\n",
        "    # replace \"&amp\" into &\n",
        "    tweet = tweet.replace(\"&amp;\", \"&\")\n",
        "\n",
        "    return tweet\n",
        "\n",
        "# loading the data set\n",
        "# df = pd.read_excel(\"/content/doge_coin_cleaned_dataset_2020.xlsx\")\n"
      ],
      "metadata": {
        "id": "x3nXl32JJUOU"
      },
      "execution_count": null,
      "outputs": []
    },
    {
      "cell_type": "code",
      "source": [
        "\n",
        "after_rm_advert_2021_df['cleaned_tweet'] = after_rm_advert_2021_df['cleaned_tweet'].apply(clean_tweets)"
      ],
      "metadata": {
        "id": "6I7FgfQWJXGb"
      },
      "execution_count": null,
      "outputs": []
    },
    {
      "cell_type": "code",
      "source": [
        "after_rm_advert_2021_df.to_csv(\"doge_coin_dataset_2021_orig.csv\", index=False, encoding='utf-8-sig')"
      ],
      "metadata": {
        "id": "RqUg5uJo1CqM"
      },
      "execution_count": null,
      "outputs": []
    },
    {
      "cell_type": "code",
      "source": [
        ""
      ],
      "metadata": {
        "id": "6VYATpwBJf7G"
      },
      "execution_count": null,
      "outputs": []
    }
  ]
}