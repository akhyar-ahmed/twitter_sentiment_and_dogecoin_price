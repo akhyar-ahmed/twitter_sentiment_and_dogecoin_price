{
  "nbformat": 4,
  "nbformat_minor": 0,
  "metadata": {
    "colab": {
      "name": "Sentiment_Analysis_DogeCoin_Part_1.ipynb",
      "provenance": [],
      "collapsed_sections": [
        "gJV-JacnU4Kv",
        "y_dcPzn4bfDP",
        "-np-1olkU7z8",
        "1oODVNkISsaw",
        "UlZAVzqQ7Myt",
        "eZKEfUCQTyTK",
        "N_Jw5BcjspQl",
        "lBHCXRzbZIVf",
        "KbNhxSY0LWYn",
        "QIDJGMPLO1qn",
        "kcbAGZ8xED1a",
        "aCc2aZxP762w",
        "MaA5iUNyDKdw"
      ],
      "machine_shape": "hm"
    },
    "kernelspec": {
      "name": "python3",
      "display_name": "Python 3"
    },
    "language_info": {
      "name": "python"
    },
    "accelerator": "GPU",
    "gpuClass": "standard",
    "widgets": {
      "application/vnd.jupyter.widget-state+json": {
        "cbecf7996a7d4756b4394e404617b911": {
          "model_module": "@jupyter-widgets/controls",
          "model_name": "HBoxModel",
          "model_module_version": "1.5.0",
          "state": {
            "_dom_classes": [],
            "_model_module": "@jupyter-widgets/controls",
            "_model_module_version": "1.5.0",
            "_model_name": "HBoxModel",
            "_view_count": null,
            "_view_module": "@jupyter-widgets/controls",
            "_view_module_version": "1.5.0",
            "_view_name": "HBoxView",
            "box_style": "",
            "children": [
              "IPY_MODEL_f1f8a638f3474cec9b8b0f40c0603957",
              "IPY_MODEL_6418483c6ca24df5a045b4189098c0f2",
              "IPY_MODEL_e5f13b27f4ad47c9af95726d7a9681d3"
            ],
            "layout": "IPY_MODEL_85f2389015c144ba93add3a4c8be2cc5"
          }
        },
        "f1f8a638f3474cec9b8b0f40c0603957": {
          "model_module": "@jupyter-widgets/controls",
          "model_name": "HTMLModel",
          "model_module_version": "1.5.0",
          "state": {
            "_dom_classes": [],
            "_model_module": "@jupyter-widgets/controls",
            "_model_module_version": "1.5.0",
            "_model_name": "HTMLModel",
            "_view_count": null,
            "_view_module": "@jupyter-widgets/controls",
            "_view_module_version": "1.5.0",
            "_view_name": "HTMLView",
            "description": "",
            "description_tooltip": null,
            "layout": "IPY_MODEL_4ebd73274a4b40d7a5ecd51088df0c55",
            "placeholder": "​",
            "style": "IPY_MODEL_ff5b9ab51e694abaab1ca768a0887a50",
            "value": "Downloading: 100%"
          }
        },
        "6418483c6ca24df5a045b4189098c0f2": {
          "model_module": "@jupyter-widgets/controls",
          "model_name": "FloatProgressModel",
          "model_module_version": "1.5.0",
          "state": {
            "_dom_classes": [],
            "_model_module": "@jupyter-widgets/controls",
            "_model_module_version": "1.5.0",
            "_model_name": "FloatProgressModel",
            "_view_count": null,
            "_view_module": "@jupyter-widgets/controls",
            "_view_module_version": "1.5.0",
            "_view_name": "ProgressView",
            "bar_style": "success",
            "description": "",
            "description_tooltip": null,
            "layout": "IPY_MODEL_ff4e912342a34905be710719ba9c6351",
            "max": 629,
            "min": 0,
            "orientation": "horizontal",
            "style": "IPY_MODEL_0f63a86f0a7a49a9b872e32e509ced7e",
            "value": 629
          }
        },
        "e5f13b27f4ad47c9af95726d7a9681d3": {
          "model_module": "@jupyter-widgets/controls",
          "model_name": "HTMLModel",
          "model_module_version": "1.5.0",
          "state": {
            "_dom_classes": [],
            "_model_module": "@jupyter-widgets/controls",
            "_model_module_version": "1.5.0",
            "_model_name": "HTMLModel",
            "_view_count": null,
            "_view_module": "@jupyter-widgets/controls",
            "_view_module_version": "1.5.0",
            "_view_name": "HTMLView",
            "description": "",
            "description_tooltip": null,
            "layout": "IPY_MODEL_62512ed174f24dce8d4ac077eed3a140",
            "placeholder": "​",
            "style": "IPY_MODEL_98bd83a74fc1490cadc7151277f22bd2",
            "value": " 629/629 [00:00&lt;00:00, 18.0kB/s]"
          }
        },
        "85f2389015c144ba93add3a4c8be2cc5": {
          "model_module": "@jupyter-widgets/base",
          "model_name": "LayoutModel",
          "model_module_version": "1.2.0",
          "state": {
            "_model_module": "@jupyter-widgets/base",
            "_model_module_version": "1.2.0",
            "_model_name": "LayoutModel",
            "_view_count": null,
            "_view_module": "@jupyter-widgets/base",
            "_view_module_version": "1.2.0",
            "_view_name": "LayoutView",
            "align_content": null,
            "align_items": null,
            "align_self": null,
            "border": null,
            "bottom": null,
            "display": null,
            "flex": null,
            "flex_flow": null,
            "grid_area": null,
            "grid_auto_columns": null,
            "grid_auto_flow": null,
            "grid_auto_rows": null,
            "grid_column": null,
            "grid_gap": null,
            "grid_row": null,
            "grid_template_areas": null,
            "grid_template_columns": null,
            "grid_template_rows": null,
            "height": null,
            "justify_content": null,
            "justify_items": null,
            "left": null,
            "margin": null,
            "max_height": null,
            "max_width": null,
            "min_height": null,
            "min_width": null,
            "object_fit": null,
            "object_position": null,
            "order": null,
            "overflow": null,
            "overflow_x": null,
            "overflow_y": null,
            "padding": null,
            "right": null,
            "top": null,
            "visibility": null,
            "width": null
          }
        },
        "4ebd73274a4b40d7a5ecd51088df0c55": {
          "model_module": "@jupyter-widgets/base",
          "model_name": "LayoutModel",
          "model_module_version": "1.2.0",
          "state": {
            "_model_module": "@jupyter-widgets/base",
            "_model_module_version": "1.2.0",
            "_model_name": "LayoutModel",
            "_view_count": null,
            "_view_module": "@jupyter-widgets/base",
            "_view_module_version": "1.2.0",
            "_view_name": "LayoutView",
            "align_content": null,
            "align_items": null,
            "align_self": null,
            "border": null,
            "bottom": null,
            "display": null,
            "flex": null,
            "flex_flow": null,
            "grid_area": null,
            "grid_auto_columns": null,
            "grid_auto_flow": null,
            "grid_auto_rows": null,
            "grid_column": null,
            "grid_gap": null,
            "grid_row": null,
            "grid_template_areas": null,
            "grid_template_columns": null,
            "grid_template_rows": null,
            "height": null,
            "justify_content": null,
            "justify_items": null,
            "left": null,
            "margin": null,
            "max_height": null,
            "max_width": null,
            "min_height": null,
            "min_width": null,
            "object_fit": null,
            "object_position": null,
            "order": null,
            "overflow": null,
            "overflow_x": null,
            "overflow_y": null,
            "padding": null,
            "right": null,
            "top": null,
            "visibility": null,
            "width": null
          }
        },
        "ff5b9ab51e694abaab1ca768a0887a50": {
          "model_module": "@jupyter-widgets/controls",
          "model_name": "DescriptionStyleModel",
          "model_module_version": "1.5.0",
          "state": {
            "_model_module": "@jupyter-widgets/controls",
            "_model_module_version": "1.5.0",
            "_model_name": "DescriptionStyleModel",
            "_view_count": null,
            "_view_module": "@jupyter-widgets/base",
            "_view_module_version": "1.2.0",
            "_view_name": "StyleView",
            "description_width": ""
          }
        },
        "ff4e912342a34905be710719ba9c6351": {
          "model_module": "@jupyter-widgets/base",
          "model_name": "LayoutModel",
          "model_module_version": "1.2.0",
          "state": {
            "_model_module": "@jupyter-widgets/base",
            "_model_module_version": "1.2.0",
            "_model_name": "LayoutModel",
            "_view_count": null,
            "_view_module": "@jupyter-widgets/base",
            "_view_module_version": "1.2.0",
            "_view_name": "LayoutView",
            "align_content": null,
            "align_items": null,
            "align_self": null,
            "border": null,
            "bottom": null,
            "display": null,
            "flex": null,
            "flex_flow": null,
            "grid_area": null,
            "grid_auto_columns": null,
            "grid_auto_flow": null,
            "grid_auto_rows": null,
            "grid_column": null,
            "grid_gap": null,
            "grid_row": null,
            "grid_template_areas": null,
            "grid_template_columns": null,
            "grid_template_rows": null,
            "height": null,
            "justify_content": null,
            "justify_items": null,
            "left": null,
            "margin": null,
            "max_height": null,
            "max_width": null,
            "min_height": null,
            "min_width": null,
            "object_fit": null,
            "object_position": null,
            "order": null,
            "overflow": null,
            "overflow_x": null,
            "overflow_y": null,
            "padding": null,
            "right": null,
            "top": null,
            "visibility": null,
            "width": null
          }
        },
        "0f63a86f0a7a49a9b872e32e509ced7e": {
          "model_module": "@jupyter-widgets/controls",
          "model_name": "ProgressStyleModel",
          "model_module_version": "1.5.0",
          "state": {
            "_model_module": "@jupyter-widgets/controls",
            "_model_module_version": "1.5.0",
            "_model_name": "ProgressStyleModel",
            "_view_count": null,
            "_view_module": "@jupyter-widgets/base",
            "_view_module_version": "1.2.0",
            "_view_name": "StyleView",
            "bar_color": null,
            "description_width": ""
          }
        },
        "62512ed174f24dce8d4ac077eed3a140": {
          "model_module": "@jupyter-widgets/base",
          "model_name": "LayoutModel",
          "model_module_version": "1.2.0",
          "state": {
            "_model_module": "@jupyter-widgets/base",
            "_model_module_version": "1.2.0",
            "_model_name": "LayoutModel",
            "_view_count": null,
            "_view_module": "@jupyter-widgets/base",
            "_view_module_version": "1.2.0",
            "_view_name": "LayoutView",
            "align_content": null,
            "align_items": null,
            "align_self": null,
            "border": null,
            "bottom": null,
            "display": null,
            "flex": null,
            "flex_flow": null,
            "grid_area": null,
            "grid_auto_columns": null,
            "grid_auto_flow": null,
            "grid_auto_rows": null,
            "grid_column": null,
            "grid_gap": null,
            "grid_row": null,
            "grid_template_areas": null,
            "grid_template_columns": null,
            "grid_template_rows": null,
            "height": null,
            "justify_content": null,
            "justify_items": null,
            "left": null,
            "margin": null,
            "max_height": null,
            "max_width": null,
            "min_height": null,
            "min_width": null,
            "object_fit": null,
            "object_position": null,
            "order": null,
            "overflow": null,
            "overflow_x": null,
            "overflow_y": null,
            "padding": null,
            "right": null,
            "top": null,
            "visibility": null,
            "width": null
          }
        },
        "98bd83a74fc1490cadc7151277f22bd2": {
          "model_module": "@jupyter-widgets/controls",
          "model_name": "DescriptionStyleModel",
          "model_module_version": "1.5.0",
          "state": {
            "_model_module": "@jupyter-widgets/controls",
            "_model_module_version": "1.5.0",
            "_model_name": "DescriptionStyleModel",
            "_view_count": null,
            "_view_module": "@jupyter-widgets/base",
            "_view_module_version": "1.2.0",
            "_view_name": "StyleView",
            "description_width": ""
          }
        },
        "feb06b6d50814fd7a61f3de0aaef71c2": {
          "model_module": "@jupyter-widgets/controls",
          "model_name": "HBoxModel",
          "model_module_version": "1.5.0",
          "state": {
            "_dom_classes": [],
            "_model_module": "@jupyter-widgets/controls",
            "_model_module_version": "1.5.0",
            "_model_name": "HBoxModel",
            "_view_count": null,
            "_view_module": "@jupyter-widgets/controls",
            "_view_module_version": "1.5.0",
            "_view_name": "HBoxView",
            "box_style": "",
            "children": [
              "IPY_MODEL_5dcc9e31e2cf4a9f9255711de3cf3bbb",
              "IPY_MODEL_de57dcdc7fe04bef8a1a166265c70687",
              "IPY_MODEL_6a9961d098ec436f8f53dd3047e2967f"
            ],
            "layout": "IPY_MODEL_9bfd1db08f454a60b7276921023de0b8"
          }
        },
        "5dcc9e31e2cf4a9f9255711de3cf3bbb": {
          "model_module": "@jupyter-widgets/controls",
          "model_name": "HTMLModel",
          "model_module_version": "1.5.0",
          "state": {
            "_dom_classes": [],
            "_model_module": "@jupyter-widgets/controls",
            "_model_module_version": "1.5.0",
            "_model_name": "HTMLModel",
            "_view_count": null,
            "_view_module": "@jupyter-widgets/controls",
            "_view_module_version": "1.5.0",
            "_view_name": "HTMLView",
            "description": "",
            "description_tooltip": null,
            "layout": "IPY_MODEL_58c99900356b4d2c9fadcabf5cc165b2",
            "placeholder": "​",
            "style": "IPY_MODEL_371df5238cca4ff9a64c6e16a2a5a92a",
            "value": "Downloading: 100%"
          }
        },
        "de57dcdc7fe04bef8a1a166265c70687": {
          "model_module": "@jupyter-widgets/controls",
          "model_name": "FloatProgressModel",
          "model_module_version": "1.5.0",
          "state": {
            "_dom_classes": [],
            "_model_module": "@jupyter-widgets/controls",
            "_model_module_version": "1.5.0",
            "_model_name": "FloatProgressModel",
            "_view_count": null,
            "_view_module": "@jupyter-widgets/controls",
            "_view_module_version": "1.5.0",
            "_view_name": "ProgressView",
            "bar_style": "success",
            "description": "",
            "description_tooltip": null,
            "layout": "IPY_MODEL_4fccccf0024f4533a9ef3ac711a56634",
            "max": 267844284,
            "min": 0,
            "orientation": "horizontal",
            "style": "IPY_MODEL_78858f3656e947258c0581845d5eefed",
            "value": 267844284
          }
        },
        "6a9961d098ec436f8f53dd3047e2967f": {
          "model_module": "@jupyter-widgets/controls",
          "model_name": "HTMLModel",
          "model_module_version": "1.5.0",
          "state": {
            "_dom_classes": [],
            "_model_module": "@jupyter-widgets/controls",
            "_model_module_version": "1.5.0",
            "_model_name": "HTMLModel",
            "_view_count": null,
            "_view_module": "@jupyter-widgets/controls",
            "_view_module_version": "1.5.0",
            "_view_name": "HTMLView",
            "description": "",
            "description_tooltip": null,
            "layout": "IPY_MODEL_159654ea2eb94db3910f1c10104745de",
            "placeholder": "​",
            "style": "IPY_MODEL_c4a4ca7bfe4b41849173d7837f5816be",
            "value": " 255M/255M [00:06&lt;00:00, 46.4MB/s]"
          }
        },
        "9bfd1db08f454a60b7276921023de0b8": {
          "model_module": "@jupyter-widgets/base",
          "model_name": "LayoutModel",
          "model_module_version": "1.2.0",
          "state": {
            "_model_module": "@jupyter-widgets/base",
            "_model_module_version": "1.2.0",
            "_model_name": "LayoutModel",
            "_view_count": null,
            "_view_module": "@jupyter-widgets/base",
            "_view_module_version": "1.2.0",
            "_view_name": "LayoutView",
            "align_content": null,
            "align_items": null,
            "align_self": null,
            "border": null,
            "bottom": null,
            "display": null,
            "flex": null,
            "flex_flow": null,
            "grid_area": null,
            "grid_auto_columns": null,
            "grid_auto_flow": null,
            "grid_auto_rows": null,
            "grid_column": null,
            "grid_gap": null,
            "grid_row": null,
            "grid_template_areas": null,
            "grid_template_columns": null,
            "grid_template_rows": null,
            "height": null,
            "justify_content": null,
            "justify_items": null,
            "left": null,
            "margin": null,
            "max_height": null,
            "max_width": null,
            "min_height": null,
            "min_width": null,
            "object_fit": null,
            "object_position": null,
            "order": null,
            "overflow": null,
            "overflow_x": null,
            "overflow_y": null,
            "padding": null,
            "right": null,
            "top": null,
            "visibility": null,
            "width": null
          }
        },
        "58c99900356b4d2c9fadcabf5cc165b2": {
          "model_module": "@jupyter-widgets/base",
          "model_name": "LayoutModel",
          "model_module_version": "1.2.0",
          "state": {
            "_model_module": "@jupyter-widgets/base",
            "_model_module_version": "1.2.0",
            "_model_name": "LayoutModel",
            "_view_count": null,
            "_view_module": "@jupyter-widgets/base",
            "_view_module_version": "1.2.0",
            "_view_name": "LayoutView",
            "align_content": null,
            "align_items": null,
            "align_self": null,
            "border": null,
            "bottom": null,
            "display": null,
            "flex": null,
            "flex_flow": null,
            "grid_area": null,
            "grid_auto_columns": null,
            "grid_auto_flow": null,
            "grid_auto_rows": null,
            "grid_column": null,
            "grid_gap": null,
            "grid_row": null,
            "grid_template_areas": null,
            "grid_template_columns": null,
            "grid_template_rows": null,
            "height": null,
            "justify_content": null,
            "justify_items": null,
            "left": null,
            "margin": null,
            "max_height": null,
            "max_width": null,
            "min_height": null,
            "min_width": null,
            "object_fit": null,
            "object_position": null,
            "order": null,
            "overflow": null,
            "overflow_x": null,
            "overflow_y": null,
            "padding": null,
            "right": null,
            "top": null,
            "visibility": null,
            "width": null
          }
        },
        "371df5238cca4ff9a64c6e16a2a5a92a": {
          "model_module": "@jupyter-widgets/controls",
          "model_name": "DescriptionStyleModel",
          "model_module_version": "1.5.0",
          "state": {
            "_model_module": "@jupyter-widgets/controls",
            "_model_module_version": "1.5.0",
            "_model_name": "DescriptionStyleModel",
            "_view_count": null,
            "_view_module": "@jupyter-widgets/base",
            "_view_module_version": "1.2.0",
            "_view_name": "StyleView",
            "description_width": ""
          }
        },
        "4fccccf0024f4533a9ef3ac711a56634": {
          "model_module": "@jupyter-widgets/base",
          "model_name": "LayoutModel",
          "model_module_version": "1.2.0",
          "state": {
            "_model_module": "@jupyter-widgets/base",
            "_model_module_version": "1.2.0",
            "_model_name": "LayoutModel",
            "_view_count": null,
            "_view_module": "@jupyter-widgets/base",
            "_view_module_version": "1.2.0",
            "_view_name": "LayoutView",
            "align_content": null,
            "align_items": null,
            "align_self": null,
            "border": null,
            "bottom": null,
            "display": null,
            "flex": null,
            "flex_flow": null,
            "grid_area": null,
            "grid_auto_columns": null,
            "grid_auto_flow": null,
            "grid_auto_rows": null,
            "grid_column": null,
            "grid_gap": null,
            "grid_row": null,
            "grid_template_areas": null,
            "grid_template_columns": null,
            "grid_template_rows": null,
            "height": null,
            "justify_content": null,
            "justify_items": null,
            "left": null,
            "margin": null,
            "max_height": null,
            "max_width": null,
            "min_height": null,
            "min_width": null,
            "object_fit": null,
            "object_position": null,
            "order": null,
            "overflow": null,
            "overflow_x": null,
            "overflow_y": null,
            "padding": null,
            "right": null,
            "top": null,
            "visibility": null,
            "width": null
          }
        },
        "78858f3656e947258c0581845d5eefed": {
          "model_module": "@jupyter-widgets/controls",
          "model_name": "ProgressStyleModel",
          "model_module_version": "1.5.0",
          "state": {
            "_model_module": "@jupyter-widgets/controls",
            "_model_module_version": "1.5.0",
            "_model_name": "ProgressStyleModel",
            "_view_count": null,
            "_view_module": "@jupyter-widgets/base",
            "_view_module_version": "1.2.0",
            "_view_name": "StyleView",
            "bar_color": null,
            "description_width": ""
          }
        },
        "159654ea2eb94db3910f1c10104745de": {
          "model_module": "@jupyter-widgets/base",
          "model_name": "LayoutModel",
          "model_module_version": "1.2.0",
          "state": {
            "_model_module": "@jupyter-widgets/base",
            "_model_module_version": "1.2.0",
            "_model_name": "LayoutModel",
            "_view_count": null,
            "_view_module": "@jupyter-widgets/base",
            "_view_module_version": "1.2.0",
            "_view_name": "LayoutView",
            "align_content": null,
            "align_items": null,
            "align_self": null,
            "border": null,
            "bottom": null,
            "display": null,
            "flex": null,
            "flex_flow": null,
            "grid_area": null,
            "grid_auto_columns": null,
            "grid_auto_flow": null,
            "grid_auto_rows": null,
            "grid_column": null,
            "grid_gap": null,
            "grid_row": null,
            "grid_template_areas": null,
            "grid_template_columns": null,
            "grid_template_rows": null,
            "height": null,
            "justify_content": null,
            "justify_items": null,
            "left": null,
            "margin": null,
            "max_height": null,
            "max_width": null,
            "min_height": null,
            "min_width": null,
            "object_fit": null,
            "object_position": null,
            "order": null,
            "overflow": null,
            "overflow_x": null,
            "overflow_y": null,
            "padding": null,
            "right": null,
            "top": null,
            "visibility": null,
            "width": null
          }
        },
        "c4a4ca7bfe4b41849173d7837f5816be": {
          "model_module": "@jupyter-widgets/controls",
          "model_name": "DescriptionStyleModel",
          "model_module_version": "1.5.0",
          "state": {
            "_model_module": "@jupyter-widgets/controls",
            "_model_module_version": "1.5.0",
            "_model_name": "DescriptionStyleModel",
            "_view_count": null,
            "_view_module": "@jupyter-widgets/base",
            "_view_module_version": "1.2.0",
            "_view_name": "StyleView",
            "description_width": ""
          }
        },
        "ad4d3ccf28cf423aadde5e022286ef65": {
          "model_module": "@jupyter-widgets/controls",
          "model_name": "HBoxModel",
          "model_module_version": "1.5.0",
          "state": {
            "_dom_classes": [],
            "_model_module": "@jupyter-widgets/controls",
            "_model_module_version": "1.5.0",
            "_model_name": "HBoxModel",
            "_view_count": null,
            "_view_module": "@jupyter-widgets/controls",
            "_view_module_version": "1.5.0",
            "_view_name": "HBoxView",
            "box_style": "",
            "children": [
              "IPY_MODEL_fef616d850434ae7ae158befb78d9033",
              "IPY_MODEL_b0d4774ff4bb4484b9ae346c1d79ed3a",
              "IPY_MODEL_95227753c66d446785cb829462dd4229"
            ],
            "layout": "IPY_MODEL_d56f66bb920a4befb78a394ab3cfb2a0"
          }
        },
        "fef616d850434ae7ae158befb78d9033": {
          "model_module": "@jupyter-widgets/controls",
          "model_name": "HTMLModel",
          "model_module_version": "1.5.0",
          "state": {
            "_dom_classes": [],
            "_model_module": "@jupyter-widgets/controls",
            "_model_module_version": "1.5.0",
            "_model_name": "HTMLModel",
            "_view_count": null,
            "_view_module": "@jupyter-widgets/controls",
            "_view_module_version": "1.5.0",
            "_view_name": "HTMLView",
            "description": "",
            "description_tooltip": null,
            "layout": "IPY_MODEL_5325cefed584435092b38f48c8bec563",
            "placeholder": "​",
            "style": "IPY_MODEL_7137eb3401c34e389339171de7ec3fa6",
            "value": "Downloading: 100%"
          }
        },
        "b0d4774ff4bb4484b9ae346c1d79ed3a": {
          "model_module": "@jupyter-widgets/controls",
          "model_name": "FloatProgressModel",
          "model_module_version": "1.5.0",
          "state": {
            "_dom_classes": [],
            "_model_module": "@jupyter-widgets/controls",
            "_model_module_version": "1.5.0",
            "_model_name": "FloatProgressModel",
            "_view_count": null,
            "_view_module": "@jupyter-widgets/controls",
            "_view_module_version": "1.5.0",
            "_view_name": "ProgressView",
            "bar_style": "success",
            "description": "",
            "description_tooltip": null,
            "layout": "IPY_MODEL_fcfb6d56475f4a869eb95982a4cb3d67",
            "max": 48,
            "min": 0,
            "orientation": "horizontal",
            "style": "IPY_MODEL_2a17cee269a345a891f9e936ee725427",
            "value": 48
          }
        },
        "95227753c66d446785cb829462dd4229": {
          "model_module": "@jupyter-widgets/controls",
          "model_name": "HTMLModel",
          "model_module_version": "1.5.0",
          "state": {
            "_dom_classes": [],
            "_model_module": "@jupyter-widgets/controls",
            "_model_module_version": "1.5.0",
            "_model_name": "HTMLModel",
            "_view_count": null,
            "_view_module": "@jupyter-widgets/controls",
            "_view_module_version": "1.5.0",
            "_view_name": "HTMLView",
            "description": "",
            "description_tooltip": null,
            "layout": "IPY_MODEL_f42e714983724c12b3e71b7eb188862b",
            "placeholder": "​",
            "style": "IPY_MODEL_3376d5ac55834d2ea74253d8e47c1441",
            "value": " 48.0/48.0 [00:00&lt;00:00, 1.51kB/s]"
          }
        },
        "d56f66bb920a4befb78a394ab3cfb2a0": {
          "model_module": "@jupyter-widgets/base",
          "model_name": "LayoutModel",
          "model_module_version": "1.2.0",
          "state": {
            "_model_module": "@jupyter-widgets/base",
            "_model_module_version": "1.2.0",
            "_model_name": "LayoutModel",
            "_view_count": null,
            "_view_module": "@jupyter-widgets/base",
            "_view_module_version": "1.2.0",
            "_view_name": "LayoutView",
            "align_content": null,
            "align_items": null,
            "align_self": null,
            "border": null,
            "bottom": null,
            "display": null,
            "flex": null,
            "flex_flow": null,
            "grid_area": null,
            "grid_auto_columns": null,
            "grid_auto_flow": null,
            "grid_auto_rows": null,
            "grid_column": null,
            "grid_gap": null,
            "grid_row": null,
            "grid_template_areas": null,
            "grid_template_columns": null,
            "grid_template_rows": null,
            "height": null,
            "justify_content": null,
            "justify_items": null,
            "left": null,
            "margin": null,
            "max_height": null,
            "max_width": null,
            "min_height": null,
            "min_width": null,
            "object_fit": null,
            "object_position": null,
            "order": null,
            "overflow": null,
            "overflow_x": null,
            "overflow_y": null,
            "padding": null,
            "right": null,
            "top": null,
            "visibility": null,
            "width": null
          }
        },
        "5325cefed584435092b38f48c8bec563": {
          "model_module": "@jupyter-widgets/base",
          "model_name": "LayoutModel",
          "model_module_version": "1.2.0",
          "state": {
            "_model_module": "@jupyter-widgets/base",
            "_model_module_version": "1.2.0",
            "_model_name": "LayoutModel",
            "_view_count": null,
            "_view_module": "@jupyter-widgets/base",
            "_view_module_version": "1.2.0",
            "_view_name": "LayoutView",
            "align_content": null,
            "align_items": null,
            "align_self": null,
            "border": null,
            "bottom": null,
            "display": null,
            "flex": null,
            "flex_flow": null,
            "grid_area": null,
            "grid_auto_columns": null,
            "grid_auto_flow": null,
            "grid_auto_rows": null,
            "grid_column": null,
            "grid_gap": null,
            "grid_row": null,
            "grid_template_areas": null,
            "grid_template_columns": null,
            "grid_template_rows": null,
            "height": null,
            "justify_content": null,
            "justify_items": null,
            "left": null,
            "margin": null,
            "max_height": null,
            "max_width": null,
            "min_height": null,
            "min_width": null,
            "object_fit": null,
            "object_position": null,
            "order": null,
            "overflow": null,
            "overflow_x": null,
            "overflow_y": null,
            "padding": null,
            "right": null,
            "top": null,
            "visibility": null,
            "width": null
          }
        },
        "7137eb3401c34e389339171de7ec3fa6": {
          "model_module": "@jupyter-widgets/controls",
          "model_name": "DescriptionStyleModel",
          "model_module_version": "1.5.0",
          "state": {
            "_model_module": "@jupyter-widgets/controls",
            "_model_module_version": "1.5.0",
            "_model_name": "DescriptionStyleModel",
            "_view_count": null,
            "_view_module": "@jupyter-widgets/base",
            "_view_module_version": "1.2.0",
            "_view_name": "StyleView",
            "description_width": ""
          }
        },
        "fcfb6d56475f4a869eb95982a4cb3d67": {
          "model_module": "@jupyter-widgets/base",
          "model_name": "LayoutModel",
          "model_module_version": "1.2.0",
          "state": {
            "_model_module": "@jupyter-widgets/base",
            "_model_module_version": "1.2.0",
            "_model_name": "LayoutModel",
            "_view_count": null,
            "_view_module": "@jupyter-widgets/base",
            "_view_module_version": "1.2.0",
            "_view_name": "LayoutView",
            "align_content": null,
            "align_items": null,
            "align_self": null,
            "border": null,
            "bottom": null,
            "display": null,
            "flex": null,
            "flex_flow": null,
            "grid_area": null,
            "grid_auto_columns": null,
            "grid_auto_flow": null,
            "grid_auto_rows": null,
            "grid_column": null,
            "grid_gap": null,
            "grid_row": null,
            "grid_template_areas": null,
            "grid_template_columns": null,
            "grid_template_rows": null,
            "height": null,
            "justify_content": null,
            "justify_items": null,
            "left": null,
            "margin": null,
            "max_height": null,
            "max_width": null,
            "min_height": null,
            "min_width": null,
            "object_fit": null,
            "object_position": null,
            "order": null,
            "overflow": null,
            "overflow_x": null,
            "overflow_y": null,
            "padding": null,
            "right": null,
            "top": null,
            "visibility": null,
            "width": null
          }
        },
        "2a17cee269a345a891f9e936ee725427": {
          "model_module": "@jupyter-widgets/controls",
          "model_name": "ProgressStyleModel",
          "model_module_version": "1.5.0",
          "state": {
            "_model_module": "@jupyter-widgets/controls",
            "_model_module_version": "1.5.0",
            "_model_name": "ProgressStyleModel",
            "_view_count": null,
            "_view_module": "@jupyter-widgets/base",
            "_view_module_version": "1.2.0",
            "_view_name": "StyleView",
            "bar_color": null,
            "description_width": ""
          }
        },
        "f42e714983724c12b3e71b7eb188862b": {
          "model_module": "@jupyter-widgets/base",
          "model_name": "LayoutModel",
          "model_module_version": "1.2.0",
          "state": {
            "_model_module": "@jupyter-widgets/base",
            "_model_module_version": "1.2.0",
            "_model_name": "LayoutModel",
            "_view_count": null,
            "_view_module": "@jupyter-widgets/base",
            "_view_module_version": "1.2.0",
            "_view_name": "LayoutView",
            "align_content": null,
            "align_items": null,
            "align_self": null,
            "border": null,
            "bottom": null,
            "display": null,
            "flex": null,
            "flex_flow": null,
            "grid_area": null,
            "grid_auto_columns": null,
            "grid_auto_flow": null,
            "grid_auto_rows": null,
            "grid_column": null,
            "grid_gap": null,
            "grid_row": null,
            "grid_template_areas": null,
            "grid_template_columns": null,
            "grid_template_rows": null,
            "height": null,
            "justify_content": null,
            "justify_items": null,
            "left": null,
            "margin": null,
            "max_height": null,
            "max_width": null,
            "min_height": null,
            "min_width": null,
            "object_fit": null,
            "object_position": null,
            "order": null,
            "overflow": null,
            "overflow_x": null,
            "overflow_y": null,
            "padding": null,
            "right": null,
            "top": null,
            "visibility": null,
            "width": null
          }
        },
        "3376d5ac55834d2ea74253d8e47c1441": {
          "model_module": "@jupyter-widgets/controls",
          "model_name": "DescriptionStyleModel",
          "model_module_version": "1.5.0",
          "state": {
            "_model_module": "@jupyter-widgets/controls",
            "_model_module_version": "1.5.0",
            "_model_name": "DescriptionStyleModel",
            "_view_count": null,
            "_view_module": "@jupyter-widgets/base",
            "_view_module_version": "1.2.0",
            "_view_name": "StyleView",
            "description_width": ""
          }
        },
        "3c31891e937f411893c7b9be0c66f36a": {
          "model_module": "@jupyter-widgets/controls",
          "model_name": "HBoxModel",
          "model_module_version": "1.5.0",
          "state": {
            "_dom_classes": [],
            "_model_module": "@jupyter-widgets/controls",
            "_model_module_version": "1.5.0",
            "_model_name": "HBoxModel",
            "_view_count": null,
            "_view_module": "@jupyter-widgets/controls",
            "_view_module_version": "1.5.0",
            "_view_name": "HBoxView",
            "box_style": "",
            "children": [
              "IPY_MODEL_badbd1dc7e734bd4b6e550db73bf065a",
              "IPY_MODEL_c7dfc05c9c0441929bce7c89974ee1af",
              "IPY_MODEL_80bdc045e98a4914bfc175bb54b239ae"
            ],
            "layout": "IPY_MODEL_0d5f0faa125b4105ba3adab07e716680"
          }
        },
        "badbd1dc7e734bd4b6e550db73bf065a": {
          "model_module": "@jupyter-widgets/controls",
          "model_name": "HTMLModel",
          "model_module_version": "1.5.0",
          "state": {
            "_dom_classes": [],
            "_model_module": "@jupyter-widgets/controls",
            "_model_module_version": "1.5.0",
            "_model_name": "HTMLModel",
            "_view_count": null,
            "_view_module": "@jupyter-widgets/controls",
            "_view_module_version": "1.5.0",
            "_view_name": "HTMLView",
            "description": "",
            "description_tooltip": null,
            "layout": "IPY_MODEL_7b78051d56f3440dbc4809b7e3d2b498",
            "placeholder": "​",
            "style": "IPY_MODEL_51fb98f5d4124ee3aaf0918014ca37f8",
            "value": "Downloading: 100%"
          }
        },
        "c7dfc05c9c0441929bce7c89974ee1af": {
          "model_module": "@jupyter-widgets/controls",
          "model_name": "FloatProgressModel",
          "model_module_version": "1.5.0",
          "state": {
            "_dom_classes": [],
            "_model_module": "@jupyter-widgets/controls",
            "_model_module_version": "1.5.0",
            "_model_name": "FloatProgressModel",
            "_view_count": null,
            "_view_module": "@jupyter-widgets/controls",
            "_view_module_version": "1.5.0",
            "_view_name": "ProgressView",
            "bar_style": "success",
            "description": "",
            "description_tooltip": null,
            "layout": "IPY_MODEL_ea0713ad893941f285472a348b2bba24",
            "max": 231508,
            "min": 0,
            "orientation": "horizontal",
            "style": "IPY_MODEL_c7671512b4d048b9918e317024d5877a",
            "value": 231508
          }
        },
        "80bdc045e98a4914bfc175bb54b239ae": {
          "model_module": "@jupyter-widgets/controls",
          "model_name": "HTMLModel",
          "model_module_version": "1.5.0",
          "state": {
            "_dom_classes": [],
            "_model_module": "@jupyter-widgets/controls",
            "_model_module_version": "1.5.0",
            "_model_name": "HTMLModel",
            "_view_count": null,
            "_view_module": "@jupyter-widgets/controls",
            "_view_module_version": "1.5.0",
            "_view_name": "HTMLView",
            "description": "",
            "description_tooltip": null,
            "layout": "IPY_MODEL_803fec07a0cf4cbdb07b0513e64b76cb",
            "placeholder": "​",
            "style": "IPY_MODEL_4ebedeaa167947a5ba2d7a406b2f911f",
            "value": " 226k/226k [00:00&lt;00:00, 954kB/s]"
          }
        },
        "0d5f0faa125b4105ba3adab07e716680": {
          "model_module": "@jupyter-widgets/base",
          "model_name": "LayoutModel",
          "model_module_version": "1.2.0",
          "state": {
            "_model_module": "@jupyter-widgets/base",
            "_model_module_version": "1.2.0",
            "_model_name": "LayoutModel",
            "_view_count": null,
            "_view_module": "@jupyter-widgets/base",
            "_view_module_version": "1.2.0",
            "_view_name": "LayoutView",
            "align_content": null,
            "align_items": null,
            "align_self": null,
            "border": null,
            "bottom": null,
            "display": null,
            "flex": null,
            "flex_flow": null,
            "grid_area": null,
            "grid_auto_columns": null,
            "grid_auto_flow": null,
            "grid_auto_rows": null,
            "grid_column": null,
            "grid_gap": null,
            "grid_row": null,
            "grid_template_areas": null,
            "grid_template_columns": null,
            "grid_template_rows": null,
            "height": null,
            "justify_content": null,
            "justify_items": null,
            "left": null,
            "margin": null,
            "max_height": null,
            "max_width": null,
            "min_height": null,
            "min_width": null,
            "object_fit": null,
            "object_position": null,
            "order": null,
            "overflow": null,
            "overflow_x": null,
            "overflow_y": null,
            "padding": null,
            "right": null,
            "top": null,
            "visibility": null,
            "width": null
          }
        },
        "7b78051d56f3440dbc4809b7e3d2b498": {
          "model_module": "@jupyter-widgets/base",
          "model_name": "LayoutModel",
          "model_module_version": "1.2.0",
          "state": {
            "_model_module": "@jupyter-widgets/base",
            "_model_module_version": "1.2.0",
            "_model_name": "LayoutModel",
            "_view_count": null,
            "_view_module": "@jupyter-widgets/base",
            "_view_module_version": "1.2.0",
            "_view_name": "LayoutView",
            "align_content": null,
            "align_items": null,
            "align_self": null,
            "border": null,
            "bottom": null,
            "display": null,
            "flex": null,
            "flex_flow": null,
            "grid_area": null,
            "grid_auto_columns": null,
            "grid_auto_flow": null,
            "grid_auto_rows": null,
            "grid_column": null,
            "grid_gap": null,
            "grid_row": null,
            "grid_template_areas": null,
            "grid_template_columns": null,
            "grid_template_rows": null,
            "height": null,
            "justify_content": null,
            "justify_items": null,
            "left": null,
            "margin": null,
            "max_height": null,
            "max_width": null,
            "min_height": null,
            "min_width": null,
            "object_fit": null,
            "object_position": null,
            "order": null,
            "overflow": null,
            "overflow_x": null,
            "overflow_y": null,
            "padding": null,
            "right": null,
            "top": null,
            "visibility": null,
            "width": null
          }
        },
        "51fb98f5d4124ee3aaf0918014ca37f8": {
          "model_module": "@jupyter-widgets/controls",
          "model_name": "DescriptionStyleModel",
          "model_module_version": "1.5.0",
          "state": {
            "_model_module": "@jupyter-widgets/controls",
            "_model_module_version": "1.5.0",
            "_model_name": "DescriptionStyleModel",
            "_view_count": null,
            "_view_module": "@jupyter-widgets/base",
            "_view_module_version": "1.2.0",
            "_view_name": "StyleView",
            "description_width": ""
          }
        },
        "ea0713ad893941f285472a348b2bba24": {
          "model_module": "@jupyter-widgets/base",
          "model_name": "LayoutModel",
          "model_module_version": "1.2.0",
          "state": {
            "_model_module": "@jupyter-widgets/base",
            "_model_module_version": "1.2.0",
            "_model_name": "LayoutModel",
            "_view_count": null,
            "_view_module": "@jupyter-widgets/base",
            "_view_module_version": "1.2.0",
            "_view_name": "LayoutView",
            "align_content": null,
            "align_items": null,
            "align_self": null,
            "border": null,
            "bottom": null,
            "display": null,
            "flex": null,
            "flex_flow": null,
            "grid_area": null,
            "grid_auto_columns": null,
            "grid_auto_flow": null,
            "grid_auto_rows": null,
            "grid_column": null,
            "grid_gap": null,
            "grid_row": null,
            "grid_template_areas": null,
            "grid_template_columns": null,
            "grid_template_rows": null,
            "height": null,
            "justify_content": null,
            "justify_items": null,
            "left": null,
            "margin": null,
            "max_height": null,
            "max_width": null,
            "min_height": null,
            "min_width": null,
            "object_fit": null,
            "object_position": null,
            "order": null,
            "overflow": null,
            "overflow_x": null,
            "overflow_y": null,
            "padding": null,
            "right": null,
            "top": null,
            "visibility": null,
            "width": null
          }
        },
        "c7671512b4d048b9918e317024d5877a": {
          "model_module": "@jupyter-widgets/controls",
          "model_name": "ProgressStyleModel",
          "model_module_version": "1.5.0",
          "state": {
            "_model_module": "@jupyter-widgets/controls",
            "_model_module_version": "1.5.0",
            "_model_name": "ProgressStyleModel",
            "_view_count": null,
            "_view_module": "@jupyter-widgets/base",
            "_view_module_version": "1.2.0",
            "_view_name": "StyleView",
            "bar_color": null,
            "description_width": ""
          }
        },
        "803fec07a0cf4cbdb07b0513e64b76cb": {
          "model_module": "@jupyter-widgets/base",
          "model_name": "LayoutModel",
          "model_module_version": "1.2.0",
          "state": {
            "_model_module": "@jupyter-widgets/base",
            "_model_module_version": "1.2.0",
            "_model_name": "LayoutModel",
            "_view_count": null,
            "_view_module": "@jupyter-widgets/base",
            "_view_module_version": "1.2.0",
            "_view_name": "LayoutView",
            "align_content": null,
            "align_items": null,
            "align_self": null,
            "border": null,
            "bottom": null,
            "display": null,
            "flex": null,
            "flex_flow": null,
            "grid_area": null,
            "grid_auto_columns": null,
            "grid_auto_flow": null,
            "grid_auto_rows": null,
            "grid_column": null,
            "grid_gap": null,
            "grid_row": null,
            "grid_template_areas": null,
            "grid_template_columns": null,
            "grid_template_rows": null,
            "height": null,
            "justify_content": null,
            "justify_items": null,
            "left": null,
            "margin": null,
            "max_height": null,
            "max_width": null,
            "min_height": null,
            "min_width": null,
            "object_fit": null,
            "object_position": null,
            "order": null,
            "overflow": null,
            "overflow_x": null,
            "overflow_y": null,
            "padding": null,
            "right": null,
            "top": null,
            "visibility": null,
            "width": null
          }
        },
        "4ebedeaa167947a5ba2d7a406b2f911f": {
          "model_module": "@jupyter-widgets/controls",
          "model_name": "DescriptionStyleModel",
          "model_module_version": "1.5.0",
          "state": {
            "_model_module": "@jupyter-widgets/controls",
            "_model_module_version": "1.5.0",
            "_model_name": "DescriptionStyleModel",
            "_view_count": null,
            "_view_module": "@jupyter-widgets/base",
            "_view_module_version": "1.2.0",
            "_view_name": "StyleView",
            "description_width": ""
          }
        },
        "1659a66b49054caa8896c623d3722fe5": {
          "model_module": "@jupyter-widgets/controls",
          "model_name": "HBoxModel",
          "model_module_version": "1.5.0",
          "state": {
            "_dom_classes": [],
            "_model_module": "@jupyter-widgets/controls",
            "_model_module_version": "1.5.0",
            "_model_name": "HBoxModel",
            "_view_count": null,
            "_view_module": "@jupyter-widgets/controls",
            "_view_module_version": "1.5.0",
            "_view_name": "HBoxView",
            "box_style": "",
            "children": [
              "IPY_MODEL_d86b244b7fbc4676b44e13706063590a",
              "IPY_MODEL_17edcf56f66e4534b5b8f04a124fc419",
              "IPY_MODEL_3ce5ea9da45549e4afc490ae6a3002a1"
            ],
            "layout": "IPY_MODEL_46679740737541b281c6a06a09b3625f"
          }
        },
        "d86b244b7fbc4676b44e13706063590a": {
          "model_module": "@jupyter-widgets/controls",
          "model_name": "HTMLModel",
          "model_module_version": "1.5.0",
          "state": {
            "_dom_classes": [],
            "_model_module": "@jupyter-widgets/controls",
            "_model_module_version": "1.5.0",
            "_model_name": "HTMLModel",
            "_view_count": null,
            "_view_module": "@jupyter-widgets/controls",
            "_view_module_version": "1.5.0",
            "_view_name": "HTMLView",
            "description": "",
            "description_tooltip": null,
            "layout": "IPY_MODEL_1fed3958a06c41c49f170c78b7c752d7",
            "placeholder": "​",
            "style": "IPY_MODEL_6c8ce5a376864bd6a9b1c8e847f8358c",
            "value": "Downloading: 100%"
          }
        },
        "17edcf56f66e4534b5b8f04a124fc419": {
          "model_module": "@jupyter-widgets/controls",
          "model_name": "FloatProgressModel",
          "model_module_version": "1.5.0",
          "state": {
            "_dom_classes": [],
            "_model_module": "@jupyter-widgets/controls",
            "_model_module_version": "1.5.0",
            "_model_name": "FloatProgressModel",
            "_view_count": null,
            "_view_module": "@jupyter-widgets/controls",
            "_view_module_version": "1.5.0",
            "_view_name": "ProgressView",
            "bar_style": "success",
            "description": "",
            "description_tooltip": null,
            "layout": "IPY_MODEL_e2ff0c059ca14bf68f799b7817778f5d",
            "max": 1160,
            "min": 0,
            "orientation": "horizontal",
            "style": "IPY_MODEL_a39c12597cb8416ea6f36efa66068197",
            "value": 1160
          }
        },
        "3ce5ea9da45549e4afc490ae6a3002a1": {
          "model_module": "@jupyter-widgets/controls",
          "model_name": "HTMLModel",
          "model_module_version": "1.5.0",
          "state": {
            "_dom_classes": [],
            "_model_module": "@jupyter-widgets/controls",
            "_model_module_version": "1.5.0",
            "_model_name": "HTMLModel",
            "_view_count": null,
            "_view_module": "@jupyter-widgets/controls",
            "_view_module_version": "1.5.0",
            "_view_name": "HTMLView",
            "description": "",
            "description_tooltip": null,
            "layout": "IPY_MODEL_f570c31c72b84634b820e2d3b2ea70c8",
            "placeholder": "​",
            "style": "IPY_MODEL_689fb13101804098bd1d87795ba71330",
            "value": " 1.13k/1.13k [00:00&lt;00:00, 20.7kB/s]"
          }
        },
        "46679740737541b281c6a06a09b3625f": {
          "model_module": "@jupyter-widgets/base",
          "model_name": "LayoutModel",
          "model_module_version": "1.2.0",
          "state": {
            "_model_module": "@jupyter-widgets/base",
            "_model_module_version": "1.2.0",
            "_model_name": "LayoutModel",
            "_view_count": null,
            "_view_module": "@jupyter-widgets/base",
            "_view_module_version": "1.2.0",
            "_view_name": "LayoutView",
            "align_content": null,
            "align_items": null,
            "align_self": null,
            "border": null,
            "bottom": null,
            "display": null,
            "flex": null,
            "flex_flow": null,
            "grid_area": null,
            "grid_auto_columns": null,
            "grid_auto_flow": null,
            "grid_auto_rows": null,
            "grid_column": null,
            "grid_gap": null,
            "grid_row": null,
            "grid_template_areas": null,
            "grid_template_columns": null,
            "grid_template_rows": null,
            "height": null,
            "justify_content": null,
            "justify_items": null,
            "left": null,
            "margin": null,
            "max_height": null,
            "max_width": null,
            "min_height": null,
            "min_width": null,
            "object_fit": null,
            "object_position": null,
            "order": null,
            "overflow": null,
            "overflow_x": null,
            "overflow_y": null,
            "padding": null,
            "right": null,
            "top": null,
            "visibility": null,
            "width": null
          }
        },
        "1fed3958a06c41c49f170c78b7c752d7": {
          "model_module": "@jupyter-widgets/base",
          "model_name": "LayoutModel",
          "model_module_version": "1.2.0",
          "state": {
            "_model_module": "@jupyter-widgets/base",
            "_model_module_version": "1.2.0",
            "_model_name": "LayoutModel",
            "_view_count": null,
            "_view_module": "@jupyter-widgets/base",
            "_view_module_version": "1.2.0",
            "_view_name": "LayoutView",
            "align_content": null,
            "align_items": null,
            "align_self": null,
            "border": null,
            "bottom": null,
            "display": null,
            "flex": null,
            "flex_flow": null,
            "grid_area": null,
            "grid_auto_columns": null,
            "grid_auto_flow": null,
            "grid_auto_rows": null,
            "grid_column": null,
            "grid_gap": null,
            "grid_row": null,
            "grid_template_areas": null,
            "grid_template_columns": null,
            "grid_template_rows": null,
            "height": null,
            "justify_content": null,
            "justify_items": null,
            "left": null,
            "margin": null,
            "max_height": null,
            "max_width": null,
            "min_height": null,
            "min_width": null,
            "object_fit": null,
            "object_position": null,
            "order": null,
            "overflow": null,
            "overflow_x": null,
            "overflow_y": null,
            "padding": null,
            "right": null,
            "top": null,
            "visibility": null,
            "width": null
          }
        },
        "6c8ce5a376864bd6a9b1c8e847f8358c": {
          "model_module": "@jupyter-widgets/controls",
          "model_name": "DescriptionStyleModel",
          "model_module_version": "1.5.0",
          "state": {
            "_model_module": "@jupyter-widgets/controls",
            "_model_module_version": "1.5.0",
            "_model_name": "DescriptionStyleModel",
            "_view_count": null,
            "_view_module": "@jupyter-widgets/base",
            "_view_module_version": "1.2.0",
            "_view_name": "StyleView",
            "description_width": ""
          }
        },
        "e2ff0c059ca14bf68f799b7817778f5d": {
          "model_module": "@jupyter-widgets/base",
          "model_name": "LayoutModel",
          "model_module_version": "1.2.0",
          "state": {
            "_model_module": "@jupyter-widgets/base",
            "_model_module_version": "1.2.0",
            "_model_name": "LayoutModel",
            "_view_count": null,
            "_view_module": "@jupyter-widgets/base",
            "_view_module_version": "1.2.0",
            "_view_name": "LayoutView",
            "align_content": null,
            "align_items": null,
            "align_self": null,
            "border": null,
            "bottom": null,
            "display": null,
            "flex": null,
            "flex_flow": null,
            "grid_area": null,
            "grid_auto_columns": null,
            "grid_auto_flow": null,
            "grid_auto_rows": null,
            "grid_column": null,
            "grid_gap": null,
            "grid_row": null,
            "grid_template_areas": null,
            "grid_template_columns": null,
            "grid_template_rows": null,
            "height": null,
            "justify_content": null,
            "justify_items": null,
            "left": null,
            "margin": null,
            "max_height": null,
            "max_width": null,
            "min_height": null,
            "min_width": null,
            "object_fit": null,
            "object_position": null,
            "order": null,
            "overflow": null,
            "overflow_x": null,
            "overflow_y": null,
            "padding": null,
            "right": null,
            "top": null,
            "visibility": null,
            "width": null
          }
        },
        "a39c12597cb8416ea6f36efa66068197": {
          "model_module": "@jupyter-widgets/controls",
          "model_name": "ProgressStyleModel",
          "model_module_version": "1.5.0",
          "state": {
            "_model_module": "@jupyter-widgets/controls",
            "_model_module_version": "1.5.0",
            "_model_name": "ProgressStyleModel",
            "_view_count": null,
            "_view_module": "@jupyter-widgets/base",
            "_view_module_version": "1.2.0",
            "_view_name": "StyleView",
            "bar_color": null,
            "description_width": ""
          }
        },
        "f570c31c72b84634b820e2d3b2ea70c8": {
          "model_module": "@jupyter-widgets/base",
          "model_name": "LayoutModel",
          "model_module_version": "1.2.0",
          "state": {
            "_model_module": "@jupyter-widgets/base",
            "_model_module_version": "1.2.0",
            "_model_name": "LayoutModel",
            "_view_count": null,
            "_view_module": "@jupyter-widgets/base",
            "_view_module_version": "1.2.0",
            "_view_name": "LayoutView",
            "align_content": null,
            "align_items": null,
            "align_self": null,
            "border": null,
            "bottom": null,
            "display": null,
            "flex": null,
            "flex_flow": null,
            "grid_area": null,
            "grid_auto_columns": null,
            "grid_auto_flow": null,
            "grid_auto_rows": null,
            "grid_column": null,
            "grid_gap": null,
            "grid_row": null,
            "grid_template_areas": null,
            "grid_template_columns": null,
            "grid_template_rows": null,
            "height": null,
            "justify_content": null,
            "justify_items": null,
            "left": null,
            "margin": null,
            "max_height": null,
            "max_width": null,
            "min_height": null,
            "min_width": null,
            "object_fit": null,
            "object_position": null,
            "order": null,
            "overflow": null,
            "overflow_x": null,
            "overflow_y": null,
            "padding": null,
            "right": null,
            "top": null,
            "visibility": null,
            "width": null
          }
        },
        "689fb13101804098bd1d87795ba71330": {
          "model_module": "@jupyter-widgets/controls",
          "model_name": "DescriptionStyleModel",
          "model_module_version": "1.5.0",
          "state": {
            "_model_module": "@jupyter-widgets/controls",
            "_model_module_version": "1.5.0",
            "_model_name": "DescriptionStyleModel",
            "_view_count": null,
            "_view_module": "@jupyter-widgets/base",
            "_view_module_version": "1.2.0",
            "_view_name": "StyleView",
            "description_width": ""
          }
        },
        "7ff0b7c6e8454c54b3d3779179e6175f": {
          "model_module": "@jupyter-widgets/controls",
          "model_name": "HBoxModel",
          "model_module_version": "1.5.0",
          "state": {
            "_dom_classes": [],
            "_model_module": "@jupyter-widgets/controls",
            "_model_module_version": "1.5.0",
            "_model_name": "HBoxModel",
            "_view_count": null,
            "_view_module": "@jupyter-widgets/controls",
            "_view_module_version": "1.5.0",
            "_view_name": "HBoxView",
            "box_style": "",
            "children": [
              "IPY_MODEL_013c7594448b4921880617c7fc6b872d",
              "IPY_MODEL_10abf5ed9cb947acb7dbfa1979bf7944",
              "IPY_MODEL_83542a1cd60d4c2e96cf63eb5ba5b7a6"
            ],
            "layout": "IPY_MODEL_1afd923022244023b0e6dc3a10bf3e7b"
          }
        },
        "013c7594448b4921880617c7fc6b872d": {
          "model_module": "@jupyter-widgets/controls",
          "model_name": "HTMLModel",
          "model_module_version": "1.5.0",
          "state": {
            "_dom_classes": [],
            "_model_module": "@jupyter-widgets/controls",
            "_model_module_version": "1.5.0",
            "_model_name": "HTMLModel",
            "_view_count": null,
            "_view_module": "@jupyter-widgets/controls",
            "_view_module_version": "1.5.0",
            "_view_name": "HTMLView",
            "description": "",
            "description_tooltip": null,
            "layout": "IPY_MODEL_ce96af49aed1447a8234aeb50c7d0951",
            "placeholder": "​",
            "style": "IPY_MODEL_50ffe94e62c84595bbfbf1302465fa1e",
            "value": "Downloading: 100%"
          }
        },
        "10abf5ed9cb947acb7dbfa1979bf7944": {
          "model_module": "@jupyter-widgets/controls",
          "model_name": "FloatProgressModel",
          "model_module_version": "1.5.0",
          "state": {
            "_dom_classes": [],
            "_model_module": "@jupyter-widgets/controls",
            "_model_module_version": "1.5.0",
            "_model_name": "FloatProgressModel",
            "_view_count": null,
            "_view_module": "@jupyter-widgets/controls",
            "_view_module_version": "1.5.0",
            "_view_name": "ProgressView",
            "bar_style": "success",
            "description": "",
            "description_tooltip": null,
            "layout": "IPY_MODEL_9fc000872a524178875707e99293566d",
            "max": 890,
            "min": 0,
            "orientation": "horizontal",
            "style": "IPY_MODEL_69ba911699794c7393b0af34e1ca04a1",
            "value": 890
          }
        },
        "83542a1cd60d4c2e96cf63eb5ba5b7a6": {
          "model_module": "@jupyter-widgets/controls",
          "model_name": "HTMLModel",
          "model_module_version": "1.5.0",
          "state": {
            "_dom_classes": [],
            "_model_module": "@jupyter-widgets/controls",
            "_model_module_version": "1.5.0",
            "_model_name": "HTMLModel",
            "_view_count": null,
            "_view_module": "@jupyter-widgets/controls",
            "_view_module_version": "1.5.0",
            "_view_name": "HTMLView",
            "description": "",
            "description_tooltip": null,
            "layout": "IPY_MODEL_b65887afa4fe44f68040be90c76a9cce",
            "placeholder": "​",
            "style": "IPY_MODEL_dd26594896944175a313bc6fc1f504ec",
            "value": " 890/890 [00:00&lt;00:00, 15.9kB/s]"
          }
        },
        "1afd923022244023b0e6dc3a10bf3e7b": {
          "model_module": "@jupyter-widgets/base",
          "model_name": "LayoutModel",
          "model_module_version": "1.2.0",
          "state": {
            "_model_module": "@jupyter-widgets/base",
            "_model_module_version": "1.2.0",
            "_model_name": "LayoutModel",
            "_view_count": null,
            "_view_module": "@jupyter-widgets/base",
            "_view_module_version": "1.2.0",
            "_view_name": "LayoutView",
            "align_content": null,
            "align_items": null,
            "align_self": null,
            "border": null,
            "bottom": null,
            "display": null,
            "flex": null,
            "flex_flow": null,
            "grid_area": null,
            "grid_auto_columns": null,
            "grid_auto_flow": null,
            "grid_auto_rows": null,
            "grid_column": null,
            "grid_gap": null,
            "grid_row": null,
            "grid_template_areas": null,
            "grid_template_columns": null,
            "grid_template_rows": null,
            "height": null,
            "justify_content": null,
            "justify_items": null,
            "left": null,
            "margin": null,
            "max_height": null,
            "max_width": null,
            "min_height": null,
            "min_width": null,
            "object_fit": null,
            "object_position": null,
            "order": null,
            "overflow": null,
            "overflow_x": null,
            "overflow_y": null,
            "padding": null,
            "right": null,
            "top": null,
            "visibility": null,
            "width": null
          }
        },
        "ce96af49aed1447a8234aeb50c7d0951": {
          "model_module": "@jupyter-widgets/base",
          "model_name": "LayoutModel",
          "model_module_version": "1.2.0",
          "state": {
            "_model_module": "@jupyter-widgets/base",
            "_model_module_version": "1.2.0",
            "_model_name": "LayoutModel",
            "_view_count": null,
            "_view_module": "@jupyter-widgets/base",
            "_view_module_version": "1.2.0",
            "_view_name": "LayoutView",
            "align_content": null,
            "align_items": null,
            "align_self": null,
            "border": null,
            "bottom": null,
            "display": null,
            "flex": null,
            "flex_flow": null,
            "grid_area": null,
            "grid_auto_columns": null,
            "grid_auto_flow": null,
            "grid_auto_rows": null,
            "grid_column": null,
            "grid_gap": null,
            "grid_row": null,
            "grid_template_areas": null,
            "grid_template_columns": null,
            "grid_template_rows": null,
            "height": null,
            "justify_content": null,
            "justify_items": null,
            "left": null,
            "margin": null,
            "max_height": null,
            "max_width": null,
            "min_height": null,
            "min_width": null,
            "object_fit": null,
            "object_position": null,
            "order": null,
            "overflow": null,
            "overflow_x": null,
            "overflow_y": null,
            "padding": null,
            "right": null,
            "top": null,
            "visibility": null,
            "width": null
          }
        },
        "50ffe94e62c84595bbfbf1302465fa1e": {
          "model_module": "@jupyter-widgets/controls",
          "model_name": "DescriptionStyleModel",
          "model_module_version": "1.5.0",
          "state": {
            "_model_module": "@jupyter-widgets/controls",
            "_model_module_version": "1.5.0",
            "_model_name": "DescriptionStyleModel",
            "_view_count": null,
            "_view_module": "@jupyter-widgets/base",
            "_view_module_version": "1.2.0",
            "_view_name": "StyleView",
            "description_width": ""
          }
        },
        "9fc000872a524178875707e99293566d": {
          "model_module": "@jupyter-widgets/base",
          "model_name": "LayoutModel",
          "model_module_version": "1.2.0",
          "state": {
            "_model_module": "@jupyter-widgets/base",
            "_model_module_version": "1.2.0",
            "_model_name": "LayoutModel",
            "_view_count": null,
            "_view_module": "@jupyter-widgets/base",
            "_view_module_version": "1.2.0",
            "_view_name": "LayoutView",
            "align_content": null,
            "align_items": null,
            "align_self": null,
            "border": null,
            "bottom": null,
            "display": null,
            "flex": null,
            "flex_flow": null,
            "grid_area": null,
            "grid_auto_columns": null,
            "grid_auto_flow": null,
            "grid_auto_rows": null,
            "grid_column": null,
            "grid_gap": null,
            "grid_row": null,
            "grid_template_areas": null,
            "grid_template_columns": null,
            "grid_template_rows": null,
            "height": null,
            "justify_content": null,
            "justify_items": null,
            "left": null,
            "margin": null,
            "max_height": null,
            "max_width": null,
            "min_height": null,
            "min_width": null,
            "object_fit": null,
            "object_position": null,
            "order": null,
            "overflow": null,
            "overflow_x": null,
            "overflow_y": null,
            "padding": null,
            "right": null,
            "top": null,
            "visibility": null,
            "width": null
          }
        },
        "69ba911699794c7393b0af34e1ca04a1": {
          "model_module": "@jupyter-widgets/controls",
          "model_name": "ProgressStyleModel",
          "model_module_version": "1.5.0",
          "state": {
            "_model_module": "@jupyter-widgets/controls",
            "_model_module_version": "1.5.0",
            "_model_name": "ProgressStyleModel",
            "_view_count": null,
            "_view_module": "@jupyter-widgets/base",
            "_view_module_version": "1.2.0",
            "_view_name": "StyleView",
            "bar_color": null,
            "description_width": ""
          }
        },
        "b65887afa4fe44f68040be90c76a9cce": {
          "model_module": "@jupyter-widgets/base",
          "model_name": "LayoutModel",
          "model_module_version": "1.2.0",
          "state": {
            "_model_module": "@jupyter-widgets/base",
            "_model_module_version": "1.2.0",
            "_model_name": "LayoutModel",
            "_view_count": null,
            "_view_module": "@jupyter-widgets/base",
            "_view_module_version": "1.2.0",
            "_view_name": "LayoutView",
            "align_content": null,
            "align_items": null,
            "align_self": null,
            "border": null,
            "bottom": null,
            "display": null,
            "flex": null,
            "flex_flow": null,
            "grid_area": null,
            "grid_auto_columns": null,
            "grid_auto_flow": null,
            "grid_auto_rows": null,
            "grid_column": null,
            "grid_gap": null,
            "grid_row": null,
            "grid_template_areas": null,
            "grid_template_columns": null,
            "grid_template_rows": null,
            "height": null,
            "justify_content": null,
            "justify_items": null,
            "left": null,
            "margin": null,
            "max_height": null,
            "max_width": null,
            "min_height": null,
            "min_width": null,
            "object_fit": null,
            "object_position": null,
            "order": null,
            "overflow": null,
            "overflow_x": null,
            "overflow_y": null,
            "padding": null,
            "right": null,
            "top": null,
            "visibility": null,
            "width": null
          }
        },
        "dd26594896944175a313bc6fc1f504ec": {
          "model_module": "@jupyter-widgets/controls",
          "model_name": "DescriptionStyleModel",
          "model_module_version": "1.5.0",
          "state": {
            "_model_module": "@jupyter-widgets/controls",
            "_model_module_version": "1.5.0",
            "_model_name": "DescriptionStyleModel",
            "_view_count": null,
            "_view_module": "@jupyter-widgets/base",
            "_view_module_version": "1.2.0",
            "_view_name": "StyleView",
            "description_width": ""
          }
        },
        "0ab68839511946b5835f45bc5398b67e": {
          "model_module": "@jupyter-widgets/controls",
          "model_name": "HBoxModel",
          "model_module_version": "1.5.0",
          "state": {
            "_dom_classes": [],
            "_model_module": "@jupyter-widgets/controls",
            "_model_module_version": "1.5.0",
            "_model_name": "HBoxModel",
            "_view_count": null,
            "_view_module": "@jupyter-widgets/controls",
            "_view_module_version": "1.5.0",
            "_view_name": "HBoxView",
            "box_style": "",
            "children": [
              "IPY_MODEL_233ae2ab574e45b6a78d01b18284d7f7",
              "IPY_MODEL_24222b9d0ae04217b879b4fcaef1e096",
              "IPY_MODEL_f1996bb9609c4c4394bfb2017e642bd5"
            ],
            "layout": "IPY_MODEL_1fa8304dd2604d4f94cf39da626903d1"
          }
        },
        "233ae2ab574e45b6a78d01b18284d7f7": {
          "model_module": "@jupyter-widgets/controls",
          "model_name": "HTMLModel",
          "model_module_version": "1.5.0",
          "state": {
            "_dom_classes": [],
            "_model_module": "@jupyter-widgets/controls",
            "_model_module_version": "1.5.0",
            "_model_name": "HTMLModel",
            "_view_count": null,
            "_view_module": "@jupyter-widgets/controls",
            "_view_module_version": "1.5.0",
            "_view_name": "HTMLView",
            "description": "",
            "description_tooltip": null,
            "layout": "IPY_MODEL_29358de7203e4f16913a1a1c03bbb783",
            "placeholder": "​",
            "style": "IPY_MODEL_aa4433ecbef944b0b88063650e8ebd67",
            "value": "Downloading: 100%"
          }
        },
        "24222b9d0ae04217b879b4fcaef1e096": {
          "model_module": "@jupyter-widgets/controls",
          "model_name": "FloatProgressModel",
          "model_module_version": "1.5.0",
          "state": {
            "_dom_classes": [],
            "_model_module": "@jupyter-widgets/controls",
            "_model_module_version": "1.5.0",
            "_model_name": "FloatProgressModel",
            "_view_count": null,
            "_view_module": "@jupyter-widgets/controls",
            "_view_module_version": "1.5.0",
            "_view_name": "ProgressView",
            "bar_style": "success",
            "description": "",
            "description_tooltip": null,
            "layout": "IPY_MODEL_3d7479666c004412ac2343b3643e72e6",
            "max": 539694161,
            "min": 0,
            "orientation": "horizontal",
            "style": "IPY_MODEL_3f85b4ce3a2942bb8de5814bd1dac6d4",
            "value": 539694161
          }
        },
        "f1996bb9609c4c4394bfb2017e642bd5": {
          "model_module": "@jupyter-widgets/controls",
          "model_name": "HTMLModel",
          "model_module_version": "1.5.0",
          "state": {
            "_dom_classes": [],
            "_model_module": "@jupyter-widgets/controls",
            "_model_module_version": "1.5.0",
            "_model_name": "HTMLModel",
            "_view_count": null,
            "_view_module": "@jupyter-widgets/controls",
            "_view_module_version": "1.5.0",
            "_view_name": "HTMLView",
            "description": "",
            "description_tooltip": null,
            "layout": "IPY_MODEL_af9e6583b5044c89abfc32696a885990",
            "placeholder": "​",
            "style": "IPY_MODEL_f05a9cf5fe95481f8e43824cba9d241f",
            "value": " 515M/515M [00:22&lt;00:00, 24.4MB/s]"
          }
        },
        "1fa8304dd2604d4f94cf39da626903d1": {
          "model_module": "@jupyter-widgets/base",
          "model_name": "LayoutModel",
          "model_module_version": "1.2.0",
          "state": {
            "_model_module": "@jupyter-widgets/base",
            "_model_module_version": "1.2.0",
            "_model_name": "LayoutModel",
            "_view_count": null,
            "_view_module": "@jupyter-widgets/base",
            "_view_module_version": "1.2.0",
            "_view_name": "LayoutView",
            "align_content": null,
            "align_items": null,
            "align_self": null,
            "border": null,
            "bottom": null,
            "display": null,
            "flex": null,
            "flex_flow": null,
            "grid_area": null,
            "grid_auto_columns": null,
            "grid_auto_flow": null,
            "grid_auto_rows": null,
            "grid_column": null,
            "grid_gap": null,
            "grid_row": null,
            "grid_template_areas": null,
            "grid_template_columns": null,
            "grid_template_rows": null,
            "height": null,
            "justify_content": null,
            "justify_items": null,
            "left": null,
            "margin": null,
            "max_height": null,
            "max_width": null,
            "min_height": null,
            "min_width": null,
            "object_fit": null,
            "object_position": null,
            "order": null,
            "overflow": null,
            "overflow_x": null,
            "overflow_y": null,
            "padding": null,
            "right": null,
            "top": null,
            "visibility": null,
            "width": null
          }
        },
        "29358de7203e4f16913a1a1c03bbb783": {
          "model_module": "@jupyter-widgets/base",
          "model_name": "LayoutModel",
          "model_module_version": "1.2.0",
          "state": {
            "_model_module": "@jupyter-widgets/base",
            "_model_module_version": "1.2.0",
            "_model_name": "LayoutModel",
            "_view_count": null,
            "_view_module": "@jupyter-widgets/base",
            "_view_module_version": "1.2.0",
            "_view_name": "LayoutView",
            "align_content": null,
            "align_items": null,
            "align_self": null,
            "border": null,
            "bottom": null,
            "display": null,
            "flex": null,
            "flex_flow": null,
            "grid_area": null,
            "grid_auto_columns": null,
            "grid_auto_flow": null,
            "grid_auto_rows": null,
            "grid_column": null,
            "grid_gap": null,
            "grid_row": null,
            "grid_template_areas": null,
            "grid_template_columns": null,
            "grid_template_rows": null,
            "height": null,
            "justify_content": null,
            "justify_items": null,
            "left": null,
            "margin": null,
            "max_height": null,
            "max_width": null,
            "min_height": null,
            "min_width": null,
            "object_fit": null,
            "object_position": null,
            "order": null,
            "overflow": null,
            "overflow_x": null,
            "overflow_y": null,
            "padding": null,
            "right": null,
            "top": null,
            "visibility": null,
            "width": null
          }
        },
        "aa4433ecbef944b0b88063650e8ebd67": {
          "model_module": "@jupyter-widgets/controls",
          "model_name": "DescriptionStyleModel",
          "model_module_version": "1.5.0",
          "state": {
            "_model_module": "@jupyter-widgets/controls",
            "_model_module_version": "1.5.0",
            "_model_name": "DescriptionStyleModel",
            "_view_count": null,
            "_view_module": "@jupyter-widgets/base",
            "_view_module_version": "1.2.0",
            "_view_name": "StyleView",
            "description_width": ""
          }
        },
        "3d7479666c004412ac2343b3643e72e6": {
          "model_module": "@jupyter-widgets/base",
          "model_name": "LayoutModel",
          "model_module_version": "1.2.0",
          "state": {
            "_model_module": "@jupyter-widgets/base",
            "_model_module_version": "1.2.0",
            "_model_name": "LayoutModel",
            "_view_count": null,
            "_view_module": "@jupyter-widgets/base",
            "_view_module_version": "1.2.0",
            "_view_name": "LayoutView",
            "align_content": null,
            "align_items": null,
            "align_self": null,
            "border": null,
            "bottom": null,
            "display": null,
            "flex": null,
            "flex_flow": null,
            "grid_area": null,
            "grid_auto_columns": null,
            "grid_auto_flow": null,
            "grid_auto_rows": null,
            "grid_column": null,
            "grid_gap": null,
            "grid_row": null,
            "grid_template_areas": null,
            "grid_template_columns": null,
            "grid_template_rows": null,
            "height": null,
            "justify_content": null,
            "justify_items": null,
            "left": null,
            "margin": null,
            "max_height": null,
            "max_width": null,
            "min_height": null,
            "min_width": null,
            "object_fit": null,
            "object_position": null,
            "order": null,
            "overflow": null,
            "overflow_x": null,
            "overflow_y": null,
            "padding": null,
            "right": null,
            "top": null,
            "visibility": null,
            "width": null
          }
        },
        "3f85b4ce3a2942bb8de5814bd1dac6d4": {
          "model_module": "@jupyter-widgets/controls",
          "model_name": "ProgressStyleModel",
          "model_module_version": "1.5.0",
          "state": {
            "_model_module": "@jupyter-widgets/controls",
            "_model_module_version": "1.5.0",
            "_model_name": "ProgressStyleModel",
            "_view_count": null,
            "_view_module": "@jupyter-widgets/base",
            "_view_module_version": "1.2.0",
            "_view_name": "StyleView",
            "bar_color": null,
            "description_width": ""
          }
        },
        "af9e6583b5044c89abfc32696a885990": {
          "model_module": "@jupyter-widgets/base",
          "model_name": "LayoutModel",
          "model_module_version": "1.2.0",
          "state": {
            "_model_module": "@jupyter-widgets/base",
            "_model_module_version": "1.2.0",
            "_model_name": "LayoutModel",
            "_view_count": null,
            "_view_module": "@jupyter-widgets/base",
            "_view_module_version": "1.2.0",
            "_view_name": "LayoutView",
            "align_content": null,
            "align_items": null,
            "align_self": null,
            "border": null,
            "bottom": null,
            "display": null,
            "flex": null,
            "flex_flow": null,
            "grid_area": null,
            "grid_auto_columns": null,
            "grid_auto_flow": null,
            "grid_auto_rows": null,
            "grid_column": null,
            "grid_gap": null,
            "grid_row": null,
            "grid_template_areas": null,
            "grid_template_columns": null,
            "grid_template_rows": null,
            "height": null,
            "justify_content": null,
            "justify_items": null,
            "left": null,
            "margin": null,
            "max_height": null,
            "max_width": null,
            "min_height": null,
            "min_width": null,
            "object_fit": null,
            "object_position": null,
            "order": null,
            "overflow": null,
            "overflow_x": null,
            "overflow_y": null,
            "padding": null,
            "right": null,
            "top": null,
            "visibility": null,
            "width": null
          }
        },
        "f05a9cf5fe95481f8e43824cba9d241f": {
          "model_module": "@jupyter-widgets/controls",
          "model_name": "DescriptionStyleModel",
          "model_module_version": "1.5.0",
          "state": {
            "_model_module": "@jupyter-widgets/controls",
            "_model_module_version": "1.5.0",
            "_model_name": "DescriptionStyleModel",
            "_view_count": null,
            "_view_module": "@jupyter-widgets/base",
            "_view_module_version": "1.2.0",
            "_view_name": "StyleView",
            "description_width": ""
          }
        },
        "720b4304b4c4443495e6eee8473474b8": {
          "model_module": "@jupyter-widgets/controls",
          "model_name": "HBoxModel",
          "model_module_version": "1.5.0",
          "state": {
            "_dom_classes": [],
            "_model_module": "@jupyter-widgets/controls",
            "_model_module_version": "1.5.0",
            "_model_name": "HBoxModel",
            "_view_count": null,
            "_view_module": "@jupyter-widgets/controls",
            "_view_module_version": "1.5.0",
            "_view_name": "HBoxView",
            "box_style": "",
            "children": [
              "IPY_MODEL_be6ab796f2d949388114743e31c6401b",
              "IPY_MODEL_d46075f4257f446cb51eb9c8c2f5bc1c",
              "IPY_MODEL_7ab74d13af824d3e8ed10ac7c7f2c595"
            ],
            "layout": "IPY_MODEL_edea582b2d504b1aa1bf5b954a32ad76"
          }
        },
        "be6ab796f2d949388114743e31c6401b": {
          "model_module": "@jupyter-widgets/controls",
          "model_name": "HTMLModel",
          "model_module_version": "1.5.0",
          "state": {
            "_dom_classes": [],
            "_model_module": "@jupyter-widgets/controls",
            "_model_module_version": "1.5.0",
            "_model_name": "HTMLModel",
            "_view_count": null,
            "_view_module": "@jupyter-widgets/controls",
            "_view_module_version": "1.5.0",
            "_view_name": "HTMLView",
            "description": "",
            "description_tooltip": null,
            "layout": "IPY_MODEL_363b48089a9f414e92d45364af17c359",
            "placeholder": "​",
            "style": "IPY_MODEL_a7531cce79754bbc88848ad8dae34948",
            "value": "Downloading: 100%"
          }
        },
        "d46075f4257f446cb51eb9c8c2f5bc1c": {
          "model_module": "@jupyter-widgets/controls",
          "model_name": "FloatProgressModel",
          "model_module_version": "1.5.0",
          "state": {
            "_dom_classes": [],
            "_model_module": "@jupyter-widgets/controls",
            "_model_module_version": "1.5.0",
            "_model_name": "FloatProgressModel",
            "_view_count": null,
            "_view_module": "@jupyter-widgets/controls",
            "_view_module_version": "1.5.0",
            "_view_name": "ProgressView",
            "bar_style": "success",
            "description": "",
            "description_tooltip": null,
            "layout": "IPY_MODEL_e726b1a162fe468884569ce52cf8b256",
            "max": 295,
            "min": 0,
            "orientation": "horizontal",
            "style": "IPY_MODEL_2ad8e28a9a314657b88a8dfbe0026673",
            "value": 295
          }
        },
        "7ab74d13af824d3e8ed10ac7c7f2c595": {
          "model_module": "@jupyter-widgets/controls",
          "model_name": "HTMLModel",
          "model_module_version": "1.5.0",
          "state": {
            "_dom_classes": [],
            "_model_module": "@jupyter-widgets/controls",
            "_model_module_version": "1.5.0",
            "_model_name": "HTMLModel",
            "_view_count": null,
            "_view_module": "@jupyter-widgets/controls",
            "_view_module_version": "1.5.0",
            "_view_name": "HTMLView",
            "description": "",
            "description_tooltip": null,
            "layout": "IPY_MODEL_0834020bbf3a4c288c4d3e8e931986e7",
            "placeholder": "​",
            "style": "IPY_MODEL_119b8da347114de294ad88a6fb65b0a5",
            "value": " 295/295 [00:00&lt;00:00, 9.44kB/s]"
          }
        },
        "edea582b2d504b1aa1bf5b954a32ad76": {
          "model_module": "@jupyter-widgets/base",
          "model_name": "LayoutModel",
          "model_module_version": "1.2.0",
          "state": {
            "_model_module": "@jupyter-widgets/base",
            "_model_module_version": "1.2.0",
            "_model_name": "LayoutModel",
            "_view_count": null,
            "_view_module": "@jupyter-widgets/base",
            "_view_module_version": "1.2.0",
            "_view_name": "LayoutView",
            "align_content": null,
            "align_items": null,
            "align_self": null,
            "border": null,
            "bottom": null,
            "display": null,
            "flex": null,
            "flex_flow": null,
            "grid_area": null,
            "grid_auto_columns": null,
            "grid_auto_flow": null,
            "grid_auto_rows": null,
            "grid_column": null,
            "grid_gap": null,
            "grid_row": null,
            "grid_template_areas": null,
            "grid_template_columns": null,
            "grid_template_rows": null,
            "height": null,
            "justify_content": null,
            "justify_items": null,
            "left": null,
            "margin": null,
            "max_height": null,
            "max_width": null,
            "min_height": null,
            "min_width": null,
            "object_fit": null,
            "object_position": null,
            "order": null,
            "overflow": null,
            "overflow_x": null,
            "overflow_y": null,
            "padding": null,
            "right": null,
            "top": null,
            "visibility": null,
            "width": null
          }
        },
        "363b48089a9f414e92d45364af17c359": {
          "model_module": "@jupyter-widgets/base",
          "model_name": "LayoutModel",
          "model_module_version": "1.2.0",
          "state": {
            "_model_module": "@jupyter-widgets/base",
            "_model_module_version": "1.2.0",
            "_model_name": "LayoutModel",
            "_view_count": null,
            "_view_module": "@jupyter-widgets/base",
            "_view_module_version": "1.2.0",
            "_view_name": "LayoutView",
            "align_content": null,
            "align_items": null,
            "align_self": null,
            "border": null,
            "bottom": null,
            "display": null,
            "flex": null,
            "flex_flow": null,
            "grid_area": null,
            "grid_auto_columns": null,
            "grid_auto_flow": null,
            "grid_auto_rows": null,
            "grid_column": null,
            "grid_gap": null,
            "grid_row": null,
            "grid_template_areas": null,
            "grid_template_columns": null,
            "grid_template_rows": null,
            "height": null,
            "justify_content": null,
            "justify_items": null,
            "left": null,
            "margin": null,
            "max_height": null,
            "max_width": null,
            "min_height": null,
            "min_width": null,
            "object_fit": null,
            "object_position": null,
            "order": null,
            "overflow": null,
            "overflow_x": null,
            "overflow_y": null,
            "padding": null,
            "right": null,
            "top": null,
            "visibility": null,
            "width": null
          }
        },
        "a7531cce79754bbc88848ad8dae34948": {
          "model_module": "@jupyter-widgets/controls",
          "model_name": "DescriptionStyleModel",
          "model_module_version": "1.5.0",
          "state": {
            "_model_module": "@jupyter-widgets/controls",
            "_model_module_version": "1.5.0",
            "_model_name": "DescriptionStyleModel",
            "_view_count": null,
            "_view_module": "@jupyter-widgets/base",
            "_view_module_version": "1.2.0",
            "_view_name": "StyleView",
            "description_width": ""
          }
        },
        "e726b1a162fe468884569ce52cf8b256": {
          "model_module": "@jupyter-widgets/base",
          "model_name": "LayoutModel",
          "model_module_version": "1.2.0",
          "state": {
            "_model_module": "@jupyter-widgets/base",
            "_model_module_version": "1.2.0",
            "_model_name": "LayoutModel",
            "_view_count": null,
            "_view_module": "@jupyter-widgets/base",
            "_view_module_version": "1.2.0",
            "_view_name": "LayoutView",
            "align_content": null,
            "align_items": null,
            "align_self": null,
            "border": null,
            "bottom": null,
            "display": null,
            "flex": null,
            "flex_flow": null,
            "grid_area": null,
            "grid_auto_columns": null,
            "grid_auto_flow": null,
            "grid_auto_rows": null,
            "grid_column": null,
            "grid_gap": null,
            "grid_row": null,
            "grid_template_areas": null,
            "grid_template_columns": null,
            "grid_template_rows": null,
            "height": null,
            "justify_content": null,
            "justify_items": null,
            "left": null,
            "margin": null,
            "max_height": null,
            "max_width": null,
            "min_height": null,
            "min_width": null,
            "object_fit": null,
            "object_position": null,
            "order": null,
            "overflow": null,
            "overflow_x": null,
            "overflow_y": null,
            "padding": null,
            "right": null,
            "top": null,
            "visibility": null,
            "width": null
          }
        },
        "2ad8e28a9a314657b88a8dfbe0026673": {
          "model_module": "@jupyter-widgets/controls",
          "model_name": "ProgressStyleModel",
          "model_module_version": "1.5.0",
          "state": {
            "_model_module": "@jupyter-widgets/controls",
            "_model_module_version": "1.5.0",
            "_model_name": "ProgressStyleModel",
            "_view_count": null,
            "_view_module": "@jupyter-widgets/base",
            "_view_module_version": "1.2.0",
            "_view_name": "StyleView",
            "bar_color": null,
            "description_width": ""
          }
        },
        "0834020bbf3a4c288c4d3e8e931986e7": {
          "model_module": "@jupyter-widgets/base",
          "model_name": "LayoutModel",
          "model_module_version": "1.2.0",
          "state": {
            "_model_module": "@jupyter-widgets/base",
            "_model_module_version": "1.2.0",
            "_model_name": "LayoutModel",
            "_view_count": null,
            "_view_module": "@jupyter-widgets/base",
            "_view_module_version": "1.2.0",
            "_view_name": "LayoutView",
            "align_content": null,
            "align_items": null,
            "align_self": null,
            "border": null,
            "bottom": null,
            "display": null,
            "flex": null,
            "flex_flow": null,
            "grid_area": null,
            "grid_auto_columns": null,
            "grid_auto_flow": null,
            "grid_auto_rows": null,
            "grid_column": null,
            "grid_gap": null,
            "grid_row": null,
            "grid_template_areas": null,
            "grid_template_columns": null,
            "grid_template_rows": null,
            "height": null,
            "justify_content": null,
            "justify_items": null,
            "left": null,
            "margin": null,
            "max_height": null,
            "max_width": null,
            "min_height": null,
            "min_width": null,
            "object_fit": null,
            "object_position": null,
            "order": null,
            "overflow": null,
            "overflow_x": null,
            "overflow_y": null,
            "padding": null,
            "right": null,
            "top": null,
            "visibility": null,
            "width": null
          }
        },
        "119b8da347114de294ad88a6fb65b0a5": {
          "model_module": "@jupyter-widgets/controls",
          "model_name": "DescriptionStyleModel",
          "model_module_version": "1.5.0",
          "state": {
            "_model_module": "@jupyter-widgets/controls",
            "_model_module_version": "1.5.0",
            "_model_name": "DescriptionStyleModel",
            "_view_count": null,
            "_view_module": "@jupyter-widgets/base",
            "_view_module_version": "1.2.0",
            "_view_name": "StyleView",
            "description_width": ""
          }
        },
        "46d46a77e3554efd88f4d2a363be00d2": {
          "model_module": "@jupyter-widgets/controls",
          "model_name": "HBoxModel",
          "model_module_version": "1.5.0",
          "state": {
            "_dom_classes": [],
            "_model_module": "@jupyter-widgets/controls",
            "_model_module_version": "1.5.0",
            "_model_name": "HBoxModel",
            "_view_count": null,
            "_view_module": "@jupyter-widgets/controls",
            "_view_module_version": "1.5.0",
            "_view_name": "HBoxView",
            "box_style": "",
            "children": [
              "IPY_MODEL_f9b910c933214972889870c8f99fa77e",
              "IPY_MODEL_2846d1cbda0e4f62a3ab28e44d464966",
              "IPY_MODEL_b56d9a7b39e948e0bd2133377ec19aa3"
            ],
            "layout": "IPY_MODEL_de8a0e8837f549158dbc0494cf5a4948"
          }
        },
        "f9b910c933214972889870c8f99fa77e": {
          "model_module": "@jupyter-widgets/controls",
          "model_name": "HTMLModel",
          "model_module_version": "1.5.0",
          "state": {
            "_dom_classes": [],
            "_model_module": "@jupyter-widgets/controls",
            "_model_module_version": "1.5.0",
            "_model_name": "HTMLModel",
            "_view_count": null,
            "_view_module": "@jupyter-widgets/controls",
            "_view_module_version": "1.5.0",
            "_view_name": "HTMLView",
            "description": "",
            "description_tooltip": null,
            "layout": "IPY_MODEL_9be1cd05d96d4407be11c418d3846265",
            "placeholder": "​",
            "style": "IPY_MODEL_40059699ecbe434b8f52e10e267825b4",
            "value": "Downloading: 100%"
          }
        },
        "2846d1cbda0e4f62a3ab28e44d464966": {
          "model_module": "@jupyter-widgets/controls",
          "model_name": "FloatProgressModel",
          "model_module_version": "1.5.0",
          "state": {
            "_dom_classes": [],
            "_model_module": "@jupyter-widgets/controls",
            "_model_module_version": "1.5.0",
            "_model_name": "FloatProgressModel",
            "_view_count": null,
            "_view_module": "@jupyter-widgets/controls",
            "_view_module_version": "1.5.0",
            "_view_name": "ProgressView",
            "bar_style": "success",
            "description": "",
            "description_tooltip": null,
            "layout": "IPY_MODEL_317b0654b07246bdb03c3664d9b1b657",
            "max": 843438,
            "min": 0,
            "orientation": "horizontal",
            "style": "IPY_MODEL_befbc543d6b04090a8eb8ec664ad4409",
            "value": 843438
          }
        },
        "b56d9a7b39e948e0bd2133377ec19aa3": {
          "model_module": "@jupyter-widgets/controls",
          "model_name": "HTMLModel",
          "model_module_version": "1.5.0",
          "state": {
            "_dom_classes": [],
            "_model_module": "@jupyter-widgets/controls",
            "_model_module_version": "1.5.0",
            "_model_name": "HTMLModel",
            "_view_count": null,
            "_view_module": "@jupyter-widgets/controls",
            "_view_module_version": "1.5.0",
            "_view_name": "HTMLView",
            "description": "",
            "description_tooltip": null,
            "layout": "IPY_MODEL_d33a83510b7549468802bd567d9f53a0",
            "placeholder": "​",
            "style": "IPY_MODEL_79a998fb8b8945ccab14c8bf4999b794",
            "value": " 824k/824k [00:00&lt;00:00, 912kB/s]"
          }
        },
        "de8a0e8837f549158dbc0494cf5a4948": {
          "model_module": "@jupyter-widgets/base",
          "model_name": "LayoutModel",
          "model_module_version": "1.2.0",
          "state": {
            "_model_module": "@jupyter-widgets/base",
            "_model_module_version": "1.2.0",
            "_model_name": "LayoutModel",
            "_view_count": null,
            "_view_module": "@jupyter-widgets/base",
            "_view_module_version": "1.2.0",
            "_view_name": "LayoutView",
            "align_content": null,
            "align_items": null,
            "align_self": null,
            "border": null,
            "bottom": null,
            "display": null,
            "flex": null,
            "flex_flow": null,
            "grid_area": null,
            "grid_auto_columns": null,
            "grid_auto_flow": null,
            "grid_auto_rows": null,
            "grid_column": null,
            "grid_gap": null,
            "grid_row": null,
            "grid_template_areas": null,
            "grid_template_columns": null,
            "grid_template_rows": null,
            "height": null,
            "justify_content": null,
            "justify_items": null,
            "left": null,
            "margin": null,
            "max_height": null,
            "max_width": null,
            "min_height": null,
            "min_width": null,
            "object_fit": null,
            "object_position": null,
            "order": null,
            "overflow": null,
            "overflow_x": null,
            "overflow_y": null,
            "padding": null,
            "right": null,
            "top": null,
            "visibility": null,
            "width": null
          }
        },
        "9be1cd05d96d4407be11c418d3846265": {
          "model_module": "@jupyter-widgets/base",
          "model_name": "LayoutModel",
          "model_module_version": "1.2.0",
          "state": {
            "_model_module": "@jupyter-widgets/base",
            "_model_module_version": "1.2.0",
            "_model_name": "LayoutModel",
            "_view_count": null,
            "_view_module": "@jupyter-widgets/base",
            "_view_module_version": "1.2.0",
            "_view_name": "LayoutView",
            "align_content": null,
            "align_items": null,
            "align_self": null,
            "border": null,
            "bottom": null,
            "display": null,
            "flex": null,
            "flex_flow": null,
            "grid_area": null,
            "grid_auto_columns": null,
            "grid_auto_flow": null,
            "grid_auto_rows": null,
            "grid_column": null,
            "grid_gap": null,
            "grid_row": null,
            "grid_template_areas": null,
            "grid_template_columns": null,
            "grid_template_rows": null,
            "height": null,
            "justify_content": null,
            "justify_items": null,
            "left": null,
            "margin": null,
            "max_height": null,
            "max_width": null,
            "min_height": null,
            "min_width": null,
            "object_fit": null,
            "object_position": null,
            "order": null,
            "overflow": null,
            "overflow_x": null,
            "overflow_y": null,
            "padding": null,
            "right": null,
            "top": null,
            "visibility": null,
            "width": null
          }
        },
        "40059699ecbe434b8f52e10e267825b4": {
          "model_module": "@jupyter-widgets/controls",
          "model_name": "DescriptionStyleModel",
          "model_module_version": "1.5.0",
          "state": {
            "_model_module": "@jupyter-widgets/controls",
            "_model_module_version": "1.5.0",
            "_model_name": "DescriptionStyleModel",
            "_view_count": null,
            "_view_module": "@jupyter-widgets/base",
            "_view_module_version": "1.2.0",
            "_view_name": "StyleView",
            "description_width": ""
          }
        },
        "317b0654b07246bdb03c3664d9b1b657": {
          "model_module": "@jupyter-widgets/base",
          "model_name": "LayoutModel",
          "model_module_version": "1.2.0",
          "state": {
            "_model_module": "@jupyter-widgets/base",
            "_model_module_version": "1.2.0",
            "_model_name": "LayoutModel",
            "_view_count": null,
            "_view_module": "@jupyter-widgets/base",
            "_view_module_version": "1.2.0",
            "_view_name": "LayoutView",
            "align_content": null,
            "align_items": null,
            "align_self": null,
            "border": null,
            "bottom": null,
            "display": null,
            "flex": null,
            "flex_flow": null,
            "grid_area": null,
            "grid_auto_columns": null,
            "grid_auto_flow": null,
            "grid_auto_rows": null,
            "grid_column": null,
            "grid_gap": null,
            "grid_row": null,
            "grid_template_areas": null,
            "grid_template_columns": null,
            "grid_template_rows": null,
            "height": null,
            "justify_content": null,
            "justify_items": null,
            "left": null,
            "margin": null,
            "max_height": null,
            "max_width": null,
            "min_height": null,
            "min_width": null,
            "object_fit": null,
            "object_position": null,
            "order": null,
            "overflow": null,
            "overflow_x": null,
            "overflow_y": null,
            "padding": null,
            "right": null,
            "top": null,
            "visibility": null,
            "width": null
          }
        },
        "befbc543d6b04090a8eb8ec664ad4409": {
          "model_module": "@jupyter-widgets/controls",
          "model_name": "ProgressStyleModel",
          "model_module_version": "1.5.0",
          "state": {
            "_model_module": "@jupyter-widgets/controls",
            "_model_module_version": "1.5.0",
            "_model_name": "ProgressStyleModel",
            "_view_count": null,
            "_view_module": "@jupyter-widgets/base",
            "_view_module_version": "1.2.0",
            "_view_name": "StyleView",
            "bar_color": null,
            "description_width": ""
          }
        },
        "d33a83510b7549468802bd567d9f53a0": {
          "model_module": "@jupyter-widgets/base",
          "model_name": "LayoutModel",
          "model_module_version": "1.2.0",
          "state": {
            "_model_module": "@jupyter-widgets/base",
            "_model_module_version": "1.2.0",
            "_model_name": "LayoutModel",
            "_view_count": null,
            "_view_module": "@jupyter-widgets/base",
            "_view_module_version": "1.2.0",
            "_view_name": "LayoutView",
            "align_content": null,
            "align_items": null,
            "align_self": null,
            "border": null,
            "bottom": null,
            "display": null,
            "flex": null,
            "flex_flow": null,
            "grid_area": null,
            "grid_auto_columns": null,
            "grid_auto_flow": null,
            "grid_auto_rows": null,
            "grid_column": null,
            "grid_gap": null,
            "grid_row": null,
            "grid_template_areas": null,
            "grid_template_columns": null,
            "grid_template_rows": null,
            "height": null,
            "justify_content": null,
            "justify_items": null,
            "left": null,
            "margin": null,
            "max_height": null,
            "max_width": null,
            "min_height": null,
            "min_width": null,
            "object_fit": null,
            "object_position": null,
            "order": null,
            "overflow": null,
            "overflow_x": null,
            "overflow_y": null,
            "padding": null,
            "right": null,
            "top": null,
            "visibility": null,
            "width": null
          }
        },
        "79a998fb8b8945ccab14c8bf4999b794": {
          "model_module": "@jupyter-widgets/controls",
          "model_name": "DescriptionStyleModel",
          "model_module_version": "1.5.0",
          "state": {
            "_model_module": "@jupyter-widgets/controls",
            "_model_module_version": "1.5.0",
            "_model_name": "DescriptionStyleModel",
            "_view_count": null,
            "_view_module": "@jupyter-widgets/base",
            "_view_module_version": "1.2.0",
            "_view_name": "StyleView",
            "description_width": ""
          }
        },
        "57bee4d81be94425b6adfba66671d06e": {
          "model_module": "@jupyter-widgets/controls",
          "model_name": "HBoxModel",
          "model_module_version": "1.5.0",
          "state": {
            "_dom_classes": [],
            "_model_module": "@jupyter-widgets/controls",
            "_model_module_version": "1.5.0",
            "_model_name": "HBoxModel",
            "_view_count": null,
            "_view_module": "@jupyter-widgets/controls",
            "_view_module_version": "1.5.0",
            "_view_name": "HBoxView",
            "box_style": "",
            "children": [
              "IPY_MODEL_e13b087a7c8a4c6aa81db4ef8a0f02f4",
              "IPY_MODEL_bb8958d27b7743c0b2bd65ea36554d26",
              "IPY_MODEL_0f64676ab157448ba8b68e484a7b1c42"
            ],
            "layout": "IPY_MODEL_9a6eef1c273641a6a01c8d389033deba"
          }
        },
        "e13b087a7c8a4c6aa81db4ef8a0f02f4": {
          "model_module": "@jupyter-widgets/controls",
          "model_name": "HTMLModel",
          "model_module_version": "1.5.0",
          "state": {
            "_dom_classes": [],
            "_model_module": "@jupyter-widgets/controls",
            "_model_module_version": "1.5.0",
            "_model_name": "HTMLModel",
            "_view_count": null,
            "_view_module": "@jupyter-widgets/controls",
            "_view_module_version": "1.5.0",
            "_view_name": "HTMLView",
            "description": "",
            "description_tooltip": null,
            "layout": "IPY_MODEL_ee357c063db94c9b98bd2445edf2f365",
            "placeholder": "​",
            "style": "IPY_MODEL_748f5fce25914d4f849b88d1166c2f43",
            "value": "Downloading: 100%"
          }
        },
        "bb8958d27b7743c0b2bd65ea36554d26": {
          "model_module": "@jupyter-widgets/controls",
          "model_name": "FloatProgressModel",
          "model_module_version": "1.5.0",
          "state": {
            "_dom_classes": [],
            "_model_module": "@jupyter-widgets/controls",
            "_model_module_version": "1.5.0",
            "_model_name": "FloatProgressModel",
            "_view_count": null,
            "_view_module": "@jupyter-widgets/controls",
            "_view_module_version": "1.5.0",
            "_view_name": "ProgressView",
            "bar_style": "success",
            "description": "",
            "description_tooltip": null,
            "layout": "IPY_MODEL_f995ade2afac42e0b1a6d936c63c400d",
            "max": 1078931,
            "min": 0,
            "orientation": "horizontal",
            "style": "IPY_MODEL_37d47e70528e458798024fa26c0a491d",
            "value": 1078931
          }
        },
        "0f64676ab157448ba8b68e484a7b1c42": {
          "model_module": "@jupyter-widgets/controls",
          "model_name": "HTMLModel",
          "model_module_version": "1.5.0",
          "state": {
            "_dom_classes": [],
            "_model_module": "@jupyter-widgets/controls",
            "_model_module_version": "1.5.0",
            "_model_name": "HTMLModel",
            "_view_count": null,
            "_view_module": "@jupyter-widgets/controls",
            "_view_module_version": "1.5.0",
            "_view_name": "HTMLView",
            "description": "",
            "description_tooltip": null,
            "layout": "IPY_MODEL_a2ac8ce05fa44d4ba90336228ce86134",
            "placeholder": "​",
            "style": "IPY_MODEL_63dff3eb967f49a085b58b798a4c5c44",
            "value": " 1.03M/1.03M [00:00&lt;00:00, 3.19MB/s]"
          }
        },
        "9a6eef1c273641a6a01c8d389033deba": {
          "model_module": "@jupyter-widgets/base",
          "model_name": "LayoutModel",
          "model_module_version": "1.2.0",
          "state": {
            "_model_module": "@jupyter-widgets/base",
            "_model_module_version": "1.2.0",
            "_model_name": "LayoutModel",
            "_view_count": null,
            "_view_module": "@jupyter-widgets/base",
            "_view_module_version": "1.2.0",
            "_view_name": "LayoutView",
            "align_content": null,
            "align_items": null,
            "align_self": null,
            "border": null,
            "bottom": null,
            "display": null,
            "flex": null,
            "flex_flow": null,
            "grid_area": null,
            "grid_auto_columns": null,
            "grid_auto_flow": null,
            "grid_auto_rows": null,
            "grid_column": null,
            "grid_gap": null,
            "grid_row": null,
            "grid_template_areas": null,
            "grid_template_columns": null,
            "grid_template_rows": null,
            "height": null,
            "justify_content": null,
            "justify_items": null,
            "left": null,
            "margin": null,
            "max_height": null,
            "max_width": null,
            "min_height": null,
            "min_width": null,
            "object_fit": null,
            "object_position": null,
            "order": null,
            "overflow": null,
            "overflow_x": null,
            "overflow_y": null,
            "padding": null,
            "right": null,
            "top": null,
            "visibility": null,
            "width": null
          }
        },
        "ee357c063db94c9b98bd2445edf2f365": {
          "model_module": "@jupyter-widgets/base",
          "model_name": "LayoutModel",
          "model_module_version": "1.2.0",
          "state": {
            "_model_module": "@jupyter-widgets/base",
            "_model_module_version": "1.2.0",
            "_model_name": "LayoutModel",
            "_view_count": null,
            "_view_module": "@jupyter-widgets/base",
            "_view_module_version": "1.2.0",
            "_view_name": "LayoutView",
            "align_content": null,
            "align_items": null,
            "align_self": null,
            "border": null,
            "bottom": null,
            "display": null,
            "flex": null,
            "flex_flow": null,
            "grid_area": null,
            "grid_auto_columns": null,
            "grid_auto_flow": null,
            "grid_auto_rows": null,
            "grid_column": null,
            "grid_gap": null,
            "grid_row": null,
            "grid_template_areas": null,
            "grid_template_columns": null,
            "grid_template_rows": null,
            "height": null,
            "justify_content": null,
            "justify_items": null,
            "left": null,
            "margin": null,
            "max_height": null,
            "max_width": null,
            "min_height": null,
            "min_width": null,
            "object_fit": null,
            "object_position": null,
            "order": null,
            "overflow": null,
            "overflow_x": null,
            "overflow_y": null,
            "padding": null,
            "right": null,
            "top": null,
            "visibility": null,
            "width": null
          }
        },
        "748f5fce25914d4f849b88d1166c2f43": {
          "model_module": "@jupyter-widgets/controls",
          "model_name": "DescriptionStyleModel",
          "model_module_version": "1.5.0",
          "state": {
            "_model_module": "@jupyter-widgets/controls",
            "_model_module_version": "1.5.0",
            "_model_name": "DescriptionStyleModel",
            "_view_count": null,
            "_view_module": "@jupyter-widgets/base",
            "_view_module_version": "1.2.0",
            "_view_name": "StyleView",
            "description_width": ""
          }
        },
        "f995ade2afac42e0b1a6d936c63c400d": {
          "model_module": "@jupyter-widgets/base",
          "model_name": "LayoutModel",
          "model_module_version": "1.2.0",
          "state": {
            "_model_module": "@jupyter-widgets/base",
            "_model_module_version": "1.2.0",
            "_model_name": "LayoutModel",
            "_view_count": null,
            "_view_module": "@jupyter-widgets/base",
            "_view_module_version": "1.2.0",
            "_view_name": "LayoutView",
            "align_content": null,
            "align_items": null,
            "align_self": null,
            "border": null,
            "bottom": null,
            "display": null,
            "flex": null,
            "flex_flow": null,
            "grid_area": null,
            "grid_auto_columns": null,
            "grid_auto_flow": null,
            "grid_auto_rows": null,
            "grid_column": null,
            "grid_gap": null,
            "grid_row": null,
            "grid_template_areas": null,
            "grid_template_columns": null,
            "grid_template_rows": null,
            "height": null,
            "justify_content": null,
            "justify_items": null,
            "left": null,
            "margin": null,
            "max_height": null,
            "max_width": null,
            "min_height": null,
            "min_width": null,
            "object_fit": null,
            "object_position": null,
            "order": null,
            "overflow": null,
            "overflow_x": null,
            "overflow_y": null,
            "padding": null,
            "right": null,
            "top": null,
            "visibility": null,
            "width": null
          }
        },
        "37d47e70528e458798024fa26c0a491d": {
          "model_module": "@jupyter-widgets/controls",
          "model_name": "ProgressStyleModel",
          "model_module_version": "1.5.0",
          "state": {
            "_model_module": "@jupyter-widgets/controls",
            "_model_module_version": "1.5.0",
            "_model_name": "ProgressStyleModel",
            "_view_count": null,
            "_view_module": "@jupyter-widgets/base",
            "_view_module_version": "1.2.0",
            "_view_name": "StyleView",
            "bar_color": null,
            "description_width": ""
          }
        },
        "a2ac8ce05fa44d4ba90336228ce86134": {
          "model_module": "@jupyter-widgets/base",
          "model_name": "LayoutModel",
          "model_module_version": "1.2.0",
          "state": {
            "_model_module": "@jupyter-widgets/base",
            "_model_module_version": "1.2.0",
            "_model_name": "LayoutModel",
            "_view_count": null,
            "_view_module": "@jupyter-widgets/base",
            "_view_module_version": "1.2.0",
            "_view_name": "LayoutView",
            "align_content": null,
            "align_items": null,
            "align_self": null,
            "border": null,
            "bottom": null,
            "display": null,
            "flex": null,
            "flex_flow": null,
            "grid_area": null,
            "grid_auto_columns": null,
            "grid_auto_flow": null,
            "grid_auto_rows": null,
            "grid_column": null,
            "grid_gap": null,
            "grid_row": null,
            "grid_template_areas": null,
            "grid_template_columns": null,
            "grid_template_rows": null,
            "height": null,
            "justify_content": null,
            "justify_items": null,
            "left": null,
            "margin": null,
            "max_height": null,
            "max_width": null,
            "min_height": null,
            "min_width": null,
            "object_fit": null,
            "object_position": null,
            "order": null,
            "overflow": null,
            "overflow_x": null,
            "overflow_y": null,
            "padding": null,
            "right": null,
            "top": null,
            "visibility": null,
            "width": null
          }
        },
        "63dff3eb967f49a085b58b798a4c5c44": {
          "model_module": "@jupyter-widgets/controls",
          "model_name": "DescriptionStyleModel",
          "model_module_version": "1.5.0",
          "state": {
            "_model_module": "@jupyter-widgets/controls",
            "_model_module_version": "1.5.0",
            "_model_name": "DescriptionStyleModel",
            "_view_count": null,
            "_view_module": "@jupyter-widgets/base",
            "_view_module_version": "1.2.0",
            "_view_name": "StyleView",
            "description_width": ""
          }
        },
        "22d58178832a45368ca49a8987f6666c": {
          "model_module": "@jupyter-widgets/controls",
          "model_name": "HBoxModel",
          "model_module_version": "1.5.0",
          "state": {
            "_dom_classes": [],
            "_model_module": "@jupyter-widgets/controls",
            "_model_module_version": "1.5.0",
            "_model_name": "HBoxModel",
            "_view_count": null,
            "_view_module": "@jupyter-widgets/controls",
            "_view_module_version": "1.5.0",
            "_view_name": "HBoxView",
            "box_style": "",
            "children": [
              "IPY_MODEL_9a3034f705c5409d858ed7eaec751064",
              "IPY_MODEL_f3e1edda0f7a4f0b88f42ff1d0812889",
              "IPY_MODEL_7dd204b1881441f39a98ad95e512e677"
            ],
            "layout": "IPY_MODEL_fb4e67694f1b44ef80d4cc5d465686a3"
          }
        },
        "9a3034f705c5409d858ed7eaec751064": {
          "model_module": "@jupyter-widgets/controls",
          "model_name": "HTMLModel",
          "model_module_version": "1.5.0",
          "state": {
            "_dom_classes": [],
            "_model_module": "@jupyter-widgets/controls",
            "_model_module_version": "1.5.0",
            "_model_name": "HTMLModel",
            "_view_count": null,
            "_view_module": "@jupyter-widgets/controls",
            "_view_module_version": "1.5.0",
            "_view_name": "HTMLView",
            "description": "",
            "description_tooltip": null,
            "layout": "IPY_MODEL_c9ce6bd66777420293c264b4283d7bf0",
            "placeholder": "​",
            "style": "IPY_MODEL_0340e89c64574688bab4a0d316dcf5a8",
            "value": "Downloading: 100%"
          }
        },
        "f3e1edda0f7a4f0b88f42ff1d0812889": {
          "model_module": "@jupyter-widgets/controls",
          "model_name": "FloatProgressModel",
          "model_module_version": "1.5.0",
          "state": {
            "_dom_classes": [],
            "_model_module": "@jupyter-widgets/controls",
            "_model_module_version": "1.5.0",
            "_model_name": "FloatProgressModel",
            "_view_count": null,
            "_view_module": "@jupyter-widgets/controls",
            "_view_module_version": "1.5.0",
            "_view_name": "ProgressView",
            "bar_style": "success",
            "description": "",
            "description_tooltip": null,
            "layout": "IPY_MODEL_eb84822981a34891b431ca91c363bc13",
            "max": 17,
            "min": 0,
            "orientation": "horizontal",
            "style": "IPY_MODEL_1b70c44df1e04691be2dcd4754e9b31b",
            "value": 17
          }
        },
        "7dd204b1881441f39a98ad95e512e677": {
          "model_module": "@jupyter-widgets/controls",
          "model_name": "HTMLModel",
          "model_module_version": "1.5.0",
          "state": {
            "_dom_classes": [],
            "_model_module": "@jupyter-widgets/controls",
            "_model_module_version": "1.5.0",
            "_model_name": "HTMLModel",
            "_view_count": null,
            "_view_module": "@jupyter-widgets/controls",
            "_view_module_version": "1.5.0",
            "_view_name": "HTMLView",
            "description": "",
            "description_tooltip": null,
            "layout": "IPY_MODEL_ebdb7ddb1eb0434b9fcc5e8fa9704a56",
            "placeholder": "​",
            "style": "IPY_MODEL_1677e38d3cc6457fbe4e0bdedc39799d",
            "value": " 17.0/17.0 [00:00&lt;00:00, 542B/s]"
          }
        },
        "fb4e67694f1b44ef80d4cc5d465686a3": {
          "model_module": "@jupyter-widgets/base",
          "model_name": "LayoutModel",
          "model_module_version": "1.2.0",
          "state": {
            "_model_module": "@jupyter-widgets/base",
            "_model_module_version": "1.2.0",
            "_model_name": "LayoutModel",
            "_view_count": null,
            "_view_module": "@jupyter-widgets/base",
            "_view_module_version": "1.2.0",
            "_view_name": "LayoutView",
            "align_content": null,
            "align_items": null,
            "align_self": null,
            "border": null,
            "bottom": null,
            "display": null,
            "flex": null,
            "flex_flow": null,
            "grid_area": null,
            "grid_auto_columns": null,
            "grid_auto_flow": null,
            "grid_auto_rows": null,
            "grid_column": null,
            "grid_gap": null,
            "grid_row": null,
            "grid_template_areas": null,
            "grid_template_columns": null,
            "grid_template_rows": null,
            "height": null,
            "justify_content": null,
            "justify_items": null,
            "left": null,
            "margin": null,
            "max_height": null,
            "max_width": null,
            "min_height": null,
            "min_width": null,
            "object_fit": null,
            "object_position": null,
            "order": null,
            "overflow": null,
            "overflow_x": null,
            "overflow_y": null,
            "padding": null,
            "right": null,
            "top": null,
            "visibility": null,
            "width": null
          }
        },
        "c9ce6bd66777420293c264b4283d7bf0": {
          "model_module": "@jupyter-widgets/base",
          "model_name": "LayoutModel",
          "model_module_version": "1.2.0",
          "state": {
            "_model_module": "@jupyter-widgets/base",
            "_model_module_version": "1.2.0",
            "_model_name": "LayoutModel",
            "_view_count": null,
            "_view_module": "@jupyter-widgets/base",
            "_view_module_version": "1.2.0",
            "_view_name": "LayoutView",
            "align_content": null,
            "align_items": null,
            "align_self": null,
            "border": null,
            "bottom": null,
            "display": null,
            "flex": null,
            "flex_flow": null,
            "grid_area": null,
            "grid_auto_columns": null,
            "grid_auto_flow": null,
            "grid_auto_rows": null,
            "grid_column": null,
            "grid_gap": null,
            "grid_row": null,
            "grid_template_areas": null,
            "grid_template_columns": null,
            "grid_template_rows": null,
            "height": null,
            "justify_content": null,
            "justify_items": null,
            "left": null,
            "margin": null,
            "max_height": null,
            "max_width": null,
            "min_height": null,
            "min_width": null,
            "object_fit": null,
            "object_position": null,
            "order": null,
            "overflow": null,
            "overflow_x": null,
            "overflow_y": null,
            "padding": null,
            "right": null,
            "top": null,
            "visibility": null,
            "width": null
          }
        },
        "0340e89c64574688bab4a0d316dcf5a8": {
          "model_module": "@jupyter-widgets/controls",
          "model_name": "DescriptionStyleModel",
          "model_module_version": "1.5.0",
          "state": {
            "_model_module": "@jupyter-widgets/controls",
            "_model_module_version": "1.5.0",
            "_model_name": "DescriptionStyleModel",
            "_view_count": null,
            "_view_module": "@jupyter-widgets/base",
            "_view_module_version": "1.2.0",
            "_view_name": "StyleView",
            "description_width": ""
          }
        },
        "eb84822981a34891b431ca91c363bc13": {
          "model_module": "@jupyter-widgets/base",
          "model_name": "LayoutModel",
          "model_module_version": "1.2.0",
          "state": {
            "_model_module": "@jupyter-widgets/base",
            "_model_module_version": "1.2.0",
            "_model_name": "LayoutModel",
            "_view_count": null,
            "_view_module": "@jupyter-widgets/base",
            "_view_module_version": "1.2.0",
            "_view_name": "LayoutView",
            "align_content": null,
            "align_items": null,
            "align_self": null,
            "border": null,
            "bottom": null,
            "display": null,
            "flex": null,
            "flex_flow": null,
            "grid_area": null,
            "grid_auto_columns": null,
            "grid_auto_flow": null,
            "grid_auto_rows": null,
            "grid_column": null,
            "grid_gap": null,
            "grid_row": null,
            "grid_template_areas": null,
            "grid_template_columns": null,
            "grid_template_rows": null,
            "height": null,
            "justify_content": null,
            "justify_items": null,
            "left": null,
            "margin": null,
            "max_height": null,
            "max_width": null,
            "min_height": null,
            "min_width": null,
            "object_fit": null,
            "object_position": null,
            "order": null,
            "overflow": null,
            "overflow_x": null,
            "overflow_y": null,
            "padding": null,
            "right": null,
            "top": null,
            "visibility": null,
            "width": null
          }
        },
        "1b70c44df1e04691be2dcd4754e9b31b": {
          "model_module": "@jupyter-widgets/controls",
          "model_name": "ProgressStyleModel",
          "model_module_version": "1.5.0",
          "state": {
            "_model_module": "@jupyter-widgets/controls",
            "_model_module_version": "1.5.0",
            "_model_name": "ProgressStyleModel",
            "_view_count": null,
            "_view_module": "@jupyter-widgets/base",
            "_view_module_version": "1.2.0",
            "_view_name": "StyleView",
            "bar_color": null,
            "description_width": ""
          }
        },
        "ebdb7ddb1eb0434b9fcc5e8fa9704a56": {
          "model_module": "@jupyter-widgets/base",
          "model_name": "LayoutModel",
          "model_module_version": "1.2.0",
          "state": {
            "_model_module": "@jupyter-widgets/base",
            "_model_module_version": "1.2.0",
            "_model_name": "LayoutModel",
            "_view_count": null,
            "_view_module": "@jupyter-widgets/base",
            "_view_module_version": "1.2.0",
            "_view_name": "LayoutView",
            "align_content": null,
            "align_items": null,
            "align_self": null,
            "border": null,
            "bottom": null,
            "display": null,
            "flex": null,
            "flex_flow": null,
            "grid_area": null,
            "grid_auto_columns": null,
            "grid_auto_flow": null,
            "grid_auto_rows": null,
            "grid_column": null,
            "grid_gap": null,
            "grid_row": null,
            "grid_template_areas": null,
            "grid_template_columns": null,
            "grid_template_rows": null,
            "height": null,
            "justify_content": null,
            "justify_items": null,
            "left": null,
            "margin": null,
            "max_height": null,
            "max_width": null,
            "min_height": null,
            "min_width": null,
            "object_fit": null,
            "object_position": null,
            "order": null,
            "overflow": null,
            "overflow_x": null,
            "overflow_y": null,
            "padding": null,
            "right": null,
            "top": null,
            "visibility": null,
            "width": null
          }
        },
        "1677e38d3cc6457fbe4e0bdedc39799d": {
          "model_module": "@jupyter-widgets/controls",
          "model_name": "DescriptionStyleModel",
          "model_module_version": "1.5.0",
          "state": {
            "_model_module": "@jupyter-widgets/controls",
            "_model_module_version": "1.5.0",
            "_model_name": "DescriptionStyleModel",
            "_view_count": null,
            "_view_module": "@jupyter-widgets/base",
            "_view_module_version": "1.2.0",
            "_view_name": "StyleView",
            "description_width": ""
          }
        },
        "cce40e91c46440f6bb0c952395b16295": {
          "model_module": "@jupyter-widgets/controls",
          "model_name": "HBoxModel",
          "model_module_version": "1.5.0",
          "state": {
            "_dom_classes": [],
            "_model_module": "@jupyter-widgets/controls",
            "_model_module_version": "1.5.0",
            "_model_name": "HBoxModel",
            "_view_count": null,
            "_view_module": "@jupyter-widgets/controls",
            "_view_module_version": "1.5.0",
            "_view_name": "HBoxView",
            "box_style": "",
            "children": [
              "IPY_MODEL_ee497b068d1c4aa69bbae15bb11cf8c7",
              "IPY_MODEL_d718f97ed3834d03a1aa8d77e32b645c",
              "IPY_MODEL_b266a8e88f6f453a92a68e23fe2b858e"
            ],
            "layout": "IPY_MODEL_6c73f89712d347e798337b5cf03f0d0a"
          }
        },
        "ee497b068d1c4aa69bbae15bb11cf8c7": {
          "model_module": "@jupyter-widgets/controls",
          "model_name": "HTMLModel",
          "model_module_version": "1.5.0",
          "state": {
            "_dom_classes": [],
            "_model_module": "@jupyter-widgets/controls",
            "_model_module_version": "1.5.0",
            "_model_name": "HTMLModel",
            "_view_count": null,
            "_view_module": "@jupyter-widgets/controls",
            "_view_module_version": "1.5.0",
            "_view_name": "HTMLView",
            "description": "",
            "description_tooltip": null,
            "layout": "IPY_MODEL_d1d1be79ff3f457cb84e49bb89883ad3",
            "placeholder": "​",
            "style": "IPY_MODEL_d1750831319f4c268f798aa9202eb604",
            "value": "Downloading: 100%"
          }
        },
        "d718f97ed3834d03a1aa8d77e32b645c": {
          "model_module": "@jupyter-widgets/controls",
          "model_name": "FloatProgressModel",
          "model_module_version": "1.5.0",
          "state": {
            "_dom_classes": [],
            "_model_module": "@jupyter-widgets/controls",
            "_model_module_version": "1.5.0",
            "_model_name": "FloatProgressModel",
            "_view_count": null,
            "_view_module": "@jupyter-widgets/controls",
            "_view_module_version": "1.5.0",
            "_view_name": "ProgressView",
            "bar_style": "success",
            "description": "",
            "description_tooltip": null,
            "layout": "IPY_MODEL_7f500ef570f643bcb4d99a6221576fa3",
            "max": 150,
            "min": 0,
            "orientation": "horizontal",
            "style": "IPY_MODEL_5a5596efec034998886ba383f7ac6a19",
            "value": 150
          }
        },
        "b266a8e88f6f453a92a68e23fe2b858e": {
          "model_module": "@jupyter-widgets/controls",
          "model_name": "HTMLModel",
          "model_module_version": "1.5.0",
          "state": {
            "_dom_classes": [],
            "_model_module": "@jupyter-widgets/controls",
            "_model_module_version": "1.5.0",
            "_model_name": "HTMLModel",
            "_view_count": null,
            "_view_module": "@jupyter-widgets/controls",
            "_view_module_version": "1.5.0",
            "_view_name": "HTMLView",
            "description": "",
            "description_tooltip": null,
            "layout": "IPY_MODEL_362fcc34b86f4b3a9d3329b424e3ef74",
            "placeholder": "​",
            "style": "IPY_MODEL_8f62216c10ce4ac281a0ca24842d354d",
            "value": " 150/150 [00:00&lt;00:00, 3.72kB/s]"
          }
        },
        "6c73f89712d347e798337b5cf03f0d0a": {
          "model_module": "@jupyter-widgets/base",
          "model_name": "LayoutModel",
          "model_module_version": "1.2.0",
          "state": {
            "_model_module": "@jupyter-widgets/base",
            "_model_module_version": "1.2.0",
            "_model_name": "LayoutModel",
            "_view_count": null,
            "_view_module": "@jupyter-widgets/base",
            "_view_module_version": "1.2.0",
            "_view_name": "LayoutView",
            "align_content": null,
            "align_items": null,
            "align_self": null,
            "border": null,
            "bottom": null,
            "display": null,
            "flex": null,
            "flex_flow": null,
            "grid_area": null,
            "grid_auto_columns": null,
            "grid_auto_flow": null,
            "grid_auto_rows": null,
            "grid_column": null,
            "grid_gap": null,
            "grid_row": null,
            "grid_template_areas": null,
            "grid_template_columns": null,
            "grid_template_rows": null,
            "height": null,
            "justify_content": null,
            "justify_items": null,
            "left": null,
            "margin": null,
            "max_height": null,
            "max_width": null,
            "min_height": null,
            "min_width": null,
            "object_fit": null,
            "object_position": null,
            "order": null,
            "overflow": null,
            "overflow_x": null,
            "overflow_y": null,
            "padding": null,
            "right": null,
            "top": null,
            "visibility": null,
            "width": null
          }
        },
        "d1d1be79ff3f457cb84e49bb89883ad3": {
          "model_module": "@jupyter-widgets/base",
          "model_name": "LayoutModel",
          "model_module_version": "1.2.0",
          "state": {
            "_model_module": "@jupyter-widgets/base",
            "_model_module_version": "1.2.0",
            "_model_name": "LayoutModel",
            "_view_count": null,
            "_view_module": "@jupyter-widgets/base",
            "_view_module_version": "1.2.0",
            "_view_name": "LayoutView",
            "align_content": null,
            "align_items": null,
            "align_self": null,
            "border": null,
            "bottom": null,
            "display": null,
            "flex": null,
            "flex_flow": null,
            "grid_area": null,
            "grid_auto_columns": null,
            "grid_auto_flow": null,
            "grid_auto_rows": null,
            "grid_column": null,
            "grid_gap": null,
            "grid_row": null,
            "grid_template_areas": null,
            "grid_template_columns": null,
            "grid_template_rows": null,
            "height": null,
            "justify_content": null,
            "justify_items": null,
            "left": null,
            "margin": null,
            "max_height": null,
            "max_width": null,
            "min_height": null,
            "min_width": null,
            "object_fit": null,
            "object_position": null,
            "order": null,
            "overflow": null,
            "overflow_x": null,
            "overflow_y": null,
            "padding": null,
            "right": null,
            "top": null,
            "visibility": null,
            "width": null
          }
        },
        "d1750831319f4c268f798aa9202eb604": {
          "model_module": "@jupyter-widgets/controls",
          "model_name": "DescriptionStyleModel",
          "model_module_version": "1.5.0",
          "state": {
            "_model_module": "@jupyter-widgets/controls",
            "_model_module_version": "1.5.0",
            "_model_name": "DescriptionStyleModel",
            "_view_count": null,
            "_view_module": "@jupyter-widgets/base",
            "_view_module_version": "1.2.0",
            "_view_name": "StyleView",
            "description_width": ""
          }
        },
        "7f500ef570f643bcb4d99a6221576fa3": {
          "model_module": "@jupyter-widgets/base",
          "model_name": "LayoutModel",
          "model_module_version": "1.2.0",
          "state": {
            "_model_module": "@jupyter-widgets/base",
            "_model_module_version": "1.2.0",
            "_model_name": "LayoutModel",
            "_view_count": null,
            "_view_module": "@jupyter-widgets/base",
            "_view_module_version": "1.2.0",
            "_view_name": "LayoutView",
            "align_content": null,
            "align_items": null,
            "align_self": null,
            "border": null,
            "bottom": null,
            "display": null,
            "flex": null,
            "flex_flow": null,
            "grid_area": null,
            "grid_auto_columns": null,
            "grid_auto_flow": null,
            "grid_auto_rows": null,
            "grid_column": null,
            "grid_gap": null,
            "grid_row": null,
            "grid_template_areas": null,
            "grid_template_columns": null,
            "grid_template_rows": null,
            "height": null,
            "justify_content": null,
            "justify_items": null,
            "left": null,
            "margin": null,
            "max_height": null,
            "max_width": null,
            "min_height": null,
            "min_width": null,
            "object_fit": null,
            "object_position": null,
            "order": null,
            "overflow": null,
            "overflow_x": null,
            "overflow_y": null,
            "padding": null,
            "right": null,
            "top": null,
            "visibility": null,
            "width": null
          }
        },
        "5a5596efec034998886ba383f7ac6a19": {
          "model_module": "@jupyter-widgets/controls",
          "model_name": "ProgressStyleModel",
          "model_module_version": "1.5.0",
          "state": {
            "_model_module": "@jupyter-widgets/controls",
            "_model_module_version": "1.5.0",
            "_model_name": "ProgressStyleModel",
            "_view_count": null,
            "_view_module": "@jupyter-widgets/base",
            "_view_module_version": "1.2.0",
            "_view_name": "StyleView",
            "bar_color": null,
            "description_width": ""
          }
        },
        "362fcc34b86f4b3a9d3329b424e3ef74": {
          "model_module": "@jupyter-widgets/base",
          "model_name": "LayoutModel",
          "model_module_version": "1.2.0",
          "state": {
            "_model_module": "@jupyter-widgets/base",
            "_model_module_version": "1.2.0",
            "_model_name": "LayoutModel",
            "_view_count": null,
            "_view_module": "@jupyter-widgets/base",
            "_view_module_version": "1.2.0",
            "_view_name": "LayoutView",
            "align_content": null,
            "align_items": null,
            "align_self": null,
            "border": null,
            "bottom": null,
            "display": null,
            "flex": null,
            "flex_flow": null,
            "grid_area": null,
            "grid_auto_columns": null,
            "grid_auto_flow": null,
            "grid_auto_rows": null,
            "grid_column": null,
            "grid_gap": null,
            "grid_row": null,
            "grid_template_areas": null,
            "grid_template_columns": null,
            "grid_template_rows": null,
            "height": null,
            "justify_content": null,
            "justify_items": null,
            "left": null,
            "margin": null,
            "max_height": null,
            "max_width": null,
            "min_height": null,
            "min_width": null,
            "object_fit": null,
            "object_position": null,
            "order": null,
            "overflow": null,
            "overflow_x": null,
            "overflow_y": null,
            "padding": null,
            "right": null,
            "top": null,
            "visibility": null,
            "width": null
          }
        },
        "8f62216c10ce4ac281a0ca24842d354d": {
          "model_module": "@jupyter-widgets/controls",
          "model_name": "DescriptionStyleModel",
          "model_module_version": "1.5.0",
          "state": {
            "_model_module": "@jupyter-widgets/controls",
            "_model_module_version": "1.5.0",
            "_model_name": "DescriptionStyleModel",
            "_view_count": null,
            "_view_module": "@jupyter-widgets/base",
            "_view_module_version": "1.2.0",
            "_view_name": "StyleView",
            "description_width": ""
          }
        },
        "9875a01d9fdd423e948653e42afcca03": {
          "model_module": "@jupyter-widgets/controls",
          "model_name": "HBoxModel",
          "model_module_version": "1.5.0",
          "state": {
            "_dom_classes": [],
            "_model_module": "@jupyter-widgets/controls",
            "_model_module_version": "1.5.0",
            "_model_name": "HBoxModel",
            "_view_count": null,
            "_view_module": "@jupyter-widgets/controls",
            "_view_module_version": "1.5.0",
            "_view_name": "HBoxView",
            "box_style": "",
            "children": [
              "IPY_MODEL_156a639ea96e45208dc4b4997722143f",
              "IPY_MODEL_9dfc2ac28f8c44a994cdbc1cce0809d0",
              "IPY_MODEL_7cf2a863c30447458fb7d6faf9b15db8"
            ],
            "layout": "IPY_MODEL_e4943716384f45c798e2c966d5d859a2"
          }
        },
        "156a639ea96e45208dc4b4997722143f": {
          "model_module": "@jupyter-widgets/controls",
          "model_name": "HTMLModel",
          "model_module_version": "1.5.0",
          "state": {
            "_dom_classes": [],
            "_model_module": "@jupyter-widgets/controls",
            "_model_module_version": "1.5.0",
            "_model_name": "HTMLModel",
            "_view_count": null,
            "_view_module": "@jupyter-widgets/controls",
            "_view_module_version": "1.5.0",
            "_view_name": "HTMLView",
            "description": "",
            "description_tooltip": null,
            "layout": "IPY_MODEL_39e0761cd76b4551a3a8622df69e4adb",
            "placeholder": "​",
            "style": "IPY_MODEL_fbf66010d0074f47b60ef3f4b5144d96",
            "value": "Downloading: 100%"
          }
        },
        "9dfc2ac28f8c44a994cdbc1cce0809d0": {
          "model_module": "@jupyter-widgets/controls",
          "model_name": "FloatProgressModel",
          "model_module_version": "1.5.0",
          "state": {
            "_dom_classes": [],
            "_model_module": "@jupyter-widgets/controls",
            "_model_module_version": "1.5.0",
            "_model_name": "FloatProgressModel",
            "_view_count": null,
            "_view_module": "@jupyter-widgets/controls",
            "_view_module_version": "1.5.0",
            "_view_name": "ProgressView",
            "bar_style": "success",
            "description": "",
            "description_tooltip": null,
            "layout": "IPY_MODEL_c75bc1e51ea6472588675fe20ce4b257",
            "max": 1085,
            "min": 0,
            "orientation": "horizontal",
            "style": "IPY_MODEL_68eb9e04bc56467e8f32ae1fab9088e1",
            "value": 1085
          }
        },
        "7cf2a863c30447458fb7d6faf9b15db8": {
          "model_module": "@jupyter-widgets/controls",
          "model_name": "HTMLModel",
          "model_module_version": "1.5.0",
          "state": {
            "_dom_classes": [],
            "_model_module": "@jupyter-widgets/controls",
            "_model_module_version": "1.5.0",
            "_model_name": "HTMLModel",
            "_view_count": null,
            "_view_module": "@jupyter-widgets/controls",
            "_view_module_version": "1.5.0",
            "_view_name": "HTMLView",
            "description": "",
            "description_tooltip": null,
            "layout": "IPY_MODEL_e5ea6008384742d2bb92d70b5eea485f",
            "placeholder": "​",
            "style": "IPY_MODEL_6c995889988d4db08b2284b100836351",
            "value": " 1.06k/1.06k [00:00&lt;00:00, 27.2kB/s]"
          }
        },
        "e4943716384f45c798e2c966d5d859a2": {
          "model_module": "@jupyter-widgets/base",
          "model_name": "LayoutModel",
          "model_module_version": "1.2.0",
          "state": {
            "_model_module": "@jupyter-widgets/base",
            "_model_module_version": "1.2.0",
            "_model_name": "LayoutModel",
            "_view_count": null,
            "_view_module": "@jupyter-widgets/base",
            "_view_module_version": "1.2.0",
            "_view_name": "LayoutView",
            "align_content": null,
            "align_items": null,
            "align_self": null,
            "border": null,
            "bottom": null,
            "display": null,
            "flex": null,
            "flex_flow": null,
            "grid_area": null,
            "grid_auto_columns": null,
            "grid_auto_flow": null,
            "grid_auto_rows": null,
            "grid_column": null,
            "grid_gap": null,
            "grid_row": null,
            "grid_template_areas": null,
            "grid_template_columns": null,
            "grid_template_rows": null,
            "height": null,
            "justify_content": null,
            "justify_items": null,
            "left": null,
            "margin": null,
            "max_height": null,
            "max_width": null,
            "min_height": null,
            "min_width": null,
            "object_fit": null,
            "object_position": null,
            "order": null,
            "overflow": null,
            "overflow_x": null,
            "overflow_y": null,
            "padding": null,
            "right": null,
            "top": null,
            "visibility": null,
            "width": null
          }
        },
        "39e0761cd76b4551a3a8622df69e4adb": {
          "model_module": "@jupyter-widgets/base",
          "model_name": "LayoutModel",
          "model_module_version": "1.2.0",
          "state": {
            "_model_module": "@jupyter-widgets/base",
            "_model_module_version": "1.2.0",
            "_model_name": "LayoutModel",
            "_view_count": null,
            "_view_module": "@jupyter-widgets/base",
            "_view_module_version": "1.2.0",
            "_view_name": "LayoutView",
            "align_content": null,
            "align_items": null,
            "align_self": null,
            "border": null,
            "bottom": null,
            "display": null,
            "flex": null,
            "flex_flow": null,
            "grid_area": null,
            "grid_auto_columns": null,
            "grid_auto_flow": null,
            "grid_auto_rows": null,
            "grid_column": null,
            "grid_gap": null,
            "grid_row": null,
            "grid_template_areas": null,
            "grid_template_columns": null,
            "grid_template_rows": null,
            "height": null,
            "justify_content": null,
            "justify_items": null,
            "left": null,
            "margin": null,
            "max_height": null,
            "max_width": null,
            "min_height": null,
            "min_width": null,
            "object_fit": null,
            "object_position": null,
            "order": null,
            "overflow": null,
            "overflow_x": null,
            "overflow_y": null,
            "padding": null,
            "right": null,
            "top": null,
            "visibility": null,
            "width": null
          }
        },
        "fbf66010d0074f47b60ef3f4b5144d96": {
          "model_module": "@jupyter-widgets/controls",
          "model_name": "DescriptionStyleModel",
          "model_module_version": "1.5.0",
          "state": {
            "_model_module": "@jupyter-widgets/controls",
            "_model_module_version": "1.5.0",
            "_model_name": "DescriptionStyleModel",
            "_view_count": null,
            "_view_module": "@jupyter-widgets/base",
            "_view_module_version": "1.2.0",
            "_view_name": "StyleView",
            "description_width": ""
          }
        },
        "c75bc1e51ea6472588675fe20ce4b257": {
          "model_module": "@jupyter-widgets/base",
          "model_name": "LayoutModel",
          "model_module_version": "1.2.0",
          "state": {
            "_model_module": "@jupyter-widgets/base",
            "_model_module_version": "1.2.0",
            "_model_name": "LayoutModel",
            "_view_count": null,
            "_view_module": "@jupyter-widgets/base",
            "_view_module_version": "1.2.0",
            "_view_name": "LayoutView",
            "align_content": null,
            "align_items": null,
            "align_self": null,
            "border": null,
            "bottom": null,
            "display": null,
            "flex": null,
            "flex_flow": null,
            "grid_area": null,
            "grid_auto_columns": null,
            "grid_auto_flow": null,
            "grid_auto_rows": null,
            "grid_column": null,
            "grid_gap": null,
            "grid_row": null,
            "grid_template_areas": null,
            "grid_template_columns": null,
            "grid_template_rows": null,
            "height": null,
            "justify_content": null,
            "justify_items": null,
            "left": null,
            "margin": null,
            "max_height": null,
            "max_width": null,
            "min_height": null,
            "min_width": null,
            "object_fit": null,
            "object_position": null,
            "order": null,
            "overflow": null,
            "overflow_x": null,
            "overflow_y": null,
            "padding": null,
            "right": null,
            "top": null,
            "visibility": null,
            "width": null
          }
        },
        "68eb9e04bc56467e8f32ae1fab9088e1": {
          "model_module": "@jupyter-widgets/controls",
          "model_name": "ProgressStyleModel",
          "model_module_version": "1.5.0",
          "state": {
            "_model_module": "@jupyter-widgets/controls",
            "_model_module_version": "1.5.0",
            "_model_name": "ProgressStyleModel",
            "_view_count": null,
            "_view_module": "@jupyter-widgets/base",
            "_view_module_version": "1.2.0",
            "_view_name": "StyleView",
            "bar_color": null,
            "description_width": ""
          }
        },
        "e5ea6008384742d2bb92d70b5eea485f": {
          "model_module": "@jupyter-widgets/base",
          "model_name": "LayoutModel",
          "model_module_version": "1.2.0",
          "state": {
            "_model_module": "@jupyter-widgets/base",
            "_model_module_version": "1.2.0",
            "_model_name": "LayoutModel",
            "_view_count": null,
            "_view_module": "@jupyter-widgets/base",
            "_view_module_version": "1.2.0",
            "_view_name": "LayoutView",
            "align_content": null,
            "align_items": null,
            "align_self": null,
            "border": null,
            "bottom": null,
            "display": null,
            "flex": null,
            "flex_flow": null,
            "grid_area": null,
            "grid_auto_columns": null,
            "grid_auto_flow": null,
            "grid_auto_rows": null,
            "grid_column": null,
            "grid_gap": null,
            "grid_row": null,
            "grid_template_areas": null,
            "grid_template_columns": null,
            "grid_template_rows": null,
            "height": null,
            "justify_content": null,
            "justify_items": null,
            "left": null,
            "margin": null,
            "max_height": null,
            "max_width": null,
            "min_height": null,
            "min_width": null,
            "object_fit": null,
            "object_position": null,
            "order": null,
            "overflow": null,
            "overflow_x": null,
            "overflow_y": null,
            "padding": null,
            "right": null,
            "top": null,
            "visibility": null,
            "width": null
          }
        },
        "6c995889988d4db08b2284b100836351": {
          "model_module": "@jupyter-widgets/controls",
          "model_name": "DescriptionStyleModel",
          "model_module_version": "1.5.0",
          "state": {
            "_model_module": "@jupyter-widgets/controls",
            "_model_module_version": "1.5.0",
            "_model_name": "DescriptionStyleModel",
            "_view_count": null,
            "_view_module": "@jupyter-widgets/base",
            "_view_module_version": "1.2.0",
            "_view_name": "StyleView",
            "description_width": ""
          }
        }
      }
    }
  },
  "cells": [
    {
      "cell_type": "markdown",
      "source": [
        "### Installation"
      ],
      "metadata": {
        "id": "oSZs0O1PUqZf"
      }
    },
    {
      "cell_type": "code",
      "execution_count": null,
      "metadata": {
        "colab": {
          "base_uri": "https://localhost:8080/"
        },
        "id": "Q6Zqq8-OGCFV",
        "outputId": "dcdc0631-4607-4fd5-8c52-338269590767"
      },
      "outputs": [
        {
          "output_type": "stream",
          "name": "stdout",
          "text": [
            "Looking in indexes: https://pypi.org/simple, https://us-python.pkg.dev/colab-wheels/public/simple/\n",
            "Requirement already satisfied: transformers in /usr/local/lib/python3.7/dist-packages (4.20.1)\n",
            "Requirement already satisfied: tqdm>=4.27 in /usr/local/lib/python3.7/dist-packages (from transformers) (4.64.0)\n",
            "Requirement already satisfied: numpy>=1.17 in /usr/local/lib/python3.7/dist-packages (from transformers) (1.21.6)\n",
            "Requirement already satisfied: requests in /usr/local/lib/python3.7/dist-packages (from transformers) (2.23.0)\n",
            "Requirement already satisfied: importlib-metadata in /usr/local/lib/python3.7/dist-packages (from transformers) (4.12.0)\n",
            "Requirement already satisfied: huggingface-hub<1.0,>=0.1.0 in /usr/local/lib/python3.7/dist-packages (from transformers) (0.8.1)\n",
            "Requirement already satisfied: filelock in /usr/local/lib/python3.7/dist-packages (from transformers) (3.7.1)\n",
            "Requirement already satisfied: regex!=2019.12.17 in /usr/local/lib/python3.7/dist-packages (from transformers) (2022.6.2)\n",
            "Requirement already satisfied: pyyaml>=5.1 in /usr/local/lib/python3.7/dist-packages (from transformers) (6.0)\n",
            "Requirement already satisfied: tokenizers!=0.11.3,<0.13,>=0.11.1 in /usr/local/lib/python3.7/dist-packages (from transformers) (0.12.1)\n",
            "Requirement already satisfied: packaging>=20.0 in /usr/local/lib/python3.7/dist-packages (from transformers) (21.3)\n",
            "Requirement already satisfied: typing-extensions>=3.7.4.3 in /usr/local/lib/python3.7/dist-packages (from huggingface-hub<1.0,>=0.1.0->transformers) (4.1.1)\n",
            "Requirement already satisfied: pyparsing!=3.0.5,>=2.0.2 in /usr/local/lib/python3.7/dist-packages (from packaging>=20.0->transformers) (3.0.9)\n",
            "Requirement already satisfied: zipp>=0.5 in /usr/local/lib/python3.7/dist-packages (from importlib-metadata->transformers) (3.8.0)\n",
            "Requirement already satisfied: chardet<4,>=3.0.2 in /usr/local/lib/python3.7/dist-packages (from requests->transformers) (3.0.4)\n",
            "Requirement already satisfied: idna<3,>=2.5 in /usr/local/lib/python3.7/dist-packages (from requests->transformers) (2.10)\n",
            "Requirement already satisfied: urllib3!=1.25.0,!=1.25.1,<1.26,>=1.21.1 in /usr/local/lib/python3.7/dist-packages (from requests->transformers) (1.24.3)\n",
            "Requirement already satisfied: certifi>=2017.4.17 in /usr/local/lib/python3.7/dist-packages (from requests->transformers) (2022.6.15)\n"
          ]
        }
      ],
      "source": [
        "pip install transformers"
      ]
    },
    {
      "cell_type": "code",
      "source": [
        "pip install tensorflow"
      ],
      "metadata": {
        "colab": {
          "base_uri": "https://localhost:8080/"
        },
        "id": "tygE4thDGXUs",
        "outputId": "7c7db7fb-e880-41ae-b2fa-32ac4ca9aebe"
      },
      "execution_count": null,
      "outputs": [
        {
          "output_type": "stream",
          "name": "stdout",
          "text": [
            "Looking in indexes: https://pypi.org/simple, https://us-python.pkg.dev/colab-wheels/public/simple/\n",
            "Requirement already satisfied: tensorflow in /usr/local/lib/python3.7/dist-packages (2.8.2+zzzcolab20220629235552)\n",
            "Requirement already satisfied: typing-extensions>=3.6.6 in /usr/local/lib/python3.7/dist-packages (from tensorflow) (4.1.1)\n",
            "Requirement already satisfied: six>=1.12.0 in /usr/local/lib/python3.7/dist-packages (from tensorflow) (1.15.0)\n",
            "Requirement already satisfied: keras-preprocessing>=1.1.1 in /usr/local/lib/python3.7/dist-packages (from tensorflow) (1.1.2)\n",
            "Requirement already satisfied: opt-einsum>=2.3.2 in /usr/local/lib/python3.7/dist-packages (from tensorflow) (3.3.0)\n",
            "Requirement already satisfied: grpcio<2.0,>=1.24.3 in /usr/local/lib/python3.7/dist-packages (from tensorflow) (1.47.0)\n",
            "Requirement already satisfied: protobuf<3.20,>=3.9.2 in /usr/local/lib/python3.7/dist-packages (from tensorflow) (3.17.3)\n",
            "Requirement already satisfied: tensorflow-io-gcs-filesystem>=0.23.1 in /usr/local/lib/python3.7/dist-packages (from tensorflow) (0.26.0)\n",
            "Requirement already satisfied: keras<2.9,>=2.8.0rc0 in /usr/local/lib/python3.7/dist-packages (from tensorflow) (2.8.0)\n",
            "Requirement already satisfied: wrapt>=1.11.0 in /usr/local/lib/python3.7/dist-packages (from tensorflow) (1.14.1)\n",
            "Requirement already satisfied: tensorboard<2.9,>=2.8 in /usr/local/lib/python3.7/dist-packages (from tensorflow) (2.8.0)\n",
            "Requirement already satisfied: flatbuffers>=1.12 in /usr/local/lib/python3.7/dist-packages (from tensorflow) (2.0)\n",
            "Requirement already satisfied: google-pasta>=0.1.1 in /usr/local/lib/python3.7/dist-packages (from tensorflow) (0.2.0)\n",
            "Requirement already satisfied: libclang>=9.0.1 in /usr/local/lib/python3.7/dist-packages (from tensorflow) (14.0.1)\n",
            "Requirement already satisfied: astunparse>=1.6.0 in /usr/local/lib/python3.7/dist-packages (from tensorflow) (1.6.3)\n",
            "Requirement already satisfied: tensorflow-estimator<2.9,>=2.8 in /usr/local/lib/python3.7/dist-packages (from tensorflow) (2.8.0)\n",
            "Requirement already satisfied: numpy>=1.20 in /usr/local/lib/python3.7/dist-packages (from tensorflow) (1.21.6)\n",
            "Requirement already satisfied: h5py>=2.9.0 in /usr/local/lib/python3.7/dist-packages (from tensorflow) (3.1.0)\n",
            "Requirement already satisfied: setuptools in /usr/local/lib/python3.7/dist-packages (from tensorflow) (57.4.0)\n",
            "Requirement already satisfied: gast>=0.2.1 in /usr/local/lib/python3.7/dist-packages (from tensorflow) (0.5.3)\n",
            "Requirement already satisfied: absl-py>=0.4.0 in /usr/local/lib/python3.7/dist-packages (from tensorflow) (1.1.0)\n",
            "Requirement already satisfied: termcolor>=1.1.0 in /usr/local/lib/python3.7/dist-packages (from tensorflow) (1.1.0)\n",
            "Requirement already satisfied: wheel<1.0,>=0.23.0 in /usr/local/lib/python3.7/dist-packages (from astunparse>=1.6.0->tensorflow) (0.37.1)\n",
            "Requirement already satisfied: cached-property in /usr/local/lib/python3.7/dist-packages (from h5py>=2.9.0->tensorflow) (1.5.2)\n",
            "Requirement already satisfied: google-auth-oauthlib<0.5,>=0.4.1 in /usr/local/lib/python3.7/dist-packages (from tensorboard<2.9,>=2.8->tensorflow) (0.4.6)\n",
            "Requirement already satisfied: google-auth<3,>=1.6.3 in /usr/local/lib/python3.7/dist-packages (from tensorboard<2.9,>=2.8->tensorflow) (1.35.0)\n",
            "Requirement already satisfied: tensorboard-plugin-wit>=1.6.0 in /usr/local/lib/python3.7/dist-packages (from tensorboard<2.9,>=2.8->tensorflow) (1.8.1)\n",
            "Requirement already satisfied: werkzeug>=0.11.15 in /usr/local/lib/python3.7/dist-packages (from tensorboard<2.9,>=2.8->tensorflow) (1.0.1)\n",
            "Requirement already satisfied: tensorboard-data-server<0.7.0,>=0.6.0 in /usr/local/lib/python3.7/dist-packages (from tensorboard<2.9,>=2.8->tensorflow) (0.6.1)\n",
            "Requirement already satisfied: requests<3,>=2.21.0 in /usr/local/lib/python3.7/dist-packages (from tensorboard<2.9,>=2.8->tensorflow) (2.23.0)\n",
            "Requirement already satisfied: markdown>=2.6.8 in /usr/local/lib/python3.7/dist-packages (from tensorboard<2.9,>=2.8->tensorflow) (3.3.7)\n",
            "Requirement already satisfied: pyasn1-modules>=0.2.1 in /usr/local/lib/python3.7/dist-packages (from google-auth<3,>=1.6.3->tensorboard<2.9,>=2.8->tensorflow) (0.2.8)\n",
            "Requirement already satisfied: cachetools<5.0,>=2.0.0 in /usr/local/lib/python3.7/dist-packages (from google-auth<3,>=1.6.3->tensorboard<2.9,>=2.8->tensorflow) (4.2.4)\n",
            "Requirement already satisfied: rsa<5,>=3.1.4 in /usr/local/lib/python3.7/dist-packages (from google-auth<3,>=1.6.3->tensorboard<2.9,>=2.8->tensorflow) (4.8)\n",
            "Requirement already satisfied: requests-oauthlib>=0.7.0 in /usr/local/lib/python3.7/dist-packages (from google-auth-oauthlib<0.5,>=0.4.1->tensorboard<2.9,>=2.8->tensorflow) (1.3.1)\n",
            "Requirement already satisfied: importlib-metadata>=4.4 in /usr/local/lib/python3.7/dist-packages (from markdown>=2.6.8->tensorboard<2.9,>=2.8->tensorflow) (4.12.0)\n",
            "Requirement already satisfied: zipp>=0.5 in /usr/local/lib/python3.7/dist-packages (from importlib-metadata>=4.4->markdown>=2.6.8->tensorboard<2.9,>=2.8->tensorflow) (3.8.0)\n",
            "Requirement already satisfied: pyasn1<0.5.0,>=0.4.6 in /usr/local/lib/python3.7/dist-packages (from pyasn1-modules>=0.2.1->google-auth<3,>=1.6.3->tensorboard<2.9,>=2.8->tensorflow) (0.4.8)\n",
            "Requirement already satisfied: urllib3!=1.25.0,!=1.25.1,<1.26,>=1.21.1 in /usr/local/lib/python3.7/dist-packages (from requests<3,>=2.21.0->tensorboard<2.9,>=2.8->tensorflow) (1.24.3)\n",
            "Requirement already satisfied: idna<3,>=2.5 in /usr/local/lib/python3.7/dist-packages (from requests<3,>=2.21.0->tensorboard<2.9,>=2.8->tensorflow) (2.10)\n",
            "Requirement already satisfied: certifi>=2017.4.17 in /usr/local/lib/python3.7/dist-packages (from requests<3,>=2.21.0->tensorboard<2.9,>=2.8->tensorflow) (2022.6.15)\n",
            "Requirement already satisfied: chardet<4,>=3.0.2 in /usr/local/lib/python3.7/dist-packages (from requests<3,>=2.21.0->tensorboard<2.9,>=2.8->tensorflow) (3.0.4)\n",
            "Requirement already satisfied: oauthlib>=3.0.0 in /usr/local/lib/python3.7/dist-packages (from requests-oauthlib>=0.7.0->google-auth-oauthlib<0.5,>=0.4.1->tensorboard<2.9,>=2.8->tensorflow) (3.2.0)\n"
          ]
        }
      ]
    },
    {
      "cell_type": "code",
      "source": [
        "pip install prettytable"
      ],
      "metadata": {
        "colab": {
          "base_uri": "https://localhost:8080/"
        },
        "id": "RX_RkWXYHQks",
        "outputId": "c5fa3005-c527-42e7-87fe-b0816b8efe3a"
      },
      "execution_count": null,
      "outputs": [
        {
          "output_type": "stream",
          "name": "stdout",
          "text": [
            "Looking in indexes: https://pypi.org/simple, https://us-python.pkg.dev/colab-wheels/public/simple/\n",
            "Requirement already satisfied: prettytable in /usr/local/lib/python3.7/dist-packages (3.3.0)\n",
            "Requirement already satisfied: importlib-metadata in /usr/local/lib/python3.7/dist-packages (from prettytable) (4.12.0)\n",
            "Requirement already satisfied: wcwidth in /usr/local/lib/python3.7/dist-packages (from prettytable) (0.2.5)\n",
            "Requirement already satisfied: zipp>=0.5 in /usr/local/lib/python3.7/dist-packages (from importlib-metadata->prettytable) (3.8.0)\n",
            "Requirement already satisfied: typing-extensions>=3.6.4 in /usr/local/lib/python3.7/dist-packages (from importlib-metadata->prettytable) (4.1.1)\n"
          ]
        }
      ]
    },
    {
      "cell_type": "code",
      "source": [
        "pip install jsonpickle"
      ],
      "metadata": {
        "colab": {
          "base_uri": "https://localhost:8080/"
        },
        "id": "hEYNXzHZHUkz",
        "outputId": "ce460a00-2922-4b21-b72d-07c37fe598ac"
      },
      "execution_count": null,
      "outputs": [
        {
          "output_type": "stream",
          "name": "stdout",
          "text": [
            "Looking in indexes: https://pypi.org/simple, https://us-python.pkg.dev/colab-wheels/public/simple/\n",
            "Requirement already satisfied: jsonpickle in /usr/local/lib/python3.7/dist-packages (2.2.0)\n",
            "Requirement already satisfied: importlib-metadata in /usr/local/lib/python3.7/dist-packages (from jsonpickle) (4.12.0)\n",
            "Requirement already satisfied: zipp>=0.5 in /usr/local/lib/python3.7/dist-packages (from importlib-metadata->jsonpickle) (3.8.0)\n",
            "Requirement already satisfied: typing-extensions>=3.6.4 in /usr/local/lib/python3.7/dist-packages (from importlib-metadata->jsonpickle) (4.1.1)\n"
          ]
        }
      ]
    },
    {
      "cell_type": "code",
      "source": [
        "pip install gspread"
      ],
      "metadata": {
        "colab": {
          "base_uri": "https://localhost:8080/"
        },
        "id": "QVYerMD8OkE1",
        "outputId": "817bbd11-4b0b-4cb1-bfb5-f73eb18f8eec"
      },
      "execution_count": null,
      "outputs": [
        {
          "output_type": "stream",
          "name": "stdout",
          "text": [
            "Looking in indexes: https://pypi.org/simple, https://us-python.pkg.dev/colab-wheels/public/simple/\n",
            "Requirement already satisfied: gspread in /usr/local/lib/python3.7/dist-packages (3.4.2)\n",
            "Requirement already satisfied: requests>=2.2.1 in /usr/local/lib/python3.7/dist-packages (from gspread) (2.23.0)\n",
            "Requirement already satisfied: google-auth in /usr/local/lib/python3.7/dist-packages (from gspread) (1.35.0)\n",
            "Requirement already satisfied: urllib3!=1.25.0,!=1.25.1,<1.26,>=1.21.1 in /usr/local/lib/python3.7/dist-packages (from requests>=2.2.1->gspread) (1.24.3)\n",
            "Requirement already satisfied: chardet<4,>=3.0.2 in /usr/local/lib/python3.7/dist-packages (from requests>=2.2.1->gspread) (3.0.4)\n",
            "Requirement already satisfied: idna<3,>=2.5 in /usr/local/lib/python3.7/dist-packages (from requests>=2.2.1->gspread) (2.10)\n",
            "Requirement already satisfied: certifi>=2017.4.17 in /usr/local/lib/python3.7/dist-packages (from requests>=2.2.1->gspread) (2022.6.15)\n",
            "Requirement already satisfied: setuptools>=40.3.0 in /usr/local/lib/python3.7/dist-packages (from google-auth->gspread) (57.4.0)\n",
            "Requirement already satisfied: cachetools<5.0,>=2.0.0 in /usr/local/lib/python3.7/dist-packages (from google-auth->gspread) (4.2.4)\n",
            "Requirement already satisfied: pyasn1-modules>=0.2.1 in /usr/local/lib/python3.7/dist-packages (from google-auth->gspread) (0.2.8)\n",
            "Requirement already satisfied: six>=1.9.0 in /usr/local/lib/python3.7/dist-packages (from google-auth->gspread) (1.15.0)\n",
            "Requirement already satisfied: rsa<5,>=3.1.4 in /usr/local/lib/python3.7/dist-packages (from google-auth->gspread) (4.8)\n",
            "Requirement already satisfied: pyasn1<0.5.0,>=0.4.6 in /usr/local/lib/python3.7/dist-packages (from pyasn1-modules>=0.2.1->google-auth->gspread) (0.4.8)\n"
          ]
        }
      ]
    },
    {
      "cell_type": "code",
      "source": [
        "!pip install emot"
      ],
      "metadata": {
        "colab": {
          "base_uri": "https://localhost:8080/"
        },
        "id": "YKGX_bauVJ8T",
        "outputId": "3a405222-1a49-49f1-a1a4-a51c2db801b7"
      },
      "execution_count": null,
      "outputs": [
        {
          "output_type": "stream",
          "name": "stdout",
          "text": [
            "Looking in indexes: https://pypi.org/simple, https://us-python.pkg.dev/colab-wheels/public/simple/\n",
            "Requirement already satisfied: emot in /usr/local/lib/python3.7/dist-packages (3.1)\n"
          ]
        }
      ]
    },
    {
      "cell_type": "code",
      "source": [
        "pip install xgboost"
      ],
      "metadata": {
        "colab": {
          "base_uri": "https://localhost:8080/"
        },
        "id": "eQaAMJ5zEpPr",
        "outputId": "8bd3d522-b93a-458d-95a8-0933b3293b3e"
      },
      "execution_count": null,
      "outputs": [
        {
          "output_type": "stream",
          "name": "stdout",
          "text": [
            "Looking in indexes: https://pypi.org/simple, https://us-python.pkg.dev/colab-wheels/public/simple/\n",
            "Requirement already satisfied: xgboost in /usr/local/lib/python3.7/dist-packages (0.90)\n",
            "Requirement already satisfied: numpy in /usr/local/lib/python3.7/dist-packages (from xgboost) (1.21.6)\n",
            "Requirement already satisfied: scipy in /usr/local/lib/python3.7/dist-packages (from xgboost) (1.5.4)\n"
          ]
        }
      ]
    },
    {
      "cell_type": "code",
      "source": [
        "pip install -q transformers"
      ],
      "metadata": {
        "id": "7tmp3_yhomup"
      },
      "execution_count": null,
      "outputs": []
    },
    {
      "cell_type": "markdown",
      "source": [
        "### Import Packages"
      ],
      "metadata": {
        "id": "Cpc2MYQYUuie"
      }
    },
    {
      "cell_type": "code",
      "source": [
        "import torch\n",
        "import shutil\n",
        "import os\n",
        "import ast\n",
        "import tensorflow as tf\n",
        "import numpy as np\n",
        "import random\n",
        "import pandas as pd\n",
        "import sys \n",
        "import ast\n",
        "import torch.nn as nn\n",
        "import json\n",
        "import transformers\n",
        "import itertools\n",
        "import seaborn as sns\n",
        "import matplotlib.pyplot as plt\n",
        "import logging\n",
        "import json\n",
        "import time\n",
        "import gspread\n",
        "import joblib\n",
        "import time\n",
        "import nltk\n",
        "import string\n",
        "import re\n",
        "import traceback\n",
        "import xgboost\n",
        "\n",
        "from transformers import pipeline\n",
        "from xgboost import XGBClassifier\n",
        "from sklearn.svm import SVC\n",
        "from numpy import where\n",
        "from collections import Counter\n",
        "from matplotlib import pyplot\n",
        "from sklearn.feature_extraction.text import TfidfVectorizer\n",
        "from sklearn import preprocessing\n",
        "from nltk.stem import WordNetLemmatizer\n",
        "from nltk.corpus import stopwords\n",
        "from nltk.tokenize import word_tokenize\n",
        "from sklearn.feature_extraction.text import HashingVectorizer\n",
        "from sklearn.linear_model import LogisticRegression\n",
        "from sklearn.ensemble import GradientBoostingClassifier\n",
        "from typing import List\n",
        "from sklearn.model_selection import train_test_split, GridSearchCV, StratifiedKFold\n",
        "from sklearn.metrics import accuracy_score, f1_score, precision_score, recall_score, classification_report, confusion_matrix, ConfusionMatrixDisplay\n",
        "from transformers.file_utils import is_tf_available, is_torch_available, is_torch_tpu_available\n",
        "from transformers import BertConfig, BertTokenizerFast, BertModel, BertPreTrainedModel, Trainer, TrainingArguments, AutoModelForSequenceClassification, AdamW, get_scheduler, BertForSequenceClassification, AutoModel\n",
        "from torch.utils.data import Dataset, TensorDataset, DataLoader, RandomSampler, SequentialSampler\n",
        "from prettytable import PrettyTable\n",
        "from torch.nn import BCEWithLogitsLoss, CrossEntropyLoss, MSELoss\n",
        "from tqdm.auto import tqdm\n",
        "from ast import literal_eval\n",
        "from sklearn.utils.class_weight import compute_class_weight\n",
        "from math import log2\n",
        "from oauth2client.client import GoogleCredentials\n",
        "from sklearn.ensemble import RandomForestClassifier, GradientBoostingClassifier\n",
        "from sklearn.neural_network import MLPClassifier\n",
        "import warnings\n",
        "from emot.emo_unicode import UNICODE_EMOJI # For emojis\n",
        "from emot.emo_unicode import EMOTICONS_EMO # For emoticons\n",
        "\n",
        "warnings.filterwarnings(\"ignore\")"
      ],
      "metadata": {
        "id": "oQtxiP-TGZis"
      },
      "execution_count": null,
      "outputs": []
    },
    {
      "cell_type": "markdown",
      "source": [
        "#### Some downloads"
      ],
      "metadata": {
        "id": "lvF51v1HuDvB"
      }
    },
    {
      "cell_type": "code",
      "source": [
        "nltk.download('punkt')"
      ],
      "metadata": {
        "colab": {
          "base_uri": "https://localhost:8080/"
        },
        "id": "09SyOjKamNij",
        "outputId": "f2c5a270-6389-468c-9e90-f34fd308aea0"
      },
      "execution_count": null,
      "outputs": [
        {
          "output_type": "stream",
          "name": "stderr",
          "text": [
            "[nltk_data] Downloading package punkt to /root/nltk_data...\n",
            "[nltk_data]   Package punkt is already up-to-date!\n"
          ]
        },
        {
          "output_type": "execute_result",
          "data": {
            "text/plain": [
              "True"
            ]
          },
          "metadata": {},
          "execution_count": 10
        }
      ]
    },
    {
      "cell_type": "code",
      "source": [
        "nltk.download('wordnet')"
      ],
      "metadata": {
        "colab": {
          "base_uri": "https://localhost:8080/"
        },
        "id": "Ru0qPOIGmUpa",
        "outputId": "4336c4bc-480d-40ad-9d1c-48f2a7faa845"
      },
      "execution_count": null,
      "outputs": [
        {
          "output_type": "stream",
          "name": "stderr",
          "text": [
            "[nltk_data] Downloading package wordnet to /root/nltk_data...\n",
            "[nltk_data]   Package wordnet is already up-to-date!\n"
          ]
        },
        {
          "output_type": "execute_result",
          "data": {
            "text/plain": [
              "True"
            ]
          },
          "metadata": {},
          "execution_count": 11
        }
      ]
    },
    {
      "cell_type": "code",
      "source": [
        "nltk.download('omw-1.4')"
      ],
      "metadata": {
        "colab": {
          "base_uri": "https://localhost:8080/"
        },
        "id": "2vu3ysrjmalf",
        "outputId": "147b7266-40dd-45d6-ddb3-d5439e4ccbef"
      },
      "execution_count": null,
      "outputs": [
        {
          "output_type": "stream",
          "name": "stderr",
          "text": [
            "[nltk_data] Downloading package omw-1.4 to /root/nltk_data...\n",
            "[nltk_data]   Package omw-1.4 is already up-to-date!\n"
          ]
        },
        {
          "output_type": "execute_result",
          "data": {
            "text/plain": [
              "True"
            ]
          },
          "metadata": {},
          "execution_count": 12
        }
      ]
    },
    {
      "cell_type": "code",
      "source": [
        "nltk.download('stopwords')"
      ],
      "metadata": {
        "colab": {
          "base_uri": "https://localhost:8080/"
        },
        "id": "dZkt3SIej_Nb",
        "outputId": "abed2d9e-77f0-4e15-8bfe-cd2ac5adc070"
      },
      "execution_count": null,
      "outputs": [
        {
          "output_type": "stream",
          "name": "stderr",
          "text": [
            "[nltk_data] Downloading package stopwords to /root/nltk_data...\n",
            "[nltk_data]   Package stopwords is already up-to-date!\n"
          ]
        },
        {
          "output_type": "execute_result",
          "data": {
            "text/plain": [
              "True"
            ]
          },
          "metadata": {},
          "execution_count": 13
        }
      ]
    },
    {
      "cell_type": "markdown",
      "source": [
        "### Set Random Seed"
      ],
      "metadata": {
        "id": "Qcrf5wAAU0b0"
      }
    },
    {
      "cell_type": "code",
      "source": [
        "# specify GPU\n",
        "device = torch.device(\"cuda\")"
      ],
      "metadata": {
        "id": "yqkpxTuCG_dk"
      },
      "execution_count": null,
      "outputs": []
    },
    {
      "cell_type": "code",
      "source": [
        "def set_seed(seed: int):\n",
        "  \"\"\"\n",
        "  Helper function for reproducible behavior to set the seed in ``random``, ``numpy``, ``torch`` and/or ``tf`` (if\n",
        "  installed).\n",
        "\n",
        "  Args:\n",
        "      seed (:obj:`int`): The seed to set.\n",
        "  \"\"\"\n",
        "  random.seed(seed)\n",
        "  np.random.seed(seed)\n",
        "  if is_torch_available():\n",
        "    torch.manual_seed(seed)\n",
        "    torch.cuda.manual_seed_all(seed)\n",
        "    # safe to call this function even if cuda is not available\n",
        "  if is_tf_available():\n",
        "    import tensorflow as tf\n",
        "\n",
        "    tf.random.set_seed(seed)"
      ],
      "metadata": {
        "id": "utVGZj1zHAOd"
      },
      "execution_count": null,
      "outputs": []
    },
    {
      "cell_type": "code",
      "source": [
        "set_seed(1)"
      ],
      "metadata": {
        "id": "B5xtfxX3HCzP"
      },
      "execution_count": null,
      "outputs": []
    },
    {
      "cell_type": "markdown",
      "source": [
        "### Read Input File"
      ],
      "metadata": {
        "id": "gJV-JacnU4Kv"
      }
    },
    {
      "cell_type": "code",
      "source": [
        "# mounting gdrive\n",
        "# from google.colab import drive\n",
        "# drive.mount('/content/drive')"
      ],
      "metadata": {
        "id": "kq5I3hhKHE85"
      },
      "execution_count": null,
      "outputs": []
    },
    {
      "cell_type": "code",
      "source": [
        "# dataset file directory\n",
        "# infile = \"/content/elonmusk_doge_tweets.csv\"\n",
        "infile = \"/content/doge_coin_dataset_2021_orig.csv\"\n",
        "# infile = \"/content/drive/MyDrive/SMBA_2022/elonmusk_doge_tweets.gsheet\"\n",
        "\n",
        "# reading the dataset\n",
        "df = pd.read_csv(infile, encoding = \"utf-8\")\n",
        "    \n",
        "\n",
        "df.head()"
      ],
      "metadata": {
        "colab": {
          "base_uri": "https://localhost:8080/",
          "height": 354
        },
        "id": "uyH3oiIdHJow",
        "outputId": "b0ce66db-8073-4ac3-b491-b4bb879d06dc"
      },
      "execution_count": null,
      "outputs": [
        {
          "output_type": "execute_result",
          "data": {
            "text/plain": [
              "       tweet_id       user_id user_name  \\\n",
              "0  1.360000e+18  3.134341e+09    Nobody   \n",
              "1  1.360000e+18  1.320000e+18    Nobody   \n",
              "2  1.360000e+18  1.849860e+09    Nobody   \n",
              "3  1.360000e+18  1.360000e+18    Nobody   \n",
              "4  1.360000e+18  1.290000e+18    Nobody   \n",
              "\n",
              "                                      original_tweet  year  month  day  \\\n",
              "0  You can’t stop us, you fucks #dogecoin https:/...  2021      1   31   \n",
              "1  https://t.co/EGyJXssO6l\\n\\nLet's share it to t...  2021      1   31   \n",
              "2  If you really hated socialism, you’d let every...  2021      1   31   \n",
              "3  Like and retweet, if you believe #Dogecoin #in...  2021      1   31   \n",
              "4  #dogecoin is sounding more and more like essen...  2021      1   31   \n",
              "\n",
              "       time               source  \\\n",
              "0  22:50:54   Twitter for iPhone   \n",
              "1  23:28:43  Twitter for Android   \n",
              "2  23:28:42   Twitter for iPhone   \n",
              "3  23:28:35   Twitter for iPhone   \n",
              "4  23:28:34  Twitter for Android   \n",
              "\n",
              "                                       cleaned_tweet labels Unnamed: 11  \\\n",
              "0             you can’t stop us, you fucks #dogecoin      1         NaN   \n",
              "1  let's share it to the entire social network to...    NaN         NaN   \n",
              "2  if you really hated socialism, you’d let every...    NaN         NaN   \n",
              "3  like and retweet, if you believe #dogecoin #in...    NaN         NaN   \n",
              "4  #dogecoin is sounding more and more like essen...     -1         NaN   \n",
              "\n",
              "   Unnamed: 12  \n",
              "0          NaN  \n",
              "1          NaN  \n",
              "2          NaN  \n",
              "3          NaN  \n",
              "4          NaN  "
            ],
            "text/html": [
              "\n",
              "  <div id=\"df-9db42992-8f94-4bd9-9d6d-2edf24c7442f\">\n",
              "    <div class=\"colab-df-container\">\n",
              "      <div>\n",
              "<style scoped>\n",
              "    .dataframe tbody tr th:only-of-type {\n",
              "        vertical-align: middle;\n",
              "    }\n",
              "\n",
              "    .dataframe tbody tr th {\n",
              "        vertical-align: top;\n",
              "    }\n",
              "\n",
              "    .dataframe thead th {\n",
              "        text-align: right;\n",
              "    }\n",
              "</style>\n",
              "<table border=\"1\" class=\"dataframe\">\n",
              "  <thead>\n",
              "    <tr style=\"text-align: right;\">\n",
              "      <th></th>\n",
              "      <th>tweet_id</th>\n",
              "      <th>user_id</th>\n",
              "      <th>user_name</th>\n",
              "      <th>original_tweet</th>\n",
              "      <th>year</th>\n",
              "      <th>month</th>\n",
              "      <th>day</th>\n",
              "      <th>time</th>\n",
              "      <th>source</th>\n",
              "      <th>cleaned_tweet</th>\n",
              "      <th>labels</th>\n",
              "      <th>Unnamed: 11</th>\n",
              "      <th>Unnamed: 12</th>\n",
              "    </tr>\n",
              "  </thead>\n",
              "  <tbody>\n",
              "    <tr>\n",
              "      <th>0</th>\n",
              "      <td>1.360000e+18</td>\n",
              "      <td>3.134341e+09</td>\n",
              "      <td>Nobody</td>\n",
              "      <td>You can’t stop us, you fucks #dogecoin https:/...</td>\n",
              "      <td>2021</td>\n",
              "      <td>1</td>\n",
              "      <td>31</td>\n",
              "      <td>22:50:54</td>\n",
              "      <td>Twitter for iPhone</td>\n",
              "      <td>you can’t stop us, you fucks #dogecoin</td>\n",
              "      <td>1</td>\n",
              "      <td>NaN</td>\n",
              "      <td>NaN</td>\n",
              "    </tr>\n",
              "    <tr>\n",
              "      <th>1</th>\n",
              "      <td>1.360000e+18</td>\n",
              "      <td>1.320000e+18</td>\n",
              "      <td>Nobody</td>\n",
              "      <td>https://t.co/EGyJXssO6l\\n\\nLet's share it to t...</td>\n",
              "      <td>2021</td>\n",
              "      <td>1</td>\n",
              "      <td>31</td>\n",
              "      <td>23:28:43</td>\n",
              "      <td>Twitter for Android</td>\n",
              "      <td>let's share it to the entire social network to...</td>\n",
              "      <td>NaN</td>\n",
              "      <td>NaN</td>\n",
              "      <td>NaN</td>\n",
              "    </tr>\n",
              "    <tr>\n",
              "      <th>2</th>\n",
              "      <td>1.360000e+18</td>\n",
              "      <td>1.849860e+09</td>\n",
              "      <td>Nobody</td>\n",
              "      <td>If you really hated socialism, you’d let every...</td>\n",
              "      <td>2021</td>\n",
              "      <td>1</td>\n",
              "      <td>31</td>\n",
              "      <td>23:28:42</td>\n",
              "      <td>Twitter for iPhone</td>\n",
              "      <td>if you really hated socialism, you’d let every...</td>\n",
              "      <td>NaN</td>\n",
              "      <td>NaN</td>\n",
              "      <td>NaN</td>\n",
              "    </tr>\n",
              "    <tr>\n",
              "      <th>3</th>\n",
              "      <td>1.360000e+18</td>\n",
              "      <td>1.360000e+18</td>\n",
              "      <td>Nobody</td>\n",
              "      <td>Like and retweet, if you believe #Dogecoin #in...</td>\n",
              "      <td>2021</td>\n",
              "      <td>1</td>\n",
              "      <td>31</td>\n",
              "      <td>23:28:35</td>\n",
              "      <td>Twitter for iPhone</td>\n",
              "      <td>like and retweet, if you believe #dogecoin #in...</td>\n",
              "      <td>NaN</td>\n",
              "      <td>NaN</td>\n",
              "      <td>NaN</td>\n",
              "    </tr>\n",
              "    <tr>\n",
              "      <th>4</th>\n",
              "      <td>1.360000e+18</td>\n",
              "      <td>1.290000e+18</td>\n",
              "      <td>Nobody</td>\n",
              "      <td>#dogecoin is sounding more and more like essen...</td>\n",
              "      <td>2021</td>\n",
              "      <td>1</td>\n",
              "      <td>31</td>\n",
              "      <td>23:28:34</td>\n",
              "      <td>Twitter for Android</td>\n",
              "      <td>#dogecoin is sounding more and more like essen...</td>\n",
              "      <td>-1</td>\n",
              "      <td>NaN</td>\n",
              "      <td>NaN</td>\n",
              "    </tr>\n",
              "  </tbody>\n",
              "</table>\n",
              "</div>\n",
              "      <button class=\"colab-df-convert\" onclick=\"convertToInteractive('df-9db42992-8f94-4bd9-9d6d-2edf24c7442f')\"\n",
              "              title=\"Convert this dataframe to an interactive table.\"\n",
              "              style=\"display:none;\">\n",
              "        \n",
              "  <svg xmlns=\"http://www.w3.org/2000/svg\" height=\"24px\"viewBox=\"0 0 24 24\"\n",
              "       width=\"24px\">\n",
              "    <path d=\"M0 0h24v24H0V0z\" fill=\"none\"/>\n",
              "    <path d=\"M18.56 5.44l.94 2.06.94-2.06 2.06-.94-2.06-.94-.94-2.06-.94 2.06-2.06.94zm-11 1L8.5 8.5l.94-2.06 2.06-.94-2.06-.94L8.5 2.5l-.94 2.06-2.06.94zm10 10l.94 2.06.94-2.06 2.06-.94-2.06-.94-.94-2.06-.94 2.06-2.06.94z\"/><path d=\"M17.41 7.96l-1.37-1.37c-.4-.4-.92-.59-1.43-.59-.52 0-1.04.2-1.43.59L10.3 9.45l-7.72 7.72c-.78.78-.78 2.05 0 2.83L4 21.41c.39.39.9.59 1.41.59.51 0 1.02-.2 1.41-.59l7.78-7.78 2.81-2.81c.8-.78.8-2.07 0-2.86zM5.41 20L4 18.59l7.72-7.72 1.47 1.35L5.41 20z\"/>\n",
              "  </svg>\n",
              "      </button>\n",
              "      \n",
              "  <style>\n",
              "    .colab-df-container {\n",
              "      display:flex;\n",
              "      flex-wrap:wrap;\n",
              "      gap: 12px;\n",
              "    }\n",
              "\n",
              "    .colab-df-convert {\n",
              "      background-color: #E8F0FE;\n",
              "      border: none;\n",
              "      border-radius: 50%;\n",
              "      cursor: pointer;\n",
              "      display: none;\n",
              "      fill: #1967D2;\n",
              "      height: 32px;\n",
              "      padding: 0 0 0 0;\n",
              "      width: 32px;\n",
              "    }\n",
              "\n",
              "    .colab-df-convert:hover {\n",
              "      background-color: #E2EBFA;\n",
              "      box-shadow: 0px 1px 2px rgba(60, 64, 67, 0.3), 0px 1px 3px 1px rgba(60, 64, 67, 0.15);\n",
              "      fill: #174EA6;\n",
              "    }\n",
              "\n",
              "    [theme=dark] .colab-df-convert {\n",
              "      background-color: #3B4455;\n",
              "      fill: #D2E3FC;\n",
              "    }\n",
              "\n",
              "    [theme=dark] .colab-df-convert:hover {\n",
              "      background-color: #434B5C;\n",
              "      box-shadow: 0px 1px 3px 1px rgba(0, 0, 0, 0.15);\n",
              "      filter: drop-shadow(0px 1px 2px rgba(0, 0, 0, 0.3));\n",
              "      fill: #FFFFFF;\n",
              "    }\n",
              "  </style>\n",
              "\n",
              "      <script>\n",
              "        const buttonEl =\n",
              "          document.querySelector('#df-9db42992-8f94-4bd9-9d6d-2edf24c7442f button.colab-df-convert');\n",
              "        buttonEl.style.display =\n",
              "          google.colab.kernel.accessAllowed ? 'block' : 'none';\n",
              "\n",
              "        async function convertToInteractive(key) {\n",
              "          const element = document.querySelector('#df-9db42992-8f94-4bd9-9d6d-2edf24c7442f');\n",
              "          const dataTable =\n",
              "            await google.colab.kernel.invokeFunction('convertToInteractive',\n",
              "                                                     [key], {});\n",
              "          if (!dataTable) return;\n",
              "\n",
              "          const docLinkHtml = 'Like what you see? Visit the ' +\n",
              "            '<a target=\"_blank\" href=https://colab.research.google.com/notebooks/data_table.ipynb>data table notebook</a>'\n",
              "            + ' to learn more about interactive tables.';\n",
              "          element.innerHTML = '';\n",
              "          dataTable['output_type'] = 'display_data';\n",
              "          await google.colab.output.renderOutput(dataTable, element);\n",
              "          const docLink = document.createElement('div');\n",
              "          docLink.innerHTML = docLinkHtml;\n",
              "          element.appendChild(docLink);\n",
              "        }\n",
              "      </script>\n",
              "    </div>\n",
              "  </div>\n",
              "  "
            ]
          },
          "metadata": {},
          "execution_count": 287
        }
      ]
    },
    {
      "cell_type": "markdown",
      "source": [
        "### Preprocess the dataset"
      ],
      "metadata": {
        "id": "y_dcPzn4bfDP"
      }
    },
    {
      "cell_type": "markdown",
      "source": [
        "#### Collect all annotated tweets"
      ],
      "metadata": {
        "id": "QvmMFU6NtuWs"
      }
    },
    {
      "cell_type": "code",
      "source": [
        "# drop unnamed columns \n",
        "df = df.drop(['Unnamed: 11', 'Unnamed: 12'], axis=1)\n",
        "df.head()"
      ],
      "metadata": {
        "colab": {
          "base_uri": "https://localhost:8080/",
          "height": 206
        },
        "id": "jHtwR-uhrrQ0",
        "outputId": "37038549-951b-4123-9927-3800a41378b0"
      },
      "execution_count": null,
      "outputs": [
        {
          "output_type": "execute_result",
          "data": {
            "text/plain": [
              "       tweet_id       user_id user_name  \\\n",
              "0  1.360000e+18  3.134341e+09    Nobody   \n",
              "1  1.360000e+18  1.320000e+18    Nobody   \n",
              "2  1.360000e+18  1.849860e+09    Nobody   \n",
              "3  1.360000e+18  1.360000e+18    Nobody   \n",
              "4  1.360000e+18  1.290000e+18    Nobody   \n",
              "\n",
              "                                      original_tweet  year  month  day  \\\n",
              "0  You can’t stop us, you fucks #dogecoin https:/...  2021      1   31   \n",
              "1  https://t.co/EGyJXssO6l\\n\\nLet's share it to t...  2021      1   31   \n",
              "2  If you really hated socialism, you’d let every...  2021      1   31   \n",
              "3  Like and retweet, if you believe #Dogecoin #in...  2021      1   31   \n",
              "4  #dogecoin is sounding more and more like essen...  2021      1   31   \n",
              "\n",
              "       time               source  \\\n",
              "0  22:50:54   Twitter for iPhone   \n",
              "1  23:28:43  Twitter for Android   \n",
              "2  23:28:42   Twitter for iPhone   \n",
              "3  23:28:35   Twitter for iPhone   \n",
              "4  23:28:34  Twitter for Android   \n",
              "\n",
              "                                       cleaned_tweet labels  \n",
              "0             you can’t stop us, you fucks #dogecoin      1  \n",
              "1  let's share it to the entire social network to...    NaN  \n",
              "2  if you really hated socialism, you’d let every...    NaN  \n",
              "3  like and retweet, if you believe #dogecoin #in...    NaN  \n",
              "4  #dogecoin is sounding more and more like essen...     -1  "
            ],
            "text/html": [
              "\n",
              "  <div id=\"df-c477a3a9-ee5e-41fd-a801-f7d499502fb5\">\n",
              "    <div class=\"colab-df-container\">\n",
              "      <div>\n",
              "<style scoped>\n",
              "    .dataframe tbody tr th:only-of-type {\n",
              "        vertical-align: middle;\n",
              "    }\n",
              "\n",
              "    .dataframe tbody tr th {\n",
              "        vertical-align: top;\n",
              "    }\n",
              "\n",
              "    .dataframe thead th {\n",
              "        text-align: right;\n",
              "    }\n",
              "</style>\n",
              "<table border=\"1\" class=\"dataframe\">\n",
              "  <thead>\n",
              "    <tr style=\"text-align: right;\">\n",
              "      <th></th>\n",
              "      <th>tweet_id</th>\n",
              "      <th>user_id</th>\n",
              "      <th>user_name</th>\n",
              "      <th>original_tweet</th>\n",
              "      <th>year</th>\n",
              "      <th>month</th>\n",
              "      <th>day</th>\n",
              "      <th>time</th>\n",
              "      <th>source</th>\n",
              "      <th>cleaned_tweet</th>\n",
              "      <th>labels</th>\n",
              "    </tr>\n",
              "  </thead>\n",
              "  <tbody>\n",
              "    <tr>\n",
              "      <th>0</th>\n",
              "      <td>1.360000e+18</td>\n",
              "      <td>3.134341e+09</td>\n",
              "      <td>Nobody</td>\n",
              "      <td>You can’t stop us, you fucks #dogecoin https:/...</td>\n",
              "      <td>2021</td>\n",
              "      <td>1</td>\n",
              "      <td>31</td>\n",
              "      <td>22:50:54</td>\n",
              "      <td>Twitter for iPhone</td>\n",
              "      <td>you can’t stop us, you fucks #dogecoin</td>\n",
              "      <td>1</td>\n",
              "    </tr>\n",
              "    <tr>\n",
              "      <th>1</th>\n",
              "      <td>1.360000e+18</td>\n",
              "      <td>1.320000e+18</td>\n",
              "      <td>Nobody</td>\n",
              "      <td>https://t.co/EGyJXssO6l\\n\\nLet's share it to t...</td>\n",
              "      <td>2021</td>\n",
              "      <td>1</td>\n",
              "      <td>31</td>\n",
              "      <td>23:28:43</td>\n",
              "      <td>Twitter for Android</td>\n",
              "      <td>let's share it to the entire social network to...</td>\n",
              "      <td>NaN</td>\n",
              "    </tr>\n",
              "    <tr>\n",
              "      <th>2</th>\n",
              "      <td>1.360000e+18</td>\n",
              "      <td>1.849860e+09</td>\n",
              "      <td>Nobody</td>\n",
              "      <td>If you really hated socialism, you’d let every...</td>\n",
              "      <td>2021</td>\n",
              "      <td>1</td>\n",
              "      <td>31</td>\n",
              "      <td>23:28:42</td>\n",
              "      <td>Twitter for iPhone</td>\n",
              "      <td>if you really hated socialism, you’d let every...</td>\n",
              "      <td>NaN</td>\n",
              "    </tr>\n",
              "    <tr>\n",
              "      <th>3</th>\n",
              "      <td>1.360000e+18</td>\n",
              "      <td>1.360000e+18</td>\n",
              "      <td>Nobody</td>\n",
              "      <td>Like and retweet, if you believe #Dogecoin #in...</td>\n",
              "      <td>2021</td>\n",
              "      <td>1</td>\n",
              "      <td>31</td>\n",
              "      <td>23:28:35</td>\n",
              "      <td>Twitter for iPhone</td>\n",
              "      <td>like and retweet, if you believe #dogecoin #in...</td>\n",
              "      <td>NaN</td>\n",
              "    </tr>\n",
              "    <tr>\n",
              "      <th>4</th>\n",
              "      <td>1.360000e+18</td>\n",
              "      <td>1.290000e+18</td>\n",
              "      <td>Nobody</td>\n",
              "      <td>#dogecoin is sounding more and more like essen...</td>\n",
              "      <td>2021</td>\n",
              "      <td>1</td>\n",
              "      <td>31</td>\n",
              "      <td>23:28:34</td>\n",
              "      <td>Twitter for Android</td>\n",
              "      <td>#dogecoin is sounding more and more like essen...</td>\n",
              "      <td>-1</td>\n",
              "    </tr>\n",
              "  </tbody>\n",
              "</table>\n",
              "</div>\n",
              "      <button class=\"colab-df-convert\" onclick=\"convertToInteractive('df-c477a3a9-ee5e-41fd-a801-f7d499502fb5')\"\n",
              "              title=\"Convert this dataframe to an interactive table.\"\n",
              "              style=\"display:none;\">\n",
              "        \n",
              "  <svg xmlns=\"http://www.w3.org/2000/svg\" height=\"24px\"viewBox=\"0 0 24 24\"\n",
              "       width=\"24px\">\n",
              "    <path d=\"M0 0h24v24H0V0z\" fill=\"none\"/>\n",
              "    <path d=\"M18.56 5.44l.94 2.06.94-2.06 2.06-.94-2.06-.94-.94-2.06-.94 2.06-2.06.94zm-11 1L8.5 8.5l.94-2.06 2.06-.94-2.06-.94L8.5 2.5l-.94 2.06-2.06.94zm10 10l.94 2.06.94-2.06 2.06-.94-2.06-.94-.94-2.06-.94 2.06-2.06.94z\"/><path d=\"M17.41 7.96l-1.37-1.37c-.4-.4-.92-.59-1.43-.59-.52 0-1.04.2-1.43.59L10.3 9.45l-7.72 7.72c-.78.78-.78 2.05 0 2.83L4 21.41c.39.39.9.59 1.41.59.51 0 1.02-.2 1.41-.59l7.78-7.78 2.81-2.81c.8-.78.8-2.07 0-2.86zM5.41 20L4 18.59l7.72-7.72 1.47 1.35L5.41 20z\"/>\n",
              "  </svg>\n",
              "      </button>\n",
              "      \n",
              "  <style>\n",
              "    .colab-df-container {\n",
              "      display:flex;\n",
              "      flex-wrap:wrap;\n",
              "      gap: 12px;\n",
              "    }\n",
              "\n",
              "    .colab-df-convert {\n",
              "      background-color: #E8F0FE;\n",
              "      border: none;\n",
              "      border-radius: 50%;\n",
              "      cursor: pointer;\n",
              "      display: none;\n",
              "      fill: #1967D2;\n",
              "      height: 32px;\n",
              "      padding: 0 0 0 0;\n",
              "      width: 32px;\n",
              "    }\n",
              "\n",
              "    .colab-df-convert:hover {\n",
              "      background-color: #E2EBFA;\n",
              "      box-shadow: 0px 1px 2px rgba(60, 64, 67, 0.3), 0px 1px 3px 1px rgba(60, 64, 67, 0.15);\n",
              "      fill: #174EA6;\n",
              "    }\n",
              "\n",
              "    [theme=dark] .colab-df-convert {\n",
              "      background-color: #3B4455;\n",
              "      fill: #D2E3FC;\n",
              "    }\n",
              "\n",
              "    [theme=dark] .colab-df-convert:hover {\n",
              "      background-color: #434B5C;\n",
              "      box-shadow: 0px 1px 3px 1px rgba(0, 0, 0, 0.15);\n",
              "      filter: drop-shadow(0px 1px 2px rgba(0, 0, 0, 0.3));\n",
              "      fill: #FFFFFF;\n",
              "    }\n",
              "  </style>\n",
              "\n",
              "      <script>\n",
              "        const buttonEl =\n",
              "          document.querySelector('#df-c477a3a9-ee5e-41fd-a801-f7d499502fb5 button.colab-df-convert');\n",
              "        buttonEl.style.display =\n",
              "          google.colab.kernel.accessAllowed ? 'block' : 'none';\n",
              "\n",
              "        async function convertToInteractive(key) {\n",
              "          const element = document.querySelector('#df-c477a3a9-ee5e-41fd-a801-f7d499502fb5');\n",
              "          const dataTable =\n",
              "            await google.colab.kernel.invokeFunction('convertToInteractive',\n",
              "                                                     [key], {});\n",
              "          if (!dataTable) return;\n",
              "\n",
              "          const docLinkHtml = 'Like what you see? Visit the ' +\n",
              "            '<a target=\"_blank\" href=https://colab.research.google.com/notebooks/data_table.ipynb>data table notebook</a>'\n",
              "            + ' to learn more about interactive tables.';\n",
              "          element.innerHTML = '';\n",
              "          dataTable['output_type'] = 'display_data';\n",
              "          await google.colab.output.renderOutput(dataTable, element);\n",
              "          const docLink = document.createElement('div');\n",
              "          docLink.innerHTML = docLinkHtml;\n",
              "          element.appendChild(docLink);\n",
              "        }\n",
              "      </script>\n",
              "    </div>\n",
              "  </div>\n",
              "  "
            ]
          },
          "metadata": {},
          "execution_count": 288
        }
      ]
    },
    {
      "cell_type": "code",
      "source": [
        "# drop missing columns\n",
        "for i in df.keys():\n",
        "    df.dropna(subset=[i], inplace=True)"
      ],
      "metadata": {
        "id": "PsSg-xUFsLNw"
      },
      "execution_count": null,
      "outputs": []
    },
    {
      "cell_type": "code",
      "source": [
        "df.count()"
      ],
      "metadata": {
        "colab": {
          "base_uri": "https://localhost:8080/"
        },
        "id": "x4EniKchs647",
        "outputId": "333405f8-bca5-4c8d-f9e1-31b19a086b9d"
      },
      "execution_count": null,
      "outputs": [
        {
          "output_type": "execute_result",
          "data": {
            "text/plain": [
              "tweet_id          1970\n",
              "user_id           1970\n",
              "user_name         1970\n",
              "original_tweet    1970\n",
              "year              1970\n",
              "month             1970\n",
              "day               1970\n",
              "time              1970\n",
              "source            1970\n",
              "cleaned_tweet     1970\n",
              "labels            1970\n",
              "dtype: int64"
            ]
          },
          "metadata": {},
          "execution_count": 290
        }
      ]
    },
    {
      "cell_type": "code",
      "source": [
        "df.labels.unique()"
      ],
      "metadata": {
        "colab": {
          "base_uri": "https://localhost:8080/"
        },
        "id": "nzDv1znmtBGt",
        "outputId": "e2e89040-7bf3-437d-f1c6-0ac1cc2a1d65"
      },
      "execution_count": null,
      "outputs": [
        {
          "output_type": "execute_result",
          "data": {
            "text/plain": [
              "array(['1', '-1', '2', '0', ' '], dtype=object)"
            ]
          },
          "metadata": {},
          "execution_count": 291
        }
      ]
    },
    {
      "cell_type": "code",
      "source": [
        "df = df[df.labels != \" \"]\n",
        "df.count()"
      ],
      "metadata": {
        "colab": {
          "base_uri": "https://localhost:8080/"
        },
        "id": "YMfysL6ctlcz",
        "outputId": "1579cfda-3fc7-4cce-c460-7509b097ba16"
      },
      "execution_count": null,
      "outputs": [
        {
          "output_type": "execute_result",
          "data": {
            "text/plain": [
              "tweet_id          1963\n",
              "user_id           1963\n",
              "user_name         1963\n",
              "original_tweet    1963\n",
              "year              1963\n",
              "month             1963\n",
              "day               1963\n",
              "time              1963\n",
              "source            1963\n",
              "cleaned_tweet     1963\n",
              "labels            1963\n",
              "dtype: int64"
            ]
          },
          "metadata": {},
          "execution_count": 292
        }
      ]
    },
    {
      "cell_type": "code",
      "source": [
        "df.labels.unique()"
      ],
      "metadata": {
        "colab": {
          "base_uri": "https://localhost:8080/"
        },
        "id": "qXcfgAgsipm0",
        "outputId": "ec49b74f-6e22-41d8-ce66-e29950cdfb62"
      },
      "execution_count": null,
      "outputs": [
        {
          "output_type": "execute_result",
          "data": {
            "text/plain": [
              "array(['1', '-1', '2', '0'], dtype=object)"
            ]
          },
          "metadata": {},
          "execution_count": 293
        }
      ]
    },
    {
      "cell_type": "markdown",
      "source": [
        "#### Some methods for preprocessing"
      ],
      "metadata": {
        "id": "GCeKQ-vYt2cl"
      }
    },
    {
      "cell_type": "code",
      "source": [
        "# remove all numbers\n",
        "def remove_numbers(text):\n",
        "    result = re.sub(r'\\d+', '', text)\n",
        "    return result"
      ],
      "metadata": {
        "id": "fBTah8krbPVk"
      },
      "execution_count": null,
      "outputs": []
    },
    {
      "cell_type": "code",
      "source": [
        "# remove punctuation\n",
        "def remove_punctuation(text):\n",
        "    translator = str.maketrans('', '', string.punctuation)\n",
        "    return text.translate(translator)"
      ],
      "metadata": {
        "id": "elIvLb0cblbS"
      },
      "execution_count": null,
      "outputs": []
    },
    {
      "cell_type": "code",
      "source": [
        "# tokenize a string\n",
        "def tokenize(text):\n",
        "    word_tokens = word_tokenize(text)\n",
        "    return word_tokens"
      ],
      "metadata": {
        "id": "5cpe2dD2kJEF"
      },
      "execution_count": null,
      "outputs": []
    },
    {
      "cell_type": "code",
      "source": [
        "stop_words = set(stopwords.words(\"english\"))\n",
        "\n",
        "# remove stopwords function\n",
        "def remove_stopwords(word_tokens):\n",
        "    filtered_text = [word for word in word_tokens if word not in stop_words]\n",
        "    return filtered_text"
      ],
      "metadata": {
        "id": "bVwFv0DkcMIm"
      },
      "execution_count": null,
      "outputs": []
    },
    {
      "cell_type": "code",
      "source": [
        "lemmatizer = WordNetLemmatizer()\n",
        "\n",
        "# lemmatize string\n",
        "def lemmatize_word(word_tokens):\n",
        "    # provide context i.e. part-of-speech\n",
        "    lemmas = [lemmatizer.lemmatize(word, pos ='v') for word in word_tokens]\n",
        "    return lemmas"
      ],
      "metadata": {
        "id": "tx8Bm-cmcRJ1"
      },
      "execution_count": null,
      "outputs": []
    },
    {
      "cell_type": "code",
      "source": [
        "# get length of all the messages in the train set\n",
        "seq_len = [len(i.split()) for i in df.cleaned_tweet]\n",
        "\n",
        "print(max(seq_len))\n",
        "pd.Series(seq_len).hist(bins = 30);"
      ],
      "metadata": {
        "colab": {
          "base_uri": "https://localhost:8080/",
          "height": 282
        },
        "id": "KZ-QYG-mQzMF",
        "outputId": "4bf2ad04-bdec-4393-8b4c-a7a314ae1bad"
      },
      "execution_count": null,
      "outputs": [
        {
          "output_type": "stream",
          "name": "stdout",
          "text": [
            "57\n"
          ]
        },
        {
          "output_type": "display_data",
          "data": {
            "text/plain": [
              "<Figure size 432x288 with 1 Axes>"
            ],
            "image/png": "[encoded data removed]"
          },
          "metadata": {
            "needs_background": "light"
          }
        }
      ]
    },
    {
      "cell_type": "code",
      "source": [
        "# create the transform\n",
        "vectorizer = HashingVectorizer(n_features=250)\n",
        "\n",
        "# encode document\n",
        "def hashing_vectorizer(text):\n",
        "  vector = vectorizer.transform(text)\n",
        "  return vector.toarray()[0]"
      ],
      "metadata": {
        "id": "u8HjEf-sIvpg"
      },
      "execution_count": null,
      "outputs": []
    },
    {
      "cell_type": "code",
      "source": [
        "vec=TfidfVectorizer(stop_words='english', max_features=3500)\n",
        "\n",
        "def tfidf(text):\n",
        "  matrix=vec.fit_transform(text)\n",
        "\n",
        "  return matrix.toarray()"
      ],
      "metadata": {
        "id": "Ftr3XO94AaPc"
      },
      "execution_count": null,
      "outputs": []
    },
    {
      "cell_type": "code",
      "source": [
        "# method for removing emojis and emoticons\n",
        "def convert_emojis_to_text(tweet):\n",
        "    for emot in UNICODE_EMOJI:\n",
        "        tweet = tweet.replace(emot, (UNICODE_EMOJI[emot].replace(\",\",\"\").replace(\":\",\" \").replace(\"_\",\" \")))\n",
        "    return tweet"
      ],
      "metadata": {
        "id": "DC2rDs3lVR-u"
      },
      "execution_count": null,
      "outputs": []
    },
    {
      "cell_type": "code",
      "source": [
        "# perform all the steps of pre-processing\n",
        "def do_preprocoessing(df):\n",
        "  preprocessed_tweet_ls = []\n",
        "  encoded_tweet_ls = []\n",
        "  for ix, row in df.iterrows():\n",
        "    # remove numbers\n",
        "    row.cleaned_tweet = remove_numbers(row.cleaned_tweet)\n",
        "\n",
        "    # remove punctuation\n",
        "    row.cleaned_tweet = remove_punctuation(row.cleaned_tweet)\n",
        "    \n",
        "    # convert emojis to text description\n",
        "    # row.cleaned_tweet = convert_emojis_to_text(row.cleaned_tweet)\n",
        "\n",
        "    # tokenize a string\n",
        "    word_tokens = tokenize(row.cleaned_tweet)\n",
        "    \n",
        "    # remove stopwords\n",
        "    word_tokens = remove_stopwords(word_tokens)\n",
        "    \n",
        "    # lemmatize a list of word\n",
        "    word_tokens = lemmatize_word(word_tokens)\n",
        "\n",
        "    # create a full string after pre-processing\n",
        "    preprocessed_tweet = \" \".join(word_tokens)\n",
        "    preprocessed_tweet_ls.append(preprocessed_tweet)\n",
        "\n",
        "    # # encode our string using hashing vectorizer\n",
        "    # encoded_tweet_ls.append(hashing_vectorizer([preprocessed_tweet]))\n",
        "\n",
        "  encoded_tweet_lss = tfidf(preprocessed_tweet_ls)\n",
        "  for i in encoded_tweet_lss:\n",
        "    encoded_tweet_ls.append(i)\n",
        "\n",
        "  df[\"preprocessed_tweet\"] = preprocessed_tweet_ls\n",
        "  df[\"encoded_tweet\"] = encoded_tweet_ls\n",
        "\n",
        "  return df"
      ],
      "metadata": {
        "id": "K6Q6QQYPc8lO"
      },
      "execution_count": null,
      "outputs": []
    },
    {
      "cell_type": "code",
      "source": [
        "try:\n",
        "  n_df = do_preprocoessing(df)\n",
        "except:\n",
        "  print(traceback.print_exc())"
      ],
      "metadata": {
        "id": "s-3zVWVNgoXG"
      },
      "execution_count": null,
      "outputs": []
    },
    {
      "cell_type": "code",
      "source": [
        "n_df.encoded_tweet"
      ],
      "metadata": {
        "colab": {
          "base_uri": "https://localhost:8080/"
        },
        "id": "KwkqX9BwnO5a",
        "outputId": "65074bef-9987-454a-ebce-c7ff3962ed47"
      },
      "execution_count": null,
      "outputs": [
        {
          "output_type": "execute_result",
          "data": {
            "text/plain": [
              "0        [0.0, 0.0, 0.0, 0.0, 0.0, 0.0, 0.0, 0.0, 0.0, ...\n",
              "4        [0.0, 0.0, 0.0, 0.0, 0.0, 0.0, 0.0, 0.0, 0.0, ...\n",
              "5        [0.0, 0.0, 0.0, 0.0, 0.0, 0.0, 0.0, 0.0, 0.0, ...\n",
              "6        [0.0, 0.0, 0.0, 0.0, 0.0, 0.0, 0.0, 0.0, 0.0, ...\n",
              "7        [0.0, 0.0, 0.0, 0.0, 0.0, 0.0, 0.0, 0.0, 0.0, ...\n",
              "                               ...                        \n",
              "55108    [0.0, 0.0, 0.0, 0.0, 0.0, 0.0, 0.0, 0.0, 0.0, ...\n",
              "55372    [0.0, 0.0, 0.0, 0.0, 0.0, 0.0, 0.0, 0.0, 0.0, ...\n",
              "55373    [0.0, 0.0, 0.0, 0.0, 0.0, 0.0, 0.0, 0.0, 0.311...\n",
              "55484    [0.0, 0.0, 0.0, 0.0, 0.0, 0.0, 0.0, 0.0, 0.0, ...\n",
              "55627    [0.0, 0.0, 0.0, 0.0, 0.0, 0.0, 0.0, 0.0, 0.0, ...\n",
              "Name: encoded_tweet, Length: 1963, dtype: object"
            ]
          },
          "metadata": {},
          "execution_count": 305
        }
      ]
    },
    {
      "cell_type": "code",
      "source": [
        "n_df.head()"
      ],
      "metadata": {
        "colab": {
          "base_uri": "https://localhost:8080/",
          "height": 337
        },
        "id": "SN8tH2Coo7qo",
        "outputId": "0ebfa0f7-5fed-41f0-ef04-1c05d2144961"
      },
      "execution_count": null,
      "outputs": [
        {
          "output_type": "execute_result",
          "data": {
            "text/plain": [
              "       tweet_id       user_id user_name  \\\n",
              "0  1.360000e+18  3.134341e+09    Nobody   \n",
              "4  1.360000e+18  1.290000e+18    Nobody   \n",
              "5  1.360000e+18  2.966939e+09    Nobody   \n",
              "6  1.360000e+18  1.360000e+18    Nobody   \n",
              "7  1.360000e+18  1.350000e+18    Nobody   \n",
              "\n",
              "                                      original_tweet  year  month  day  \\\n",
              "0  You can’t stop us, you fucks #dogecoin https:/...  2021      1   31   \n",
              "4  #dogecoin is sounding more and more like essen...  2021      1   31   \n",
              "5  #dogecoin wasn’t meant to be a pump and dump. ...  2021      1   31   \n",
              "6  to spread the past week and xrp link https t h...  2021      1   31   \n",
              "7  If every owner that owns a dog would put 10$ i...  2021      1   31   \n",
              "\n",
              "       time               source  \\\n",
              "0  22:50:54   Twitter for iPhone   \n",
              "4  23:28:34  Twitter for Android   \n",
              "5  23:28:33   Twitter for iPhone   \n",
              "6  23:28:31            Error-log   \n",
              "7  23:28:27   Twitter for iPhone   \n",
              "\n",
              "                                       cleaned_tweet labels  \\\n",
              "0             you can’t stop us, you fucks #dogecoin      1   \n",
              "4  #dogecoin is sounding more and more like essen...     -1   \n",
              "5  #dogecoin wasn’t meant to be a pump and dump. ...     -1   \n",
              "6  to spread the past week and xrp link https t h...      2   \n",
              "7  if every owner that owns a dog would put 10$ i...      1   \n",
              "\n",
              "                                  preprocessed_tweet  \\\n",
              "0                            ’ stop us fuck dogecoin   \n",
              "4  dogecoin sound like essential oil pyramid sche...   \n",
              "5  dogecoin ’ mean pump dump suppose buy hold eve...   \n",
              "6  spread past week xrp link https make k doge al...   \n",
              "7  every owner own dog would put dogecoin mfer wo...   \n",
              "\n",
              "                                       encoded_tweet  \n",
              "0  [0.0, 0.0, 0.0, 0.0, 0.0, 0.0, 0.0, 0.0, 0.0, ...  \n",
              "4  [0.0, 0.0, 0.0, 0.0, 0.0, 0.0, 0.0, 0.0, 0.0, ...  \n",
              "5  [0.0, 0.0, 0.0, 0.0, 0.0, 0.0, 0.0, 0.0, 0.0, ...  \n",
              "6  [0.0, 0.0, 0.0, 0.0, 0.0, 0.0, 0.0, 0.0, 0.0, ...  \n",
              "7  [0.0, 0.0, 0.0, 0.0, 0.0, 0.0, 0.0, 0.0, 0.0, ...  "
            ],
            "text/html": [
              "\n",
              "  <div id=\"df-058ba323-668e-4b2c-9d50-75c91df8e188\">\n",
              "    <div class=\"colab-df-container\">\n",
              "      <div>\n",
              "<style scoped>\n",
              "    .dataframe tbody tr th:only-of-type {\n",
              "        vertical-align: middle;\n",
              "    }\n",
              "\n",
              "    .dataframe tbody tr th {\n",
              "        vertical-align: top;\n",
              "    }\n",
              "\n",
              "    .dataframe thead th {\n",
              "        text-align: right;\n",
              "    }\n",
              "</style>\n",
              "<table border=\"1\" class=\"dataframe\">\n",
              "  <thead>\n",
              "    <tr style=\"text-align: right;\">\n",
              "      <th></th>\n",
              "      <th>tweet_id</th>\n",
              "      <th>user_id</th>\n",
              "      <th>user_name</th>\n",
              "      <th>original_tweet</th>\n",
              "      <th>year</th>\n",
              "      <th>month</th>\n",
              "      <th>day</th>\n",
              "      <th>time</th>\n",
              "      <th>source</th>\n",
              "      <th>cleaned_tweet</th>\n",
              "      <th>labels</th>\n",
              "      <th>preprocessed_tweet</th>\n",
              "      <th>encoded_tweet</th>\n",
              "    </tr>\n",
              "  </thead>\n",
              "  <tbody>\n",
              "    <tr>\n",
              "      <th>0</th>\n",
              "      <td>1.360000e+18</td>\n",
              "      <td>3.134341e+09</td>\n",
              "      <td>Nobody</td>\n",
              "      <td>You can’t stop us, you fucks #dogecoin https:/...</td>\n",
              "      <td>2021</td>\n",
              "      <td>1</td>\n",
              "      <td>31</td>\n",
              "      <td>22:50:54</td>\n",
              "      <td>Twitter for iPhone</td>\n",
              "      <td>you can’t stop us, you fucks #dogecoin</td>\n",
              "      <td>1</td>\n",
              "      <td>’ stop us fuck dogecoin</td>\n",
              "      <td>[0.0, 0.0, 0.0, 0.0, 0.0, 0.0, 0.0, 0.0, 0.0, ...</td>\n",
              "    </tr>\n",
              "    <tr>\n",
              "      <th>4</th>\n",
              "      <td>1.360000e+18</td>\n",
              "      <td>1.290000e+18</td>\n",
              "      <td>Nobody</td>\n",
              "      <td>#dogecoin is sounding more and more like essen...</td>\n",
              "      <td>2021</td>\n",
              "      <td>1</td>\n",
              "      <td>31</td>\n",
              "      <td>23:28:34</td>\n",
              "      <td>Twitter for Android</td>\n",
              "      <td>#dogecoin is sounding more and more like essen...</td>\n",
              "      <td>-1</td>\n",
              "      <td>dogecoin sound like essential oil pyramid sche...</td>\n",
              "      <td>[0.0, 0.0, 0.0, 0.0, 0.0, 0.0, 0.0, 0.0, 0.0, ...</td>\n",
              "    </tr>\n",
              "    <tr>\n",
              "      <th>5</th>\n",
              "      <td>1.360000e+18</td>\n",
              "      <td>2.966939e+09</td>\n",
              "      <td>Nobody</td>\n",
              "      <td>#dogecoin wasn’t meant to be a pump and dump. ...</td>\n",
              "      <td>2021</td>\n",
              "      <td>1</td>\n",
              "      <td>31</td>\n",
              "      <td>23:28:33</td>\n",
              "      <td>Twitter for iPhone</td>\n",
              "      <td>#dogecoin wasn’t meant to be a pump and dump. ...</td>\n",
              "      <td>-1</td>\n",
              "      <td>dogecoin ’ mean pump dump suppose buy hold eve...</td>\n",
              "      <td>[0.0, 0.0, 0.0, 0.0, 0.0, 0.0, 0.0, 0.0, 0.0, ...</td>\n",
              "    </tr>\n",
              "    <tr>\n",
              "      <th>6</th>\n",
              "      <td>1.360000e+18</td>\n",
              "      <td>1.360000e+18</td>\n",
              "      <td>Nobody</td>\n",
              "      <td>to spread the past week and xrp link https t h...</td>\n",
              "      <td>2021</td>\n",
              "      <td>1</td>\n",
              "      <td>31</td>\n",
              "      <td>23:28:31</td>\n",
              "      <td>Error-log</td>\n",
              "      <td>to spread the past week and xrp link https t h...</td>\n",
              "      <td>2</td>\n",
              "      <td>spread past week xrp link https make k doge al...</td>\n",
              "      <td>[0.0, 0.0, 0.0, 0.0, 0.0, 0.0, 0.0, 0.0, 0.0, ...</td>\n",
              "    </tr>\n",
              "    <tr>\n",
              "      <th>7</th>\n",
              "      <td>1.360000e+18</td>\n",
              "      <td>1.350000e+18</td>\n",
              "      <td>Nobody</td>\n",
              "      <td>If every owner that owns a dog would put 10$ i...</td>\n",
              "      <td>2021</td>\n",
              "      <td>1</td>\n",
              "      <td>31</td>\n",
              "      <td>23:28:27</td>\n",
              "      <td>Twitter for iPhone</td>\n",
              "      <td>if every owner that owns a dog would put 10$ i...</td>\n",
              "      <td>1</td>\n",
              "      <td>every owner own dog would put dogecoin mfer wo...</td>\n",
              "      <td>[0.0, 0.0, 0.0, 0.0, 0.0, 0.0, 0.0, 0.0, 0.0, ...</td>\n",
              "    </tr>\n",
              "  </tbody>\n",
              "</table>\n",
              "</div>\n",
              "      <button class=\"colab-df-convert\" onclick=\"convertToInteractive('df-058ba323-668e-4b2c-9d50-75c91df8e188')\"\n",
              "              title=\"Convert this dataframe to an interactive table.\"\n",
              "              style=\"display:none;\">\n",
              "        \n",
              "  <svg xmlns=\"http://www.w3.org/2000/svg\" height=\"24px\"viewBox=\"0 0 24 24\"\n",
              "       width=\"24px\">\n",
              "    <path d=\"M0 0h24v24H0V0z\" fill=\"none\"/>\n",
              "    <path d=\"M18.56 5.44l.94 2.06.94-2.06 2.06-.94-2.06-.94-.94-2.06-.94 2.06-2.06.94zm-11 1L8.5 8.5l.94-2.06 2.06-.94-2.06-.94L8.5 2.5l-.94 2.06-2.06.94zm10 10l.94 2.06.94-2.06 2.06-.94-2.06-.94-.94-2.06-.94 2.06-2.06.94z\"/><path d=\"M17.41 7.96l-1.37-1.37c-.4-.4-.92-.59-1.43-.59-.52 0-1.04.2-1.43.59L10.3 9.45l-7.72 7.72c-.78.78-.78 2.05 0 2.83L4 21.41c.39.39.9.59 1.41.59.51 0 1.02-.2 1.41-.59l7.78-7.78 2.81-2.81c.8-.78.8-2.07 0-2.86zM5.41 20L4 18.59l7.72-7.72 1.47 1.35L5.41 20z\"/>\n",
              "  </svg>\n",
              "      </button>\n",
              "      \n",
              "  <style>\n",
              "    .colab-df-container {\n",
              "      display:flex;\n",
              "      flex-wrap:wrap;\n",
              "      gap: 12px;\n",
              "    }\n",
              "\n",
              "    .colab-df-convert {\n",
              "      background-color: #E8F0FE;\n",
              "      border: none;\n",
              "      border-radius: 50%;\n",
              "      cursor: pointer;\n",
              "      display: none;\n",
              "      fill: #1967D2;\n",
              "      height: 32px;\n",
              "      padding: 0 0 0 0;\n",
              "      width: 32px;\n",
              "    }\n",
              "\n",
              "    .colab-df-convert:hover {\n",
              "      background-color: #E2EBFA;\n",
              "      box-shadow: 0px 1px 2px rgba(60, 64, 67, 0.3), 0px 1px 3px 1px rgba(60, 64, 67, 0.15);\n",
              "      fill: #174EA6;\n",
              "    }\n",
              "\n",
              "    [theme=dark] .colab-df-convert {\n",
              "      background-color: #3B4455;\n",
              "      fill: #D2E3FC;\n",
              "    }\n",
              "\n",
              "    [theme=dark] .colab-df-convert:hover {\n",
              "      background-color: #434B5C;\n",
              "      box-shadow: 0px 1px 3px 1px rgba(0, 0, 0, 0.15);\n",
              "      filter: drop-shadow(0px 1px 2px rgba(0, 0, 0, 0.3));\n",
              "      fill: #FFFFFF;\n",
              "    }\n",
              "  </style>\n",
              "\n",
              "      <script>\n",
              "        const buttonEl =\n",
              "          document.querySelector('#df-058ba323-668e-4b2c-9d50-75c91df8e188 button.colab-df-convert');\n",
              "        buttonEl.style.display =\n",
              "          google.colab.kernel.accessAllowed ? 'block' : 'none';\n",
              "\n",
              "        async function convertToInteractive(key) {\n",
              "          const element = document.querySelector('#df-058ba323-668e-4b2c-9d50-75c91df8e188');\n",
              "          const dataTable =\n",
              "            await google.colab.kernel.invokeFunction('convertToInteractive',\n",
              "                                                     [key], {});\n",
              "          if (!dataTable) return;\n",
              "\n",
              "          const docLinkHtml = 'Like what you see? Visit the ' +\n",
              "            '<a target=\"_blank\" href=https://colab.research.google.com/notebooks/data_table.ipynb>data table notebook</a>'\n",
              "            + ' to learn more about interactive tables.';\n",
              "          element.innerHTML = '';\n",
              "          dataTable['output_type'] = 'display_data';\n",
              "          await google.colab.output.renderOutput(dataTable, element);\n",
              "          const docLink = document.createElement('div');\n",
              "          docLink.innerHTML = docLinkHtml;\n",
              "          element.appendChild(docLink);\n",
              "        }\n",
              "      </script>\n",
              "    </div>\n",
              "  </div>\n",
              "  "
            ]
          },
          "metadata": {},
          "execution_count": 306
        }
      ]
    },
    {
      "cell_type": "markdown",
      "source": [
        "### Train-Test splits"
      ],
      "metadata": {
        "id": "-np-1olkU7z8"
      }
    },
    {
      "cell_type": "code",
      "source": [
        "X_train, X_test, y_train, y_test = train_test_split(list(n_df.encoded_tweet), n_df.labels.values.ravel(), test_size = 0.40, random_state = 42)\n",
        "X_valid, X_test, y_valid, y_test = train_test_split(X_test, y_test, test_size = 0.50, random_state = 42)"
      ],
      "metadata": {
        "id": "n7X8saEGO0Gb"
      },
      "execution_count": null,
      "outputs": []
    },
    {
      "cell_type": "code",
      "source": [
        "X_train = np.array(X_train)\n",
        "X_test = np.array(X_test)\n",
        "X_valid = np.array(X_valid)\n",
        "\n",
        "y_train = np.array(y_train)\n",
        "y_test = np.array(y_test)\n",
        "y_valid = np.array(y_valid)"
      ],
      "metadata": {
        "id": "CFHETCsIw86i"
      },
      "execution_count": null,
      "outputs": []
    },
    {
      "cell_type": "code",
      "source": [
        "X_train.shape"
      ],
      "metadata": {
        "colab": {
          "base_uri": "https://localhost:8080/"
        },
        "id": "D6g7w7fqydtS",
        "outputId": "73d844df-9d23-4930-e94f-02cc6cf6955d"
      },
      "execution_count": null,
      "outputs": [
        {
          "output_type": "execute_result",
          "data": {
            "text/plain": [
              "(1177, 3500)"
            ]
          },
          "metadata": {},
          "execution_count": 184
        }
      ]
    },
    {
      "cell_type": "code",
      "source": [
        "# summarize observations by class label\n",
        "counter = Counter(y_train)\n",
        "print(counter.items())\n",
        "# plot the dataset and color the by class label\n",
        "for label, _ in counter.items():\n",
        "  row_ix = where(y_train == label)[0]\n",
        "  # print(row_ix)\n",
        "  pyplot.scatter(X_train[row_ix, 0], X_train[row_ix, 1], label=str(label))\n",
        "\n",
        "pyplot.legend()\n",
        "pyplot.show()"
      ],
      "metadata": {
        "colab": {
          "base_uri": "https://localhost:8080/",
          "height": 282
        },
        "id": "pTsacDfxwSqj",
        "outputId": "1d04d66c-7b30-4dbc-fb92-0421f4f13901"
      },
      "execution_count": null,
      "outputs": [
        {
          "output_type": "stream",
          "name": "stdout",
          "text": [
            "dict_items([('2', 329), ('1', 390), ('0', 317), ('-1', 141)])\n"
          ]
        },
        {
          "output_type": "display_data",
          "data": {
            "text/plain": [
              "<Figure size 432x288 with 1 Axes>"
            ],
            "image/png": "[encoded data removed]"
          },
          "metadata": {
            "needs_background": "light"
          }
        }
      ]
    },
    {
      "cell_type": "code",
      "source": [
        "figure(figsize=(30, 14), dpi=80)\n",
        "\n",
        "# summarize observations by class label\n",
        "counter = Counter(y_train)\n",
        "print(counter.items())\n",
        "# plot the dataset and color the by class label\n",
        "for label, _ in counter.items():\n",
        "  row_ix = where(y_train == label)[0]\n",
        "  \n",
        "  feature_arr = np.array([])\n",
        "  val_arr = np.array([])\n",
        "  for i in row_ix:\n",
        "    val = X_train[i, X_train[i] > 0]\n",
        "    feature_idx = np.nonzero(X_train[i] > 0)\n",
        "\n",
        "    feature_arr = np.concatenate([feature_arr, feature_idx[0].copy()])\n",
        "    val_arr = np.concatenate([val_arr, val.copy()])\n",
        "\n",
        "  pyplot.scatter(feature_arr, val_arr, label=str(label))\n",
        "\n",
        "pyplot.legend()\n",
        "pyplot.show()"
      ],
      "metadata": {
        "id": "efGoV8dvjRXN"
      },
      "execution_count": null,
      "outputs": []
    },
    {
      "cell_type": "markdown",
      "source": [
        "### Train model"
      ],
      "metadata": {
        "id": "1oODVNkISsaw"
      }
    },
    {
      "cell_type": "code",
      "source": [
        "# Print the best performed model and its parameters\n",
        "def print_results(results):\n",
        "  print(f\"Best Parameters: {results.best_params_}\\n\")\n",
        "  means = results.cv_results_[\"mean_test_score\"]\n",
        "  stds = results.cv_results_[\"std_test_score\"]\n",
        "  for mean, std, params in zip(means, stds, results.cv_results_[\"params\"]):\n",
        "    print(f\"{round(mean, 3)} (+/- {round(std*2, 3)}) for {params}\")"
      ],
      "metadata": {
        "id": "Q4Lqnt6qSxBy"
      },
      "execution_count": null,
      "outputs": []
    },
    {
      "cell_type": "markdown",
      "source": [
        "#### RandomForestClassifier"
      ],
      "metadata": {
        "id": "l9uWkX_-T33S"
      }
    },
    {
      "cell_type": "code",
      "source": [
        "rfc = RandomForestClassifier()\n",
        "parameters = {\n",
        "    \"n_estimators\": [5, 50, 250, 500],\n",
        "    \"max_depth\": [2, 4, 8, 16, 32, 64, None]\n",
        "}\n",
        "\n",
        "cv = GridSearchCV(rfc, parameters, cv=5)\n",
        "cv.fit(X_train, y_train);"
      ],
      "metadata": {
        "id": "QVTcZ1fvSx6b"
      },
      "execution_count": null,
      "outputs": []
    },
    {
      "cell_type": "code",
      "source": [
        "print_results(cv)"
      ],
      "metadata": {
        "colab": {
          "base_uri": "https://localhost:8080/"
        },
        "id": "Fcj_4xevTMWG",
        "outputId": "3d26b6c0-c0de-4c34-e36c-be044fc8de04"
      },
      "execution_count": null,
      "outputs": [
        {
          "output_type": "stream",
          "name": "stdout",
          "text": [
            "Best Parameters: {'max_depth': 64, 'n_estimators': 50}\n",
            "\n",
            "0.402 (+/- 0.072) for {'max_depth': 2, 'n_estimators': 5}\n",
            "0.437 (+/- 0.037) for {'max_depth': 2, 'n_estimators': 50}\n",
            "0.437 (+/- 0.038) for {'max_depth': 2, 'n_estimators': 250}\n",
            "0.436 (+/- 0.037) for {'max_depth': 2, 'n_estimators': 500}\n",
            "0.461 (+/- 0.022) for {'max_depth': 4, 'n_estimators': 5}\n",
            "0.462 (+/- 0.03) for {'max_depth': 4, 'n_estimators': 50}\n",
            "0.461 (+/- 0.036) for {'max_depth': 4, 'n_estimators': 250}\n",
            "0.46 (+/- 0.03) for {'max_depth': 4, 'n_estimators': 500}\n",
            "0.48 (+/- 0.063) for {'max_depth': 8, 'n_estimators': 5}\n",
            "0.498 (+/- 0.048) for {'max_depth': 8, 'n_estimators': 50}\n",
            "0.488 (+/- 0.056) for {'max_depth': 8, 'n_estimators': 250}\n",
            "0.49 (+/- 0.043) for {'max_depth': 8, 'n_estimators': 500}\n",
            "0.506 (+/- 0.045) for {'max_depth': 16, 'n_estimators': 5}\n",
            "0.519 (+/- 0.04) for {'max_depth': 16, 'n_estimators': 50}\n",
            "0.525 (+/- 0.042) for {'max_depth': 16, 'n_estimators': 250}\n",
            "0.514 (+/- 0.048) for {'max_depth': 16, 'n_estimators': 500}\n",
            "0.513 (+/- 0.062) for {'max_depth': 32, 'n_estimators': 5}\n",
            "0.542 (+/- 0.037) for {'max_depth': 32, 'n_estimators': 50}\n",
            "0.539 (+/- 0.065) for {'max_depth': 32, 'n_estimators': 250}\n",
            "0.539 (+/- 0.044) for {'max_depth': 32, 'n_estimators': 500}\n",
            "0.517 (+/- 0.035) for {'max_depth': 64, 'n_estimators': 5}\n",
            "0.551 (+/- 0.09) for {'max_depth': 64, 'n_estimators': 50}\n",
            "0.544 (+/- 0.057) for {'max_depth': 64, 'n_estimators': 250}\n",
            "0.545 (+/- 0.056) for {'max_depth': 64, 'n_estimators': 500}\n",
            "0.503 (+/- 0.046) for {'max_depth': None, 'n_estimators': 5}\n",
            "0.536 (+/- 0.046) for {'max_depth': None, 'n_estimators': 50}\n",
            "0.539 (+/- 0.061) for {'max_depth': None, 'n_estimators': 250}\n",
            "0.541 (+/- 0.061) for {'max_depth': None, 'n_estimators': 500}\n"
          ]
        }
      ]
    },
    {
      "cell_type": "code",
      "source": [
        "cv.best_estimator_"
      ],
      "metadata": {
        "colab": {
          "base_uri": "https://localhost:8080/"
        },
        "id": "rRxMzrpFYGFX",
        "outputId": "5081a10f-b4f7-419f-c33a-d79d6c5b6dba"
      },
      "execution_count": null,
      "outputs": [
        {
          "output_type": "execute_result",
          "data": {
            "text/plain": [
              "RandomForestClassifier(max_depth=64, n_estimators=50)"
            ]
          },
          "metadata": {},
          "execution_count": 189
        }
      ]
    },
    {
      "cell_type": "code",
      "source": [
        "# dump the best model\n",
        "joblib.dump(cv.best_estimator_, \"RFC_model.pkl\")"
      ],
      "metadata": {
        "colab": {
          "base_uri": "https://localhost:8080/"
        },
        "id": "2ZIE-vqxTgwD",
        "outputId": "27e06e50-b279-42bd-9101-4b9abc5d661b"
      },
      "execution_count": null,
      "outputs": [
        {
          "output_type": "execute_result",
          "data": {
            "text/plain": [
              "['RFC_model.pkl']"
            ]
          },
          "metadata": {},
          "execution_count": 190
        }
      ]
    },
    {
      "cell_type": "markdown",
      "source": [
        "#### Logistic Regression"
      ],
      "metadata": {
        "id": "ZtHXkiGm1rzF"
      }
    },
    {
      "cell_type": "code",
      "source": [
        "lr = LogisticRegression()\n",
        "parameters = {\n",
        "    \"C\": [0.1, 1, 10, 100]\n",
        "}\n",
        "cv1 = GridSearchCV(lr, parameters, cv=5)\n",
        "cv1.fit(X_train, y_train);"
      ],
      "metadata": {
        "colab": {
          "base_uri": "https://localhost:8080/"
        },
        "id": "HYeRnL9k1vI8",
        "outputId": "9ef6bc86-3372-4a1c-baf8-3232ae881b97"
      },
      "execution_count": null,
      "outputs": [
        {
          "output_type": "execute_result",
          "data": {
            "text/plain": [
              "GridSearchCV(cv=5, estimator=LogisticRegression(),\n",
              "             param_grid={'C': [0.1, 1, 10, 100]})"
            ]
          },
          "metadata": {},
          "execution_count": 191
        }
      ]
    },
    {
      "cell_type": "code",
      "source": [
        "print_results(cv1)"
      ],
      "metadata": {
        "colab": {
          "base_uri": "https://localhost:8080/"
        },
        "id": "6EYq8YBQ1yqo",
        "outputId": "135f174f-d9bc-487b-c380-19ec3805c090"
      },
      "execution_count": null,
      "outputs": [
        {
          "output_type": "stream",
          "name": "stdout",
          "text": [
            "Best Parameters: {'C': 10}\n",
            "\n",
            "0.474 (+/- 0.022) for {'C': 0.1}\n",
            "0.533 (+/- 0.051) for {'C': 1}\n",
            "0.541 (+/- 0.047) for {'C': 10}\n",
            "0.52 (+/- 0.036) for {'C': 100}\n"
          ]
        }
      ]
    },
    {
      "cell_type": "code",
      "source": [
        "# dump the best model\n",
        "joblib.dump(cv.best_estimator_, \"LR_model.pkl\")"
      ],
      "metadata": {
        "colab": {
          "base_uri": "https://localhost:8080/"
        },
        "id": "CU_aMyBo14Cq",
        "outputId": "b10767d1-479c-4946-9948-f6cd5522f369"
      },
      "execution_count": null,
      "outputs": [
        {
          "output_type": "execute_result",
          "data": {
            "text/plain": [
              "['LR_model.pkl']"
            ]
          },
          "metadata": {},
          "execution_count": 193
        }
      ]
    },
    {
      "cell_type": "markdown",
      "source": [
        "#### MultiLayerPerceptron"
      ],
      "metadata": {
        "id": "qihBnwvFT-yD"
      }
    },
    {
      "cell_type": "code",
      "source": [
        "mlp = MLPClassifier()\n",
        "parameters = {\n",
        "    \"hidden_layer_sizes\": [(10,), (50,), (100,)],\n",
        "    \"activation\": [\"relu\", \"tanh\", \"logistic\"],\n",
        "    \"learning_rate\": [\"constant\", \"invscaling\", \"adaptive\"],\n",
        "    \"early_stopping\": [True]\n",
        "}\n",
        "\n",
        "cv2 = GridSearchCV(mlp, parameters, cv=5)\n",
        "cv2.fit(X_train, y_train);"
      ],
      "metadata": {
        "id": "A6OKwe1dUCoR"
      },
      "execution_count": null,
      "outputs": []
    },
    {
      "cell_type": "code",
      "source": [
        "print_results(cv2)"
      ],
      "metadata": {
        "colab": {
          "base_uri": "https://localhost:8080/"
        },
        "id": "WIObmf5nUUly",
        "outputId": "4c43e4f6-cccf-4767-a258-60ee794cfdec"
      },
      "execution_count": null,
      "outputs": [
        {
          "output_type": "stream",
          "name": "stdout",
          "text": [
            "Best Parameters: {'activation': 'relu', 'early_stopping': True, 'hidden_layer_sizes': (100,), 'learning_rate': 'constant'}\n",
            "\n",
            "0.502 (+/- 0.025) for {'activation': 'relu', 'early_stopping': True, 'hidden_layer_sizes': (10,), 'learning_rate': 'constant'}\n",
            "0.38 (+/- 0.199) for {'activation': 'relu', 'early_stopping': True, 'hidden_layer_sizes': (10,), 'learning_rate': 'invscaling'}\n",
            "0.421 (+/- 0.147) for {'activation': 'relu', 'early_stopping': True, 'hidden_layer_sizes': (10,), 'learning_rate': 'adaptive'}\n",
            "0.515 (+/- 0.025) for {'activation': 'relu', 'early_stopping': True, 'hidden_layer_sizes': (50,), 'learning_rate': 'constant'}\n",
            "0.507 (+/- 0.073) for {'activation': 'relu', 'early_stopping': True, 'hidden_layer_sizes': (50,), 'learning_rate': 'invscaling'}\n",
            "0.519 (+/- 0.054) for {'activation': 'relu', 'early_stopping': True, 'hidden_layer_sizes': (50,), 'learning_rate': 'adaptive'}\n",
            "0.533 (+/- 0.035) for {'activation': 'relu', 'early_stopping': True, 'hidden_layer_sizes': (100,), 'learning_rate': 'constant'}\n",
            "0.525 (+/- 0.029) for {'activation': 'relu', 'early_stopping': True, 'hidden_layer_sizes': (100,), 'learning_rate': 'invscaling'}\n",
            "0.517 (+/- 0.057) for {'activation': 'relu', 'early_stopping': True, 'hidden_layer_sizes': (100,), 'learning_rate': 'adaptive'}\n",
            "0.468 (+/- 0.146) for {'activation': 'tanh', 'early_stopping': True, 'hidden_layer_sizes': (10,), 'learning_rate': 'constant'}\n",
            "0.509 (+/- 0.03) for {'activation': 'tanh', 'early_stopping': True, 'hidden_layer_sizes': (10,), 'learning_rate': 'invscaling'}\n",
            "0.523 (+/- 0.036) for {'activation': 'tanh', 'early_stopping': True, 'hidden_layer_sizes': (10,), 'learning_rate': 'adaptive'}\n",
            "0.525 (+/- 0.023) for {'activation': 'tanh', 'early_stopping': True, 'hidden_layer_sizes': (50,), 'learning_rate': 'constant'}\n",
            "0.511 (+/- 0.085) for {'activation': 'tanh', 'early_stopping': True, 'hidden_layer_sizes': (50,), 'learning_rate': 'invscaling'}\n",
            "0.515 (+/- 0.02) for {'activation': 'tanh', 'early_stopping': True, 'hidden_layer_sizes': (50,), 'learning_rate': 'adaptive'}\n",
            "0.531 (+/- 0.012) for {'activation': 'tanh', 'early_stopping': True, 'hidden_layer_sizes': (100,), 'learning_rate': 'constant'}\n",
            "0.519 (+/- 0.017) for {'activation': 'tanh', 'early_stopping': True, 'hidden_layer_sizes': (100,), 'learning_rate': 'invscaling'}\n",
            "0.526 (+/- 0.018) for {'activation': 'tanh', 'early_stopping': True, 'hidden_layer_sizes': (100,), 'learning_rate': 'adaptive'}\n",
            "0.368 (+/- 0.153) for {'activation': 'logistic', 'early_stopping': True, 'hidden_layer_sizes': (10,), 'learning_rate': 'constant'}\n",
            "0.311 (+/- 0.05) for {'activation': 'logistic', 'early_stopping': True, 'hidden_layer_sizes': (10,), 'learning_rate': 'invscaling'}\n",
            "0.352 (+/- 0.137) for {'activation': 'logistic', 'early_stopping': True, 'hidden_layer_sizes': (10,), 'learning_rate': 'adaptive'}\n",
            "0.481 (+/- 0.051) for {'activation': 'logistic', 'early_stopping': True, 'hidden_layer_sizes': (50,), 'learning_rate': 'constant'}\n",
            "0.403 (+/- 0.127) for {'activation': 'logistic', 'early_stopping': True, 'hidden_layer_sizes': (50,), 'learning_rate': 'invscaling'}\n",
            "0.472 (+/- 0.067) for {'activation': 'logistic', 'early_stopping': True, 'hidden_layer_sizes': (50,), 'learning_rate': 'adaptive'}\n",
            "0.497 (+/- 0.034) for {'activation': 'logistic', 'early_stopping': True, 'hidden_layer_sizes': (100,), 'learning_rate': 'constant'}\n",
            "0.492 (+/- 0.032) for {'activation': 'logistic', 'early_stopping': True, 'hidden_layer_sizes': (100,), 'learning_rate': 'invscaling'}\n",
            "0.497 (+/- 0.06) for {'activation': 'logistic', 'early_stopping': True, 'hidden_layer_sizes': (100,), 'learning_rate': 'adaptive'}\n"
          ]
        }
      ]
    },
    {
      "cell_type": "code",
      "source": [
        "cv2.best_estimator_"
      ],
      "metadata": {
        "colab": {
          "base_uri": "https://localhost:8080/"
        },
        "id": "ZIVzZcOuYIUp",
        "outputId": "2ad069b4-9e2c-40cd-f467-54dd3a7f7c3b"
      },
      "execution_count": null,
      "outputs": [
        {
          "output_type": "execute_result",
          "data": {
            "text/plain": [
              "MLPClassifier(early_stopping=True)"
            ]
          },
          "metadata": {},
          "execution_count": 196
        }
      ]
    },
    {
      "cell_type": "code",
      "source": [
        "# dump the best model\n",
        "joblib.dump(cv2.best_estimator_, \"MLP_model.pkl\")"
      ],
      "metadata": {
        "colab": {
          "base_uri": "https://localhost:8080/"
        },
        "id": "82H1v4FeUZPi",
        "outputId": "698244f2-66c5-4d08-bfe1-dc3b31d0fbb0"
      },
      "execution_count": null,
      "outputs": [
        {
          "output_type": "execute_result",
          "data": {
            "text/plain": [
              "['MLP_model.pkl']"
            ]
          },
          "metadata": {},
          "execution_count": 197
        }
      ]
    },
    {
      "cell_type": "markdown",
      "source": [
        "#### Support-vector-classifier"
      ],
      "metadata": {
        "id": "-rivbaEt3C-e"
      }
    },
    {
      "cell_type": "code",
      "source": [
        "svc = SVC()\n",
        "parameters = {\n",
        "    \"C\": [0.1, 1.0, 10],\n",
        "    \"kernel\": [\"linear\", \"rbf\", \"poly\", \"sigmoid\"],\n",
        "    \"decision_function_shape\": [\"ovo\", \"ovr\"]\n",
        "}\n",
        "\n",
        "cv3 = GridSearchCV(svc, parameters, cv=5)\n",
        "cv3.fit(X_train, y_train);"
      ],
      "metadata": {
        "colab": {
          "base_uri": "https://localhost:8080/"
        },
        "id": "8G8Bl--P3NFT",
        "outputId": "2f10b167-5722-413c-b9b6-14662803145f"
      },
      "execution_count": null,
      "outputs": [
        {
          "output_type": "execute_result",
          "data": {
            "text/plain": [
              "GridSearchCV(cv=5, estimator=SVC(),\n",
              "             param_grid={'C': [0.1, 1.0, 10],\n",
              "                         'decision_function_shape': ['ovo', 'ovr'],\n",
              "                         'kernel': ['linear', 'rbf', 'poly', 'sigmoid']})"
            ]
          },
          "metadata": {},
          "execution_count": 198
        }
      ]
    },
    {
      "cell_type": "code",
      "source": [
        "print_results(cv3)"
      ],
      "metadata": {
        "colab": {
          "base_uri": "https://localhost:8080/"
        },
        "id": "-DY_rGvF3VUl",
        "outputId": "f0519c94-a842-4f81-ea0f-279e2802baf1"
      },
      "execution_count": null,
      "outputs": [
        {
          "output_type": "stream",
          "name": "stdout",
          "text": [
            "Best Parameters: {'C': 1.0, 'decision_function_shape': 'ovo', 'kernel': 'linear'}\n",
            "\n",
            "0.422 (+/- 0.037) for {'C': 0.1, 'decision_function_shape': 'ovo', 'kernel': 'linear'}\n",
            "0.416 (+/- 0.035) for {'C': 0.1, 'decision_function_shape': 'ovo', 'kernel': 'rbf'}\n",
            "0.416 (+/- 0.035) for {'C': 0.1, 'decision_function_shape': 'ovo', 'kernel': 'poly'}\n",
            "0.42 (+/- 0.04) for {'C': 0.1, 'decision_function_shape': 'ovo', 'kernel': 'sigmoid'}\n",
            "0.422 (+/- 0.037) for {'C': 0.1, 'decision_function_shape': 'ovr', 'kernel': 'linear'}\n",
            "0.416 (+/- 0.035) for {'C': 0.1, 'decision_function_shape': 'ovr', 'kernel': 'rbf'}\n",
            "0.416 (+/- 0.035) for {'C': 0.1, 'decision_function_shape': 'ovr', 'kernel': 'poly'}\n",
            "0.42 (+/- 0.04) for {'C': 0.1, 'decision_function_shape': 'ovr', 'kernel': 'sigmoid'}\n",
            "0.545 (+/- 0.044) for {'C': 1.0, 'decision_function_shape': 'ovo', 'kernel': 'linear'}\n",
            "0.507 (+/- 0.042) for {'C': 1.0, 'decision_function_shape': 'ovo', 'kernel': 'rbf'}\n",
            "0.464 (+/- 0.041) for {'C': 1.0, 'decision_function_shape': 'ovo', 'kernel': 'poly'}\n",
            "0.544 (+/- 0.05) for {'C': 1.0, 'decision_function_shape': 'ovo', 'kernel': 'sigmoid'}\n",
            "0.545 (+/- 0.044) for {'C': 1.0, 'decision_function_shape': 'ovr', 'kernel': 'linear'}\n",
            "0.507 (+/- 0.042) for {'C': 1.0, 'decision_function_shape': 'ovr', 'kernel': 'rbf'}\n",
            "0.464 (+/- 0.041) for {'C': 1.0, 'decision_function_shape': 'ovr', 'kernel': 'poly'}\n",
            "0.544 (+/- 0.05) for {'C': 1.0, 'decision_function_shape': 'ovr', 'kernel': 'sigmoid'}\n",
            "0.536 (+/- 0.047) for {'C': 10, 'decision_function_shape': 'ovo', 'kernel': 'linear'}\n",
            "0.526 (+/- 0.043) for {'C': 10, 'decision_function_shape': 'ovo', 'kernel': 'rbf'}\n",
            "0.46 (+/- 0.037) for {'C': 10, 'decision_function_shape': 'ovo', 'kernel': 'poly'}\n",
            "0.524 (+/- 0.04) for {'C': 10, 'decision_function_shape': 'ovo', 'kernel': 'sigmoid'}\n",
            "0.536 (+/- 0.047) for {'C': 10, 'decision_function_shape': 'ovr', 'kernel': 'linear'}\n",
            "0.526 (+/- 0.043) for {'C': 10, 'decision_function_shape': 'ovr', 'kernel': 'rbf'}\n",
            "0.46 (+/- 0.037) for {'C': 10, 'decision_function_shape': 'ovr', 'kernel': 'poly'}\n",
            "0.524 (+/- 0.04) for {'C': 10, 'decision_function_shape': 'ovr', 'kernel': 'sigmoid'}\n"
          ]
        }
      ]
    },
    {
      "cell_type": "code",
      "source": [
        "cv3.best_estimator_"
      ],
      "metadata": {
        "colab": {
          "base_uri": "https://localhost:8080/"
        },
        "id": "G9b6Lbtq3tzr",
        "outputId": "0367f138-face-44f1-e775-9dde6d6a56a6"
      },
      "execution_count": null,
      "outputs": [
        {
          "output_type": "execute_result",
          "data": {
            "text/plain": [
              "SVC(decision_function_shape='ovo', kernel='linear')"
            ]
          },
          "metadata": {},
          "execution_count": 200
        }
      ]
    },
    {
      "cell_type": "code",
      "source": [
        "# dump the best model\n",
        "joblib.dump(cv3.best_estimator_, \"SVC_model.pkl\")"
      ],
      "metadata": {
        "colab": {
          "base_uri": "https://localhost:8080/"
        },
        "id": "ivPCoT9P3cPo",
        "outputId": "8864ef8c-0b9f-4804-d12f-51dd43250a13"
      },
      "execution_count": null,
      "outputs": [
        {
          "output_type": "execute_result",
          "data": {
            "text/plain": [
              "['SVC_model.pkl']"
            ]
          },
          "metadata": {},
          "execution_count": 201
        }
      ]
    },
    {
      "cell_type": "markdown",
      "source": [
        "#### Gradient Boosting Classifier"
      ],
      "metadata": {
        "id": "UlZAVzqQ7Myt"
      }
    },
    {
      "cell_type": "code",
      "source": [
        "gb = GradientBoostingClassifier()\n",
        "parameters = {\n",
        "    \"n_estimators\": [50, 100, 200],\n",
        "    \"max_depth\": [1, 3, 5],\n",
        "    \"learning_rate\": [0.001, 0.01, 0.1, 1.0]\n",
        "    # \"learning_rate\": [0.1]\n",
        "}\n",
        "\n",
        "cv4 = GridSearchCV(gb, parameters, cv=5)\n",
        "cv4.fit(X_train, y_train);"
      ],
      "metadata": {
        "colab": {
          "base_uri": "https://localhost:8080/"
        },
        "id": "LSpATov57PXA",
        "outputId": "2a03d7dc-caf9-4b8b-dca5-39bc2cb17ffb"
      },
      "execution_count": null,
      "outputs": [
        {
          "output_type": "error",
          "ename": "KeyboardInterrupt",
          "evalue": "ignored",
          "traceback": [
            "\u001b[0;31m---------------------------------------------------------------------------\u001b[0m",
            "\u001b[0;31mKeyboardInterrupt\u001b[0m                         Traceback (most recent call last)",
            "\u001b[0;32m<ipython-input-148-54483821b3e1>\u001b[0m in \u001b[0;36m<module>\u001b[0;34m()\u001b[0m\n\u001b[1;32m      8\u001b[0m \u001b[0;34m\u001b[0m\u001b[0m\n\u001b[1;32m      9\u001b[0m \u001b[0mcv4\u001b[0m \u001b[0;34m=\u001b[0m \u001b[0mGridSearchCV\u001b[0m\u001b[0;34m(\u001b[0m\u001b[0mgb\u001b[0m\u001b[0;34m,\u001b[0m \u001b[0mparameters\u001b[0m\u001b[0;34m,\u001b[0m \u001b[0mcv\u001b[0m\u001b[0;34m=\u001b[0m\u001b[0;36m5\u001b[0m\u001b[0;34m)\u001b[0m\u001b[0;34m\u001b[0m\u001b[0;34m\u001b[0m\u001b[0m\n\u001b[0;32m---> 10\u001b[0;31m \u001b[0mcv4\u001b[0m\u001b[0;34m.\u001b[0m\u001b[0mfit\u001b[0m\u001b[0;34m(\u001b[0m\u001b[0mX_train\u001b[0m\u001b[0;34m,\u001b[0m \u001b[0my_train\u001b[0m\u001b[0;34m)\u001b[0m\u001b[0;34m;\u001b[0m\u001b[0;34m\u001b[0m\u001b[0;34m\u001b[0m\u001b[0m\n\u001b[0m",
            "\u001b[0;32m/usr/local/lib/python3.7/dist-packages/sklearn/model_selection/_search.py\u001b[0m in \u001b[0;36mfit\u001b[0;34m(self, X, y, groups, **fit_params)\u001b[0m\n\u001b[1;32m    889\u001b[0m                 \u001b[0;32mreturn\u001b[0m \u001b[0mresults\u001b[0m\u001b[0;34m\u001b[0m\u001b[0;34m\u001b[0m\u001b[0m\n\u001b[1;32m    890\u001b[0m \u001b[0;34m\u001b[0m\u001b[0m\n\u001b[0;32m--> 891\u001b[0;31m             \u001b[0mself\u001b[0m\u001b[0;34m.\u001b[0m\u001b[0m_run_search\u001b[0m\u001b[0;34m(\u001b[0m\u001b[0mevaluate_candidates\u001b[0m\u001b[0;34m)\u001b[0m\u001b[0;34m\u001b[0m\u001b[0;34m\u001b[0m\u001b[0m\n\u001b[0m\u001b[1;32m    892\u001b[0m \u001b[0;34m\u001b[0m\u001b[0m\n\u001b[1;32m    893\u001b[0m             \u001b[0;31m# multimetric is determined here because in the case of a callable\u001b[0m\u001b[0;34m\u001b[0m\u001b[0;34m\u001b[0m\u001b[0;34m\u001b[0m\u001b[0m\n",
            "\u001b[0;32m/usr/local/lib/python3.7/dist-packages/sklearn/model_selection/_search.py\u001b[0m in \u001b[0;36m_run_search\u001b[0;34m(self, evaluate_candidates)\u001b[0m\n\u001b[1;32m   1390\u001b[0m     \u001b[0;32mdef\u001b[0m \u001b[0m_run_search\u001b[0m\u001b[0;34m(\u001b[0m\u001b[0mself\u001b[0m\u001b[0;34m,\u001b[0m \u001b[0mevaluate_candidates\u001b[0m\u001b[0;34m)\u001b[0m\u001b[0;34m:\u001b[0m\u001b[0;34m\u001b[0m\u001b[0;34m\u001b[0m\u001b[0m\n\u001b[1;32m   1391\u001b[0m         \u001b[0;34m\"\"\"Search all candidates in param_grid\"\"\"\u001b[0m\u001b[0;34m\u001b[0m\u001b[0;34m\u001b[0m\u001b[0m\n\u001b[0;32m-> 1392\u001b[0;31m         \u001b[0mevaluate_candidates\u001b[0m\u001b[0;34m(\u001b[0m\u001b[0mParameterGrid\u001b[0m\u001b[0;34m(\u001b[0m\u001b[0mself\u001b[0m\u001b[0;34m.\u001b[0m\u001b[0mparam_grid\u001b[0m\u001b[0;34m)\u001b[0m\u001b[0;34m)\u001b[0m\u001b[0;34m\u001b[0m\u001b[0;34m\u001b[0m\u001b[0m\n\u001b[0m\u001b[1;32m   1393\u001b[0m \u001b[0;34m\u001b[0m\u001b[0m\n\u001b[1;32m   1394\u001b[0m \u001b[0;34m\u001b[0m\u001b[0m\n",
            "\u001b[0;32m/usr/local/lib/python3.7/dist-packages/sklearn/model_selection/_search.py\u001b[0m in \u001b[0;36mevaluate_candidates\u001b[0;34m(candidate_params, cv, more_results)\u001b[0m\n\u001b[1;32m    849\u001b[0m                     )\n\u001b[1;32m    850\u001b[0m                     for (cand_idx, parameters), (split_idx, (train, test)) in product(\n\u001b[0;32m--> 851\u001b[0;31m                         \u001b[0menumerate\u001b[0m\u001b[0;34m(\u001b[0m\u001b[0mcandidate_params\u001b[0m\u001b[0;34m)\u001b[0m\u001b[0;34m,\u001b[0m \u001b[0menumerate\u001b[0m\u001b[0;34m(\u001b[0m\u001b[0mcv\u001b[0m\u001b[0;34m.\u001b[0m\u001b[0msplit\u001b[0m\u001b[0;34m(\u001b[0m\u001b[0mX\u001b[0m\u001b[0;34m,\u001b[0m \u001b[0my\u001b[0m\u001b[0;34m,\u001b[0m \u001b[0mgroups\u001b[0m\u001b[0;34m)\u001b[0m\u001b[0;34m)\u001b[0m\u001b[0;34m\u001b[0m\u001b[0;34m\u001b[0m\u001b[0m\n\u001b[0m\u001b[1;32m    852\u001b[0m                     )\n\u001b[1;32m    853\u001b[0m                 )\n",
            "\u001b[0;32m/usr/local/lib/python3.7/dist-packages/joblib/parallel.py\u001b[0m in \u001b[0;36m__call__\u001b[0;34m(self, iterable)\u001b[0m\n\u001b[1;32m   1044\u001b[0m                 \u001b[0mself\u001b[0m\u001b[0;34m.\u001b[0m\u001b[0m_iterating\u001b[0m \u001b[0;34m=\u001b[0m \u001b[0mself\u001b[0m\u001b[0;34m.\u001b[0m\u001b[0m_original_iterator\u001b[0m \u001b[0;32mis\u001b[0m \u001b[0;32mnot\u001b[0m \u001b[0;32mNone\u001b[0m\u001b[0;34m\u001b[0m\u001b[0;34m\u001b[0m\u001b[0m\n\u001b[1;32m   1045\u001b[0m \u001b[0;34m\u001b[0m\u001b[0m\n\u001b[0;32m-> 1046\u001b[0;31m             \u001b[0;32mwhile\u001b[0m \u001b[0mself\u001b[0m\u001b[0;34m.\u001b[0m\u001b[0mdispatch_one_batch\u001b[0m\u001b[0;34m(\u001b[0m\u001b[0miterator\u001b[0m\u001b[0;34m)\u001b[0m\u001b[0;34m:\u001b[0m\u001b[0;34m\u001b[0m\u001b[0;34m\u001b[0m\u001b[0m\n\u001b[0m\u001b[1;32m   1047\u001b[0m                 \u001b[0;32mpass\u001b[0m\u001b[0;34m\u001b[0m\u001b[0;34m\u001b[0m\u001b[0m\n\u001b[1;32m   1048\u001b[0m \u001b[0;34m\u001b[0m\u001b[0m\n",
            "\u001b[0;32m/usr/local/lib/python3.7/dist-packages/joblib/parallel.py\u001b[0m in \u001b[0;36mdispatch_one_batch\u001b[0;34m(self, iterator)\u001b[0m\n\u001b[1;32m    859\u001b[0m                 \u001b[0;32mreturn\u001b[0m \u001b[0;32mFalse\u001b[0m\u001b[0;34m\u001b[0m\u001b[0;34m\u001b[0m\u001b[0m\n\u001b[1;32m    860\u001b[0m             \u001b[0;32melse\u001b[0m\u001b[0;34m:\u001b[0m\u001b[0;34m\u001b[0m\u001b[0;34m\u001b[0m\u001b[0m\n\u001b[0;32m--> 861\u001b[0;31m                 \u001b[0mself\u001b[0m\u001b[0;34m.\u001b[0m\u001b[0m_dispatch\u001b[0m\u001b[0;34m(\u001b[0m\u001b[0mtasks\u001b[0m\u001b[0;34m)\u001b[0m\u001b[0;34m\u001b[0m\u001b[0;34m\u001b[0m\u001b[0m\n\u001b[0m\u001b[1;32m    862\u001b[0m                 \u001b[0;32mreturn\u001b[0m \u001b[0;32mTrue\u001b[0m\u001b[0;34m\u001b[0m\u001b[0;34m\u001b[0m\u001b[0m\n\u001b[1;32m    863\u001b[0m \u001b[0;34m\u001b[0m\u001b[0m\n",
            "\u001b[0;32m/usr/local/lib/python3.7/dist-packages/joblib/parallel.py\u001b[0m in \u001b[0;36m_dispatch\u001b[0;34m(self, batch)\u001b[0m\n\u001b[1;32m    777\u001b[0m         \u001b[0;32mwith\u001b[0m \u001b[0mself\u001b[0m\u001b[0;34m.\u001b[0m\u001b[0m_lock\u001b[0m\u001b[0;34m:\u001b[0m\u001b[0;34m\u001b[0m\u001b[0;34m\u001b[0m\u001b[0m\n\u001b[1;32m    778\u001b[0m             \u001b[0mjob_idx\u001b[0m \u001b[0;34m=\u001b[0m \u001b[0mlen\u001b[0m\u001b[0;34m(\u001b[0m\u001b[0mself\u001b[0m\u001b[0;34m.\u001b[0m\u001b[0m_jobs\u001b[0m\u001b[0;34m)\u001b[0m\u001b[0;34m\u001b[0m\u001b[0;34m\u001b[0m\u001b[0m\n\u001b[0;32m--> 779\u001b[0;31m             \u001b[0mjob\u001b[0m \u001b[0;34m=\u001b[0m \u001b[0mself\u001b[0m\u001b[0;34m.\u001b[0m\u001b[0m_backend\u001b[0m\u001b[0;34m.\u001b[0m\u001b[0mapply_async\u001b[0m\u001b[0;34m(\u001b[0m\u001b[0mbatch\u001b[0m\u001b[0;34m,\u001b[0m \u001b[0mcallback\u001b[0m\u001b[0;34m=\u001b[0m\u001b[0mcb\u001b[0m\u001b[0;34m)\u001b[0m\u001b[0;34m\u001b[0m\u001b[0;34m\u001b[0m\u001b[0m\n\u001b[0m\u001b[1;32m    780\u001b[0m             \u001b[0;31m# A job can complete so quickly than its callback is\u001b[0m\u001b[0;34m\u001b[0m\u001b[0;34m\u001b[0m\u001b[0;34m\u001b[0m\u001b[0m\n\u001b[1;32m    781\u001b[0m             \u001b[0;31m# called before we get here, causing self._jobs to\u001b[0m\u001b[0;34m\u001b[0m\u001b[0;34m\u001b[0m\u001b[0;34m\u001b[0m\u001b[0m\n",
            "\u001b[0;32m/usr/local/lib/python3.7/dist-packages/joblib/_parallel_backends.py\u001b[0m in \u001b[0;36mapply_async\u001b[0;34m(self, func, callback)\u001b[0m\n\u001b[1;32m    206\u001b[0m     \u001b[0;32mdef\u001b[0m \u001b[0mapply_async\u001b[0m\u001b[0;34m(\u001b[0m\u001b[0mself\u001b[0m\u001b[0;34m,\u001b[0m \u001b[0mfunc\u001b[0m\u001b[0;34m,\u001b[0m \u001b[0mcallback\u001b[0m\u001b[0;34m=\u001b[0m\u001b[0;32mNone\u001b[0m\u001b[0;34m)\u001b[0m\u001b[0;34m:\u001b[0m\u001b[0;34m\u001b[0m\u001b[0;34m\u001b[0m\u001b[0m\n\u001b[1;32m    207\u001b[0m         \u001b[0;34m\"\"\"Schedule a func to be run\"\"\"\u001b[0m\u001b[0;34m\u001b[0m\u001b[0;34m\u001b[0m\u001b[0m\n\u001b[0;32m--> 208\u001b[0;31m         \u001b[0mresult\u001b[0m \u001b[0;34m=\u001b[0m \u001b[0mImmediateResult\u001b[0m\u001b[0;34m(\u001b[0m\u001b[0mfunc\u001b[0m\u001b[0;34m)\u001b[0m\u001b[0;34m\u001b[0m\u001b[0;34m\u001b[0m\u001b[0m\n\u001b[0m\u001b[1;32m    209\u001b[0m         \u001b[0;32mif\u001b[0m \u001b[0mcallback\u001b[0m\u001b[0;34m:\u001b[0m\u001b[0;34m\u001b[0m\u001b[0;34m\u001b[0m\u001b[0m\n\u001b[1;32m    210\u001b[0m             \u001b[0mcallback\u001b[0m\u001b[0;34m(\u001b[0m\u001b[0mresult\u001b[0m\u001b[0;34m)\u001b[0m\u001b[0;34m\u001b[0m\u001b[0;34m\u001b[0m\u001b[0m\n",
            "\u001b[0;32m/usr/local/lib/python3.7/dist-packages/joblib/_parallel_backends.py\u001b[0m in \u001b[0;36m__init__\u001b[0;34m(self, batch)\u001b[0m\n\u001b[1;32m    570\u001b[0m         \u001b[0;31m# Don't delay the application, to avoid keeping the input\u001b[0m\u001b[0;34m\u001b[0m\u001b[0;34m\u001b[0m\u001b[0;34m\u001b[0m\u001b[0m\n\u001b[1;32m    571\u001b[0m         \u001b[0;31m# arguments in memory\u001b[0m\u001b[0;34m\u001b[0m\u001b[0;34m\u001b[0m\u001b[0;34m\u001b[0m\u001b[0m\n\u001b[0;32m--> 572\u001b[0;31m         \u001b[0mself\u001b[0m\u001b[0;34m.\u001b[0m\u001b[0mresults\u001b[0m \u001b[0;34m=\u001b[0m \u001b[0mbatch\u001b[0m\u001b[0;34m(\u001b[0m\u001b[0;34m)\u001b[0m\u001b[0;34m\u001b[0m\u001b[0;34m\u001b[0m\u001b[0m\n\u001b[0m\u001b[1;32m    573\u001b[0m \u001b[0;34m\u001b[0m\u001b[0m\n\u001b[1;32m    574\u001b[0m     \u001b[0;32mdef\u001b[0m \u001b[0mget\u001b[0m\u001b[0;34m(\u001b[0m\u001b[0mself\u001b[0m\u001b[0;34m)\u001b[0m\u001b[0;34m:\u001b[0m\u001b[0;34m\u001b[0m\u001b[0;34m\u001b[0m\u001b[0m\n",
            "\u001b[0;32m/usr/local/lib/python3.7/dist-packages/joblib/parallel.py\u001b[0m in \u001b[0;36m__call__\u001b[0;34m(self)\u001b[0m\n\u001b[1;32m    261\u001b[0m         \u001b[0;32mwith\u001b[0m \u001b[0mparallel_backend\u001b[0m\u001b[0;34m(\u001b[0m\u001b[0mself\u001b[0m\u001b[0;34m.\u001b[0m\u001b[0m_backend\u001b[0m\u001b[0;34m,\u001b[0m \u001b[0mn_jobs\u001b[0m\u001b[0;34m=\u001b[0m\u001b[0mself\u001b[0m\u001b[0;34m.\u001b[0m\u001b[0m_n_jobs\u001b[0m\u001b[0;34m)\u001b[0m\u001b[0;34m:\u001b[0m\u001b[0;34m\u001b[0m\u001b[0;34m\u001b[0m\u001b[0m\n\u001b[1;32m    262\u001b[0m             return [func(*args, **kwargs)\n\u001b[0;32m--> 263\u001b[0;31m                     for func, args, kwargs in self.items]\n\u001b[0m\u001b[1;32m    264\u001b[0m \u001b[0;34m\u001b[0m\u001b[0m\n\u001b[1;32m    265\u001b[0m     \u001b[0;32mdef\u001b[0m \u001b[0m__reduce__\u001b[0m\u001b[0;34m(\u001b[0m\u001b[0mself\u001b[0m\u001b[0;34m)\u001b[0m\u001b[0;34m:\u001b[0m\u001b[0;34m\u001b[0m\u001b[0;34m\u001b[0m\u001b[0m\n",
            "\u001b[0;32m/usr/local/lib/python3.7/dist-packages/joblib/parallel.py\u001b[0m in \u001b[0;36m<listcomp>\u001b[0;34m(.0)\u001b[0m\n\u001b[1;32m    261\u001b[0m         \u001b[0;32mwith\u001b[0m \u001b[0mparallel_backend\u001b[0m\u001b[0;34m(\u001b[0m\u001b[0mself\u001b[0m\u001b[0;34m.\u001b[0m\u001b[0m_backend\u001b[0m\u001b[0;34m,\u001b[0m \u001b[0mn_jobs\u001b[0m\u001b[0;34m=\u001b[0m\u001b[0mself\u001b[0m\u001b[0;34m.\u001b[0m\u001b[0m_n_jobs\u001b[0m\u001b[0;34m)\u001b[0m\u001b[0;34m:\u001b[0m\u001b[0;34m\u001b[0m\u001b[0;34m\u001b[0m\u001b[0m\n\u001b[1;32m    262\u001b[0m             return [func(*args, **kwargs)\n\u001b[0;32m--> 263\u001b[0;31m                     for func, args, kwargs in self.items]\n\u001b[0m\u001b[1;32m    264\u001b[0m \u001b[0;34m\u001b[0m\u001b[0m\n\u001b[1;32m    265\u001b[0m     \u001b[0;32mdef\u001b[0m \u001b[0m__reduce__\u001b[0m\u001b[0;34m(\u001b[0m\u001b[0mself\u001b[0m\u001b[0;34m)\u001b[0m\u001b[0;34m:\u001b[0m\u001b[0;34m\u001b[0m\u001b[0;34m\u001b[0m\u001b[0m\n",
            "\u001b[0;32m/usr/local/lib/python3.7/dist-packages/sklearn/utils/fixes.py\u001b[0m in \u001b[0;36m__call__\u001b[0;34m(self, *args, **kwargs)\u001b[0m\n\u001b[1;32m    214\u001b[0m     \u001b[0;32mdef\u001b[0m \u001b[0m__call__\u001b[0m\u001b[0;34m(\u001b[0m\u001b[0mself\u001b[0m\u001b[0;34m,\u001b[0m \u001b[0;34m*\u001b[0m\u001b[0margs\u001b[0m\u001b[0;34m,\u001b[0m \u001b[0;34m**\u001b[0m\u001b[0mkwargs\u001b[0m\u001b[0;34m)\u001b[0m\u001b[0;34m:\u001b[0m\u001b[0;34m\u001b[0m\u001b[0;34m\u001b[0m\u001b[0m\n\u001b[1;32m    215\u001b[0m         \u001b[0;32mwith\u001b[0m \u001b[0mconfig_context\u001b[0m\u001b[0;34m(\u001b[0m\u001b[0;34m**\u001b[0m\u001b[0mself\u001b[0m\u001b[0;34m.\u001b[0m\u001b[0mconfig\u001b[0m\u001b[0;34m)\u001b[0m\u001b[0;34m:\u001b[0m\u001b[0;34m\u001b[0m\u001b[0;34m\u001b[0m\u001b[0m\n\u001b[0;32m--> 216\u001b[0;31m             \u001b[0;32mreturn\u001b[0m \u001b[0mself\u001b[0m\u001b[0;34m.\u001b[0m\u001b[0mfunction\u001b[0m\u001b[0;34m(\u001b[0m\u001b[0;34m*\u001b[0m\u001b[0margs\u001b[0m\u001b[0;34m,\u001b[0m \u001b[0;34m**\u001b[0m\u001b[0mkwargs\u001b[0m\u001b[0;34m)\u001b[0m\u001b[0;34m\u001b[0m\u001b[0;34m\u001b[0m\u001b[0m\n\u001b[0m\u001b[1;32m    217\u001b[0m \u001b[0;34m\u001b[0m\u001b[0m\n\u001b[1;32m    218\u001b[0m \u001b[0;34m\u001b[0m\u001b[0m\n",
            "\u001b[0;32m/usr/local/lib/python3.7/dist-packages/sklearn/model_selection/_validation.py\u001b[0m in \u001b[0;36m_fit_and_score\u001b[0;34m(estimator, X, y, scorer, train, test, verbose, parameters, fit_params, return_train_score, return_parameters, return_n_test_samples, return_times, return_estimator, split_progress, candidate_progress, error_score)\u001b[0m\n\u001b[1;32m    678\u001b[0m             \u001b[0mestimator\u001b[0m\u001b[0;34m.\u001b[0m\u001b[0mfit\u001b[0m\u001b[0;34m(\u001b[0m\u001b[0mX_train\u001b[0m\u001b[0;34m,\u001b[0m \u001b[0;34m**\u001b[0m\u001b[0mfit_params\u001b[0m\u001b[0;34m)\u001b[0m\u001b[0;34m\u001b[0m\u001b[0;34m\u001b[0m\u001b[0m\n\u001b[1;32m    679\u001b[0m         \u001b[0;32melse\u001b[0m\u001b[0;34m:\u001b[0m\u001b[0;34m\u001b[0m\u001b[0;34m\u001b[0m\u001b[0m\n\u001b[0;32m--> 680\u001b[0;31m             \u001b[0mestimator\u001b[0m\u001b[0;34m.\u001b[0m\u001b[0mfit\u001b[0m\u001b[0;34m(\u001b[0m\u001b[0mX_train\u001b[0m\u001b[0;34m,\u001b[0m \u001b[0my_train\u001b[0m\u001b[0;34m,\u001b[0m \u001b[0;34m**\u001b[0m\u001b[0mfit_params\u001b[0m\u001b[0;34m)\u001b[0m\u001b[0;34m\u001b[0m\u001b[0;34m\u001b[0m\u001b[0m\n\u001b[0m\u001b[1;32m    681\u001b[0m \u001b[0;34m\u001b[0m\u001b[0m\n\u001b[1;32m    682\u001b[0m     \u001b[0;32mexcept\u001b[0m \u001b[0mException\u001b[0m\u001b[0;34m:\u001b[0m\u001b[0;34m\u001b[0m\u001b[0;34m\u001b[0m\u001b[0m\n",
            "\u001b[0;32m/usr/local/lib/python3.7/dist-packages/sklearn/ensemble/_gb.py\u001b[0m in \u001b[0;36mfit\u001b[0;34m(self, X, y, sample_weight, monitor)\u001b[0m\n\u001b[1;32m    594\u001b[0m             \u001b[0msample_weight_val\u001b[0m\u001b[0;34m,\u001b[0m\u001b[0;34m\u001b[0m\u001b[0;34m\u001b[0m\u001b[0m\n\u001b[1;32m    595\u001b[0m             \u001b[0mbegin_at_stage\u001b[0m\u001b[0;34m,\u001b[0m\u001b[0;34m\u001b[0m\u001b[0;34m\u001b[0m\u001b[0m\n\u001b[0;32m--> 596\u001b[0;31m             \u001b[0mmonitor\u001b[0m\u001b[0;34m,\u001b[0m\u001b[0;34m\u001b[0m\u001b[0;34m\u001b[0m\u001b[0m\n\u001b[0m\u001b[1;32m    597\u001b[0m         )\n\u001b[1;32m    598\u001b[0m \u001b[0;34m\u001b[0m\u001b[0m\n",
            "\u001b[0;32m/usr/local/lib/python3.7/dist-packages/sklearn/ensemble/_gb.py\u001b[0m in \u001b[0;36m_fit_stages\u001b[0;34m(self, X, y, raw_predictions, sample_weight, random_state, X_val, y_val, sample_weight_val, begin_at_stage, monitor)\u001b[0m\n\u001b[1;32m    670\u001b[0m                 \u001b[0mrandom_state\u001b[0m\u001b[0;34m,\u001b[0m\u001b[0;34m\u001b[0m\u001b[0;34m\u001b[0m\u001b[0m\n\u001b[1;32m    671\u001b[0m                 \u001b[0mX_csc\u001b[0m\u001b[0;34m,\u001b[0m\u001b[0;34m\u001b[0m\u001b[0;34m\u001b[0m\u001b[0m\n\u001b[0;32m--> 672\u001b[0;31m                 \u001b[0mX_csr\u001b[0m\u001b[0;34m,\u001b[0m\u001b[0;34m\u001b[0m\u001b[0;34m\u001b[0m\u001b[0m\n\u001b[0m\u001b[1;32m    673\u001b[0m             )\n\u001b[1;32m    674\u001b[0m \u001b[0;34m\u001b[0m\u001b[0m\n",
            "\u001b[0;32m/usr/local/lib/python3.7/dist-packages/sklearn/ensemble/_gb.py\u001b[0m in \u001b[0;36m_fit_stage\u001b[0;34m(self, i, X, y, raw_predictions, sample_weight, sample_mask, random_state, X_csc, X_csr)\u001b[0m\n\u001b[1;32m    244\u001b[0m \u001b[0;34m\u001b[0m\u001b[0m\n\u001b[1;32m    245\u001b[0m             \u001b[0mX\u001b[0m \u001b[0;34m=\u001b[0m \u001b[0mX_csr\u001b[0m \u001b[0;32mif\u001b[0m \u001b[0mX_csr\u001b[0m \u001b[0;32mis\u001b[0m \u001b[0;32mnot\u001b[0m \u001b[0;32mNone\u001b[0m \u001b[0;32melse\u001b[0m \u001b[0mX\u001b[0m\u001b[0;34m\u001b[0m\u001b[0;34m\u001b[0m\u001b[0m\n\u001b[0;32m--> 246\u001b[0;31m             \u001b[0mtree\u001b[0m\u001b[0;34m.\u001b[0m\u001b[0mfit\u001b[0m\u001b[0;34m(\u001b[0m\u001b[0mX\u001b[0m\u001b[0;34m,\u001b[0m \u001b[0mresidual\u001b[0m\u001b[0;34m,\u001b[0m \u001b[0msample_weight\u001b[0m\u001b[0;34m=\u001b[0m\u001b[0msample_weight\u001b[0m\u001b[0;34m,\u001b[0m \u001b[0mcheck_input\u001b[0m\u001b[0;34m=\u001b[0m\u001b[0;32mFalse\u001b[0m\u001b[0;34m)\u001b[0m\u001b[0;34m\u001b[0m\u001b[0;34m\u001b[0m\u001b[0m\n\u001b[0m\u001b[1;32m    247\u001b[0m \u001b[0;34m\u001b[0m\u001b[0m\n\u001b[1;32m    248\u001b[0m             \u001b[0;31m# update tree leaves\u001b[0m\u001b[0;34m\u001b[0m\u001b[0;34m\u001b[0m\u001b[0;34m\u001b[0m\u001b[0m\n",
            "\u001b[0;32m/usr/local/lib/python3.7/dist-packages/sklearn/tree/_classes.py\u001b[0m in \u001b[0;36mfit\u001b[0;34m(self, X, y, sample_weight, check_input, X_idx_sorted)\u001b[0m\n\u001b[1;32m   1318\u001b[0m             \u001b[0msample_weight\u001b[0m\u001b[0;34m=\u001b[0m\u001b[0msample_weight\u001b[0m\u001b[0;34m,\u001b[0m\u001b[0;34m\u001b[0m\u001b[0;34m\u001b[0m\u001b[0m\n\u001b[1;32m   1319\u001b[0m             \u001b[0mcheck_input\u001b[0m\u001b[0;34m=\u001b[0m\u001b[0mcheck_input\u001b[0m\u001b[0;34m,\u001b[0m\u001b[0;34m\u001b[0m\u001b[0;34m\u001b[0m\u001b[0m\n\u001b[0;32m-> 1320\u001b[0;31m             \u001b[0mX_idx_sorted\u001b[0m\u001b[0;34m=\u001b[0m\u001b[0mX_idx_sorted\u001b[0m\u001b[0;34m,\u001b[0m\u001b[0;34m\u001b[0m\u001b[0;34m\u001b[0m\u001b[0m\n\u001b[0m\u001b[1;32m   1321\u001b[0m         )\n\u001b[1;32m   1322\u001b[0m         \u001b[0;32mreturn\u001b[0m \u001b[0mself\u001b[0m\u001b[0;34m\u001b[0m\u001b[0;34m\u001b[0m\u001b[0m\n",
            "\u001b[0;32m/usr/local/lib/python3.7/dist-packages/sklearn/tree/_classes.py\u001b[0m in \u001b[0;36mfit\u001b[0;34m(self, X, y, sample_weight, check_input, X_idx_sorted)\u001b[0m\n\u001b[1;32m    418\u001b[0m             )\n\u001b[1;32m    419\u001b[0m \u001b[0;34m\u001b[0m\u001b[0m\n\u001b[0;32m--> 420\u001b[0;31m         \u001b[0mbuilder\u001b[0m\u001b[0;34m.\u001b[0m\u001b[0mbuild\u001b[0m\u001b[0;34m(\u001b[0m\u001b[0mself\u001b[0m\u001b[0;34m.\u001b[0m\u001b[0mtree_\u001b[0m\u001b[0;34m,\u001b[0m \u001b[0mX\u001b[0m\u001b[0;34m,\u001b[0m \u001b[0my\u001b[0m\u001b[0;34m,\u001b[0m \u001b[0msample_weight\u001b[0m\u001b[0;34m)\u001b[0m\u001b[0;34m\u001b[0m\u001b[0;34m\u001b[0m\u001b[0m\n\u001b[0m\u001b[1;32m    421\u001b[0m \u001b[0;34m\u001b[0m\u001b[0m\n\u001b[1;32m    422\u001b[0m         \u001b[0;32mif\u001b[0m \u001b[0mself\u001b[0m\u001b[0;34m.\u001b[0m\u001b[0mn_outputs_\u001b[0m \u001b[0;34m==\u001b[0m \u001b[0;36m1\u001b[0m \u001b[0;32mand\u001b[0m \u001b[0mis_classifier\u001b[0m\u001b[0;34m(\u001b[0m\u001b[0mself\u001b[0m\u001b[0;34m)\u001b[0m\u001b[0;34m:\u001b[0m\u001b[0;34m\u001b[0m\u001b[0;34m\u001b[0m\u001b[0m\n",
            "\u001b[0;31mKeyboardInterrupt\u001b[0m: "
          ]
        }
      ]
    },
    {
      "cell_type": "code",
      "source": [
        "print_results(cv4)"
      ],
      "metadata": {
        "id": "tnzjMoHA8DIF"
      },
      "execution_count": null,
      "outputs": []
    },
    {
      "cell_type": "code",
      "source": [
        "cv4.best_estimator_"
      ],
      "metadata": {
        "id": "gPCdjRkF8F6H"
      },
      "execution_count": null,
      "outputs": []
    },
    {
      "cell_type": "code",
      "source": [
        "# dump the best model\n",
        "joblib.dump(cv4.best_estimator_, \"GB_model.pkl\")"
      ],
      "metadata": {
        "id": "rxeMJDxi8L-N"
      },
      "execution_count": null,
      "outputs": []
    },
    {
      "cell_type": "markdown",
      "source": [
        "#### Extreme Gradient Boosting "
      ],
      "metadata": {
        "id": "k-vaA0eIEe8I"
      }
    },
    {
      "cell_type": "code",
      "source": [
        "xgb = XGBClassifier()\n",
        "parameters = {\n",
        "    \"n_estimators\": [50, 100, 200],\n",
        "    \"max_depth\": [1, 3, 5],\n",
        "    \"learning_rate\": [0.001, 0.01, 0.1, 1.0]\n",
        "    # \"learning_rate\": [0.1]\n",
        "}\n",
        "\n",
        "cv5 = GridSearchCV(xgb, parameters, cv=5)\n",
        "cv5.fit(X_train, y_train);"
      ],
      "metadata": {
        "id": "-zB5_E0jEmVu"
      },
      "execution_count": null,
      "outputs": []
    },
    {
      "cell_type": "code",
      "source": [
        "print_results(cv5)"
      ],
      "metadata": {
        "colab": {
          "base_uri": "https://localhost:8080/"
        },
        "id": "Jx2mC7V5FL-q",
        "outputId": "eae86a13-27f6-4c69-d9c3-cb663c477560"
      },
      "execution_count": null,
      "outputs": [
        {
          "output_type": "stream",
          "name": "stdout",
          "text": [
            "Best Parameters: {'learning_rate': 1.0, 'max_depth': 1, 'n_estimators': 100}\n",
            "\n",
            "0.434 (+/- 0.06) for {'learning_rate': 0.001, 'max_depth': 1, 'n_estimators': 50}\n",
            "0.436 (+/- 0.058) for {'learning_rate': 0.001, 'max_depth': 1, 'n_estimators': 100}\n",
            "0.443 (+/- 0.074) for {'learning_rate': 0.001, 'max_depth': 1, 'n_estimators': 200}\n",
            "0.51 (+/- 0.045) for {'learning_rate': 0.001, 'max_depth': 3, 'n_estimators': 50}\n",
            "0.511 (+/- 0.046) for {'learning_rate': 0.001, 'max_depth': 3, 'n_estimators': 100}\n",
            "0.507 (+/- 0.048) for {'learning_rate': 0.001, 'max_depth': 3, 'n_estimators': 200}\n",
            "0.523 (+/- 0.034) for {'learning_rate': 0.001, 'max_depth': 5, 'n_estimators': 50}\n",
            "0.517 (+/- 0.045) for {'learning_rate': 0.001, 'max_depth': 5, 'n_estimators': 100}\n",
            "0.517 (+/- 0.039) for {'learning_rate': 0.001, 'max_depth': 5, 'n_estimators': 200}\n",
            "0.478 (+/- 0.051) for {'learning_rate': 0.01, 'max_depth': 1, 'n_estimators': 50}\n",
            "0.477 (+/- 0.054) for {'learning_rate': 0.01, 'max_depth': 1, 'n_estimators': 100}\n",
            "0.482 (+/- 0.048) for {'learning_rate': 0.01, 'max_depth': 1, 'n_estimators': 200}\n",
            "0.512 (+/- 0.043) for {'learning_rate': 0.01, 'max_depth': 3, 'n_estimators': 50}\n",
            "0.512 (+/- 0.033) for {'learning_rate': 0.01, 'max_depth': 3, 'n_estimators': 100}\n",
            "0.518 (+/- 0.041) for {'learning_rate': 0.01, 'max_depth': 3, 'n_estimators': 200}\n",
            "0.511 (+/- 0.043) for {'learning_rate': 0.01, 'max_depth': 5, 'n_estimators': 50}\n",
            "0.512 (+/- 0.033) for {'learning_rate': 0.01, 'max_depth': 5, 'n_estimators': 100}\n",
            "0.518 (+/- 0.044) for {'learning_rate': 0.01, 'max_depth': 5, 'n_estimators': 200}\n",
            "0.532 (+/- 0.019) for {'learning_rate': 0.1, 'max_depth': 1, 'n_estimators': 50}\n",
            "0.538 (+/- 0.031) for {'learning_rate': 0.1, 'max_depth': 1, 'n_estimators': 100}\n",
            "0.537 (+/- 0.044) for {'learning_rate': 0.1, 'max_depth': 1, 'n_estimators': 200}\n",
            "0.536 (+/- 0.042) for {'learning_rate': 0.1, 'max_depth': 3, 'n_estimators': 50}\n",
            "0.541 (+/- 0.064) for {'learning_rate': 0.1, 'max_depth': 3, 'n_estimators': 100}\n",
            "0.54 (+/- 0.061) for {'learning_rate': 0.1, 'max_depth': 3, 'n_estimators': 200}\n",
            "0.533 (+/- 0.055) for {'learning_rate': 0.1, 'max_depth': 5, 'n_estimators': 50}\n",
            "0.538 (+/- 0.051) for {'learning_rate': 0.1, 'max_depth': 5, 'n_estimators': 100}\n",
            "0.546 (+/- 0.058) for {'learning_rate': 0.1, 'max_depth': 5, 'n_estimators': 200}\n",
            "0.545 (+/- 0.079) for {'learning_rate': 1.0, 'max_depth': 1, 'n_estimators': 50}\n",
            "0.548 (+/- 0.066) for {'learning_rate': 1.0, 'max_depth': 1, 'n_estimators': 100}\n",
            "0.543 (+/- 0.069) for {'learning_rate': 1.0, 'max_depth': 1, 'n_estimators': 200}\n",
            "0.532 (+/- 0.058) for {'learning_rate': 1.0, 'max_depth': 3, 'n_estimators': 50}\n",
            "0.522 (+/- 0.048) for {'learning_rate': 1.0, 'max_depth': 3, 'n_estimators': 100}\n",
            "0.513 (+/- 0.042) for {'learning_rate': 1.0, 'max_depth': 3, 'n_estimators': 200}\n",
            "0.533 (+/- 0.059) for {'learning_rate': 1.0, 'max_depth': 5, 'n_estimators': 50}\n",
            "0.506 (+/- 0.049) for {'learning_rate': 1.0, 'max_depth': 5, 'n_estimators': 100}\n",
            "0.507 (+/- 0.043) for {'learning_rate': 1.0, 'max_depth': 5, 'n_estimators': 200}\n"
          ]
        }
      ]
    },
    {
      "cell_type": "code",
      "source": [
        "cv5.best_estimator_"
      ],
      "metadata": {
        "colab": {
          "base_uri": "https://localhost:8080/"
        },
        "id": "iYWpCTD3FP0n",
        "outputId": "7ce2f24c-92c2-45b7-e620-252a962813f8"
      },
      "execution_count": null,
      "outputs": [
        {
          "output_type": "execute_result",
          "data": {
            "text/plain": [
              "XGBClassifier(learning_rate=1.0, max_depth=1, objective='multi:softprob')"
            ]
          },
          "metadata": {},
          "execution_count": 206
        }
      ]
    },
    {
      "cell_type": "code",
      "source": [
        "# dump the best model\n",
        "joblib.dump(cv5.best_estimator_, \"XGB_model.pkl\")"
      ],
      "metadata": {
        "colab": {
          "base_uri": "https://localhost:8080/"
        },
        "id": "lVQKJsfSFS7O",
        "outputId": "4dae5f71-2b3d-43c1-b6f5-ebfa31d4cefa"
      },
      "execution_count": null,
      "outputs": [
        {
          "output_type": "execute_result",
          "data": {
            "text/plain": [
              "['XGB_model.pkl']"
            ]
          },
          "metadata": {},
          "execution_count": 207
        }
      ]
    },
    {
      "cell_type": "markdown",
      "source": [
        "### Load Models"
      ],
      "metadata": {
        "id": "eZKEfUCQTyTK"
      }
    },
    {
      "cell_type": "code",
      "source": [
        "models = {}\n",
        "for model in [ \"RFC\", \"MLP\", \"LR\", \"SVC\",  \"XGB\"]:\n",
        "  models[model] = joblib.load(model+\"_model.pkl\")"
      ],
      "metadata": {
        "id": "iDBLo7zATuNI"
      },
      "execution_count": null,
      "outputs": []
    },
    {
      "cell_type": "markdown",
      "source": [
        "### Model selection on valid set"
      ],
      "metadata": {
        "id": "N_Jw5BcjspQl"
      }
    },
    {
      "cell_type": "code",
      "source": [
        "# Evaluation function calculates accuracy, and f1-scores.\n",
        "def eval_model(name, model, features, labels, ax, count):\n",
        "  pred = model.predict(features)\n",
        "  accuracy = round(accuracy_score(labels, pred), 3)\n",
        "  precision = round(precision_score(labels, pred, average=\"weighted\"), 3)\n",
        "  recall = round(recall_score(labels, pred, average=\"weighted\"), 3)\n",
        "  f1score = round(f1_score(labels, pred, average=\"weighted\"), 3)\n",
        "\n",
        "  cf_matrix = confusion_matrix(labels, pred)\n",
        "  disp = ConfusionMatrixDisplay(cf_matrix,\n",
        "                                display_labels=[-1, 0, 1, 2])\n",
        "  disp.plot(ax=ax[count], xticks_rotation=45)\n",
        "  disp.ax_.set_title(name)\n",
        "  disp.im_.colorbar.remove()\n",
        "  disp.ax_.set_xlabel('')\n",
        "  if i!=0:\n",
        "      disp.ax_.set_ylabel('')\n",
        "  print()\n",
        "  print(f\"{name} -- Accuracy: {accuracy} / Precision: {precision} / Recall: {recall} / F1-Score: {f1score}\")\n",
        "  print(classification_report(labels, pred))\n",
        "  return pred, accuracy, precision, recall, f1score, disp"
      ],
      "metadata": {
        "id": "ejugrlPmUaj6"
      },
      "execution_count": null,
      "outputs": []
    },
    {
      "cell_type": "code",
      "source": [
        "# Evaluate on valid set to find the best model for our problem.\n",
        "count = 0\n",
        "f, axes = plt.subplots(1, 5, figsize=(20, 5), sharey='row')\n",
        "for name, model in models.items():\n",
        "  _, _, _, _, _, disp = eval_model(name, model, X_valid, y_valid, axes, count)\n",
        "  count += 1\n",
        "\n",
        "f.text(0.4, 0.1, 'Predicted label', ha='left')\n",
        "plt.subplots_adjust(wspace=0.40, hspace=0.1)\n",
        "\n",
        "\n",
        "f.colorbar(disp.im_, ax=axes)\n",
        "plt.show()"
      ],
      "metadata": {
        "id": "7nRv6jPPUe0h",
        "colab": {
          "base_uri": "https://localhost:8080/",
          "height": 1000
        },
        "outputId": "dbb5a258-9002-4dad-c32b-f5ac6d93f99a"
      },
      "execution_count": null,
      "outputs": [
        {
          "output_type": "stream",
          "name": "stdout",
          "text": [
            "\n",
            "RFC -- Accuracy: 0.55 / Precision: 0.593 / Recall: 0.55 / F1-Score: 0.514\n",
            "              precision    recall  f1-score   support\n",
            "\n",
            "          -1       0.75      0.08      0.15        37\n",
            "           0       0.55      0.27      0.36       126\n",
            "           1       0.44      0.84      0.58       110\n",
            "           2       0.73      0.72      0.73       120\n",
            "\n",
            "    accuracy                           0.55       393\n",
            "   macro avg       0.62      0.48      0.45       393\n",
            "weighted avg       0.59      0.55      0.51       393\n",
            "\n",
            "\n",
            "MLP -- Accuracy: 0.489 / Precision: 0.532 / Recall: 0.489 / F1-Score: 0.438\n",
            "              precision    recall  f1-score   support\n",
            "\n",
            "          -1       0.00      0.00      0.00        37\n",
            "           0       0.56      0.18      0.28       126\n",
            "           1       0.39      0.95      0.55       110\n",
            "           2       0.80      0.53      0.64       120\n",
            "\n",
            "    accuracy                           0.49       393\n",
            "   macro avg       0.44      0.42      0.37       393\n",
            "weighted avg       0.53      0.49      0.44       393\n",
            "\n",
            "\n",
            "LR -- Accuracy: 0.55 / Precision: 0.593 / Recall: 0.55 / F1-Score: 0.514\n",
            "              precision    recall  f1-score   support\n",
            "\n",
            "          -1       0.75      0.08      0.15        37\n",
            "           0       0.55      0.27      0.36       126\n",
            "           1       0.44      0.84      0.58       110\n",
            "           2       0.73      0.72      0.73       120\n",
            "\n",
            "    accuracy                           0.55       393\n",
            "   macro avg       0.62      0.48      0.45       393\n",
            "weighted avg       0.59      0.55      0.51       393\n",
            "\n",
            "\n",
            "SVC -- Accuracy: 0.575 / Precision: 0.599 / Recall: 0.575 / F1-Score: 0.568\n",
            "              precision    recall  f1-score   support\n",
            "\n",
            "          -1       0.72      0.35      0.47        37\n",
            "           0       0.50      0.40      0.45       126\n",
            "           1       0.51      0.80      0.62       110\n",
            "           2       0.76      0.62      0.68       120\n",
            "\n",
            "    accuracy                           0.58       393\n",
            "   macro avg       0.62      0.54      0.55       393\n",
            "weighted avg       0.60      0.58      0.57       393\n",
            "\n",
            "\n",
            "XGB -- Accuracy: 0.588 / Precision: 0.59 / Recall: 0.588 / F1-Score: 0.578\n",
            "              precision    recall  f1-score   support\n",
            "\n",
            "          -1       0.52      0.35      0.42        37\n",
            "           0       0.56      0.40      0.47       126\n",
            "           1       0.50      0.68      0.57       110\n",
            "           2       0.73      0.78      0.75       120\n",
            "\n",
            "    accuracy                           0.59       393\n",
            "   macro avg       0.58      0.55      0.55       393\n",
            "weighted avg       0.59      0.59      0.58       393\n",
            "\n"
          ]
        },
        {
          "output_type": "display_data",
          "data": {
            "text/plain": [
              "<Figure size 1440x360 with 6 Axes>"
            ],
            "image/png": "[encoded data removed]"
          },
          "metadata": {
            "needs_background": "light"
          }
        }
      ]
    },
    {
      "cell_type": "markdown",
      "source": [
        "### Evaluation on test set"
      ],
      "metadata": {
        "id": "lBHCXRzbZIVf"
      }
    },
    {
      "cell_type": "code",
      "source": [
        "count = 0\n",
        "f, axes = plt.subplots(1, 3, figsize=(20, 5), sharey='row')\n",
        "try:\n",
        "  for name, model in models.items():\n",
        "    if name == \"SVC\" or name == \"MLP\" or name == \"XGB\":\n",
        "      _, _, _, _, _, disp = eval_model(name, model, X_test, y_test, axes, count)\n",
        "      count+=1\n",
        "except:\n",
        "  print(traceback.print_exc())\n",
        "\n",
        "f.text(0.4, 0.1, 'Predicted label', ha='left')\n",
        "plt.subplots_adjust(wspace=0.40, hspace=0.1)\n",
        "\n",
        "\n",
        "f.colorbar(disp.im_, ax=axes)\n",
        "plt.show()"
      ],
      "metadata": {
        "id": "90h4HZYwUhTe",
        "colab": {
          "base_uri": "https://localhost:8080/",
          "height": 991
        },
        "outputId": "4e5e7a15-d6f7-4510-c2c4-1c373d72a95f"
      },
      "execution_count": null,
      "outputs": [
        {
          "output_type": "stream",
          "name": "stdout",
          "text": [
            "\n",
            "MLP -- Accuracy: 0.501 / Precision: 0.493 / Recall: 0.501 / F1-Score: 0.44\n",
            "              precision    recall  f1-score   support\n",
            "\n",
            "          -1       0.00      0.00      0.00        42\n",
            "           0       0.52      0.17      0.26       127\n",
            "           1       0.42      0.90      0.57       122\n",
            "           2       0.75      0.64      0.69       102\n",
            "\n",
            "    accuracy                           0.50       393\n",
            "   macro avg       0.42      0.43      0.38       393\n",
            "weighted avg       0.49      0.50      0.44       393\n",
            "\n",
            "\n",
            "SVC -- Accuracy: 0.573 / Precision: 0.566 / Recall: 0.573 / F1-Score: 0.556\n",
            "              precision    recall  f1-score   support\n",
            "\n",
            "          -1       0.53      0.21      0.31        42\n",
            "           0       0.48      0.39      0.43       127\n",
            "           1       0.55      0.75      0.63       122\n",
            "           2       0.71      0.74      0.72       102\n",
            "\n",
            "    accuracy                           0.57       393\n",
            "   macro avg       0.57      0.52      0.52       393\n",
            "weighted avg       0.57      0.57      0.56       393\n",
            "\n",
            "\n",
            "XGB -- Accuracy: 0.534 / Precision: 0.529 / Recall: 0.534 / F1-Score: 0.521\n",
            "              precision    recall  f1-score   support\n",
            "\n",
            "          -1       0.52      0.29      0.37        42\n",
            "           0       0.49      0.36      0.42       127\n",
            "           1       0.49      0.62      0.55       122\n",
            "           2       0.62      0.75      0.68       102\n",
            "\n",
            "    accuracy                           0.53       393\n",
            "   macro avg       0.53      0.50      0.50       393\n",
            "weighted avg       0.53      0.53      0.52       393\n",
            "\n"
          ]
        },
        {
          "output_type": "display_data",
          "data": {
            "text/plain": [
              "<Figure size 1440x360 with 4 Axes>"
            ],
            "image/png": "[encoded data removed]"
          },
          "metadata": {
            "needs_background": "light"
          }
        }
      ]
    },
    {
      "cell_type": "markdown",
      "source": [
        "### Create encodings for overall datasets"
      ],
      "metadata": {
        "id": "KbNhxSY0LWYn"
      }
    },
    {
      "cell_type": "code",
      "source": [
        "infile_1 = \"/content/doge_coin_dataset_2021_orig.csv\"\n",
        "# infile = \"/content/drive/MyDrive/SMBA_2022/elonmusk_doge_tweets.gsheet\"\n",
        "\n",
        "# reading the dataset\n",
        "df_1 = pd.read_csv(infile_1, encoding = \"utf-8\")\n",
        "    \n",
        "\n",
        "df_1.head()"
      ],
      "metadata": {
        "colab": {
          "base_uri": "https://localhost:8080/",
          "height": 354
        },
        "id": "eEyXszX9LoEs",
        "outputId": "c2fa518f-6ba5-41b6-bb7c-af5cf1d86d16"
      },
      "execution_count": null,
      "outputs": [
        {
          "output_type": "execute_result",
          "data": {
            "text/plain": [
              "       tweet_id       user_id user_name  \\\n",
              "0  1.360000e+18  3.134341e+09    Nobody   \n",
              "1  1.360000e+18  1.320000e+18    Nobody   \n",
              "2  1.360000e+18  1.849860e+09    Nobody   \n",
              "3  1.360000e+18  1.360000e+18    Nobody   \n",
              "4  1.360000e+18  1.290000e+18    Nobody   \n",
              "\n",
              "                                      original_tweet  year  month  day  \\\n",
              "0  You can’t stop us, you fucks #dogecoin https:/...  2021      1   31   \n",
              "1  https://t.co/EGyJXssO6l\\n\\nLet's share it to t...  2021      1   31   \n",
              "2  If you really hated socialism, you’d let every...  2021      1   31   \n",
              "3  Like and retweet, if you believe #Dogecoin #in...  2021      1   31   \n",
              "4  #dogecoin is sounding more and more like essen...  2021      1   31   \n",
              "\n",
              "       time               source  \\\n",
              "0  22:50:54   Twitter for iPhone   \n",
              "1  23:28:43  Twitter for Android   \n",
              "2  23:28:42   Twitter for iPhone   \n",
              "3  23:28:35   Twitter for iPhone   \n",
              "4  23:28:34  Twitter for Android   \n",
              "\n",
              "                                       cleaned_tweet labels Unnamed: 11  \\\n",
              "0             you can’t stop us, you fucks #dogecoin      1         NaN   \n",
              "1  let's share it to the entire social network to...    NaN         NaN   \n",
              "2  if you really hated socialism, you’d let every...    NaN         NaN   \n",
              "3  like and retweet, if you believe #dogecoin #in...    NaN         NaN   \n",
              "4  #dogecoin is sounding more and more like essen...     -1         NaN   \n",
              "\n",
              "   Unnamed: 12  \n",
              "0          NaN  \n",
              "1          NaN  \n",
              "2          NaN  \n",
              "3          NaN  \n",
              "4          NaN  "
            ],
            "text/html": [
              "\n",
              "  <div id=\"df-48bcf46a-7b0a-487e-bf8d-72f53a22a164\">\n",
              "    <div class=\"colab-df-container\">\n",
              "      <div>\n",
              "<style scoped>\n",
              "    .dataframe tbody tr th:only-of-type {\n",
              "        vertical-align: middle;\n",
              "    }\n",
              "\n",
              "    .dataframe tbody tr th {\n",
              "        vertical-align: top;\n",
              "    }\n",
              "\n",
              "    .dataframe thead th {\n",
              "        text-align: right;\n",
              "    }\n",
              "</style>\n",
              "<table border=\"1\" class=\"dataframe\">\n",
              "  <thead>\n",
              "    <tr style=\"text-align: right;\">\n",
              "      <th></th>\n",
              "      <th>tweet_id</th>\n",
              "      <th>user_id</th>\n",
              "      <th>user_name</th>\n",
              "      <th>original_tweet</th>\n",
              "      <th>year</th>\n",
              "      <th>month</th>\n",
              "      <th>day</th>\n",
              "      <th>time</th>\n",
              "      <th>source</th>\n",
              "      <th>cleaned_tweet</th>\n",
              "      <th>labels</th>\n",
              "      <th>Unnamed: 11</th>\n",
              "      <th>Unnamed: 12</th>\n",
              "    </tr>\n",
              "  </thead>\n",
              "  <tbody>\n",
              "    <tr>\n",
              "      <th>0</th>\n",
              "      <td>1.360000e+18</td>\n",
              "      <td>3.134341e+09</td>\n",
              "      <td>Nobody</td>\n",
              "      <td>You can’t stop us, you fucks #dogecoin https:/...</td>\n",
              "      <td>2021</td>\n",
              "      <td>1</td>\n",
              "      <td>31</td>\n",
              "      <td>22:50:54</td>\n",
              "      <td>Twitter for iPhone</td>\n",
              "      <td>you can’t stop us, you fucks #dogecoin</td>\n",
              "      <td>1</td>\n",
              "      <td>NaN</td>\n",
              "      <td>NaN</td>\n",
              "    </tr>\n",
              "    <tr>\n",
              "      <th>1</th>\n",
              "      <td>1.360000e+18</td>\n",
              "      <td>1.320000e+18</td>\n",
              "      <td>Nobody</td>\n",
              "      <td>https://t.co/EGyJXssO6l\\n\\nLet's share it to t...</td>\n",
              "      <td>2021</td>\n",
              "      <td>1</td>\n",
              "      <td>31</td>\n",
              "      <td>23:28:43</td>\n",
              "      <td>Twitter for Android</td>\n",
              "      <td>let's share it to the entire social network to...</td>\n",
              "      <td>NaN</td>\n",
              "      <td>NaN</td>\n",
              "      <td>NaN</td>\n",
              "    </tr>\n",
              "    <tr>\n",
              "      <th>2</th>\n",
              "      <td>1.360000e+18</td>\n",
              "      <td>1.849860e+09</td>\n",
              "      <td>Nobody</td>\n",
              "      <td>If you really hated socialism, you’d let every...</td>\n",
              "      <td>2021</td>\n",
              "      <td>1</td>\n",
              "      <td>31</td>\n",
              "      <td>23:28:42</td>\n",
              "      <td>Twitter for iPhone</td>\n",
              "      <td>if you really hated socialism, you’d let every...</td>\n",
              "      <td>NaN</td>\n",
              "      <td>NaN</td>\n",
              "      <td>NaN</td>\n",
              "    </tr>\n",
              "    <tr>\n",
              "      <th>3</th>\n",
              "      <td>1.360000e+18</td>\n",
              "      <td>1.360000e+18</td>\n",
              "      <td>Nobody</td>\n",
              "      <td>Like and retweet, if you believe #Dogecoin #in...</td>\n",
              "      <td>2021</td>\n",
              "      <td>1</td>\n",
              "      <td>31</td>\n",
              "      <td>23:28:35</td>\n",
              "      <td>Twitter for iPhone</td>\n",
              "      <td>like and retweet, if you believe #dogecoin #in...</td>\n",
              "      <td>NaN</td>\n",
              "      <td>NaN</td>\n",
              "      <td>NaN</td>\n",
              "    </tr>\n",
              "    <tr>\n",
              "      <th>4</th>\n",
              "      <td>1.360000e+18</td>\n",
              "      <td>1.290000e+18</td>\n",
              "      <td>Nobody</td>\n",
              "      <td>#dogecoin is sounding more and more like essen...</td>\n",
              "      <td>2021</td>\n",
              "      <td>1</td>\n",
              "      <td>31</td>\n",
              "      <td>23:28:34</td>\n",
              "      <td>Twitter for Android</td>\n",
              "      <td>#dogecoin is sounding more and more like essen...</td>\n",
              "      <td>-1</td>\n",
              "      <td>NaN</td>\n",
              "      <td>NaN</td>\n",
              "    </tr>\n",
              "  </tbody>\n",
              "</table>\n",
              "</div>\n",
              "      <button class=\"colab-df-convert\" onclick=\"convertToInteractive('df-48bcf46a-7b0a-487e-bf8d-72f53a22a164')\"\n",
              "              title=\"Convert this dataframe to an interactive table.\"\n",
              "              style=\"display:none;\">\n",
              "        \n",
              "  <svg xmlns=\"http://www.w3.org/2000/svg\" height=\"24px\"viewBox=\"0 0 24 24\"\n",
              "       width=\"24px\">\n",
              "    <path d=\"M0 0h24v24H0V0z\" fill=\"none\"/>\n",
              "    <path d=\"M18.56 5.44l.94 2.06.94-2.06 2.06-.94-2.06-.94-.94-2.06-.94 2.06-2.06.94zm-11 1L8.5 8.5l.94-2.06 2.06-.94-2.06-.94L8.5 2.5l-.94 2.06-2.06.94zm10 10l.94 2.06.94-2.06 2.06-.94-2.06-.94-.94-2.06-.94 2.06-2.06.94z\"/><path d=\"M17.41 7.96l-1.37-1.37c-.4-.4-.92-.59-1.43-.59-.52 0-1.04.2-1.43.59L10.3 9.45l-7.72 7.72c-.78.78-.78 2.05 0 2.83L4 21.41c.39.39.9.59 1.41.59.51 0 1.02-.2 1.41-.59l7.78-7.78 2.81-2.81c.8-.78.8-2.07 0-2.86zM5.41 20L4 18.59l7.72-7.72 1.47 1.35L5.41 20z\"/>\n",
              "  </svg>\n",
              "      </button>\n",
              "      \n",
              "  <style>\n",
              "    .colab-df-container {\n",
              "      display:flex;\n",
              "      flex-wrap:wrap;\n",
              "      gap: 12px;\n",
              "    }\n",
              "\n",
              "    .colab-df-convert {\n",
              "      background-color: #E8F0FE;\n",
              "      border: none;\n",
              "      border-radius: 50%;\n",
              "      cursor: pointer;\n",
              "      display: none;\n",
              "      fill: #1967D2;\n",
              "      height: 32px;\n",
              "      padding: 0 0 0 0;\n",
              "      width: 32px;\n",
              "    }\n",
              "\n",
              "    .colab-df-convert:hover {\n",
              "      background-color: #E2EBFA;\n",
              "      box-shadow: 0px 1px 2px rgba(60, 64, 67, 0.3), 0px 1px 3px 1px rgba(60, 64, 67, 0.15);\n",
              "      fill: #174EA6;\n",
              "    }\n",
              "\n",
              "    [theme=dark] .colab-df-convert {\n",
              "      background-color: #3B4455;\n",
              "      fill: #D2E3FC;\n",
              "    }\n",
              "\n",
              "    [theme=dark] .colab-df-convert:hover {\n",
              "      background-color: #434B5C;\n",
              "      box-shadow: 0px 1px 3px 1px rgba(0, 0, 0, 0.15);\n",
              "      filter: drop-shadow(0px 1px 2px rgba(0, 0, 0, 0.3));\n",
              "      fill: #FFFFFF;\n",
              "    }\n",
              "  </style>\n",
              "\n",
              "      <script>\n",
              "        const buttonEl =\n",
              "          document.querySelector('#df-48bcf46a-7b0a-487e-bf8d-72f53a22a164 button.colab-df-convert');\n",
              "        buttonEl.style.display =\n",
              "          google.colab.kernel.accessAllowed ? 'block' : 'none';\n",
              "\n",
              "        async function convertToInteractive(key) {\n",
              "          const element = document.querySelector('#df-48bcf46a-7b0a-487e-bf8d-72f53a22a164');\n",
              "          const dataTable =\n",
              "            await google.colab.kernel.invokeFunction('convertToInteractive',\n",
              "                                                     [key], {});\n",
              "          if (!dataTable) return;\n",
              "\n",
              "          const docLinkHtml = 'Like what you see? Visit the ' +\n",
              "            '<a target=\"_blank\" href=https://colab.research.google.com/notebooks/data_table.ipynb>data table notebook</a>'\n",
              "            + ' to learn more about interactive tables.';\n",
              "          element.innerHTML = '';\n",
              "          dataTable['output_type'] = 'display_data';\n",
              "          await google.colab.output.renderOutput(dataTable, element);\n",
              "          const docLink = document.createElement('div');\n",
              "          docLink.innerHTML = docLinkHtml;\n",
              "          element.appendChild(docLink);\n",
              "        }\n",
              "      </script>\n",
              "    </div>\n",
              "  </div>\n",
              "  "
            ]
          },
          "metadata": {},
          "execution_count": 212
        }
      ]
    },
    {
      "cell_type": "code",
      "source": [
        "# drop unnamed columns \n",
        "df_1 = df_1.drop(['Unnamed: 11', 'Unnamed: 12', \"labels\"], axis=1)\n",
        "df_1.head()"
      ],
      "metadata": {
        "colab": {
          "base_uri": "https://localhost:8080/",
          "height": 206
        },
        "id": "sk3h2c7rMIQL",
        "outputId": "d753e83c-785d-4cb0-ef35-2302b5ac7ff9"
      },
      "execution_count": null,
      "outputs": [
        {
          "output_type": "execute_result",
          "data": {
            "text/plain": [
              "       tweet_id       user_id user_name  \\\n",
              "0  1.360000e+18  3.134341e+09    Nobody   \n",
              "1  1.360000e+18  1.320000e+18    Nobody   \n",
              "2  1.360000e+18  1.849860e+09    Nobody   \n",
              "3  1.360000e+18  1.360000e+18    Nobody   \n",
              "4  1.360000e+18  1.290000e+18    Nobody   \n",
              "\n",
              "                                      original_tweet  year  month  day  \\\n",
              "0  You can’t stop us, you fucks #dogecoin https:/...  2021      1   31   \n",
              "1  https://t.co/EGyJXssO6l\\n\\nLet's share it to t...  2021      1   31   \n",
              "2  If you really hated socialism, you’d let every...  2021      1   31   \n",
              "3  Like and retweet, if you believe #Dogecoin #in...  2021      1   31   \n",
              "4  #dogecoin is sounding more and more like essen...  2021      1   31   \n",
              "\n",
              "       time               source  \\\n",
              "0  22:50:54   Twitter for iPhone   \n",
              "1  23:28:43  Twitter for Android   \n",
              "2  23:28:42   Twitter for iPhone   \n",
              "3  23:28:35   Twitter for iPhone   \n",
              "4  23:28:34  Twitter for Android   \n",
              "\n",
              "                                       cleaned_tweet  \n",
              "0             you can’t stop us, you fucks #dogecoin  \n",
              "1  let's share it to the entire social network to...  \n",
              "2  if you really hated socialism, you’d let every...  \n",
              "3  like and retweet, if you believe #dogecoin #in...  \n",
              "4  #dogecoin is sounding more and more like essen...  "
            ],
            "text/html": [
              "\n",
              "  <div id=\"df-8b002717-6e04-40e9-9f97-5e991f22d8a9\">\n",
              "    <div class=\"colab-df-container\">\n",
              "      <div>\n",
              "<style scoped>\n",
              "    .dataframe tbody tr th:only-of-type {\n",
              "        vertical-align: middle;\n",
              "    }\n",
              "\n",
              "    .dataframe tbody tr th {\n",
              "        vertical-align: top;\n",
              "    }\n",
              "\n",
              "    .dataframe thead th {\n",
              "        text-align: right;\n",
              "    }\n",
              "</style>\n",
              "<table border=\"1\" class=\"dataframe\">\n",
              "  <thead>\n",
              "    <tr style=\"text-align: right;\">\n",
              "      <th></th>\n",
              "      <th>tweet_id</th>\n",
              "      <th>user_id</th>\n",
              "      <th>user_name</th>\n",
              "      <th>original_tweet</th>\n",
              "      <th>year</th>\n",
              "      <th>month</th>\n",
              "      <th>day</th>\n",
              "      <th>time</th>\n",
              "      <th>source</th>\n",
              "      <th>cleaned_tweet</th>\n",
              "    </tr>\n",
              "  </thead>\n",
              "  <tbody>\n",
              "    <tr>\n",
              "      <th>0</th>\n",
              "      <td>1.360000e+18</td>\n",
              "      <td>3.134341e+09</td>\n",
              "      <td>Nobody</td>\n",
              "      <td>You can’t stop us, you fucks #dogecoin https:/...</td>\n",
              "      <td>2021</td>\n",
              "      <td>1</td>\n",
              "      <td>31</td>\n",
              "      <td>22:50:54</td>\n",
              "      <td>Twitter for iPhone</td>\n",
              "      <td>you can’t stop us, you fucks #dogecoin</td>\n",
              "    </tr>\n",
              "    <tr>\n",
              "      <th>1</th>\n",
              "      <td>1.360000e+18</td>\n",
              "      <td>1.320000e+18</td>\n",
              "      <td>Nobody</td>\n",
              "      <td>https://t.co/EGyJXssO6l\\n\\nLet's share it to t...</td>\n",
              "      <td>2021</td>\n",
              "      <td>1</td>\n",
              "      <td>31</td>\n",
              "      <td>23:28:43</td>\n",
              "      <td>Twitter for Android</td>\n",
              "      <td>let's share it to the entire social network to...</td>\n",
              "    </tr>\n",
              "    <tr>\n",
              "      <th>2</th>\n",
              "      <td>1.360000e+18</td>\n",
              "      <td>1.849860e+09</td>\n",
              "      <td>Nobody</td>\n",
              "      <td>If you really hated socialism, you’d let every...</td>\n",
              "      <td>2021</td>\n",
              "      <td>1</td>\n",
              "      <td>31</td>\n",
              "      <td>23:28:42</td>\n",
              "      <td>Twitter for iPhone</td>\n",
              "      <td>if you really hated socialism, you’d let every...</td>\n",
              "    </tr>\n",
              "    <tr>\n",
              "      <th>3</th>\n",
              "      <td>1.360000e+18</td>\n",
              "      <td>1.360000e+18</td>\n",
              "      <td>Nobody</td>\n",
              "      <td>Like and retweet, if you believe #Dogecoin #in...</td>\n",
              "      <td>2021</td>\n",
              "      <td>1</td>\n",
              "      <td>31</td>\n",
              "      <td>23:28:35</td>\n",
              "      <td>Twitter for iPhone</td>\n",
              "      <td>like and retweet, if you believe #dogecoin #in...</td>\n",
              "    </tr>\n",
              "    <tr>\n",
              "      <th>4</th>\n",
              "      <td>1.360000e+18</td>\n",
              "      <td>1.290000e+18</td>\n",
              "      <td>Nobody</td>\n",
              "      <td>#dogecoin is sounding more and more like essen...</td>\n",
              "      <td>2021</td>\n",
              "      <td>1</td>\n",
              "      <td>31</td>\n",
              "      <td>23:28:34</td>\n",
              "      <td>Twitter for Android</td>\n",
              "      <td>#dogecoin is sounding more and more like essen...</td>\n",
              "    </tr>\n",
              "  </tbody>\n",
              "</table>\n",
              "</div>\n",
              "      <button class=\"colab-df-convert\" onclick=\"convertToInteractive('df-8b002717-6e04-40e9-9f97-5e991f22d8a9')\"\n",
              "              title=\"Convert this dataframe to an interactive table.\"\n",
              "              style=\"display:none;\">\n",
              "        \n",
              "  <svg xmlns=\"http://www.w3.org/2000/svg\" height=\"24px\"viewBox=\"0 0 24 24\"\n",
              "       width=\"24px\">\n",
              "    <path d=\"M0 0h24v24H0V0z\" fill=\"none\"/>\n",
              "    <path d=\"M18.56 5.44l.94 2.06.94-2.06 2.06-.94-2.06-.94-.94-2.06-.94 2.06-2.06.94zm-11 1L8.5 8.5l.94-2.06 2.06-.94-2.06-.94L8.5 2.5l-.94 2.06-2.06.94zm10 10l.94 2.06.94-2.06 2.06-.94-2.06-.94-.94-2.06-.94 2.06-2.06.94z\"/><path d=\"M17.41 7.96l-1.37-1.37c-.4-.4-.92-.59-1.43-.59-.52 0-1.04.2-1.43.59L10.3 9.45l-7.72 7.72c-.78.78-.78 2.05 0 2.83L4 21.41c.39.39.9.59 1.41.59.51 0 1.02-.2 1.41-.59l7.78-7.78 2.81-2.81c.8-.78.8-2.07 0-2.86zM5.41 20L4 18.59l7.72-7.72 1.47 1.35L5.41 20z\"/>\n",
              "  </svg>\n",
              "      </button>\n",
              "      \n",
              "  <style>\n",
              "    .colab-df-container {\n",
              "      display:flex;\n",
              "      flex-wrap:wrap;\n",
              "      gap: 12px;\n",
              "    }\n",
              "\n",
              "    .colab-df-convert {\n",
              "      background-color: #E8F0FE;\n",
              "      border: none;\n",
              "      border-radius: 50%;\n",
              "      cursor: pointer;\n",
              "      display: none;\n",
              "      fill: #1967D2;\n",
              "      height: 32px;\n",
              "      padding: 0 0 0 0;\n",
              "      width: 32px;\n",
              "    }\n",
              "\n",
              "    .colab-df-convert:hover {\n",
              "      background-color: #E2EBFA;\n",
              "      box-shadow: 0px 1px 2px rgba(60, 64, 67, 0.3), 0px 1px 3px 1px rgba(60, 64, 67, 0.15);\n",
              "      fill: #174EA6;\n",
              "    }\n",
              "\n",
              "    [theme=dark] .colab-df-convert {\n",
              "      background-color: #3B4455;\n",
              "      fill: #D2E3FC;\n",
              "    }\n",
              "\n",
              "    [theme=dark] .colab-df-convert:hover {\n",
              "      background-color: #434B5C;\n",
              "      box-shadow: 0px 1px 3px 1px rgba(0, 0, 0, 0.15);\n",
              "      filter: drop-shadow(0px 1px 2px rgba(0, 0, 0, 0.3));\n",
              "      fill: #FFFFFF;\n",
              "    }\n",
              "  </style>\n",
              "\n",
              "      <script>\n",
              "        const buttonEl =\n",
              "          document.querySelector('#df-8b002717-6e04-40e9-9f97-5e991f22d8a9 button.colab-df-convert');\n",
              "        buttonEl.style.display =\n",
              "          google.colab.kernel.accessAllowed ? 'block' : 'none';\n",
              "\n",
              "        async function convertToInteractive(key) {\n",
              "          const element = document.querySelector('#df-8b002717-6e04-40e9-9f97-5e991f22d8a9');\n",
              "          const dataTable =\n",
              "            await google.colab.kernel.invokeFunction('convertToInteractive',\n",
              "                                                     [key], {});\n",
              "          if (!dataTable) return;\n",
              "\n",
              "          const docLinkHtml = 'Like what you see? Visit the ' +\n",
              "            '<a target=\"_blank\" href=https://colab.research.google.com/notebooks/data_table.ipynb>data table notebook</a>'\n",
              "            + ' to learn more about interactive tables.';\n",
              "          element.innerHTML = '';\n",
              "          dataTable['output_type'] = 'display_data';\n",
              "          await google.colab.output.renderOutput(dataTable, element);\n",
              "          const docLink = document.createElement('div');\n",
              "          docLink.innerHTML = docLinkHtml;\n",
              "          element.appendChild(docLink);\n",
              "        }\n",
              "      </script>\n",
              "    </div>\n",
              "  </div>\n",
              "  "
            ]
          },
          "metadata": {},
          "execution_count": 213
        }
      ]
    },
    {
      "cell_type": "code",
      "source": [
        "try:\n",
        "  n_df_1 = do_preprocoessing(df_1)\n",
        "except:\n",
        "  print(traceback.print_exc())"
      ],
      "metadata": {
        "id": "5Y-Aft7NMTHs"
      },
      "execution_count": null,
      "outputs": []
    },
    {
      "cell_type": "code",
      "source": [
        "n_df_1.count()"
      ],
      "metadata": {
        "colab": {
          "base_uri": "https://localhost:8080/"
        },
        "id": "kKlrskxsZwk1",
        "outputId": "c1ae0071-dadb-40cb-9dc1-85ae0d511dc9"
      },
      "execution_count": null,
      "outputs": [
        {
          "output_type": "execute_result",
          "data": {
            "text/plain": [
              "tweet_id              73390\n",
              "user_id               73390\n",
              "user_name             73390\n",
              "original_tweet        73390\n",
              "year                  73390\n",
              "month                 73390\n",
              "day                   73390\n",
              "time                  73390\n",
              "source                73390\n",
              "cleaned_tweet         73390\n",
              "preprocessed_tweet    73390\n",
              "encoded_tweet         73390\n",
              "dtype: int64"
            ]
          },
          "metadata": {},
          "execution_count": 215
        }
      ]
    },
    {
      "cell_type": "markdown",
      "source": [
        "### Predict sentiment on overall dataset using ExtremeGradientBoosting"
      ],
      "metadata": {
        "id": "QIDJGMPLO1qn"
      }
    },
    {
      "cell_type": "code",
      "source": [
        "full_encoded_tweet = np.array(list(n_df_1.encoded_tweet))"
      ],
      "metadata": {
        "id": "1ycogWFOasLt"
      },
      "execution_count": null,
      "outputs": []
    },
    {
      "cell_type": "code",
      "source": [
        "full_encoded_tweet.shape"
      ],
      "metadata": {
        "colab": {
          "base_uri": "https://localhost:8080/"
        },
        "id": "JzavbogOVYtL",
        "outputId": "59dfec01-9c01-438a-ad5c-e27112b3347b"
      },
      "execution_count": null,
      "outputs": [
        {
          "output_type": "execute_result",
          "data": {
            "text/plain": [
              "(73390, 3500)"
            ]
          },
          "metadata": {},
          "execution_count": 217
        }
      ]
    },
    {
      "cell_type": "code",
      "source": [
        "model = joblib.load(\"SVC_model.pkl\")"
      ],
      "metadata": {
        "id": "5qXiE3RfeuK-"
      },
      "execution_count": null,
      "outputs": []
    },
    {
      "cell_type": "code",
      "source": [
        "pred = model.predict(full_encoded_tweet)\n",
        "df_1[\"predicted_labels\"] = pred"
      ],
      "metadata": {
        "id": "4UkrGW8EPoim"
      },
      "execution_count": null,
      "outputs": []
    },
    {
      "cell_type": "code",
      "source": [
        "df_1.head()"
      ],
      "metadata": {
        "colab": {
          "base_uri": "https://localhost:8080/",
          "height": 206
        },
        "id": "zflkfdpjfM9D",
        "outputId": "738c699a-25a5-422a-f15a-4a4efaafaba8"
      },
      "execution_count": null,
      "outputs": [
        {
          "output_type": "execute_result",
          "data": {
            "text/plain": [
              "       tweet_id       user_id user_name  \\\n",
              "0  1.360000e+18  3.134341e+09    Nobody   \n",
              "1  1.360000e+18  1.320000e+18    Nobody   \n",
              "2  1.360000e+18  1.849860e+09    Nobody   \n",
              "3  1.360000e+18  1.360000e+18    Nobody   \n",
              "4  1.360000e+18  1.290000e+18    Nobody   \n",
              "\n",
              "                                      original_tweet  year  month  day  \\\n",
              "0  You can’t stop us, you fucks #dogecoin https:/...  2021      1   31   \n",
              "1  https://t.co/EGyJXssO6l\\n\\nLet's share it to t...  2021      1   31   \n",
              "2  If you really hated socialism, you’d let every...  2021      1   31   \n",
              "3  Like and retweet, if you believe #Dogecoin #in...  2021      1   31   \n",
              "4  #dogecoin is sounding more and more like essen...  2021      1   31   \n",
              "\n",
              "       time               source  \\\n",
              "0  22:50:54   Twitter for iPhone   \n",
              "1  23:28:43  Twitter for Android   \n",
              "2  23:28:42   Twitter for iPhone   \n",
              "3  23:28:35   Twitter for iPhone   \n",
              "4  23:28:34  Twitter for Android   \n",
              "\n",
              "                                       cleaned_tweet predicted_labels  \n",
              "0             you can’t stop us, you fucks #dogecoin                0  \n",
              "1  let's share it to the entire social network to...                0  \n",
              "2  if you really hated socialism, you’d let every...                2  \n",
              "3  like and retweet, if you believe #dogecoin #in...                2  \n",
              "4  #dogecoin is sounding more and more like essen...                0  "
            ],
            "text/html": [
              "\n",
              "  <div id=\"df-48adc40b-752d-4f94-89b5-77c83ebc0eda\">\n",
              "    <div class=\"colab-df-container\">\n",
              "      <div>\n",
              "<style scoped>\n",
              "    .dataframe tbody tr th:only-of-type {\n",
              "        vertical-align: middle;\n",
              "    }\n",
              "\n",
              "    .dataframe tbody tr th {\n",
              "        vertical-align: top;\n",
              "    }\n",
              "\n",
              "    .dataframe thead th {\n",
              "        text-align: right;\n",
              "    }\n",
              "</style>\n",
              "<table border=\"1\" class=\"dataframe\">\n",
              "  <thead>\n",
              "    <tr style=\"text-align: right;\">\n",
              "      <th></th>\n",
              "      <th>tweet_id</th>\n",
              "      <th>user_id</th>\n",
              "      <th>user_name</th>\n",
              "      <th>original_tweet</th>\n",
              "      <th>year</th>\n",
              "      <th>month</th>\n",
              "      <th>day</th>\n",
              "      <th>time</th>\n",
              "      <th>source</th>\n",
              "      <th>cleaned_tweet</th>\n",
              "      <th>predicted_labels</th>\n",
              "    </tr>\n",
              "  </thead>\n",
              "  <tbody>\n",
              "    <tr>\n",
              "      <th>0</th>\n",
              "      <td>1.360000e+18</td>\n",
              "      <td>3.134341e+09</td>\n",
              "      <td>Nobody</td>\n",
              "      <td>You can’t stop us, you fucks #dogecoin https:/...</td>\n",
              "      <td>2021</td>\n",
              "      <td>1</td>\n",
              "      <td>31</td>\n",
              "      <td>22:50:54</td>\n",
              "      <td>Twitter for iPhone</td>\n",
              "      <td>you can’t stop us, you fucks #dogecoin</td>\n",
              "      <td>0</td>\n",
              "    </tr>\n",
              "    <tr>\n",
              "      <th>1</th>\n",
              "      <td>1.360000e+18</td>\n",
              "      <td>1.320000e+18</td>\n",
              "      <td>Nobody</td>\n",
              "      <td>https://t.co/EGyJXssO6l\\n\\nLet's share it to t...</td>\n",
              "      <td>2021</td>\n",
              "      <td>1</td>\n",
              "      <td>31</td>\n",
              "      <td>23:28:43</td>\n",
              "      <td>Twitter for Android</td>\n",
              "      <td>let's share it to the entire social network to...</td>\n",
              "      <td>0</td>\n",
              "    </tr>\n",
              "    <tr>\n",
              "      <th>2</th>\n",
              "      <td>1.360000e+18</td>\n",
              "      <td>1.849860e+09</td>\n",
              "      <td>Nobody</td>\n",
              "      <td>If you really hated socialism, you’d let every...</td>\n",
              "      <td>2021</td>\n",
              "      <td>1</td>\n",
              "      <td>31</td>\n",
              "      <td>23:28:42</td>\n",
              "      <td>Twitter for iPhone</td>\n",
              "      <td>if you really hated socialism, you’d let every...</td>\n",
              "      <td>2</td>\n",
              "    </tr>\n",
              "    <tr>\n",
              "      <th>3</th>\n",
              "      <td>1.360000e+18</td>\n",
              "      <td>1.360000e+18</td>\n",
              "      <td>Nobody</td>\n",
              "      <td>Like and retweet, if you believe #Dogecoin #in...</td>\n",
              "      <td>2021</td>\n",
              "      <td>1</td>\n",
              "      <td>31</td>\n",
              "      <td>23:28:35</td>\n",
              "      <td>Twitter for iPhone</td>\n",
              "      <td>like and retweet, if you believe #dogecoin #in...</td>\n",
              "      <td>2</td>\n",
              "    </tr>\n",
              "    <tr>\n",
              "      <th>4</th>\n",
              "      <td>1.360000e+18</td>\n",
              "      <td>1.290000e+18</td>\n",
              "      <td>Nobody</td>\n",
              "      <td>#dogecoin is sounding more and more like essen...</td>\n",
              "      <td>2021</td>\n",
              "      <td>1</td>\n",
              "      <td>31</td>\n",
              "      <td>23:28:34</td>\n",
              "      <td>Twitter for Android</td>\n",
              "      <td>#dogecoin is sounding more and more like essen...</td>\n",
              "      <td>0</td>\n",
              "    </tr>\n",
              "  </tbody>\n",
              "</table>\n",
              "</div>\n",
              "      <button class=\"colab-df-convert\" onclick=\"convertToInteractive('df-48adc40b-752d-4f94-89b5-77c83ebc0eda')\"\n",
              "              title=\"Convert this dataframe to an interactive table.\"\n",
              "              style=\"display:none;\">\n",
              "        \n",
              "  <svg xmlns=\"http://www.w3.org/2000/svg\" height=\"24px\"viewBox=\"0 0 24 24\"\n",
              "       width=\"24px\">\n",
              "    <path d=\"M0 0h24v24H0V0z\" fill=\"none\"/>\n",
              "    <path d=\"M18.56 5.44l.94 2.06.94-2.06 2.06-.94-2.06-.94-.94-2.06-.94 2.06-2.06.94zm-11 1L8.5 8.5l.94-2.06 2.06-.94-2.06-.94L8.5 2.5l-.94 2.06-2.06.94zm10 10l.94 2.06.94-2.06 2.06-.94-2.06-.94-.94-2.06-.94 2.06-2.06.94z\"/><path d=\"M17.41 7.96l-1.37-1.37c-.4-.4-.92-.59-1.43-.59-.52 0-1.04.2-1.43.59L10.3 9.45l-7.72 7.72c-.78.78-.78 2.05 0 2.83L4 21.41c.39.39.9.59 1.41.59.51 0 1.02-.2 1.41-.59l7.78-7.78 2.81-2.81c.8-.78.8-2.07 0-2.86zM5.41 20L4 18.59l7.72-7.72 1.47 1.35L5.41 20z\"/>\n",
              "  </svg>\n",
              "      </button>\n",
              "      \n",
              "  <style>\n",
              "    .colab-df-container {\n",
              "      display:flex;\n",
              "      flex-wrap:wrap;\n",
              "      gap: 12px;\n",
              "    }\n",
              "\n",
              "    .colab-df-convert {\n",
              "      background-color: #E8F0FE;\n",
              "      border: none;\n",
              "      border-radius: 50%;\n",
              "      cursor: pointer;\n",
              "      display: none;\n",
              "      fill: #1967D2;\n",
              "      height: 32px;\n",
              "      padding: 0 0 0 0;\n",
              "      width: 32px;\n",
              "    }\n",
              "\n",
              "    .colab-df-convert:hover {\n",
              "      background-color: #E2EBFA;\n",
              "      box-shadow: 0px 1px 2px rgba(60, 64, 67, 0.3), 0px 1px 3px 1px rgba(60, 64, 67, 0.15);\n",
              "      fill: #174EA6;\n",
              "    }\n",
              "\n",
              "    [theme=dark] .colab-df-convert {\n",
              "      background-color: #3B4455;\n",
              "      fill: #D2E3FC;\n",
              "    }\n",
              "\n",
              "    [theme=dark] .colab-df-convert:hover {\n",
              "      background-color: #434B5C;\n",
              "      box-shadow: 0px 1px 3px 1px rgba(0, 0, 0, 0.15);\n",
              "      filter: drop-shadow(0px 1px 2px rgba(0, 0, 0, 0.3));\n",
              "      fill: #FFFFFF;\n",
              "    }\n",
              "  </style>\n",
              "\n",
              "      <script>\n",
              "        const buttonEl =\n",
              "          document.querySelector('#df-48adc40b-752d-4f94-89b5-77c83ebc0eda button.colab-df-convert');\n",
              "        buttonEl.style.display =\n",
              "          google.colab.kernel.accessAllowed ? 'block' : 'none';\n",
              "\n",
              "        async function convertToInteractive(key) {\n",
              "          const element = document.querySelector('#df-48adc40b-752d-4f94-89b5-77c83ebc0eda');\n",
              "          const dataTable =\n",
              "            await google.colab.kernel.invokeFunction('convertToInteractive',\n",
              "                                                     [key], {});\n",
              "          if (!dataTable) return;\n",
              "\n",
              "          const docLinkHtml = 'Like what you see? Visit the ' +\n",
              "            '<a target=\"_blank\" href=https://colab.research.google.com/notebooks/data_table.ipynb>data table notebook</a>'\n",
              "            + ' to learn more about interactive tables.';\n",
              "          element.innerHTML = '';\n",
              "          dataTable['output_type'] = 'display_data';\n",
              "          await google.colab.output.renderOutput(dataTable, element);\n",
              "          const docLink = document.createElement('div');\n",
              "          docLink.innerHTML = docLinkHtml;\n",
              "          element.appendChild(docLink);\n",
              "        }\n",
              "      </script>\n",
              "    </div>\n",
              "  </div>\n",
              "  "
            ]
          },
          "metadata": {},
          "execution_count": 268
        }
      ]
    },
    {
      "cell_type": "code",
      "source": [
        "# drop unnamed columns \n",
        "# df_1 = df_1.drop(['preprocessed_tweet', 'encoded_tweet'], axis=1)\n"
      ],
      "metadata": {
        "id": "x8pKeBSnfnlL"
      },
      "execution_count": null,
      "outputs": []
    },
    {
      "cell_type": "code",
      "source": [
        "df_1.head(10)"
      ],
      "metadata": {
        "colab": {
          "base_uri": "https://localhost:8080/",
          "height": 363
        },
        "id": "_WjoLMUTgVgb",
        "outputId": "423a9459-f062-4345-a2ab-51728e1c102d"
      },
      "execution_count": null,
      "outputs": [
        {
          "output_type": "execute_result",
          "data": {
            "text/plain": [
              "       tweet_id       user_id user_name  \\\n",
              "0  1.360000e+18  3.134341e+09    Nobody   \n",
              "1  1.360000e+18  1.320000e+18    Nobody   \n",
              "2  1.360000e+18  1.849860e+09    Nobody   \n",
              "3  1.360000e+18  1.360000e+18    Nobody   \n",
              "4  1.360000e+18  1.290000e+18    Nobody   \n",
              "5  1.360000e+18  2.966939e+09    Nobody   \n",
              "6  1.360000e+18  1.360000e+18    Nobody   \n",
              "7  1.360000e+18  1.350000e+18    Nobody   \n",
              "8  1.360000e+18  5.472402e+07    Nobody   \n",
              "9  1.360000e+18  2.301640e+09    Nobody   \n",
              "\n",
              "                                      original_tweet  year  month  day  \\\n",
              "0  You can’t stop us, you fucks #dogecoin https:/...  2021      1   31   \n",
              "1  https://t.co/EGyJXssO6l\\n\\nLet's share it to t...  2021      1   31   \n",
              "2  If you really hated socialism, you’d let every...  2021      1   31   \n",
              "3  Like and retweet, if you believe #Dogecoin #in...  2021      1   31   \n",
              "4  #dogecoin is sounding more and more like essen...  2021      1   31   \n",
              "5  #dogecoin wasn’t meant to be a pump and dump. ...  2021      1   31   \n",
              "6  to spread the past week and xrp link https t h...  2021      1   31   \n",
              "7  If every owner that owns a dog would put 10$ i...  2021      1   31   \n",
              "8  Thank you all so much. We are really doing it ...  2021      1   31   \n",
              "9  @risepage @tyler Sounds like a good time to ow...  2021      1   31   \n",
              "\n",
              "       time               source  \\\n",
              "0  22:50:54   Twitter for iPhone   \n",
              "1  23:28:43  Twitter for Android   \n",
              "2  23:28:42   Twitter for iPhone   \n",
              "3  23:28:35   Twitter for iPhone   \n",
              "4  23:28:34  Twitter for Android   \n",
              "5  23:28:33   Twitter for iPhone   \n",
              "6  23:28:31            Error-log   \n",
              "7  23:28:27   Twitter for iPhone   \n",
              "8  23:28:19   Twitter for iPhone   \n",
              "9  23:28:18   Twitter for iPhone   \n",
              "\n",
              "                                       cleaned_tweet predicted_labels  \n",
              "0             you can’t stop us, you fucks #dogecoin                0  \n",
              "1  let's share it to the entire social network to...                0  \n",
              "2  if you really hated socialism, you’d let every...                2  \n",
              "3  like and retweet, if you believe #dogecoin #in...                2  \n",
              "4  #dogecoin is sounding more and more like essen...                0  \n",
              "5  #dogecoin wasn’t meant to be a pump and dump. ...                2  \n",
              "6  to spread the past week and xrp link https t h...                0  \n",
              "7  if every owner that owns a dog would put 10$ i...                0  \n",
              "8  thank you all so much. we are really doing it ...                0  \n",
              "9  sounds like a good time to own some #dogecoin ...                2  "
            ],
            "text/html": [
              "\n",
              "  <div id=\"df-a6b8552f-5e3c-4d5f-9b27-102ca205cd5d\">\n",
              "    <div class=\"colab-df-container\">\n",
              "      <div>\n",
              "<style scoped>\n",
              "    .dataframe tbody tr th:only-of-type {\n",
              "        vertical-align: middle;\n",
              "    }\n",
              "\n",
              "    .dataframe tbody tr th {\n",
              "        vertical-align: top;\n",
              "    }\n",
              "\n",
              "    .dataframe thead th {\n",
              "        text-align: right;\n",
              "    }\n",
              "</style>\n",
              "<table border=\"1\" class=\"dataframe\">\n",
              "  <thead>\n",
              "    <tr style=\"text-align: right;\">\n",
              "      <th></th>\n",
              "      <th>tweet_id</th>\n",
              "      <th>user_id</th>\n",
              "      <th>user_name</th>\n",
              "      <th>original_tweet</th>\n",
              "      <th>year</th>\n",
              "      <th>month</th>\n",
              "      <th>day</th>\n",
              "      <th>time</th>\n",
              "      <th>source</th>\n",
              "      <th>cleaned_tweet</th>\n",
              "      <th>predicted_labels</th>\n",
              "    </tr>\n",
              "  </thead>\n",
              "  <tbody>\n",
              "    <tr>\n",
              "      <th>0</th>\n",
              "      <td>1.360000e+18</td>\n",
              "      <td>3.134341e+09</td>\n",
              "      <td>Nobody</td>\n",
              "      <td>You can’t stop us, you fucks #dogecoin https:/...</td>\n",
              "      <td>2021</td>\n",
              "      <td>1</td>\n",
              "      <td>31</td>\n",
              "      <td>22:50:54</td>\n",
              "      <td>Twitter for iPhone</td>\n",
              "      <td>you can’t stop us, you fucks #dogecoin</td>\n",
              "      <td>0</td>\n",
              "    </tr>\n",
              "    <tr>\n",
              "      <th>1</th>\n",
              "      <td>1.360000e+18</td>\n",
              "      <td>1.320000e+18</td>\n",
              "      <td>Nobody</td>\n",
              "      <td>https://t.co/EGyJXssO6l\\n\\nLet's share it to t...</td>\n",
              "      <td>2021</td>\n",
              "      <td>1</td>\n",
              "      <td>31</td>\n",
              "      <td>23:28:43</td>\n",
              "      <td>Twitter for Android</td>\n",
              "      <td>let's share it to the entire social network to...</td>\n",
              "      <td>0</td>\n",
              "    </tr>\n",
              "    <tr>\n",
              "      <th>2</th>\n",
              "      <td>1.360000e+18</td>\n",
              "      <td>1.849860e+09</td>\n",
              "      <td>Nobody</td>\n",
              "      <td>If you really hated socialism, you’d let every...</td>\n",
              "      <td>2021</td>\n",
              "      <td>1</td>\n",
              "      <td>31</td>\n",
              "      <td>23:28:42</td>\n",
              "      <td>Twitter for iPhone</td>\n",
              "      <td>if you really hated socialism, you’d let every...</td>\n",
              "      <td>2</td>\n",
              "    </tr>\n",
              "    <tr>\n",
              "      <th>3</th>\n",
              "      <td>1.360000e+18</td>\n",
              "      <td>1.360000e+18</td>\n",
              "      <td>Nobody</td>\n",
              "      <td>Like and retweet, if you believe #Dogecoin #in...</td>\n",
              "      <td>2021</td>\n",
              "      <td>1</td>\n",
              "      <td>31</td>\n",
              "      <td>23:28:35</td>\n",
              "      <td>Twitter for iPhone</td>\n",
              "      <td>like and retweet, if you believe #dogecoin #in...</td>\n",
              "      <td>2</td>\n",
              "    </tr>\n",
              "    <tr>\n",
              "      <th>4</th>\n",
              "      <td>1.360000e+18</td>\n",
              "      <td>1.290000e+18</td>\n",
              "      <td>Nobody</td>\n",
              "      <td>#dogecoin is sounding more and more like essen...</td>\n",
              "      <td>2021</td>\n",
              "      <td>1</td>\n",
              "      <td>31</td>\n",
              "      <td>23:28:34</td>\n",
              "      <td>Twitter for Android</td>\n",
              "      <td>#dogecoin is sounding more and more like essen...</td>\n",
              "      <td>0</td>\n",
              "    </tr>\n",
              "    <tr>\n",
              "      <th>5</th>\n",
              "      <td>1.360000e+18</td>\n",
              "      <td>2.966939e+09</td>\n",
              "      <td>Nobody</td>\n",
              "      <td>#dogecoin wasn’t meant to be a pump and dump. ...</td>\n",
              "      <td>2021</td>\n",
              "      <td>1</td>\n",
              "      <td>31</td>\n",
              "      <td>23:28:33</td>\n",
              "      <td>Twitter for iPhone</td>\n",
              "      <td>#dogecoin wasn’t meant to be a pump and dump. ...</td>\n",
              "      <td>2</td>\n",
              "    </tr>\n",
              "    <tr>\n",
              "      <th>6</th>\n",
              "      <td>1.360000e+18</td>\n",
              "      <td>1.360000e+18</td>\n",
              "      <td>Nobody</td>\n",
              "      <td>to spread the past week and xrp link https t h...</td>\n",
              "      <td>2021</td>\n",
              "      <td>1</td>\n",
              "      <td>31</td>\n",
              "      <td>23:28:31</td>\n",
              "      <td>Error-log</td>\n",
              "      <td>to spread the past week and xrp link https t h...</td>\n",
              "      <td>0</td>\n",
              "    </tr>\n",
              "    <tr>\n",
              "      <th>7</th>\n",
              "      <td>1.360000e+18</td>\n",
              "      <td>1.350000e+18</td>\n",
              "      <td>Nobody</td>\n",
              "      <td>If every owner that owns a dog would put 10$ i...</td>\n",
              "      <td>2021</td>\n",
              "      <td>1</td>\n",
              "      <td>31</td>\n",
              "      <td>23:28:27</td>\n",
              "      <td>Twitter for iPhone</td>\n",
              "      <td>if every owner that owns a dog would put 10$ i...</td>\n",
              "      <td>0</td>\n",
              "    </tr>\n",
              "    <tr>\n",
              "      <th>8</th>\n",
              "      <td>1.360000e+18</td>\n",
              "      <td>5.472402e+07</td>\n",
              "      <td>Nobody</td>\n",
              "      <td>Thank you all so much. We are really doing it ...</td>\n",
              "      <td>2021</td>\n",
              "      <td>1</td>\n",
              "      <td>31</td>\n",
              "      <td>23:28:19</td>\n",
              "      <td>Twitter for iPhone</td>\n",
              "      <td>thank you all so much. we are really doing it ...</td>\n",
              "      <td>0</td>\n",
              "    </tr>\n",
              "    <tr>\n",
              "      <th>9</th>\n",
              "      <td>1.360000e+18</td>\n",
              "      <td>2.301640e+09</td>\n",
              "      <td>Nobody</td>\n",
              "      <td>@risepage @tyler Sounds like a good time to ow...</td>\n",
              "      <td>2021</td>\n",
              "      <td>1</td>\n",
              "      <td>31</td>\n",
              "      <td>23:28:18</td>\n",
              "      <td>Twitter for iPhone</td>\n",
              "      <td>sounds like a good time to own some #dogecoin ...</td>\n",
              "      <td>2</td>\n",
              "    </tr>\n",
              "  </tbody>\n",
              "</table>\n",
              "</div>\n",
              "      <button class=\"colab-df-convert\" onclick=\"convertToInteractive('df-a6b8552f-5e3c-4d5f-9b27-102ca205cd5d')\"\n",
              "              title=\"Convert this dataframe to an interactive table.\"\n",
              "              style=\"display:none;\">\n",
              "        \n",
              "  <svg xmlns=\"http://www.w3.org/2000/svg\" height=\"24px\"viewBox=\"0 0 24 24\"\n",
              "       width=\"24px\">\n",
              "    <path d=\"M0 0h24v24H0V0z\" fill=\"none\"/>\n",
              "    <path d=\"M18.56 5.44l.94 2.06.94-2.06 2.06-.94-2.06-.94-.94-2.06-.94 2.06-2.06.94zm-11 1L8.5 8.5l.94-2.06 2.06-.94-2.06-.94L8.5 2.5l-.94 2.06-2.06.94zm10 10l.94 2.06.94-2.06 2.06-.94-2.06-.94-.94-2.06-.94 2.06-2.06.94z\"/><path d=\"M17.41 7.96l-1.37-1.37c-.4-.4-.92-.59-1.43-.59-.52 0-1.04.2-1.43.59L10.3 9.45l-7.72 7.72c-.78.78-.78 2.05 0 2.83L4 21.41c.39.39.9.59 1.41.59.51 0 1.02-.2 1.41-.59l7.78-7.78 2.81-2.81c.8-.78.8-2.07 0-2.86zM5.41 20L4 18.59l7.72-7.72 1.47 1.35L5.41 20z\"/>\n",
              "  </svg>\n",
              "      </button>\n",
              "      \n",
              "  <style>\n",
              "    .colab-df-container {\n",
              "      display:flex;\n",
              "      flex-wrap:wrap;\n",
              "      gap: 12px;\n",
              "    }\n",
              "\n",
              "    .colab-df-convert {\n",
              "      background-color: #E8F0FE;\n",
              "      border: none;\n",
              "      border-radius: 50%;\n",
              "      cursor: pointer;\n",
              "      display: none;\n",
              "      fill: #1967D2;\n",
              "      height: 32px;\n",
              "      padding: 0 0 0 0;\n",
              "      width: 32px;\n",
              "    }\n",
              "\n",
              "    .colab-df-convert:hover {\n",
              "      background-color: #E2EBFA;\n",
              "      box-shadow: 0px 1px 2px rgba(60, 64, 67, 0.3), 0px 1px 3px 1px rgba(60, 64, 67, 0.15);\n",
              "      fill: #174EA6;\n",
              "    }\n",
              "\n",
              "    [theme=dark] .colab-df-convert {\n",
              "      background-color: #3B4455;\n",
              "      fill: #D2E3FC;\n",
              "    }\n",
              "\n",
              "    [theme=dark] .colab-df-convert:hover {\n",
              "      background-color: #434B5C;\n",
              "      box-shadow: 0px 1px 3px 1px rgba(0, 0, 0, 0.15);\n",
              "      filter: drop-shadow(0px 1px 2px rgba(0, 0, 0, 0.3));\n",
              "      fill: #FFFFFF;\n",
              "    }\n",
              "  </style>\n",
              "\n",
              "      <script>\n",
              "        const buttonEl =\n",
              "          document.querySelector('#df-a6b8552f-5e3c-4d5f-9b27-102ca205cd5d button.colab-df-convert');\n",
              "        buttonEl.style.display =\n",
              "          google.colab.kernel.accessAllowed ? 'block' : 'none';\n",
              "\n",
              "        async function convertToInteractive(key) {\n",
              "          const element = document.querySelector('#df-a6b8552f-5e3c-4d5f-9b27-102ca205cd5d');\n",
              "          const dataTable =\n",
              "            await google.colab.kernel.invokeFunction('convertToInteractive',\n",
              "                                                     [key], {});\n",
              "          if (!dataTable) return;\n",
              "\n",
              "          const docLinkHtml = 'Like what you see? Visit the ' +\n",
              "            '<a target=\"_blank\" href=https://colab.research.google.com/notebooks/data_table.ipynb>data table notebook</a>'\n",
              "            + ' to learn more about interactive tables.';\n",
              "          element.innerHTML = '';\n",
              "          dataTable['output_type'] = 'display_data';\n",
              "          await google.colab.output.renderOutput(dataTable, element);\n",
              "          const docLink = document.createElement('div');\n",
              "          docLink.innerHTML = docLinkHtml;\n",
              "          element.appendChild(docLink);\n",
              "        }\n",
              "      </script>\n",
              "    </div>\n",
              "  </div>\n",
              "  "
            ]
          },
          "metadata": {},
          "execution_count": 270
        }
      ]
    },
    {
      "cell_type": "code",
      "source": [
        "df_1.to_csv(\"doge_coin_dataset_2021_orig_pred_svg.csv\", index=False, encoding='utf-8-sig')"
      ],
      "metadata": {
        "id": "7hy-q0o5fz9e"
      },
      "execution_count": null,
      "outputs": []
    },
    {
      "cell_type": "code",
      "source": [
        "df_1[df_1.predicted_labels == '2'].count()"
      ],
      "metadata": {
        "colab": {
          "base_uri": "https://localhost:8080/"
        },
        "id": "fdhPxuQygYh5",
        "outputId": "b96e65af-d530-4aef-a70e-1554621a665d"
      },
      "execution_count": null,
      "outputs": [
        {
          "output_type": "execute_result",
          "data": {
            "text/plain": [
              "tweet_id            27630\n",
              "user_id             27630\n",
              "user_name           27630\n",
              "original_tweet      27630\n",
              "year                27630\n",
              "month               27630\n",
              "day                 27630\n",
              "time                27630\n",
              "source              27630\n",
              "cleaned_tweet       27630\n",
              "predicted_labels    27630\n",
              "dtype: int64"
            ]
          },
          "metadata": {},
          "execution_count": 345
        }
      ]
    },
    {
      "cell_type": "code",
      "source": [
        "df_1.count()"
      ],
      "metadata": {
        "colab": {
          "base_uri": "https://localhost:8080/"
        },
        "id": "OcGszTO37Ojy",
        "outputId": "eada1aef-a0a0-4366-ca8b-133b1f21ff37"
      },
      "execution_count": null,
      "outputs": [
        {
          "output_type": "execute_result",
          "data": {
            "text/plain": [
              "tweet_id            73390\n",
              "user_id             73390\n",
              "user_name           73390\n",
              "original_tweet      73390\n",
              "year                73390\n",
              "month               73390\n",
              "day                 73390\n",
              "time                73390\n",
              "source              73390\n",
              "cleaned_tweet       73390\n",
              "predicted_labels    73390\n",
              "dtype: int64"
            ]
          },
          "metadata": {},
          "execution_count": 279
        }
      ]
    },
    {
      "cell_type": "code",
      "source": [
        "df_new = df_1[df_1.predicted_labels !=  \"2\"]\n",
        "df_new.count()"
      ],
      "metadata": {
        "colab": {
          "base_uri": "https://localhost:8080/"
        },
        "id": "blUwWyVR65io",
        "outputId": "192dee75-242b-47a9-d98d-1bd6c013029c"
      },
      "execution_count": null,
      "outputs": [
        {
          "output_type": "execute_result",
          "data": {
            "text/plain": [
              "tweet_id            45760\n",
              "user_id             45760\n",
              "user_name           45760\n",
              "original_tweet      45760\n",
              "year                45760\n",
              "month               45760\n",
              "day                 45760\n",
              "time                45760\n",
              "source              45760\n",
              "cleaned_tweet       45760\n",
              "predicted_labels    45760\n",
              "dtype: int64"
            ]
          },
          "metadata": {},
          "execution_count": 278
        }
      ]
    },
    {
      "cell_type": "markdown",
      "source": [
        "### Sentiment Analysis using huggingface model\n"
      ],
      "metadata": {
        "id": "Wft4oLejotKd"
      }
    },
    {
      "cell_type": "code",
      "source": [
        "df[df.labels == \"1\"].count()"
      ],
      "metadata": {
        "colab": {
          "base_uri": "https://localhost:8080/"
        },
        "id": "KjBlB3bJmDLA",
        "outputId": "0379fdf5-94fb-450c-c6f6-b5a5e9752773"
      },
      "execution_count": null,
      "outputs": [
        {
          "output_type": "execute_result",
          "data": {
            "text/plain": [
              "tweet_id              622\n",
              "user_id               622\n",
              "user_name             622\n",
              "original_tweet        622\n",
              "year                  622\n",
              "month                 622\n",
              "day                   622\n",
              "time                  622\n",
              "source                622\n",
              "cleaned_tweet         622\n",
              "labels                622\n",
              "preprocessed_tweet    622\n",
              "encoded_tweet         622\n",
              "dtype: int64"
            ]
          },
          "metadata": {},
          "execution_count": 307
        }
      ]
    },
    {
      "cell_type": "code",
      "source": [
        "df[df.labels == \"0\"].count()"
      ],
      "metadata": {
        "colab": {
          "base_uri": "https://localhost:8080/"
        },
        "id": "n8FsbwNhvpeL",
        "outputId": "5686b752-559d-419c-dd6d-7d97593194a3"
      },
      "execution_count": null,
      "outputs": [
        {
          "output_type": "execute_result",
          "data": {
            "text/plain": [
              "tweet_id              570\n",
              "user_id               570\n",
              "user_name             570\n",
              "original_tweet        570\n",
              "year                  570\n",
              "month                 570\n",
              "day                   570\n",
              "time                  570\n",
              "source                570\n",
              "cleaned_tweet         570\n",
              "labels                570\n",
              "preprocessed_tweet    570\n",
              "encoded_tweet         570\n",
              "dtype: int64"
            ]
          },
          "metadata": {},
          "execution_count": 308
        }
      ]
    },
    {
      "cell_type": "code",
      "source": [
        "df[df.labels == \"-1\"].count()"
      ],
      "metadata": {
        "colab": {
          "base_uri": "https://localhost:8080/"
        },
        "id": "g3qgC_8jvuc0",
        "outputId": "a0b66dfc-d8d3-454f-f069-c00f80fcdccd"
      },
      "execution_count": null,
      "outputs": [
        {
          "output_type": "execute_result",
          "data": {
            "text/plain": [
              "tweet_id              220\n",
              "user_id               220\n",
              "user_name             220\n",
              "original_tweet        220\n",
              "year                  220\n",
              "month                 220\n",
              "day                   220\n",
              "time                  220\n",
              "source                220\n",
              "cleaned_tweet         220\n",
              "labels                220\n",
              "preprocessed_tweet    220\n",
              "encoded_tweet         220\n",
              "dtype: int64"
            ]
          },
          "metadata": {},
          "execution_count": 309
        }
      ]
    },
    {
      "cell_type": "code",
      "source": [
        "temp_df = df[df.labels != \"2\"]"
      ],
      "metadata": {
        "id": "R63BFLIMvw6n"
      },
      "execution_count": null,
      "outputs": []
    },
    {
      "cell_type": "code",
      "source": [
        "temp_df.count()"
      ],
      "metadata": {
        "colab": {
          "base_uri": "https://localhost:8080/"
        },
        "id": "sJHiNDFiv0NA",
        "outputId": "1994b186-1dcb-46c9-8742-1073ff147303"
      },
      "execution_count": null,
      "outputs": [
        {
          "output_type": "execute_result",
          "data": {
            "text/plain": [
              "tweet_id              1412\n",
              "user_id               1412\n",
              "user_name             1412\n",
              "original_tweet        1412\n",
              "year                  1412\n",
              "month                 1412\n",
              "day                   1412\n",
              "time                  1412\n",
              "source                1412\n",
              "cleaned_tweet         1412\n",
              "labels                1412\n",
              "preprocessed_tweet    1412\n",
              "encoded_tweet         1412\n",
              "dtype: int64"
            ]
          },
          "metadata": {},
          "execution_count": 311
        }
      ]
    },
    {
      "cell_type": "code",
      "source": [
        "true_labels = temp_df.labels.values.ravel()"
      ],
      "metadata": {
        "id": "y-trGkCajZfG"
      },
      "execution_count": null,
      "outputs": []
    },
    {
      "cell_type": "code",
      "source": [
        "true_labels"
      ],
      "metadata": {
        "colab": {
          "base_uri": "https://localhost:8080/"
        },
        "id": "ZFlmmAnvjjwY",
        "outputId": "63e03afe-a14d-4671-ed1b-7328bbf71379"
      },
      "execution_count": null,
      "outputs": [
        {
          "output_type": "execute_result",
          "data": {
            "text/plain": [
              "array(['1', '-1', '-1', ..., '-1', '-1', '-1'], dtype=object)"
            ]
          },
          "metadata": {},
          "execution_count": 326
        }
      ]
    },
    {
      "cell_type": "code",
      "source": [
        "infile_1 = \"/content/doge_coin_dataset_2021_orig_pred_svg.csv\"\n",
        "# infile = \"/content/drive/MyDrive/SMBA_2022/elonmusk_doge_tweets.gsheet\"\n",
        "\n",
        "# reading the dataset\n",
        "df_new = pd.read_csv(infile_1, encoding = \"utf-8\")\n",
        "    \n",
        "\n",
        "df_new.head()"
      ],
      "metadata": {
        "colab": {
          "base_uri": "https://localhost:8080/",
          "height": 206
        },
        "id": "BAUEVxWT-nyT",
        "outputId": "f0f8e004-689b-4c25-b735-f4d3c375775e"
      },
      "execution_count": null,
      "outputs": [
        {
          "output_type": "execute_result",
          "data": {
            "text/plain": [
              "       tweet_id       user_id user_name  \\\n",
              "0  1.360000e+18  3.134341e+09    Nobody   \n",
              "1  1.360000e+18  1.320000e+18    Nobody   \n",
              "2  1.360000e+18  1.849860e+09    Nobody   \n",
              "3  1.360000e+18  1.360000e+18    Nobody   \n",
              "4  1.360000e+18  1.290000e+18    Nobody   \n",
              "\n",
              "                                      original_tweet  year  month  day  \\\n",
              "0  You can’t stop us, you fucks #dogecoin https:/...  2021      1   31   \n",
              "1  https://t.co/EGyJXssO6l\\n\\nLet's share it to t...  2021      1   31   \n",
              "2  If you really hated socialism, you’d let every...  2021      1   31   \n",
              "3  Like and retweet, if you believe #Dogecoin #in...  2021      1   31   \n",
              "4  #dogecoin is sounding more and more like essen...  2021      1   31   \n",
              "\n",
              "       time               source  \\\n",
              "0  22:50:54   Twitter for iPhone   \n",
              "1  23:28:43  Twitter for Android   \n",
              "2  23:28:42   Twitter for iPhone   \n",
              "3  23:28:35   Twitter for iPhone   \n",
              "4  23:28:34  Twitter for Android   \n",
              "\n",
              "                                       cleaned_tweet  predicted_labels  \n",
              "0             you can’t stop us, you fucks #dogecoin                 0  \n",
              "1  let's share it to the entire social network to...                 0  \n",
              "2  if you really hated socialism, you’d let every...                 2  \n",
              "3  like and retweet, if you believe #dogecoin #in...                 2  \n",
              "4  #dogecoin is sounding more and more like essen...                 0  "
            ],
            "text/html": [
              "\n",
              "  <div id=\"df-02495447-737a-42ad-b3b0-52457d275360\">\n",
              "    <div class=\"colab-df-container\">\n",
              "      <div>\n",
              "<style scoped>\n",
              "    .dataframe tbody tr th:only-of-type {\n",
              "        vertical-align: middle;\n",
              "    }\n",
              "\n",
              "    .dataframe tbody tr th {\n",
              "        vertical-align: top;\n",
              "    }\n",
              "\n",
              "    .dataframe thead th {\n",
              "        text-align: right;\n",
              "    }\n",
              "</style>\n",
              "<table border=\"1\" class=\"dataframe\">\n",
              "  <thead>\n",
              "    <tr style=\"text-align: right;\">\n",
              "      <th></th>\n",
              "      <th>tweet_id</th>\n",
              "      <th>user_id</th>\n",
              "      <th>user_name</th>\n",
              "      <th>original_tweet</th>\n",
              "      <th>year</th>\n",
              "      <th>month</th>\n",
              "      <th>day</th>\n",
              "      <th>time</th>\n",
              "      <th>source</th>\n",
              "      <th>cleaned_tweet</th>\n",
              "      <th>predicted_labels</th>\n",
              "    </tr>\n",
              "  </thead>\n",
              "  <tbody>\n",
              "    <tr>\n",
              "      <th>0</th>\n",
              "      <td>1.360000e+18</td>\n",
              "      <td>3.134341e+09</td>\n",
              "      <td>Nobody</td>\n",
              "      <td>You can’t stop us, you fucks #dogecoin https:/...</td>\n",
              "      <td>2021</td>\n",
              "      <td>1</td>\n",
              "      <td>31</td>\n",
              "      <td>22:50:54</td>\n",
              "      <td>Twitter for iPhone</td>\n",
              "      <td>you can’t stop us, you fucks #dogecoin</td>\n",
              "      <td>0</td>\n",
              "    </tr>\n",
              "    <tr>\n",
              "      <th>1</th>\n",
              "      <td>1.360000e+18</td>\n",
              "      <td>1.320000e+18</td>\n",
              "      <td>Nobody</td>\n",
              "      <td>https://t.co/EGyJXssO6l\\n\\nLet's share it to t...</td>\n",
              "      <td>2021</td>\n",
              "      <td>1</td>\n",
              "      <td>31</td>\n",
              "      <td>23:28:43</td>\n",
              "      <td>Twitter for Android</td>\n",
              "      <td>let's share it to the entire social network to...</td>\n",
              "      <td>0</td>\n",
              "    </tr>\n",
              "    <tr>\n",
              "      <th>2</th>\n",
              "      <td>1.360000e+18</td>\n",
              "      <td>1.849860e+09</td>\n",
              "      <td>Nobody</td>\n",
              "      <td>If you really hated socialism, you’d let every...</td>\n",
              "      <td>2021</td>\n",
              "      <td>1</td>\n",
              "      <td>31</td>\n",
              "      <td>23:28:42</td>\n",
              "      <td>Twitter for iPhone</td>\n",
              "      <td>if you really hated socialism, you’d let every...</td>\n",
              "      <td>2</td>\n",
              "    </tr>\n",
              "    <tr>\n",
              "      <th>3</th>\n",
              "      <td>1.360000e+18</td>\n",
              "      <td>1.360000e+18</td>\n",
              "      <td>Nobody</td>\n",
              "      <td>Like and retweet, if you believe #Dogecoin #in...</td>\n",
              "      <td>2021</td>\n",
              "      <td>1</td>\n",
              "      <td>31</td>\n",
              "      <td>23:28:35</td>\n",
              "      <td>Twitter for iPhone</td>\n",
              "      <td>like and retweet, if you believe #dogecoin #in...</td>\n",
              "      <td>2</td>\n",
              "    </tr>\n",
              "    <tr>\n",
              "      <th>4</th>\n",
              "      <td>1.360000e+18</td>\n",
              "      <td>1.290000e+18</td>\n",
              "      <td>Nobody</td>\n",
              "      <td>#dogecoin is sounding more and more like essen...</td>\n",
              "      <td>2021</td>\n",
              "      <td>1</td>\n",
              "      <td>31</td>\n",
              "      <td>23:28:34</td>\n",
              "      <td>Twitter for Android</td>\n",
              "      <td>#dogecoin is sounding more and more like essen...</td>\n",
              "      <td>0</td>\n",
              "    </tr>\n",
              "  </tbody>\n",
              "</table>\n",
              "</div>\n",
              "      <button class=\"colab-df-convert\" onclick=\"convertToInteractive('df-02495447-737a-42ad-b3b0-52457d275360')\"\n",
              "              title=\"Convert this dataframe to an interactive table.\"\n",
              "              style=\"display:none;\">\n",
              "        \n",
              "  <svg xmlns=\"http://www.w3.org/2000/svg\" height=\"24px\"viewBox=\"0 0 24 24\"\n",
              "       width=\"24px\">\n",
              "    <path d=\"M0 0h24v24H0V0z\" fill=\"none\"/>\n",
              "    <path d=\"M18.56 5.44l.94 2.06.94-2.06 2.06-.94-2.06-.94-.94-2.06-.94 2.06-2.06.94zm-11 1L8.5 8.5l.94-2.06 2.06-.94-2.06-.94L8.5 2.5l-.94 2.06-2.06.94zm10 10l.94 2.06.94-2.06 2.06-.94-2.06-.94-.94-2.06-.94 2.06-2.06.94z\"/><path d=\"M17.41 7.96l-1.37-1.37c-.4-.4-.92-.59-1.43-.59-.52 0-1.04.2-1.43.59L10.3 9.45l-7.72 7.72c-.78.78-.78 2.05 0 2.83L4 21.41c.39.39.9.59 1.41.59.51 0 1.02-.2 1.41-.59l7.78-7.78 2.81-2.81c.8-.78.8-2.07 0-2.86zM5.41 20L4 18.59l7.72-7.72 1.47 1.35L5.41 20z\"/>\n",
              "  </svg>\n",
              "      </button>\n",
              "      \n",
              "  <style>\n",
              "    .colab-df-container {\n",
              "      display:flex;\n",
              "      flex-wrap:wrap;\n",
              "      gap: 12px;\n",
              "    }\n",
              "\n",
              "    .colab-df-convert {\n",
              "      background-color: #E8F0FE;\n",
              "      border: none;\n",
              "      border-radius: 50%;\n",
              "      cursor: pointer;\n",
              "      display: none;\n",
              "      fill: #1967D2;\n",
              "      height: 32px;\n",
              "      padding: 0 0 0 0;\n",
              "      width: 32px;\n",
              "    }\n",
              "\n",
              "    .colab-df-convert:hover {\n",
              "      background-color: #E2EBFA;\n",
              "      box-shadow: 0px 1px 2px rgba(60, 64, 67, 0.3), 0px 1px 3px 1px rgba(60, 64, 67, 0.15);\n",
              "      fill: #174EA6;\n",
              "    }\n",
              "\n",
              "    [theme=dark] .colab-df-convert {\n",
              "      background-color: #3B4455;\n",
              "      fill: #D2E3FC;\n",
              "    }\n",
              "\n",
              "    [theme=dark] .colab-df-convert:hover {\n",
              "      background-color: #434B5C;\n",
              "      box-shadow: 0px 1px 3px 1px rgba(0, 0, 0, 0.15);\n",
              "      filter: drop-shadow(0px 1px 2px rgba(0, 0, 0, 0.3));\n",
              "      fill: #FFFFFF;\n",
              "    }\n",
              "  </style>\n",
              "\n",
              "      <script>\n",
              "        const buttonEl =\n",
              "          document.querySelector('#df-02495447-737a-42ad-b3b0-52457d275360 button.colab-df-convert');\n",
              "        buttonEl.style.display =\n",
              "          google.colab.kernel.accessAllowed ? 'block' : 'none';\n",
              "\n",
              "        async function convertToInteractive(key) {\n",
              "          const element = document.querySelector('#df-02495447-737a-42ad-b3b0-52457d275360');\n",
              "          const dataTable =\n",
              "            await google.colab.kernel.invokeFunction('convertToInteractive',\n",
              "                                                     [key], {});\n",
              "          if (!dataTable) return;\n",
              "\n",
              "          const docLinkHtml = 'Like what you see? Visit the ' +\n",
              "            '<a target=\"_blank\" href=https://colab.research.google.com/notebooks/data_table.ipynb>data table notebook</a>'\n",
              "            + ' to learn more about interactive tables.';\n",
              "          element.innerHTML = '';\n",
              "          dataTable['output_type'] = 'display_data';\n",
              "          await google.colab.output.renderOutput(dataTable, element);\n",
              "          const docLink = document.createElement('div');\n",
              "          docLink.innerHTML = docLinkHtml;\n",
              "          element.appendChild(docLink);\n",
              "        }\n",
              "      </script>\n",
              "    </div>\n",
              "  </div>\n",
              "  "
            ]
          },
          "metadata": {},
          "execution_count": 17
        }
      ]
    },
    {
      "cell_type": "code",
      "source": [
        "df_new.count()"
      ],
      "metadata": {
        "colab": {
          "base_uri": "https://localhost:8080/"
        },
        "id": "lxbbzOFenutl",
        "outputId": "35120fd3-d891-4d56-e813-547013f5c13d"
      },
      "execution_count": null,
      "outputs": [
        {
          "output_type": "execute_result",
          "data": {
            "text/plain": [
              "tweet_id            73390\n",
              "user_id             73390\n",
              "user_name           73390\n",
              "original_tweet      73390\n",
              "year                73390\n",
              "month               73390\n",
              "day                 73390\n",
              "time                73390\n",
              "source              73390\n",
              "cleaned_tweet       73390\n",
              "predicted_labels    73390\n",
              "hugging_labels      73390\n",
              "dtype: int64"
            ]
          },
          "metadata": {},
          "execution_count": 28
        }
      ]
    },
    {
      "cell_type": "code",
      "source": [
        "df_new = df_new[df_new.predicted_labels != 2]"
      ],
      "metadata": {
        "id": "LPHzPEzFn0WA"
      },
      "execution_count": null,
      "outputs": []
    },
    {
      "cell_type": "code",
      "source": [
        "df_new.predicted_labels.unique()"
      ],
      "metadata": {
        "colab": {
          "base_uri": "https://localhost:8080/"
        },
        "id": "jyx9O7HgoDev",
        "outputId": "847aa13b-94b1-4daf-9907-b6c5b4bac878"
      },
      "execution_count": null,
      "outputs": [
        {
          "output_type": "execute_result",
          "data": {
            "text/plain": [
              "array([ 0, -1,  1])"
            ]
          },
          "metadata": {},
          "execution_count": 33
        }
      ]
    },
    {
      "cell_type": "code",
      "source": [
        "df_new.count()"
      ],
      "metadata": {
        "colab": {
          "base_uri": "https://localhost:8080/"
        },
        "id": "MqObSnQhn9Vq",
        "outputId": "16977073-1c34-4b8d-d776-2fa232f7c650"
      },
      "execution_count": null,
      "outputs": [
        {
          "output_type": "execute_result",
          "data": {
            "text/plain": [
              "tweet_id            45760\n",
              "user_id             45760\n",
              "user_name           45760\n",
              "original_tweet      45760\n",
              "year                45760\n",
              "month               45760\n",
              "day                 45760\n",
              "time                45760\n",
              "source              45760\n",
              "cleaned_tweet       45760\n",
              "predicted_labels    45760\n",
              "hugging_labels      45760\n",
              "dtype: int64"
            ]
          },
          "metadata": {},
          "execution_count": 34
        }
      ]
    },
    {
      "cell_type": "code",
      "source": [
        "# collecting all tweets\n",
        "cleaned_tweets = []\n",
        "# preprocessed_tweets = []\n",
        "row_tweets = []\n",
        "for ix, row in df_new.iterrows():\n",
        "  cleaned_tweets.append(row.cleaned_tweet)\n",
        "  # preprocessed_tweets.append(row.preprocessed_tweet)\n",
        "  row_tweets.append(row.original_tweet)"
      ],
      "metadata": {
        "id": "u_qX1QpfpInx"
      },
      "execution_count": null,
      "outputs": []
    },
    {
      "cell_type": "markdown",
      "source": [
        "#### tried with sentiment-analysis model"
      ],
      "metadata": {
        "id": "kcbAGZ8xED1a"
      }
    },
    {
      "cell_type": "code",
      "source": [
        "sentiment_pipeline = pipeline(\"sentiment-analysis\")"
      ],
      "metadata": {
        "colab": {
          "base_uri": "https://localhost:8080/",
          "referenced_widgets": [
            "cbecf7996a7d4756b4394e404617b911",
            "f1f8a638f3474cec9b8b0f40c0603957",
            "6418483c6ca24df5a045b4189098c0f2",
            "e5f13b27f4ad47c9af95726d7a9681d3",
            "85f2389015c144ba93add3a4c8be2cc5",
            "4ebd73274a4b40d7a5ecd51088df0c55",
            "ff5b9ab51e694abaab1ca768a0887a50",
            "ff4e912342a34905be710719ba9c6351",
            "0f63a86f0a7a49a9b872e32e509ced7e",
            "62512ed174f24dce8d4ac077eed3a140",
            "98bd83a74fc1490cadc7151277f22bd2",
            "feb06b6d50814fd7a61f3de0aaef71c2",
            "5dcc9e31e2cf4a9f9255711de3cf3bbb",
            "de57dcdc7fe04bef8a1a166265c70687",
            "6a9961d098ec436f8f53dd3047e2967f",
            "9bfd1db08f454a60b7276921023de0b8",
            "58c99900356b4d2c9fadcabf5cc165b2",
            "371df5238cca4ff9a64c6e16a2a5a92a",
            "4fccccf0024f4533a9ef3ac711a56634",
            "78858f3656e947258c0581845d5eefed",
            "159654ea2eb94db3910f1c10104745de",
            "c4a4ca7bfe4b41849173d7837f5816be",
            "ad4d3ccf28cf423aadde5e022286ef65",
            "fef616d850434ae7ae158befb78d9033",
            "b0d4774ff4bb4484b9ae346c1d79ed3a",
            "95227753c66d446785cb829462dd4229",
            "d56f66bb920a4befb78a394ab3cfb2a0",
            "5325cefed584435092b38f48c8bec563",
            "7137eb3401c34e389339171de7ec3fa6",
            "fcfb6d56475f4a869eb95982a4cb3d67",
            "2a17cee269a345a891f9e936ee725427",
            "f42e714983724c12b3e71b7eb188862b",
            "3376d5ac55834d2ea74253d8e47c1441",
            "3c31891e937f411893c7b9be0c66f36a",
            "badbd1dc7e734bd4b6e550db73bf065a",
            "c7dfc05c9c0441929bce7c89974ee1af",
            "80bdc045e98a4914bfc175bb54b239ae",
            "0d5f0faa125b4105ba3adab07e716680",
            "7b78051d56f3440dbc4809b7e3d2b498",
            "51fb98f5d4124ee3aaf0918014ca37f8",
            "ea0713ad893941f285472a348b2bba24",
            "c7671512b4d048b9918e317024d5877a",
            "803fec07a0cf4cbdb07b0513e64b76cb",
            "4ebedeaa167947a5ba2d7a406b2f911f"
          ]
        },
        "id": "SUt6Nia__QUY",
        "outputId": "6468012f-87c1-4554-eaf6-22fa808be6d6"
      },
      "execution_count": null,
      "outputs": [
        {
          "output_type": "stream",
          "name": "stderr",
          "text": [
            "No model was supplied, defaulted to distilbert-base-uncased-finetuned-sst-2-english (https://huggingface.co/distilbert-base-uncased-finetuned-sst-2-english)\n"
          ]
        },
        {
          "output_type": "display_data",
          "data": {
            "text/plain": [
              "Downloading:   0%|          | 0.00/629 [00:00<?, ?B/s]"
            ],
            "application/vnd.jupyter.widget-view+json": {
              "version_major": 2,
              "version_minor": 0,
              "model_id": "cbecf7996a7d4756b4394e404617b911"
            }
          },
          "metadata": {}
        },
        {
          "output_type": "display_data",
          "data": {
            "text/plain": [
              "Downloading:   0%|          | 0.00/255M [00:00<?, ?B/s]"
            ],
            "application/vnd.jupyter.widget-view+json": {
              "version_major": 2,
              "version_minor": 0,
              "model_id": "feb06b6d50814fd7a61f3de0aaef71c2"
            }
          },
          "metadata": {}
        },
        {
          "output_type": "display_data",
          "data": {
            "text/plain": [
              "Downloading:   0%|          | 0.00/48.0 [00:00<?, ?B/s]"
            ],
            "application/vnd.jupyter.widget-view+json": {
              "version_major": 2,
              "version_minor": 0,
              "model_id": "ad4d3ccf28cf423aadde5e022286ef65"
            }
          },
          "metadata": {}
        },
        {
          "output_type": "display_data",
          "data": {
            "text/plain": [
              "Downloading:   0%|          | 0.00/226k [00:00<?, ?B/s]"
            ],
            "application/vnd.jupyter.widget-view+json": {
              "version_major": 2,
              "version_minor": 0,
              "model_id": "3c31891e937f411893c7b9be0c66f36a"
            }
          },
          "metadata": {}
        }
      ]
    },
    {
      "cell_type": "code",
      "source": [
        "def calculate_sentiments(sentiments):\n",
        "  pos = 0\n",
        "  neg = 0\n",
        "  neu = 0\n",
        "  mx_pos = -1\n",
        "  mn_pos = 1\n",
        "  mx_neg = -1\n",
        "  mn_neg = 1\n",
        "\n",
        "  for i in sentiments:\n",
        "    if i[\"label\"] == \"POSITIVE\":\n",
        "      pos += 1\n",
        "      mx_pos = max(mx_pos, i[\"score\"])\n",
        "      mn_pos = min(mn_pos, i[\"score\"])\n",
        "    elif i[\"label\"] == \"NEGATIVE\":\n",
        "      neg += 1\n",
        "      mx_neg = max(mx_neg, i[\"score\"])\n",
        "      mn_neg = min(mn_neg, i[\"score\"])\n",
        "  print(\"Without Threshold:\")\n",
        "  print(f\"Positive: {pos}, Negative: {neg}, Neutral: {neu}\")\n",
        "  print(f\"max pos: {mx_pos}, min_pos: {mn_pos}\")\n",
        "  print(f\"max neg: {mx_neg}, min_neg: {mn_neg}\")\n",
        "  print()\n",
        "  \n",
        "  pos = 0\n",
        "  neg = 0\n",
        "  neu = 0\n",
        "  mx_pos = -1\n",
        "  mn_pos = 1\n",
        "  mx_neg = -1\n",
        "  mn_neg = 1\n",
        "  for i in sentiments:\n",
        "    if i[\"label\"] == \"POSITIVE\" and i[\"score\"]>=0.95:\n",
        "      pos += 1\n",
        "      mx_pos = max(mx_pos, i[\"score\"])\n",
        "      mn_pos = min(mn_pos, i[\"score\"])\n",
        "    elif i[\"label\"] == \"NEGATIVE\" and i[\"score\"]>=0.99:\n",
        "      neg += 1\n",
        "      mx_neg = max(mx_neg, i[\"score\"])\n",
        "      mn_neg = min(mn_neg, i[\"score\"])\n",
        "    else:\n",
        "      neu += 1 \n",
        "  print(\"With Threshold:\")\n",
        "  print(f\"Positive: {pos}, Negative: {neg}, Neutral: {neu}\")\n",
        "  print(f\"max pos: {mx_pos}, min_pos: {mn_pos}\")\n",
        "  print(f\"max neg: {mx_neg}, min_neg: {mn_neg}\")"
      ],
      "metadata": {
        "id": "0pgEr1o-2pq1"
      },
      "execution_count": null,
      "outputs": []
    },
    {
      "cell_type": "code",
      "source": [
        "sentiment_preprocessed = sentiment_pipeline(preprocessed_tweets)"
      ],
      "metadata": {
        "id": "SuphjacNtb6w"
      },
      "execution_count": null,
      "outputs": []
    },
    {
      "cell_type": "code",
      "source": [
        "calculate_sentiments(sentiment_preprocessed)"
      ],
      "metadata": {
        "colab": {
          "base_uri": "https://localhost:8080/"
        },
        "id": "gGs0HbS26iU-",
        "outputId": "5ff816d5-95de-4623-933a-9ee5129c0f07"
      },
      "execution_count": null,
      "outputs": [
        {
          "output_type": "stream",
          "name": "stdout",
          "text": [
            "Without Threshold:\n",
            "Positive: 458, Negative: 954, Neutral: 0\n",
            "max pos: 0.9998698234558105, min_pos: 0.5121402144432068\n",
            "max neg: 0.999769389629364, min_neg: 0.5005103945732117\n",
            "\n",
            "With Threshold:\n",
            "Positive: 285, Negative: 400, Neutral: 727\n",
            "max pos: 0.9998698234558105, min_pos: 0.9500617384910583\n",
            "max neg: 0.999769389629364, min_neg: 0.9900588393211365\n"
          ]
        }
      ]
    },
    {
      "cell_type": "code",
      "source": [
        "sentiment_cleaned = sentiment_pipeline(cleaned_tweets)"
      ],
      "metadata": {
        "id": "NQ9U7abgwQZs"
      },
      "execution_count": null,
      "outputs": []
    },
    {
      "cell_type": "code",
      "source": [
        "calculate_sentiments(sentiment_cleaned)"
      ],
      "metadata": {
        "colab": {
          "base_uri": "https://localhost:8080/"
        },
        "id": "FHZjtVddtxTD",
        "outputId": "b611cb54-daf5-4fed-b970-6d8d79693d90"
      },
      "execution_count": null,
      "outputs": [
        {
          "output_type": "stream",
          "name": "stdout",
          "text": [
            "Without Threshold:\n",
            "Positive: 490, Negative: 922, Neutral: 0\n",
            "max pos: 0.9998775720596313, min_pos: 0.5046946406364441\n",
            "max neg: 0.999812662601471, min_neg: 0.5018454194068909\n",
            "\n",
            "With Threshold:\n",
            "Positive: 371, Negative: 546, Neutral: 495\n",
            "max pos: 0.9998775720596313, min_pos: 0.9500430226325989\n",
            "max neg: 0.999812662601471, min_neg: 0.9900228381156921\n"
          ]
        }
      ]
    },
    {
      "cell_type": "markdown",
      "source": [
        "#### tried with finiteautomata/bertweet-base-sentiment-analysis model"
      ],
      "metadata": {
        "id": "aCc2aZxP762w"
      }
    },
    {
      "cell_type": "code",
      "source": [
        "specific_model = pipeline(model=\"finiteautomata/bertweet-base-sentiment-analysis\")"
      ],
      "metadata": {
        "colab": {
          "base_uri": "https://localhost:8080/",
          "referenced_widgets": [
            "1659a66b49054caa8896c623d3722fe5",
            "d86b244b7fbc4676b44e13706063590a",
            "17edcf56f66e4534b5b8f04a124fc419",
            "3ce5ea9da45549e4afc490ae6a3002a1",
            "46679740737541b281c6a06a09b3625f",
            "1fed3958a06c41c49f170c78b7c752d7",
            "6c8ce5a376864bd6a9b1c8e847f8358c",
            "e2ff0c059ca14bf68f799b7817778f5d",
            "a39c12597cb8416ea6f36efa66068197",
            "f570c31c72b84634b820e2d3b2ea70c8",
            "689fb13101804098bd1d87795ba71330",
            "7ff0b7c6e8454c54b3d3779179e6175f",
            "013c7594448b4921880617c7fc6b872d",
            "10abf5ed9cb947acb7dbfa1979bf7944",
            "83542a1cd60d4c2e96cf63eb5ba5b7a6",
            "1afd923022244023b0e6dc3a10bf3e7b",
            "ce96af49aed1447a8234aeb50c7d0951",
            "50ffe94e62c84595bbfbf1302465fa1e",
            "9fc000872a524178875707e99293566d",
            "69ba911699794c7393b0af34e1ca04a1",
            "b65887afa4fe44f68040be90c76a9cce",
            "dd26594896944175a313bc6fc1f504ec",
            "0ab68839511946b5835f45bc5398b67e",
            "233ae2ab574e45b6a78d01b18284d7f7",
            "24222b9d0ae04217b879b4fcaef1e096",
            "f1996bb9609c4c4394bfb2017e642bd5",
            "1fa8304dd2604d4f94cf39da626903d1",
            "29358de7203e4f16913a1a1c03bbb783",
            "aa4433ecbef944b0b88063650e8ebd67",
            "3d7479666c004412ac2343b3643e72e6",
            "3f85b4ce3a2942bb8de5814bd1dac6d4",
            "af9e6583b5044c89abfc32696a885990",
            "f05a9cf5fe95481f8e43824cba9d241f",
            "720b4304b4c4443495e6eee8473474b8",
            "be6ab796f2d949388114743e31c6401b",
            "d46075f4257f446cb51eb9c8c2f5bc1c",
            "7ab74d13af824d3e8ed10ac7c7f2c595",
            "edea582b2d504b1aa1bf5b954a32ad76",
            "363b48089a9f414e92d45364af17c359",
            "a7531cce79754bbc88848ad8dae34948",
            "e726b1a162fe468884569ce52cf8b256",
            "2ad8e28a9a314657b88a8dfbe0026673",
            "0834020bbf3a4c288c4d3e8e931986e7",
            "119b8da347114de294ad88a6fb65b0a5",
            "46d46a77e3554efd88f4d2a363be00d2",
            "f9b910c933214972889870c8f99fa77e",
            "2846d1cbda0e4f62a3ab28e44d464966",
            "b56d9a7b39e948e0bd2133377ec19aa3",
            "de8a0e8837f549158dbc0494cf5a4948",
            "9be1cd05d96d4407be11c418d3846265",
            "40059699ecbe434b8f52e10e267825b4",
            "317b0654b07246bdb03c3664d9b1b657",
            "befbc543d6b04090a8eb8ec664ad4409",
            "d33a83510b7549468802bd567d9f53a0",
            "79a998fb8b8945ccab14c8bf4999b794",
            "57bee4d81be94425b6adfba66671d06e",
            "e13b087a7c8a4c6aa81db4ef8a0f02f4",
            "bb8958d27b7743c0b2bd65ea36554d26",
            "0f64676ab157448ba8b68e484a7b1c42",
            "9a6eef1c273641a6a01c8d389033deba",
            "ee357c063db94c9b98bd2445edf2f365",
            "748f5fce25914d4f849b88d1166c2f43",
            "f995ade2afac42e0b1a6d936c63c400d",
            "37d47e70528e458798024fa26c0a491d",
            "a2ac8ce05fa44d4ba90336228ce86134",
            "63dff3eb967f49a085b58b798a4c5c44",
            "22d58178832a45368ca49a8987f6666c",
            "9a3034f705c5409d858ed7eaec751064",
            "f3e1edda0f7a4f0b88f42ff1d0812889",
            "7dd204b1881441f39a98ad95e512e677",
            "fb4e67694f1b44ef80d4cc5d465686a3",
            "c9ce6bd66777420293c264b4283d7bf0",
            "0340e89c64574688bab4a0d316dcf5a8",
            "eb84822981a34891b431ca91c363bc13",
            "1b70c44df1e04691be2dcd4754e9b31b",
            "ebdb7ddb1eb0434b9fcc5e8fa9704a56",
            "1677e38d3cc6457fbe4e0bdedc39799d",
            "cce40e91c46440f6bb0c952395b16295",
            "ee497b068d1c4aa69bbae15bb11cf8c7",
            "d718f97ed3834d03a1aa8d77e32b645c",
            "b266a8e88f6f453a92a68e23fe2b858e",
            "6c73f89712d347e798337b5cf03f0d0a",
            "d1d1be79ff3f457cb84e49bb89883ad3",
            "d1750831319f4c268f798aa9202eb604",
            "7f500ef570f643bcb4d99a6221576fa3",
            "5a5596efec034998886ba383f7ac6a19",
            "362fcc34b86f4b3a9d3329b424e3ef74",
            "8f62216c10ce4ac281a0ca24842d354d"
          ]
        },
        "id": "_lqhyKagt3xR",
        "outputId": "356afd0a-2402-4f4c-c410-426c333392aa"
      },
      "execution_count": null,
      "outputs": [
        {
          "output_type": "display_data",
          "data": {
            "text/plain": [
              "Downloading:   0%|          | 0.00/1.13k [00:00<?, ?B/s]"
            ],
            "application/vnd.jupyter.widget-view+json": {
              "version_major": 2,
              "version_minor": 0,
              "model_id": "1659a66b49054caa8896c623d3722fe5"
            }
          },
          "metadata": {}
        },
        {
          "output_type": "display_data",
          "data": {
            "text/plain": [
              "Downloading:   0%|          | 0.00/890 [00:00<?, ?B/s]"
            ],
            "application/vnd.jupyter.widget-view+json": {
              "version_major": 2,
              "version_minor": 0,
              "model_id": "7ff0b7c6e8454c54b3d3779179e6175f"
            }
          },
          "metadata": {}
        },
        {
          "output_type": "display_data",
          "data": {
            "text/plain": [
              "Downloading:   0%|          | 0.00/515M [00:00<?, ?B/s]"
            ],
            "application/vnd.jupyter.widget-view+json": {
              "version_major": 2,
              "version_minor": 0,
              "model_id": "0ab68839511946b5835f45bc5398b67e"
            }
          },
          "metadata": {}
        },
        {
          "output_type": "display_data",
          "data": {
            "text/plain": [
              "Downloading:   0%|          | 0.00/295 [00:00<?, ?B/s]"
            ],
            "application/vnd.jupyter.widget-view+json": {
              "version_major": 2,
              "version_minor": 0,
              "model_id": "720b4304b4c4443495e6eee8473474b8"
            }
          },
          "metadata": {}
        },
        {
          "output_type": "display_data",
          "data": {
            "text/plain": [
              "Downloading:   0%|          | 0.00/824k [00:00<?, ?B/s]"
            ],
            "application/vnd.jupyter.widget-view+json": {
              "version_major": 2,
              "version_minor": 0,
              "model_id": "46d46a77e3554efd88f4d2a363be00d2"
            }
          },
          "metadata": {}
        },
        {
          "output_type": "display_data",
          "data": {
            "text/plain": [
              "Downloading:   0%|          | 0.00/1.03M [00:00<?, ?B/s]"
            ],
            "application/vnd.jupyter.widget-view+json": {
              "version_major": 2,
              "version_minor": 0,
              "model_id": "57bee4d81be94425b6adfba66671d06e"
            }
          },
          "metadata": {}
        },
        {
          "output_type": "display_data",
          "data": {
            "text/plain": [
              "Downloading:   0%|          | 0.00/17.0 [00:00<?, ?B/s]"
            ],
            "application/vnd.jupyter.widget-view+json": {
              "version_major": 2,
              "version_minor": 0,
              "model_id": "22d58178832a45368ca49a8987f6666c"
            }
          },
          "metadata": {}
        },
        {
          "output_type": "display_data",
          "data": {
            "text/plain": [
              "Downloading:   0%|          | 0.00/150 [00:00<?, ?B/s]"
            ],
            "application/vnd.jupyter.widget-view+json": {
              "version_major": 2,
              "version_minor": 0,
              "model_id": "cce40e91c46440f6bb0c952395b16295"
            }
          },
          "metadata": {}
        },
        {
          "output_type": "stream",
          "name": "stderr",
          "text": [
            "emoji is not installed, thus not converting emoticons or emojis into text. Install emoji: pip3 install emoji==0.6.0\n"
          ]
        }
      ]
    },
    {
      "cell_type": "code",
      "source": [
        "def calculate_specific_sentiments(sentiments):\n",
        "  pos = 0\n",
        "  neg = 0\n",
        "  neu = 0\n",
        "  mx_pos = -1\n",
        "  mn_pos = 1\n",
        "  mx_neg = -1\n",
        "  mn_neg = 1\n",
        "  mx_neu = -1\n",
        "  mn_neu = 1\n",
        "\n",
        "  for i in sentiments:\n",
        "    if i[\"label\"] == \"POS\":\n",
        "      pos += 1\n",
        "      mx_pos = max(mx_pos, i[\"score\"])\n",
        "      mn_pos = min(mn_pos, i[\"score\"])\n",
        "    elif i[\"label\"] == \"NEG\":\n",
        "      neg += 1\n",
        "      mx_neg = max(mx_neg, i[\"score\"])\n",
        "      mn_neg = min(mn_neg, i[\"score\"])\n",
        "    elif i[\"label\"] == \"NEU\":\n",
        "      neu += 1\n",
        "      mx_neu = max(mx_neu, i[\"score\"])\n",
        "      mn_neu = min(mn_neu, i[\"score\"])\n",
        "  print(\"Without Threshold:\")\n",
        "  print(f\"Positive: {pos}, Negative: {neg}, Neutral: {neu}\")\n",
        "  print(f\"max pos: {mx_pos}, min_pos: {mn_pos}\")\n",
        "  print(f\"max neg: {mx_neg}, min_neg: {mn_neg}\")\n",
        "  print(f\"max neu: {mx_neu}, min_neu: {mn_neu}\")\n",
        "  print()"
      ],
      "metadata": {
        "id": "by3xG1O59nYN"
      },
      "execution_count": null,
      "outputs": []
    },
    {
      "cell_type": "code",
      "source": [
        "sentiment_preprocessed = specific_model(preprocessed_tweets)"
      ],
      "metadata": {
        "id": "Wb0SO8kB8I7z"
      },
      "execution_count": null,
      "outputs": []
    },
    {
      "cell_type": "code",
      "source": [
        "calculate_specific_sentiments(sentiment_preprocessed)"
      ],
      "metadata": {
        "colab": {
          "base_uri": "https://localhost:8080/"
        },
        "outputId": "a0861830-1dfb-4431-ec72-393fef9e33b0",
        "id": "UpAosAqh8I7z"
      },
      "execution_count": null,
      "outputs": [
        {
          "output_type": "stream",
          "name": "stdout",
          "text": [
            "Without Threshold:\n",
            "Positive: 372, Negative: 154, Neutral: 886\n",
            "max pos: 0.9920395612716675, min_pos: 0.4442497491836548\n",
            "max neg: 0.9856780171394348, min_neg: 0.3813939094543457\n",
            "max neu: 0.9761793613433838, min_neu: 0.481385201215744\n",
            "\n"
          ]
        }
      ]
    },
    {
      "cell_type": "code",
      "source": [
        "sentiment_cleaned = specific_model(cleaned_tweets)"
      ],
      "metadata": {
        "id": "0sPedmJx8XUQ"
      },
      "execution_count": null,
      "outputs": []
    },
    {
      "cell_type": "code",
      "source": [
        "calculate_specific_sentiments(sentiment_cleaned)"
      ],
      "metadata": {
        "colab": {
          "base_uri": "https://localhost:8080/"
        },
        "outputId": "9d8d02d2-d867-46ca-d4d1-8f4f048dea50",
        "id": "w76n1k6T8XUQ"
      },
      "execution_count": null,
      "outputs": [
        {
          "output_type": "stream",
          "name": "stdout",
          "text": [
            "Without Threshold:\n",
            "Positive: 620, Negative: 189, Neutral: 603\n",
            "max pos: 0.9928900003433228, min_pos: 0.45251837372779846\n",
            "max neg: 0.9857599139213562, min_neg: 0.4234328866004944\n",
            "max neu: 0.982138991355896, min_neu: 0.48225900530815125\n",
            "\n"
          ]
        }
      ]
    },
    {
      "cell_type": "markdown",
      "source": [
        "#### tried with cardiffnlp/twitter-roberta-base-sentiment"
      ],
      "metadata": {
        "id": "D6gS0BIsAMvO"
      }
    },
    {
      "cell_type": "code",
      "source": [
        "specific_model_1 = pipeline(model=\"cardiffnlp/twitter-roberta-base-sentiment\")"
      ],
      "metadata": {
        "colab": {
          "base_uri": "https://localhost:8080/",
          "height": 49,
          "referenced_widgets": [
            "9875a01d9fdd423e948653e42afcca03",
            "156a639ea96e45208dc4b4997722143f",
            "9dfc2ac28f8c44a994cdbc1cce0809d0",
            "7cf2a863c30447458fb7d6faf9b15db8",
            "e4943716384f45c798e2c966d5d859a2",
            "39e0761cd76b4551a3a8622df69e4adb",
            "fbf66010d0074f47b60ef3f4b5144d96",
            "c75bc1e51ea6472588675fe20ce4b257",
            "68eb9e04bc56467e8f32ae1fab9088e1",
            "e5ea6008384742d2bb92d70b5eea485f",
            "6c995889988d4db08b2284b100836351"
          ]
        },
        "id": "fCKf2ncY8bgN",
        "outputId": "668bc987-f69a-486c-b9fd-bc2abc1440b9"
      },
      "execution_count": null,
      "outputs": [
        {
          "output_type": "display_data",
          "data": {
            "text/plain": [
              "Downloading:   0%|          | 0.00/1.06k [00:00<?, ?B/s]"
            ],
            "application/vnd.jupyter.widget-view+json": {
              "version_major": 2,
              "version_minor": 0,
              "model_id": "9875a01d9fdd423e948653e42afcca03"
            }
          },
          "metadata": {}
        }
      ]
    },
    {
      "cell_type": "code",
      "source": [
        "\n",
        "def calculate_specific_sentiments_1(sentiments):\n",
        "  pred_labels = []\n",
        "  pos = 0\n",
        "  neg = 0\n",
        "  neu = 0\n",
        "  mx_pos = -1\n",
        "  mn_pos = 1\n",
        "  mx_neg = -1\n",
        "  mn_neg = 1\n",
        "  mx_neu = -1\n",
        "  mn_neu = 1\n",
        "\n",
        "  for i in sentiments:\n",
        "    if i[\"label\"] == \"LABEL_2\":\n",
        "      pos += 1\n",
        "      mx_pos = max(mx_pos, i[\"score\"])\n",
        "      mn_pos = min(mn_pos, i[\"score\"])\n",
        "      pred_labels.append('1')\n",
        "    elif i[\"label\"] == \"LABEL_0\":\n",
        "      neg += 1\n",
        "      mx_neg = max(mx_neg, i[\"score\"])\n",
        "      mn_neg = min(mn_neg, i[\"score\"])\n",
        "      pred_labels.append('-1')\n",
        "    elif i[\"label\"] == \"LABEL_1\":\n",
        "      neu += 1\n",
        "      mx_neu = max(mx_neu, i[\"score\"])\n",
        "      mn_neu = min(mn_neu, i[\"score\"])\n",
        "      pred_labels.append('0')\n",
        "  print(\"Without Threshold:\")\n",
        "  print(f\"Positive: {pos}, Negative: {neg}, Neutral: {neu}\")\n",
        "  print(f\"max pos: {mx_pos}, min_pos: {mn_pos}\")\n",
        "  print(f\"max neg: {mx_neg}, min_neg: {mn_neg}\")\n",
        "  print(f\"max neu: {mx_neu}, min_neu: {mn_neu}\")\n",
        "  print()\n",
        "  return pred_labels"
      ],
      "metadata": {
        "id": "jOMpbALxB1Mz"
      },
      "execution_count": null,
      "outputs": []
    },
    {
      "cell_type": "code",
      "source": [
        "# sentiment_preprocessed = specific_model_1(preprocessed_tweets)"
      ],
      "metadata": {
        "id": "ps4bU6a5Abcv"
      },
      "execution_count": null,
      "outputs": []
    },
    {
      "cell_type": "code",
      "source": [
        "sentiment_cleaned = specific_model_1(cleaned_tweets)"
      ],
      "metadata": {
        "colab": {
          "base_uri": "https://localhost:8080/",
          "height": 311
        },
        "id": "Z-9wLd1bBleB",
        "outputId": "92b5c809-56d0-48f9-8ade-462b5a3a6cdf"
      },
      "execution_count": null,
      "outputs": [
        {
          "output_type": "error",
          "ename": "KeyboardInterrupt",
          "evalue": "ignored",
          "traceback": [
            "\u001b[0;31m---------------------------------------------------------------------------\u001b[0m",
            "\u001b[0;31mKeyboardInterrupt\u001b[0m                         Traceback (most recent call last)",
            "\u001b[0;32m<ipython-input-38-443131692431>\u001b[0m in \u001b[0;36m<module>\u001b[0;34m()\u001b[0m\n\u001b[0;32m----> 1\u001b[0;31m \u001b[0msentiment_cleaned\u001b[0m \u001b[0;34m=\u001b[0m \u001b[0mspecific_model_1\u001b[0m\u001b[0;34m(\u001b[0m\u001b[0mcleaned_tweets\u001b[0m\u001b[0;34m)\u001b[0m\u001b[0;34m\u001b[0m\u001b[0;34m\u001b[0m\u001b[0m\n\u001b[0m",
            "\u001b[0;32m/usr/local/lib/python3.7/dist-packages/transformers/pipelines/text_classification.py\u001b[0m in \u001b[0;36m__call__\u001b[0;34m(self, *args, **kwargs)\u001b[0m\n\u001b[1;32m    136\u001b[0m             \u001b[0mIf\u001b[0m\u001b[0;31m \u001b[0m\u001b[0;31m`\u001b[0m\u001b[0mtop_k\u001b[0m\u001b[0;31m`\u001b[0m \u001b[0;32mis\u001b[0m \u001b[0mused\u001b[0m\u001b[0;34m,\u001b[0m \u001b[0mone\u001b[0m \u001b[0msuch\u001b[0m \u001b[0mdictionary\u001b[0m \u001b[0;32mis\u001b[0m \u001b[0mreturned\u001b[0m \u001b[0mper\u001b[0m \u001b[0mlabel\u001b[0m\u001b[0;34m.\u001b[0m\u001b[0;34m\u001b[0m\u001b[0;34m\u001b[0m\u001b[0m\n\u001b[1;32m    137\u001b[0m         \"\"\"\n\u001b[0;32m--> 138\u001b[0;31m         \u001b[0mresult\u001b[0m \u001b[0;34m=\u001b[0m \u001b[0msuper\u001b[0m\u001b[0;34m(\u001b[0m\u001b[0;34m)\u001b[0m\u001b[0;34m.\u001b[0m\u001b[0m__call__\u001b[0m\u001b[0;34m(\u001b[0m\u001b[0;34m*\u001b[0m\u001b[0margs\u001b[0m\u001b[0;34m,\u001b[0m \u001b[0;34m**\u001b[0m\u001b[0mkwargs\u001b[0m\u001b[0;34m)\u001b[0m\u001b[0;34m\u001b[0m\u001b[0;34m\u001b[0m\u001b[0m\n\u001b[0m\u001b[1;32m    139\u001b[0m         \u001b[0;32mif\u001b[0m \u001b[0misinstance\u001b[0m\u001b[0;34m(\u001b[0m\u001b[0margs\u001b[0m\u001b[0;34m[\u001b[0m\u001b[0;36m0\u001b[0m\u001b[0;34m]\u001b[0m\u001b[0;34m,\u001b[0m \u001b[0mstr\u001b[0m\u001b[0;34m)\u001b[0m \u001b[0;32mand\u001b[0m \u001b[0misinstance\u001b[0m\u001b[0;34m(\u001b[0m\u001b[0mresult\u001b[0m\u001b[0;34m,\u001b[0m \u001b[0mdict\u001b[0m\u001b[0;34m)\u001b[0m\u001b[0;34m:\u001b[0m\u001b[0;34m\u001b[0m\u001b[0;34m\u001b[0m\u001b[0m\n\u001b[1;32m    140\u001b[0m             \u001b[0;31m# This pipeline is odd, and return a list when single item is run\u001b[0m\u001b[0;34m\u001b[0m\u001b[0;34m\u001b[0m\u001b[0;34m\u001b[0m\u001b[0m\n",
            "\u001b[0;32m/usr/local/lib/python3.7/dist-packages/transformers/pipelines/base.py\u001b[0m in \u001b[0;36m__call__\u001b[0;34m(self, inputs, num_workers, batch_size, *args, **kwargs)\u001b[0m\n\u001b[1;32m   1030\u001b[0m                     \u001b[0minputs\u001b[0m\u001b[0;34m,\u001b[0m \u001b[0mnum_workers\u001b[0m\u001b[0;34m,\u001b[0m \u001b[0mbatch_size\u001b[0m\u001b[0;34m,\u001b[0m \u001b[0mpreprocess_params\u001b[0m\u001b[0;34m,\u001b[0m \u001b[0mforward_params\u001b[0m\u001b[0;34m,\u001b[0m \u001b[0mpostprocess_params\u001b[0m\u001b[0;34m\u001b[0m\u001b[0;34m\u001b[0m\u001b[0m\n\u001b[1;32m   1031\u001b[0m                 )\n\u001b[0;32m-> 1032\u001b[0;31m                 \u001b[0moutputs\u001b[0m \u001b[0;34m=\u001b[0m \u001b[0;34m[\u001b[0m\u001b[0moutput\u001b[0m \u001b[0;32mfor\u001b[0m \u001b[0moutput\u001b[0m \u001b[0;32min\u001b[0m \u001b[0mfinal_iterator\u001b[0m\u001b[0;34m]\u001b[0m\u001b[0;34m\u001b[0m\u001b[0;34m\u001b[0m\u001b[0m\n\u001b[0m\u001b[1;32m   1033\u001b[0m                 \u001b[0;32mreturn\u001b[0m \u001b[0moutputs\u001b[0m\u001b[0;34m\u001b[0m\u001b[0;34m\u001b[0m\u001b[0m\n\u001b[1;32m   1034\u001b[0m             \u001b[0;32melse\u001b[0m\u001b[0;34m:\u001b[0m\u001b[0;34m\u001b[0m\u001b[0;34m\u001b[0m\u001b[0m\n",
            "\u001b[0;32m/usr/local/lib/python3.7/dist-packages/transformers/pipelines/base.py\u001b[0m in \u001b[0;36m<listcomp>\u001b[0;34m(.0)\u001b[0m\n\u001b[1;32m   1030\u001b[0m                     \u001b[0minputs\u001b[0m\u001b[0;34m,\u001b[0m \u001b[0mnum_workers\u001b[0m\u001b[0;34m,\u001b[0m \u001b[0mbatch_size\u001b[0m\u001b[0;34m,\u001b[0m \u001b[0mpreprocess_params\u001b[0m\u001b[0;34m,\u001b[0m \u001b[0mforward_params\u001b[0m\u001b[0;34m,\u001b[0m \u001b[0mpostprocess_params\u001b[0m\u001b[0;34m\u001b[0m\u001b[0;34m\u001b[0m\u001b[0m\n\u001b[1;32m   1031\u001b[0m                 )\n\u001b[0;32m-> 1032\u001b[0;31m                 \u001b[0moutputs\u001b[0m \u001b[0;34m=\u001b[0m \u001b[0;34m[\u001b[0m\u001b[0moutput\u001b[0m \u001b[0;32mfor\u001b[0m \u001b[0moutput\u001b[0m \u001b[0;32min\u001b[0m \u001b[0mfinal_iterator\u001b[0m\u001b[0;34m]\u001b[0m\u001b[0;34m\u001b[0m\u001b[0;34m\u001b[0m\u001b[0m\n\u001b[0m\u001b[1;32m   1033\u001b[0m                 \u001b[0;32mreturn\u001b[0m \u001b[0moutputs\u001b[0m\u001b[0;34m\u001b[0m\u001b[0;34m\u001b[0m\u001b[0m\n\u001b[1;32m   1034\u001b[0m             \u001b[0;32melse\u001b[0m\u001b[0;34m:\u001b[0m\u001b[0;34m\u001b[0m\u001b[0;34m\u001b[0m\u001b[0m\n",
            "\u001b[0;32m/usr/local/lib/python3.7/dist-packages/transformers/pipelines/pt_utils.py\u001b[0m in \u001b[0;36m__next__\u001b[0;34m(self)\u001b[0m\n\u001b[1;32m    109\u001b[0m \u001b[0;34m\u001b[0m\u001b[0m\n\u001b[1;32m    110\u001b[0m         \u001b[0;31m# We're out of items within a batch\u001b[0m\u001b[0;34m\u001b[0m\u001b[0;34m\u001b[0m\u001b[0;34m\u001b[0m\u001b[0m\n\u001b[0;32m--> 111\u001b[0;31m         \u001b[0mitem\u001b[0m \u001b[0;34m=\u001b[0m \u001b[0mnext\u001b[0m\u001b[0;34m(\u001b[0m\u001b[0mself\u001b[0m\u001b[0;34m.\u001b[0m\u001b[0miterator\u001b[0m\u001b[0;34m)\u001b[0m\u001b[0;34m\u001b[0m\u001b[0;34m\u001b[0m\u001b[0m\n\u001b[0m\u001b[1;32m    112\u001b[0m         \u001b[0mprocessed\u001b[0m \u001b[0;34m=\u001b[0m \u001b[0mself\u001b[0m\u001b[0;34m.\u001b[0m\u001b[0minfer\u001b[0m\u001b[0;34m(\u001b[0m\u001b[0mitem\u001b[0m\u001b[0;34m,\u001b[0m \u001b[0;34m**\u001b[0m\u001b[0mself\u001b[0m\u001b[0;34m.\u001b[0m\u001b[0mparams\u001b[0m\u001b[0;34m)\u001b[0m\u001b[0;34m\u001b[0m\u001b[0;34m\u001b[0m\u001b[0m\n\u001b[1;32m    113\u001b[0m         \u001b[0;31m# We now have a batch of \"inferred things\".\u001b[0m\u001b[0;34m\u001b[0m\u001b[0;34m\u001b[0m\u001b[0;34m\u001b[0m\u001b[0m\n",
            "\u001b[0;32m/usr/local/lib/python3.7/dist-packages/transformers/pipelines/pt_utils.py\u001b[0m in \u001b[0;36m__next__\u001b[0;34m(self)\u001b[0m\n\u001b[1;32m    110\u001b[0m         \u001b[0;31m# We're out of items within a batch\u001b[0m\u001b[0;34m\u001b[0m\u001b[0;34m\u001b[0m\u001b[0;34m\u001b[0m\u001b[0m\n\u001b[1;32m    111\u001b[0m         \u001b[0mitem\u001b[0m \u001b[0;34m=\u001b[0m \u001b[0mnext\u001b[0m\u001b[0;34m(\u001b[0m\u001b[0mself\u001b[0m\u001b[0;34m.\u001b[0m\u001b[0miterator\u001b[0m\u001b[0;34m)\u001b[0m\u001b[0;34m\u001b[0m\u001b[0;34m\u001b[0m\u001b[0m\n\u001b[0;32m--> 112\u001b[0;31m         \u001b[0mprocessed\u001b[0m \u001b[0;34m=\u001b[0m \u001b[0mself\u001b[0m\u001b[0;34m.\u001b[0m\u001b[0minfer\u001b[0m\u001b[0;34m(\u001b[0m\u001b[0mitem\u001b[0m\u001b[0;34m,\u001b[0m \u001b[0;34m**\u001b[0m\u001b[0mself\u001b[0m\u001b[0;34m.\u001b[0m\u001b[0mparams\u001b[0m\u001b[0;34m)\u001b[0m\u001b[0;34m\u001b[0m\u001b[0;34m\u001b[0m\u001b[0m\n\u001b[0m\u001b[1;32m    113\u001b[0m         \u001b[0;31m# We now have a batch of \"inferred things\".\u001b[0m\u001b[0;34m\u001b[0m\u001b[0;34m\u001b[0m\u001b[0;34m\u001b[0m\u001b[0m\n\u001b[1;32m    114\u001b[0m         \u001b[0;32mif\u001b[0m \u001b[0mself\u001b[0m\u001b[0;34m.\u001b[0m\u001b[0mloader_batch_size\u001b[0m \u001b[0;32mis\u001b[0m \u001b[0;32mnot\u001b[0m \u001b[0;32mNone\u001b[0m\u001b[0;34m:\u001b[0m\u001b[0;34m\u001b[0m\u001b[0;34m\u001b[0m\u001b[0m\n",
            "\u001b[0;32m/usr/local/lib/python3.7/dist-packages/transformers/pipelines/base.py\u001b[0m in \u001b[0;36mforward\u001b[0;34m(self, model_inputs, **forward_params)\u001b[0m\n\u001b[1;32m    957\u001b[0m                 \u001b[0;32mwith\u001b[0m \u001b[0minference_context\u001b[0m\u001b[0;34m(\u001b[0m\u001b[0;34m)\u001b[0m\u001b[0;34m:\u001b[0m\u001b[0;34m\u001b[0m\u001b[0;34m\u001b[0m\u001b[0m\n\u001b[1;32m    958\u001b[0m                     \u001b[0mmodel_inputs\u001b[0m \u001b[0;34m=\u001b[0m \u001b[0mself\u001b[0m\u001b[0;34m.\u001b[0m\u001b[0m_ensure_tensor_on_device\u001b[0m\u001b[0;34m(\u001b[0m\u001b[0mmodel_inputs\u001b[0m\u001b[0;34m,\u001b[0m \u001b[0mdevice\u001b[0m\u001b[0;34m=\u001b[0m\u001b[0mself\u001b[0m\u001b[0;34m.\u001b[0m\u001b[0mdevice\u001b[0m\u001b[0;34m)\u001b[0m\u001b[0;34m\u001b[0m\u001b[0;34m\u001b[0m\u001b[0m\n\u001b[0;32m--> 959\u001b[0;31m                     \u001b[0mmodel_outputs\u001b[0m \u001b[0;34m=\u001b[0m \u001b[0mself\u001b[0m\u001b[0;34m.\u001b[0m\u001b[0m_forward\u001b[0m\u001b[0;34m(\u001b[0m\u001b[0mmodel_inputs\u001b[0m\u001b[0;34m,\u001b[0m \u001b[0;34m**\u001b[0m\u001b[0mforward_params\u001b[0m\u001b[0;34m)\u001b[0m\u001b[0;34m\u001b[0m\u001b[0;34m\u001b[0m\u001b[0m\n\u001b[0m\u001b[1;32m    960\u001b[0m                     \u001b[0mmodel_outputs\u001b[0m \u001b[0;34m=\u001b[0m \u001b[0mself\u001b[0m\u001b[0;34m.\u001b[0m\u001b[0m_ensure_tensor_on_device\u001b[0m\u001b[0;34m(\u001b[0m\u001b[0mmodel_outputs\u001b[0m\u001b[0;34m,\u001b[0m \u001b[0mdevice\u001b[0m\u001b[0;34m=\u001b[0m\u001b[0mtorch\u001b[0m\u001b[0;34m.\u001b[0m\u001b[0mdevice\u001b[0m\u001b[0;34m(\u001b[0m\u001b[0;34m\"cpu\"\u001b[0m\u001b[0;34m)\u001b[0m\u001b[0;34m)\u001b[0m\u001b[0;34m\u001b[0m\u001b[0;34m\u001b[0m\u001b[0m\n\u001b[1;32m    961\u001b[0m             \u001b[0;32melse\u001b[0m\u001b[0;34m:\u001b[0m\u001b[0;34m\u001b[0m\u001b[0;34m\u001b[0m\u001b[0m\n",
            "\u001b[0;32m/usr/local/lib/python3.7/dist-packages/transformers/pipelines/text_classification.py\u001b[0m in \u001b[0;36m_forward\u001b[0;34m(self, model_inputs)\u001b[0m\n\u001b[1;32m    161\u001b[0m \u001b[0;34m\u001b[0m\u001b[0m\n\u001b[1;32m    162\u001b[0m     \u001b[0;32mdef\u001b[0m \u001b[0m_forward\u001b[0m\u001b[0;34m(\u001b[0m\u001b[0mself\u001b[0m\u001b[0;34m,\u001b[0m \u001b[0mmodel_inputs\u001b[0m\u001b[0;34m)\u001b[0m\u001b[0;34m:\u001b[0m\u001b[0;34m\u001b[0m\u001b[0;34m\u001b[0m\u001b[0m\n\u001b[0;32m--> 163\u001b[0;31m         \u001b[0;32mreturn\u001b[0m \u001b[0mself\u001b[0m\u001b[0;34m.\u001b[0m\u001b[0mmodel\u001b[0m\u001b[0;34m(\u001b[0m\u001b[0;34m**\u001b[0m\u001b[0mmodel_inputs\u001b[0m\u001b[0;34m)\u001b[0m\u001b[0;34m\u001b[0m\u001b[0;34m\u001b[0m\u001b[0m\n\u001b[0m\u001b[1;32m    164\u001b[0m \u001b[0;34m\u001b[0m\u001b[0m\n\u001b[1;32m    165\u001b[0m     \u001b[0;32mdef\u001b[0m \u001b[0mpostprocess\u001b[0m\u001b[0;34m(\u001b[0m\u001b[0mself\u001b[0m\u001b[0;34m,\u001b[0m \u001b[0mmodel_outputs\u001b[0m\u001b[0;34m,\u001b[0m \u001b[0mfunction_to_apply\u001b[0m\u001b[0;34m=\u001b[0m\u001b[0;32mNone\u001b[0m\u001b[0;34m,\u001b[0m \u001b[0mtop_k\u001b[0m\u001b[0;34m=\u001b[0m\u001b[0;36m1\u001b[0m\u001b[0;34m,\u001b[0m \u001b[0m_legacy\u001b[0m\u001b[0;34m=\u001b[0m\u001b[0;32mTrue\u001b[0m\u001b[0;34m)\u001b[0m\u001b[0;34m:\u001b[0m\u001b[0;34m\u001b[0m\u001b[0;34m\u001b[0m\u001b[0m\n",
            "\u001b[0;32m/usr/local/lib/python3.7/dist-packages/torch/nn/modules/module.py\u001b[0m in \u001b[0;36m_call_impl\u001b[0;34m(self, *input, **kwargs)\u001b[0m\n\u001b[1;32m   1128\u001b[0m         if not (self._backward_hooks or self._forward_hooks or self._forward_pre_hooks or _global_backward_hooks\n\u001b[1;32m   1129\u001b[0m                 or _global_forward_hooks or _global_forward_pre_hooks):\n\u001b[0;32m-> 1130\u001b[0;31m             \u001b[0;32mreturn\u001b[0m \u001b[0mforward_call\u001b[0m\u001b[0;34m(\u001b[0m\u001b[0;34m*\u001b[0m\u001b[0minput\u001b[0m\u001b[0;34m,\u001b[0m \u001b[0;34m**\u001b[0m\u001b[0mkwargs\u001b[0m\u001b[0;34m)\u001b[0m\u001b[0;34m\u001b[0m\u001b[0;34m\u001b[0m\u001b[0m\n\u001b[0m\u001b[1;32m   1131\u001b[0m         \u001b[0;31m# Do not call functions when jit is used\u001b[0m\u001b[0;34m\u001b[0m\u001b[0;34m\u001b[0m\u001b[0;34m\u001b[0m\u001b[0m\n\u001b[1;32m   1132\u001b[0m         \u001b[0mfull_backward_hooks\u001b[0m\u001b[0;34m,\u001b[0m \u001b[0mnon_full_backward_hooks\u001b[0m \u001b[0;34m=\u001b[0m \u001b[0;34m[\u001b[0m\u001b[0;34m]\u001b[0m\u001b[0;34m,\u001b[0m \u001b[0;34m[\u001b[0m\u001b[0;34m]\u001b[0m\u001b[0;34m\u001b[0m\u001b[0;34m\u001b[0m\u001b[0m\n",
            "\u001b[0;32m/usr/local/lib/python3.7/dist-packages/transformers/models/roberta/modeling_roberta.py\u001b[0m in \u001b[0;36mforward\u001b[0;34m(self, input_ids, attention_mask, token_type_ids, position_ids, head_mask, inputs_embeds, labels, output_attentions, output_hidden_states, return_dict)\u001b[0m\n\u001b[1;32m   1213\u001b[0m             \u001b[0moutput_attentions\u001b[0m\u001b[0;34m=\u001b[0m\u001b[0moutput_attentions\u001b[0m\u001b[0;34m,\u001b[0m\u001b[0;34m\u001b[0m\u001b[0;34m\u001b[0m\u001b[0m\n\u001b[1;32m   1214\u001b[0m             \u001b[0moutput_hidden_states\u001b[0m\u001b[0;34m=\u001b[0m\u001b[0moutput_hidden_states\u001b[0m\u001b[0;34m,\u001b[0m\u001b[0;34m\u001b[0m\u001b[0;34m\u001b[0m\u001b[0m\n\u001b[0;32m-> 1215\u001b[0;31m             \u001b[0mreturn_dict\u001b[0m\u001b[0;34m=\u001b[0m\u001b[0mreturn_dict\u001b[0m\u001b[0;34m,\u001b[0m\u001b[0;34m\u001b[0m\u001b[0;34m\u001b[0m\u001b[0m\n\u001b[0m\u001b[1;32m   1216\u001b[0m         )\n\u001b[1;32m   1217\u001b[0m         \u001b[0msequence_output\u001b[0m \u001b[0;34m=\u001b[0m \u001b[0moutputs\u001b[0m\u001b[0;34m[\u001b[0m\u001b[0;36m0\u001b[0m\u001b[0;34m]\u001b[0m\u001b[0;34m\u001b[0m\u001b[0;34m\u001b[0m\u001b[0m\n",
            "\u001b[0;32m/usr/local/lib/python3.7/dist-packages/torch/nn/modules/module.py\u001b[0m in \u001b[0;36m_call_impl\u001b[0;34m(self, *input, **kwargs)\u001b[0m\n\u001b[1;32m   1128\u001b[0m         if not (self._backward_hooks or self._forward_hooks or self._forward_pre_hooks or _global_backward_hooks\n\u001b[1;32m   1129\u001b[0m                 or _global_forward_hooks or _global_forward_pre_hooks):\n\u001b[0;32m-> 1130\u001b[0;31m             \u001b[0;32mreturn\u001b[0m \u001b[0mforward_call\u001b[0m\u001b[0;34m(\u001b[0m\u001b[0;34m*\u001b[0m\u001b[0minput\u001b[0m\u001b[0;34m,\u001b[0m \u001b[0;34m**\u001b[0m\u001b[0mkwargs\u001b[0m\u001b[0;34m)\u001b[0m\u001b[0;34m\u001b[0m\u001b[0;34m\u001b[0m\u001b[0m\n\u001b[0m\u001b[1;32m   1131\u001b[0m         \u001b[0;31m# Do not call functions when jit is used\u001b[0m\u001b[0;34m\u001b[0m\u001b[0;34m\u001b[0m\u001b[0;34m\u001b[0m\u001b[0m\n\u001b[1;32m   1132\u001b[0m         \u001b[0mfull_backward_hooks\u001b[0m\u001b[0;34m,\u001b[0m \u001b[0mnon_full_backward_hooks\u001b[0m \u001b[0;34m=\u001b[0m \u001b[0;34m[\u001b[0m\u001b[0;34m]\u001b[0m\u001b[0;34m,\u001b[0m \u001b[0;34m[\u001b[0m\u001b[0;34m]\u001b[0m\u001b[0;34m\u001b[0m\u001b[0;34m\u001b[0m\u001b[0m\n",
            "\u001b[0;32m/usr/local/lib/python3.7/dist-packages/transformers/models/roberta/modeling_roberta.py\u001b[0m in \u001b[0;36mforward\u001b[0;34m(self, input_ids, attention_mask, token_type_ids, position_ids, head_mask, inputs_embeds, encoder_hidden_states, encoder_attention_mask, past_key_values, use_cache, output_attentions, output_hidden_states, return_dict)\u001b[0m\n\u001b[1;32m    856\u001b[0m             \u001b[0moutput_attentions\u001b[0m\u001b[0;34m=\u001b[0m\u001b[0moutput_attentions\u001b[0m\u001b[0;34m,\u001b[0m\u001b[0;34m\u001b[0m\u001b[0;34m\u001b[0m\u001b[0m\n\u001b[1;32m    857\u001b[0m             \u001b[0moutput_hidden_states\u001b[0m\u001b[0;34m=\u001b[0m\u001b[0moutput_hidden_states\u001b[0m\u001b[0;34m,\u001b[0m\u001b[0;34m\u001b[0m\u001b[0;34m\u001b[0m\u001b[0m\n\u001b[0;32m--> 858\u001b[0;31m             \u001b[0mreturn_dict\u001b[0m\u001b[0;34m=\u001b[0m\u001b[0mreturn_dict\u001b[0m\u001b[0;34m,\u001b[0m\u001b[0;34m\u001b[0m\u001b[0;34m\u001b[0m\u001b[0m\n\u001b[0m\u001b[1;32m    859\u001b[0m         )\n\u001b[1;32m    860\u001b[0m         \u001b[0msequence_output\u001b[0m \u001b[0;34m=\u001b[0m \u001b[0mencoder_outputs\u001b[0m\u001b[0;34m[\u001b[0m\u001b[0;36m0\u001b[0m\u001b[0;34m]\u001b[0m\u001b[0;34m\u001b[0m\u001b[0;34m\u001b[0m\u001b[0m\n",
            "\u001b[0;32m/usr/local/lib/python3.7/dist-packages/torch/nn/modules/module.py\u001b[0m in \u001b[0;36m_call_impl\u001b[0;34m(self, *input, **kwargs)\u001b[0m\n\u001b[1;32m   1128\u001b[0m         if not (self._backward_hooks or self._forward_hooks or self._forward_pre_hooks or _global_backward_hooks\n\u001b[1;32m   1129\u001b[0m                 or _global_forward_hooks or _global_forward_pre_hooks):\n\u001b[0;32m-> 1130\u001b[0;31m             \u001b[0;32mreturn\u001b[0m \u001b[0mforward_call\u001b[0m\u001b[0;34m(\u001b[0m\u001b[0;34m*\u001b[0m\u001b[0minput\u001b[0m\u001b[0;34m,\u001b[0m \u001b[0;34m**\u001b[0m\u001b[0mkwargs\u001b[0m\u001b[0;34m)\u001b[0m\u001b[0;34m\u001b[0m\u001b[0;34m\u001b[0m\u001b[0m\n\u001b[0m\u001b[1;32m   1131\u001b[0m         \u001b[0;31m# Do not call functions when jit is used\u001b[0m\u001b[0;34m\u001b[0m\u001b[0;34m\u001b[0m\u001b[0;34m\u001b[0m\u001b[0m\n\u001b[1;32m   1132\u001b[0m         \u001b[0mfull_backward_hooks\u001b[0m\u001b[0;34m,\u001b[0m \u001b[0mnon_full_backward_hooks\u001b[0m \u001b[0;34m=\u001b[0m \u001b[0;34m[\u001b[0m\u001b[0;34m]\u001b[0m\u001b[0;34m,\u001b[0m \u001b[0;34m[\u001b[0m\u001b[0;34m]\u001b[0m\u001b[0;34m\u001b[0m\u001b[0;34m\u001b[0m\u001b[0m\n",
            "\u001b[0;32m/usr/local/lib/python3.7/dist-packages/transformers/models/roberta/modeling_roberta.py\u001b[0m in \u001b[0;36mforward\u001b[0;34m(self, hidden_states, attention_mask, head_mask, encoder_hidden_states, encoder_attention_mask, past_key_values, use_cache, output_attentions, output_hidden_states, return_dict)\u001b[0m\n\u001b[1;32m    529\u001b[0m                     \u001b[0mencoder_attention_mask\u001b[0m\u001b[0;34m,\u001b[0m\u001b[0;34m\u001b[0m\u001b[0;34m\u001b[0m\u001b[0m\n\u001b[1;32m    530\u001b[0m                     \u001b[0mpast_key_value\u001b[0m\u001b[0;34m,\u001b[0m\u001b[0;34m\u001b[0m\u001b[0;34m\u001b[0m\u001b[0m\n\u001b[0;32m--> 531\u001b[0;31m                     \u001b[0moutput_attentions\u001b[0m\u001b[0;34m,\u001b[0m\u001b[0;34m\u001b[0m\u001b[0;34m\u001b[0m\u001b[0m\n\u001b[0m\u001b[1;32m    532\u001b[0m                 )\n\u001b[1;32m    533\u001b[0m \u001b[0;34m\u001b[0m\u001b[0m\n",
            "\u001b[0;32m/usr/local/lib/python3.7/dist-packages/torch/nn/modules/module.py\u001b[0m in \u001b[0;36m_call_impl\u001b[0;34m(self, *input, **kwargs)\u001b[0m\n\u001b[1;32m   1128\u001b[0m         if not (self._backward_hooks or self._forward_hooks or self._forward_pre_hooks or _global_backward_hooks\n\u001b[1;32m   1129\u001b[0m                 or _global_forward_hooks or _global_forward_pre_hooks):\n\u001b[0;32m-> 1130\u001b[0;31m             \u001b[0;32mreturn\u001b[0m \u001b[0mforward_call\u001b[0m\u001b[0;34m(\u001b[0m\u001b[0;34m*\u001b[0m\u001b[0minput\u001b[0m\u001b[0;34m,\u001b[0m \u001b[0;34m**\u001b[0m\u001b[0mkwargs\u001b[0m\u001b[0;34m)\u001b[0m\u001b[0;34m\u001b[0m\u001b[0;34m\u001b[0m\u001b[0m\n\u001b[0m\u001b[1;32m   1131\u001b[0m         \u001b[0;31m# Do not call functions when jit is used\u001b[0m\u001b[0;34m\u001b[0m\u001b[0;34m\u001b[0m\u001b[0;34m\u001b[0m\u001b[0m\n\u001b[1;32m   1132\u001b[0m         \u001b[0mfull_backward_hooks\u001b[0m\u001b[0;34m,\u001b[0m \u001b[0mnon_full_backward_hooks\u001b[0m \u001b[0;34m=\u001b[0m \u001b[0;34m[\u001b[0m\u001b[0;34m]\u001b[0m\u001b[0;34m,\u001b[0m \u001b[0;34m[\u001b[0m\u001b[0;34m]\u001b[0m\u001b[0;34m\u001b[0m\u001b[0;34m\u001b[0m\u001b[0m\n",
            "\u001b[0;32m/usr/local/lib/python3.7/dist-packages/transformers/models/roberta/modeling_roberta.py\u001b[0m in \u001b[0;36mforward\u001b[0;34m(self, hidden_states, attention_mask, head_mask, encoder_hidden_states, encoder_attention_mask, past_key_value, output_attentions)\u001b[0m\n\u001b[1;32m    412\u001b[0m             \u001b[0mhead_mask\u001b[0m\u001b[0;34m,\u001b[0m\u001b[0;34m\u001b[0m\u001b[0;34m\u001b[0m\u001b[0m\n\u001b[1;32m    413\u001b[0m             \u001b[0moutput_attentions\u001b[0m\u001b[0;34m=\u001b[0m\u001b[0moutput_attentions\u001b[0m\u001b[0;34m,\u001b[0m\u001b[0;34m\u001b[0m\u001b[0;34m\u001b[0m\u001b[0m\n\u001b[0;32m--> 414\u001b[0;31m             \u001b[0mpast_key_value\u001b[0m\u001b[0;34m=\u001b[0m\u001b[0mself_attn_past_key_value\u001b[0m\u001b[0;34m,\u001b[0m\u001b[0;34m\u001b[0m\u001b[0;34m\u001b[0m\u001b[0m\n\u001b[0m\u001b[1;32m    415\u001b[0m         )\n\u001b[1;32m    416\u001b[0m         \u001b[0mattention_output\u001b[0m \u001b[0;34m=\u001b[0m \u001b[0mself_attention_outputs\u001b[0m\u001b[0;34m[\u001b[0m\u001b[0;36m0\u001b[0m\u001b[0;34m]\u001b[0m\u001b[0;34m\u001b[0m\u001b[0;34m\u001b[0m\u001b[0m\n",
            "\u001b[0;32m/usr/local/lib/python3.7/dist-packages/torch/nn/modules/module.py\u001b[0m in \u001b[0;36m_call_impl\u001b[0;34m(self, *input, **kwargs)\u001b[0m\n\u001b[1;32m   1128\u001b[0m         if not (self._backward_hooks or self._forward_hooks or self._forward_pre_hooks or _global_backward_hooks\n\u001b[1;32m   1129\u001b[0m                 or _global_forward_hooks or _global_forward_pre_hooks):\n\u001b[0;32m-> 1130\u001b[0;31m             \u001b[0;32mreturn\u001b[0m \u001b[0mforward_call\u001b[0m\u001b[0;34m(\u001b[0m\u001b[0;34m*\u001b[0m\u001b[0minput\u001b[0m\u001b[0;34m,\u001b[0m \u001b[0;34m**\u001b[0m\u001b[0mkwargs\u001b[0m\u001b[0;34m)\u001b[0m\u001b[0;34m\u001b[0m\u001b[0;34m\u001b[0m\u001b[0m\n\u001b[0m\u001b[1;32m   1131\u001b[0m         \u001b[0;31m# Do not call functions when jit is used\u001b[0m\u001b[0;34m\u001b[0m\u001b[0;34m\u001b[0m\u001b[0;34m\u001b[0m\u001b[0m\n\u001b[1;32m   1132\u001b[0m         \u001b[0mfull_backward_hooks\u001b[0m\u001b[0;34m,\u001b[0m \u001b[0mnon_full_backward_hooks\u001b[0m \u001b[0;34m=\u001b[0m \u001b[0;34m[\u001b[0m\u001b[0;34m]\u001b[0m\u001b[0;34m,\u001b[0m \u001b[0;34m[\u001b[0m\u001b[0;34m]\u001b[0m\u001b[0;34m\u001b[0m\u001b[0;34m\u001b[0m\u001b[0m\n",
            "\u001b[0;32m/usr/local/lib/python3.7/dist-packages/transformers/models/roberta/modeling_roberta.py\u001b[0m in \u001b[0;36mforward\u001b[0;34m(self, hidden_states, attention_mask, head_mask, encoder_hidden_states, encoder_attention_mask, past_key_value, output_attentions)\u001b[0m\n\u001b[1;32m    341\u001b[0m             \u001b[0mencoder_attention_mask\u001b[0m\u001b[0;34m,\u001b[0m\u001b[0;34m\u001b[0m\u001b[0;34m\u001b[0m\u001b[0m\n\u001b[1;32m    342\u001b[0m             \u001b[0mpast_key_value\u001b[0m\u001b[0;34m,\u001b[0m\u001b[0;34m\u001b[0m\u001b[0;34m\u001b[0m\u001b[0m\n\u001b[0;32m--> 343\u001b[0;31m             \u001b[0moutput_attentions\u001b[0m\u001b[0;34m,\u001b[0m\u001b[0;34m\u001b[0m\u001b[0;34m\u001b[0m\u001b[0m\n\u001b[0m\u001b[1;32m    344\u001b[0m         )\n\u001b[1;32m    345\u001b[0m         \u001b[0mattention_output\u001b[0m \u001b[0;34m=\u001b[0m \u001b[0mself\u001b[0m\u001b[0;34m.\u001b[0m\u001b[0moutput\u001b[0m\u001b[0;34m(\u001b[0m\u001b[0mself_outputs\u001b[0m\u001b[0;34m[\u001b[0m\u001b[0;36m0\u001b[0m\u001b[0;34m]\u001b[0m\u001b[0;34m,\u001b[0m \u001b[0mhidden_states\u001b[0m\u001b[0;34m)\u001b[0m\u001b[0;34m\u001b[0m\u001b[0;34m\u001b[0m\u001b[0m\n",
            "\u001b[0;32m/usr/local/lib/python3.7/dist-packages/torch/nn/modules/module.py\u001b[0m in \u001b[0;36m_call_impl\u001b[0;34m(self, *input, **kwargs)\u001b[0m\n\u001b[1;32m   1128\u001b[0m         if not (self._backward_hooks or self._forward_hooks or self._forward_pre_hooks or _global_backward_hooks\n\u001b[1;32m   1129\u001b[0m                 or _global_forward_hooks or _global_forward_pre_hooks):\n\u001b[0;32m-> 1130\u001b[0;31m             \u001b[0;32mreturn\u001b[0m \u001b[0mforward_call\u001b[0m\u001b[0;34m(\u001b[0m\u001b[0;34m*\u001b[0m\u001b[0minput\u001b[0m\u001b[0;34m,\u001b[0m \u001b[0;34m**\u001b[0m\u001b[0mkwargs\u001b[0m\u001b[0;34m)\u001b[0m\u001b[0;34m\u001b[0m\u001b[0;34m\u001b[0m\u001b[0m\n\u001b[0m\u001b[1;32m   1131\u001b[0m         \u001b[0;31m# Do not call functions when jit is used\u001b[0m\u001b[0;34m\u001b[0m\u001b[0;34m\u001b[0m\u001b[0;34m\u001b[0m\u001b[0m\n\u001b[1;32m   1132\u001b[0m         \u001b[0mfull_backward_hooks\u001b[0m\u001b[0;34m,\u001b[0m \u001b[0mnon_full_backward_hooks\u001b[0m \u001b[0;34m=\u001b[0m \u001b[0;34m[\u001b[0m\u001b[0;34m]\u001b[0m\u001b[0;34m,\u001b[0m \u001b[0;34m[\u001b[0m\u001b[0;34m]\u001b[0m\u001b[0;34m\u001b[0m\u001b[0;34m\u001b[0m\u001b[0m\n",
            "\u001b[0;32m/usr/local/lib/python3.7/dist-packages/transformers/models/roberta/modeling_roberta.py\u001b[0m in \u001b[0;36mforward\u001b[0;34m(self, hidden_states, attention_mask, head_mask, encoder_hidden_states, encoder_attention_mask, past_key_value, output_attentions)\u001b[0m\n\u001b[1;32m    220\u001b[0m             \u001b[0mvalue_layer\u001b[0m \u001b[0;34m=\u001b[0m \u001b[0mtorch\u001b[0m\u001b[0;34m.\u001b[0m\u001b[0mcat\u001b[0m\u001b[0;34m(\u001b[0m\u001b[0;34m[\u001b[0m\u001b[0mpast_key_value\u001b[0m\u001b[0;34m[\u001b[0m\u001b[0;36m1\u001b[0m\u001b[0;34m]\u001b[0m\u001b[0;34m,\u001b[0m \u001b[0mvalue_layer\u001b[0m\u001b[0;34m]\u001b[0m\u001b[0;34m,\u001b[0m \u001b[0mdim\u001b[0m\u001b[0;34m=\u001b[0m\u001b[0;36m2\u001b[0m\u001b[0;34m)\u001b[0m\u001b[0;34m\u001b[0m\u001b[0;34m\u001b[0m\u001b[0m\n\u001b[1;32m    221\u001b[0m         \u001b[0;32melse\u001b[0m\u001b[0;34m:\u001b[0m\u001b[0;34m\u001b[0m\u001b[0;34m\u001b[0m\u001b[0m\n\u001b[0;32m--> 222\u001b[0;31m             \u001b[0mkey_layer\u001b[0m \u001b[0;34m=\u001b[0m \u001b[0mself\u001b[0m\u001b[0;34m.\u001b[0m\u001b[0mtranspose_for_scores\u001b[0m\u001b[0;34m(\u001b[0m\u001b[0mself\u001b[0m\u001b[0;34m.\u001b[0m\u001b[0mkey\u001b[0m\u001b[0;34m(\u001b[0m\u001b[0mhidden_states\u001b[0m\u001b[0;34m)\u001b[0m\u001b[0;34m)\u001b[0m\u001b[0;34m\u001b[0m\u001b[0;34m\u001b[0m\u001b[0m\n\u001b[0m\u001b[1;32m    223\u001b[0m             \u001b[0mvalue_layer\u001b[0m \u001b[0;34m=\u001b[0m \u001b[0mself\u001b[0m\u001b[0;34m.\u001b[0m\u001b[0mtranspose_for_scores\u001b[0m\u001b[0;34m(\u001b[0m\u001b[0mself\u001b[0m\u001b[0;34m.\u001b[0m\u001b[0mvalue\u001b[0m\u001b[0;34m(\u001b[0m\u001b[0mhidden_states\u001b[0m\u001b[0;34m)\u001b[0m\u001b[0;34m)\u001b[0m\u001b[0;34m\u001b[0m\u001b[0;34m\u001b[0m\u001b[0m\n\u001b[1;32m    224\u001b[0m \u001b[0;34m\u001b[0m\u001b[0m\n",
            "\u001b[0;32m/usr/local/lib/python3.7/dist-packages/torch/nn/modules/module.py\u001b[0m in \u001b[0;36m_call_impl\u001b[0;34m(self, *input, **kwargs)\u001b[0m\n\u001b[1;32m   1128\u001b[0m         if not (self._backward_hooks or self._forward_hooks or self._forward_pre_hooks or _global_backward_hooks\n\u001b[1;32m   1129\u001b[0m                 or _global_forward_hooks or _global_forward_pre_hooks):\n\u001b[0;32m-> 1130\u001b[0;31m             \u001b[0;32mreturn\u001b[0m \u001b[0mforward_call\u001b[0m\u001b[0;34m(\u001b[0m\u001b[0;34m*\u001b[0m\u001b[0minput\u001b[0m\u001b[0;34m,\u001b[0m \u001b[0;34m**\u001b[0m\u001b[0mkwargs\u001b[0m\u001b[0;34m)\u001b[0m\u001b[0;34m\u001b[0m\u001b[0;34m\u001b[0m\u001b[0m\n\u001b[0m\u001b[1;32m   1131\u001b[0m         \u001b[0;31m# Do not call functions when jit is used\u001b[0m\u001b[0;34m\u001b[0m\u001b[0;34m\u001b[0m\u001b[0;34m\u001b[0m\u001b[0m\n\u001b[1;32m   1132\u001b[0m         \u001b[0mfull_backward_hooks\u001b[0m\u001b[0;34m,\u001b[0m \u001b[0mnon_full_backward_hooks\u001b[0m \u001b[0;34m=\u001b[0m \u001b[0;34m[\u001b[0m\u001b[0;34m]\u001b[0m\u001b[0;34m,\u001b[0m \u001b[0;34m[\u001b[0m\u001b[0;34m]\u001b[0m\u001b[0;34m\u001b[0m\u001b[0;34m\u001b[0m\u001b[0m\n",
            "\u001b[0;32m/usr/local/lib/python3.7/dist-packages/torch/nn/modules/linear.py\u001b[0m in \u001b[0;36mforward\u001b[0;34m(self, input)\u001b[0m\n\u001b[1;32m    112\u001b[0m \u001b[0;34m\u001b[0m\u001b[0m\n\u001b[1;32m    113\u001b[0m     \u001b[0;32mdef\u001b[0m \u001b[0mforward\u001b[0m\u001b[0;34m(\u001b[0m\u001b[0mself\u001b[0m\u001b[0;34m,\u001b[0m \u001b[0minput\u001b[0m\u001b[0;34m:\u001b[0m \u001b[0mTensor\u001b[0m\u001b[0;34m)\u001b[0m \u001b[0;34m->\u001b[0m \u001b[0mTensor\u001b[0m\u001b[0;34m:\u001b[0m\u001b[0;34m\u001b[0m\u001b[0;34m\u001b[0m\u001b[0m\n\u001b[0;32m--> 114\u001b[0;31m         \u001b[0;32mreturn\u001b[0m \u001b[0mF\u001b[0m\u001b[0;34m.\u001b[0m\u001b[0mlinear\u001b[0m\u001b[0;34m(\u001b[0m\u001b[0minput\u001b[0m\u001b[0;34m,\u001b[0m \u001b[0mself\u001b[0m\u001b[0;34m.\u001b[0m\u001b[0mweight\u001b[0m\u001b[0;34m,\u001b[0m \u001b[0mself\u001b[0m\u001b[0;34m.\u001b[0m\u001b[0mbias\u001b[0m\u001b[0;34m)\u001b[0m\u001b[0;34m\u001b[0m\u001b[0;34m\u001b[0m\u001b[0m\n\u001b[0m\u001b[1;32m    115\u001b[0m \u001b[0;34m\u001b[0m\u001b[0m\n\u001b[1;32m    116\u001b[0m     \u001b[0;32mdef\u001b[0m \u001b[0mextra_repr\u001b[0m\u001b[0;34m(\u001b[0m\u001b[0mself\u001b[0m\u001b[0;34m)\u001b[0m \u001b[0;34m->\u001b[0m \u001b[0mstr\u001b[0m\u001b[0;34m:\u001b[0m\u001b[0;34m\u001b[0m\u001b[0;34m\u001b[0m\u001b[0m\n",
            "\u001b[0;31mKeyboardInterrupt\u001b[0m: "
          ]
        }
      ]
    },
    {
      "cell_type": "code",
      "source": [
        "# sentiment_row = specific_model_1(row_tweets)"
      ],
      "metadata": {
        "id": "faJO-4t-4ZE0"
      },
      "execution_count": null,
      "outputs": []
    },
    {
      "cell_type": "code",
      "source": [
        "# pred_labels_processed = calculate_specific_sentiments_1(sentiment_preprocessed)"
      ],
      "metadata": {
        "colab": {
          "base_uri": "https://localhost:8080/"
        },
        "id": "gSd_cXkkA18k",
        "outputId": "c0078c2a-052c-4d9e-ea2a-1b176715bad2"
      },
      "execution_count": null,
      "outputs": [
        {
          "output_type": "stream",
          "name": "stdout",
          "text": [
            "Without Threshold:\n",
            "Positive: 320, Negative: 126, Neutral: 966\n",
            "max pos: 0.9895087480545044, min_pos: 0.495410293340683\n",
            "max neg: 0.9674898386001587, min_neg: 0.42513808608055115\n",
            "max neu: 0.9338383078575134, min_neu: 0.4490620195865631\n",
            "\n"
          ]
        }
      ]
    },
    {
      "cell_type": "code",
      "source": [
        "pred_labels_cleaned = calculate_specific_sentiments_1(sentiment_cleaned)"
      ],
      "metadata": {
        "id": "HnG61F2HCITA"
      },
      "execution_count": null,
      "outputs": []
    },
    {
      "cell_type": "code",
      "source": [
        "# pred_labels_row = calculate_specific_sentiments_1(sentiment_row)"
      ],
      "metadata": {
        "colab": {
          "base_uri": "https://localhost:8080/"
        },
        "id": "wYj3HwjJ4wrX",
        "outputId": "63368915-331a-4497-bb14-98939443d039"
      },
      "execution_count": null,
      "outputs": [
        {
          "output_type": "stream",
          "name": "stdout",
          "text": [
            "Without Threshold:\n",
            "Positive: 670, Negative: 189, Neutral: 553\n",
            "max pos: 0.9930852651596069, min_pos: 0.4538476765155792\n",
            "max neg: 0.9753134846687317, min_neg: 0.43236809968948364\n",
            "max neu: 0.9349294900894165, min_neu: 0.3976808488368988\n",
            "\n"
          ]
        }
      ]
    },
    {
      "cell_type": "code",
      "source": [
        "\n",
        "# f, axes = plt.subplots(1, 3, figsize=(22, 7), sharey='row')\n",
        "# name = \"\"\n",
        "# for i,  pred in enumerate([pred_labels_row, pred_labels_cleaned, pred_labels_processed]):\n",
        "#   if i == 0:\n",
        "#     name = \"row_tweet\"\n",
        "#   elif i == 1:\n",
        "#     name = \"cleaned_tweet\"\n",
        "#   else:\n",
        "#     name = \"preprocessed_tweet\"\n",
        "#   cf_matrix = confusion_matrix(true_labels, pred)\n",
        "#   print(classification_report(true_labels, pred))\n",
        "#   disp = ConfusionMatrixDisplay(cf_matrix,\n",
        "#                                 display_labels=[-1, 0, 1])\n",
        "#   disp.plot(ax=axes[i], xticks_rotation=45)\n",
        "#   disp.ax_.set_title(\"twitter-roberta-base-sentiment with \"+name)\n",
        "#   disp.im_.colorbar.remove()\n",
        "#   disp.ax_.set_xlabel('')\n",
        "#   if i!=0:\n",
        "#       disp.ax_.set_ylabel('')\n",
        "\n",
        "# f.text(0.4, 0.1, 'Predicted label', ha='left')\n",
        "# plt.subplots_adjust(wspace=0.40, hspace=0.1)\n",
        "\n",
        "\n",
        "# f.colorbar(disp.im_, ax=axes)\n",
        "# plt.show()"
      ],
      "metadata": {
        "colab": {
          "base_uri": "https://localhost:8080/",
          "height": 947
        },
        "id": "2r7ZQuFWj9js",
        "outputId": "6df7cba1-3f50-4f6e-e34a-0771a262bde2"
      },
      "execution_count": null,
      "outputs": [
        {
          "output_type": "stream",
          "name": "stdout",
          "text": [
            "              precision    recall  f1-score   support\n",
            "\n",
            "          -1       0.63      0.54      0.58       220\n",
            "           0       0.56      0.54      0.55       570\n",
            "           1       0.64      0.69      0.67       622\n",
            "\n",
            "    accuracy                           0.61      1412\n",
            "   macro avg       0.61      0.59      0.60      1412\n",
            "weighted avg       0.61      0.61      0.61      1412\n",
            "\n",
            "              precision    recall  f1-score   support\n",
            "\n",
            "          -1       0.62      0.55      0.58       220\n",
            "           0       0.57      0.56      0.57       570\n",
            "           1       0.65      0.69      0.67       622\n",
            "\n",
            "    accuracy                           0.62      1412\n",
            "   macro avg       0.62      0.60      0.61      1412\n",
            "weighted avg       0.61      0.62      0.61      1412\n",
            "\n",
            "              precision    recall  f1-score   support\n",
            "\n",
            "          -1       0.67      0.39      0.49       220\n",
            "           0       0.45      0.77      0.57       570\n",
            "           1       0.62      0.32      0.42       622\n",
            "\n",
            "    accuracy                           0.51      1412\n",
            "   macro avg       0.58      0.49      0.49      1412\n",
            "weighted avg       0.56      0.51      0.49      1412\n",
            "\n"
          ]
        },
        {
          "output_type": "display_data",
          "data": {
            "text/plain": [
              "<Figure size 1584x504 with 4 Axes>"
            ],
            "image/png": "[encoded data removed]"
          },
          "metadata": {
            "needs_background": "light"
          }
        }
      ]
    },
    {
      "cell_type": "markdown",
      "source": [
        "- For positive class it detects 4.5% as a negative! And most of the miss classified class are neutral, Which is 26% of neutral data!\n",
        "\n",
        "-  For negative class it detects 10% as a positive! And most of the miss classified class are neutral, Which is 33.6% of neutral data! I think its because we dont have much data on negative thats why number is bit high in term of missclassified neutral class.\n",
        "- For neutral class it detects 7.8% as a negative and 36.1% as a positive! Yeah we were also confused between positive and neutral class. "
      ],
      "metadata": {
        "id": "A0-xQiqc72_h"
      }
    },
    {
      "cell_type": "code",
      "source": [
        "df_new[\"hugging_labels\"] = pred_labels_cleaned"
      ],
      "metadata": {
        "id": "CQ2oHkYjYBjy"
      },
      "execution_count": null,
      "outputs": []
    },
    {
      "cell_type": "code",
      "source": [
        "df_new = df_new[df_new.predicted_labels != 2]"
      ],
      "metadata": {
        "id": "gZe7uZllqHfm"
      },
      "execution_count": null,
      "outputs": []
    },
    {
      "cell_type": "code",
      "source": [
        "df_new.head()"
      ],
      "metadata": {
        "colab": {
          "base_uri": "https://localhost:8080/",
          "height": 337
        },
        "id": "Hw9rvy5gYUQ2",
        "outputId": "d51fa15c-0d72-4d46-fffa-982d6c5af168"
      },
      "execution_count": null,
      "outputs": [
        {
          "output_type": "execute_result",
          "data": {
            "text/plain": [
              "       tweet_id       user_id user_name  \\\n",
              "0  1.360000e+18  3.134341e+09    Nobody   \n",
              "1  1.360000e+18  1.320000e+18    Nobody   \n",
              "4  1.360000e+18  1.290000e+18    Nobody   \n",
              "6  1.360000e+18  1.360000e+18    Nobody   \n",
              "7  1.360000e+18  1.350000e+18    Nobody   \n",
              "\n",
              "                                      original_tweet  year  month  day  \\\n",
              "0  You can’t stop us, you fucks #dogecoin https:/...  2021      1   31   \n",
              "1  https://t.co/EGyJXssO6l\\n\\nLet's share it to t...  2021      1   31   \n",
              "4  #dogecoin is sounding more and more like essen...  2021      1   31   \n",
              "6  to spread the past week and xrp link https t h...  2021      1   31   \n",
              "7  If every owner that owns a dog would put 10$ i...  2021      1   31   \n",
              "\n",
              "       time               source  \\\n",
              "0  22:50:54   Twitter for iPhone   \n",
              "1  23:28:43  Twitter for Android   \n",
              "4  23:28:34  Twitter for Android   \n",
              "6  23:28:31            Error-log   \n",
              "7  23:28:27   Twitter for iPhone   \n",
              "\n",
              "                                       cleaned_tweet  predicted_labels  \\\n",
              "0             you can’t stop us, you fucks #dogecoin                 0   \n",
              "1  let's share it to the entire social network to...                 0   \n",
              "4  #dogecoin is sounding more and more like essen...                 0   \n",
              "6  to spread the past week and xrp link https t h...                 0   \n",
              "7  if every owner that owns a dog would put 10$ i...                 0   \n",
              "\n",
              "   hugging_labels  \n",
              "0              -1  \n",
              "1               1  \n",
              "4              -1  \n",
              "6               0  \n",
              "7               0  "
            ],
            "text/html": [
              "\n",
              "  <div id=\"df-bf0945dd-6209-483f-9a99-50dd7af7da49\">\n",
              "    <div class=\"colab-df-container\">\n",
              "      <div>\n",
              "<style scoped>\n",
              "    .dataframe tbody tr th:only-of-type {\n",
              "        vertical-align: middle;\n",
              "    }\n",
              "\n",
              "    .dataframe tbody tr th {\n",
              "        vertical-align: top;\n",
              "    }\n",
              "\n",
              "    .dataframe thead th {\n",
              "        text-align: right;\n",
              "    }\n",
              "</style>\n",
              "<table border=\"1\" class=\"dataframe\">\n",
              "  <thead>\n",
              "    <tr style=\"text-align: right;\">\n",
              "      <th></th>\n",
              "      <th>tweet_id</th>\n",
              "      <th>user_id</th>\n",
              "      <th>user_name</th>\n",
              "      <th>original_tweet</th>\n",
              "      <th>year</th>\n",
              "      <th>month</th>\n",
              "      <th>day</th>\n",
              "      <th>time</th>\n",
              "      <th>source</th>\n",
              "      <th>cleaned_tweet</th>\n",
              "      <th>predicted_labels</th>\n",
              "      <th>hugging_labels</th>\n",
              "    </tr>\n",
              "  </thead>\n",
              "  <tbody>\n",
              "    <tr>\n",
              "      <th>0</th>\n",
              "      <td>1.360000e+18</td>\n",
              "      <td>3.134341e+09</td>\n",
              "      <td>Nobody</td>\n",
              "      <td>You can’t stop us, you fucks #dogecoin https:/...</td>\n",
              "      <td>2021</td>\n",
              "      <td>1</td>\n",
              "      <td>31</td>\n",
              "      <td>22:50:54</td>\n",
              "      <td>Twitter for iPhone</td>\n",
              "      <td>you can’t stop us, you fucks #dogecoin</td>\n",
              "      <td>0</td>\n",
              "      <td>-1</td>\n",
              "    </tr>\n",
              "    <tr>\n",
              "      <th>1</th>\n",
              "      <td>1.360000e+18</td>\n",
              "      <td>1.320000e+18</td>\n",
              "      <td>Nobody</td>\n",
              "      <td>https://t.co/EGyJXssO6l\\n\\nLet's share it to t...</td>\n",
              "      <td>2021</td>\n",
              "      <td>1</td>\n",
              "      <td>31</td>\n",
              "      <td>23:28:43</td>\n",
              "      <td>Twitter for Android</td>\n",
              "      <td>let's share it to the entire social network to...</td>\n",
              "      <td>0</td>\n",
              "      <td>1</td>\n",
              "    </tr>\n",
              "    <tr>\n",
              "      <th>4</th>\n",
              "      <td>1.360000e+18</td>\n",
              "      <td>1.290000e+18</td>\n",
              "      <td>Nobody</td>\n",
              "      <td>#dogecoin is sounding more and more like essen...</td>\n",
              "      <td>2021</td>\n",
              "      <td>1</td>\n",
              "      <td>31</td>\n",
              "      <td>23:28:34</td>\n",
              "      <td>Twitter for Android</td>\n",
              "      <td>#dogecoin is sounding more and more like essen...</td>\n",
              "      <td>0</td>\n",
              "      <td>-1</td>\n",
              "    </tr>\n",
              "    <tr>\n",
              "      <th>6</th>\n",
              "      <td>1.360000e+18</td>\n",
              "      <td>1.360000e+18</td>\n",
              "      <td>Nobody</td>\n",
              "      <td>to spread the past week and xrp link https t h...</td>\n",
              "      <td>2021</td>\n",
              "      <td>1</td>\n",
              "      <td>31</td>\n",
              "      <td>23:28:31</td>\n",
              "      <td>Error-log</td>\n",
              "      <td>to spread the past week and xrp link https t h...</td>\n",
              "      <td>0</td>\n",
              "      <td>0</td>\n",
              "    </tr>\n",
              "    <tr>\n",
              "      <th>7</th>\n",
              "      <td>1.360000e+18</td>\n",
              "      <td>1.350000e+18</td>\n",
              "      <td>Nobody</td>\n",
              "      <td>If every owner that owns a dog would put 10$ i...</td>\n",
              "      <td>2021</td>\n",
              "      <td>1</td>\n",
              "      <td>31</td>\n",
              "      <td>23:28:27</td>\n",
              "      <td>Twitter for iPhone</td>\n",
              "      <td>if every owner that owns a dog would put 10$ i...</td>\n",
              "      <td>0</td>\n",
              "      <td>0</td>\n",
              "    </tr>\n",
              "  </tbody>\n",
              "</table>\n",
              "</div>\n",
              "      <button class=\"colab-df-convert\" onclick=\"convertToInteractive('df-bf0945dd-6209-483f-9a99-50dd7af7da49')\"\n",
              "              title=\"Convert this dataframe to an interactive table.\"\n",
              "              style=\"display:none;\">\n",
              "        \n",
              "  <svg xmlns=\"http://www.w3.org/2000/svg\" height=\"24px\"viewBox=\"0 0 24 24\"\n",
              "       width=\"24px\">\n",
              "    <path d=\"M0 0h24v24H0V0z\" fill=\"none\"/>\n",
              "    <path d=\"M18.56 5.44l.94 2.06.94-2.06 2.06-.94-2.06-.94-.94-2.06-.94 2.06-2.06.94zm-11 1L8.5 8.5l.94-2.06 2.06-.94-2.06-.94L8.5 2.5l-.94 2.06-2.06.94zm10 10l.94 2.06.94-2.06 2.06-.94-2.06-.94-.94-2.06-.94 2.06-2.06.94z\"/><path d=\"M17.41 7.96l-1.37-1.37c-.4-.4-.92-.59-1.43-.59-.52 0-1.04.2-1.43.59L10.3 9.45l-7.72 7.72c-.78.78-.78 2.05 0 2.83L4 21.41c.39.39.9.59 1.41.59.51 0 1.02-.2 1.41-.59l7.78-7.78 2.81-2.81c.8-.78.8-2.07 0-2.86zM5.41 20L4 18.59l7.72-7.72 1.47 1.35L5.41 20z\"/>\n",
              "  </svg>\n",
              "      </button>\n",
              "      \n",
              "  <style>\n",
              "    .colab-df-container {\n",
              "      display:flex;\n",
              "      flex-wrap:wrap;\n",
              "      gap: 12px;\n",
              "    }\n",
              "\n",
              "    .colab-df-convert {\n",
              "      background-color: #E8F0FE;\n",
              "      border: none;\n",
              "      border-radius: 50%;\n",
              "      cursor: pointer;\n",
              "      display: none;\n",
              "      fill: #1967D2;\n",
              "      height: 32px;\n",
              "      padding: 0 0 0 0;\n",
              "      width: 32px;\n",
              "    }\n",
              "\n",
              "    .colab-df-convert:hover {\n",
              "      background-color: #E2EBFA;\n",
              "      box-shadow: 0px 1px 2px rgba(60, 64, 67, 0.3), 0px 1px 3px 1px rgba(60, 64, 67, 0.15);\n",
              "      fill: #174EA6;\n",
              "    }\n",
              "\n",
              "    [theme=dark] .colab-df-convert {\n",
              "      background-color: #3B4455;\n",
              "      fill: #D2E3FC;\n",
              "    }\n",
              "\n",
              "    [theme=dark] .colab-df-convert:hover {\n",
              "      background-color: #434B5C;\n",
              "      box-shadow: 0px 1px 3px 1px rgba(0, 0, 0, 0.15);\n",
              "      filter: drop-shadow(0px 1px 2px rgba(0, 0, 0, 0.3));\n",
              "      fill: #FFFFFF;\n",
              "    }\n",
              "  </style>\n",
              "\n",
              "      <script>\n",
              "        const buttonEl =\n",
              "          document.querySelector('#df-bf0945dd-6209-483f-9a99-50dd7af7da49 button.colab-df-convert');\n",
              "        buttonEl.style.display =\n",
              "          google.colab.kernel.accessAllowed ? 'block' : 'none';\n",
              "\n",
              "        async function convertToInteractive(key) {\n",
              "          const element = document.querySelector('#df-bf0945dd-6209-483f-9a99-50dd7af7da49');\n",
              "          const dataTable =\n",
              "            await google.colab.kernel.invokeFunction('convertToInteractive',\n",
              "                                                     [key], {});\n",
              "          if (!dataTable) return;\n",
              "\n",
              "          const docLinkHtml = 'Like what you see? Visit the ' +\n",
              "            '<a target=\"_blank\" href=https://colab.research.google.com/notebooks/data_table.ipynb>data table notebook</a>'\n",
              "            + ' to learn more about interactive tables.';\n",
              "          element.innerHTML = '';\n",
              "          dataTable['output_type'] = 'display_data';\n",
              "          await google.colab.output.renderOutput(dataTable, element);\n",
              "          const docLink = document.createElement('div');\n",
              "          docLink.innerHTML = docLinkHtml;\n",
              "          element.appendChild(docLink);\n",
              "        }\n",
              "      </script>\n",
              "    </div>\n",
              "  </div>\n",
              "  "
            ]
          },
          "metadata": {},
          "execution_count": 51
        }
      ]
    },
    {
      "cell_type": "code",
      "source": [
        "df_new.to_csv(\"doge_coin_dataset_2021_final_set.csv\", index=False, encoding='utf-8-sig')"
      ],
      "metadata": {
        "id": "CHQPgc-WYW8k"
      },
      "execution_count": null,
      "outputs": []
    },
    {
      "cell_type": "markdown",
      "source": [
        "#### tried with cardiffnlp/twitter-xlm-roberta-base-sentiment"
      ],
      "metadata": {
        "id": "MaA5iUNyDKdw"
      }
    },
    {
      "cell_type": "code",
      "source": [
        "!pip install sentencepiece"
      ],
      "metadata": {
        "colab": {
          "base_uri": "https://localhost:8080/"
        },
        "id": "dAALFwuCGMFK",
        "outputId": "92f75933-2be8-4fa8-a2d8-c508ce4cbd2a"
      },
      "execution_count": null,
      "outputs": [
        {
          "output_type": "stream",
          "name": "stdout",
          "text": [
            "Looking in indexes: https://pypi.org/simple, https://us-python.pkg.dev/colab-wheels/public/simple/\n",
            "Requirement already satisfied: sentencepiece in /usr/local/lib/python3.7/dist-packages (0.1.96)\n"
          ]
        }
      ]
    },
    {
      "cell_type": "code",
      "source": [
        "model_path = f\"cardiffnlp/twitter-xlm-roberta-base-sentiment\"\n",
        "sentiment_task = pipeline(\"sentiment-analysis\", model=model_path, tokenizer=model_path)"
      ],
      "metadata": {
        "id": "gaKPBSTrDKd2"
      },
      "execution_count": null,
      "outputs": []
    },
    {
      "cell_type": "code",
      "source": [
        "def calculate_specific_sentiments_2(sentiments):\n",
        "  pos = 0\n",
        "  neg = 0\n",
        "  neu = 0\n",
        "  mx_pos = -1\n",
        "  mn_pos = 1\n",
        "  mx_neg = -1\n",
        "  mn_neg = 1\n",
        "  mx_neu = -1\n",
        "  mn_neu = 1\n",
        "  pred_labels = []\n",
        "  for i in sentiments:\n",
        "    if i[\"label\"] == \"Positive\":\n",
        "      pos += 1\n",
        "      mx_pos = max(mx_pos, i[\"score\"])\n",
        "      mn_pos = min(mn_pos, i[\"score\"])\n",
        "      pred_labels.append('1')\n",
        "    elif i[\"label\"] == \"Negative\":\n",
        "      neg += 1\n",
        "      mx_neg = max(mx_neg, i[\"score\"])\n",
        "      mn_neg = min(mn_neg, i[\"score\"])\n",
        "      pred_labels.append('-1')\n",
        "    elif i[\"label\"] == \"Neutral\":\n",
        "      neu += 1\n",
        "      mx_neu = max(mx_neu, i[\"score\"])\n",
        "      mn_neu = min(mn_neu, i[\"score\"])\n",
        "      pred_labels.append('0')\n",
        "  print(\"Without Threshold:\")\n",
        "  print(f\"Positive: {pos}, Negative: {neg}, Neutral: {neu}\")\n",
        "  print(f\"max pos: {mx_pos}, min_pos: {mn_pos}\")\n",
        "  print(f\"max neg: {mx_neg}, min_neg: {mn_neg}\")\n",
        "  print(f\"max neu: {mx_neu}, min_neu: {mn_neu}\")\n",
        "  print()\n",
        "  # pred_labels = np.ndarray(pred_labels)\n",
        "  return pred_labels"
      ],
      "metadata": {
        "id": "BfYn8X6NDKd2"
      },
      "execution_count": null,
      "outputs": []
    },
    {
      "cell_type": "code",
      "source": [
        "sentiment_preprocessed_1 = sentiment_task(preprocessed_tweets)"
      ],
      "metadata": {
        "id": "b6D76UCYDKd2"
      },
      "execution_count": null,
      "outputs": []
    },
    {
      "cell_type": "code",
      "source": [
        "sentiment_cleaned_1 = sentiment_task(cleaned_tweets)"
      ],
      "metadata": {
        "id": "rGuvgMs8DKd2"
      },
      "execution_count": null,
      "outputs": []
    },
    {
      "cell_type": "code",
      "source": [
        "pred_labels_processed_1 = calculate_specific_sentiments_2(sentiment_preprocessed_1)"
      ],
      "metadata": {
        "colab": {
          "base_uri": "https://localhost:8080/"
        },
        "outputId": "5bb71772-9ad6-441b-9ff4-b4a24d593e45",
        "id": "Jdb-V7biDKd2"
      },
      "execution_count": null,
      "outputs": [
        {
          "output_type": "stream",
          "name": "stdout",
          "text": [
            "Without Threshold:\n",
            "Positive: 269, Negative: 216, Neutral: 927\n",
            "max pos: 0.8598459362983704, min_pos: 0.358956515789032\n",
            "max neg: 0.9415497779846191, min_neg: 0.34559565782546997\n",
            "max neu: 0.8914984464645386, min_neu: 0.34731271862983704\n",
            "\n"
          ]
        }
      ]
    },
    {
      "cell_type": "code",
      "source": [
        "pred_labels_cleaned_1 = calculate_specific_sentiments_2(sentiment_cleaned_1)"
      ],
      "metadata": {
        "colab": {
          "base_uri": "https://localhost:8080/"
        },
        "outputId": "74200635-4174-4921-ce04-cea9486c22a8",
        "id": "RWSJaThiDKd3"
      },
      "execution_count": null,
      "outputs": [
        {
          "output_type": "stream",
          "name": "stdout",
          "text": [
            "Without Threshold:\n",
            "Positive: 509, Negative: 297, Neutral: 606\n",
            "max pos: 0.9303633570671082, min_pos: 0.35855457186698914\n",
            "max neg: 0.9620096683502197, min_neg: 0.3574495017528534\n",
            "max neu: 0.8962258696556091, min_neu: 0.3446488082408905\n",
            "\n"
          ]
        }
      ]
    },
    {
      "cell_type": "code",
      "source": [
        "f, axes = plt.subplots(1, 2, figsize=(20, 5), sharey='row')\n",
        "name = \"\"\n",
        "for i,  pred in enumerate([pred_labels_cleaned_1, pred_labels_processed_1]):\n",
        "  if i == 0:\n",
        "    name = \"cleaned_tweet\"\n",
        "  else:\n",
        "    name = \"preprocessed_tweet\"\n",
        "  cf_matrix = confusion_matrix(true_labels, pred)\n",
        "  print(classification_report(true_labels, pred))\n",
        "  disp = ConfusionMatrixDisplay(cf_matrix,\n",
        "                                display_labels=[-1, 0, 1])\n",
        "  disp.plot(ax=axes[i], xticks_rotation=45)\n",
        "  disp.ax_.set_title(\"twitter-roberta-base-sentiment with \"+name)\n",
        "  disp.im_.colorbar.remove()\n",
        "  disp.ax_.set_xlabel('')\n",
        "  if i!=0:\n",
        "      disp.ax_.set_ylabel('')\n",
        "\n",
        "f.text(0.4, 0.1, 'Predicted label', ha='left')\n",
        "plt.subplots_adjust(wspace=0.40, hspace=0.1)\n",
        "\n",
        "\n",
        "f.colorbar(disp.im_, ax=axes)\n",
        "plt.show()"
      ],
      "metadata": {
        "colab": {
          "base_uri": "https://localhost:8080/",
          "height": 687
        },
        "id": "NWLh5ijqDY61",
        "outputId": "3d0a08cd-dc14-4c11-b433-ad90ab40d0cf"
      },
      "execution_count": null,
      "outputs": [
        {
          "output_type": "stream",
          "name": "stdout",
          "text": [
            "              precision    recall  f1-score   support\n",
            "\n",
            "          -1       0.50      0.68      0.58       220\n",
            "           0       0.54      0.58      0.56       570\n",
            "           1       0.66      0.54      0.59       622\n",
            "\n",
            "    accuracy                           0.58      1412\n",
            "   macro avg       0.57      0.60      0.58      1412\n",
            "weighted avg       0.59      0.58      0.58      1412\n",
            "\n",
            "              precision    recall  f1-score   support\n",
            "\n",
            "          -1       0.47      0.46      0.46       220\n",
            "           0       0.46      0.75      0.57       570\n",
            "           1       0.65      0.28      0.39       622\n",
            "\n",
            "    accuracy                           0.50      1412\n",
            "   macro avg       0.53      0.50      0.48      1412\n",
            "weighted avg       0.54      0.50      0.48      1412\n",
            "\n"
          ]
        },
        {
          "output_type": "display_data",
          "data": {
            "text/plain": [
              "<Figure size 1440x360 with 3 Axes>"
            ],
            "image/png": "[encoded data removed]"
          },
          "metadata": {
            "needs_background": "light"
          }
        }
      ]
    },
    {
      "cell_type": "code",
      "source": [
        ""
      ],
      "metadata": {
        "id": "DszT_sVlp3r6"
      },
      "execution_count": null,
      "outputs": []
    }
  ]
}